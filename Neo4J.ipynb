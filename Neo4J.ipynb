{
  "nbformat": 4,
  "nbformat_minor": 0,
  "metadata": {
    "colab": {
      "provenance": [],
      "include_colab_link": true
    },
    "kernelspec": {
      "name": "python3",
      "display_name": "Python 3"
    },
    "language_info": {
      "name": "python"
    }
  },
  "cells": [
    {
      "cell_type": "markdown",
      "metadata": {
        "id": "view-in-github",
        "colab_type": "text"
      },
      "source": [
        "<a href=\"https://colab.research.google.com/github/juanmg1984/dm2025a/blob/main/Neo4J.ipynb\" target=\"_parent\"><img src=\"https://colab.research.google.com/assets/colab-badge.svg\" alt=\"Open In Colab\"/></a>"
      ]
    },
    {
      "cell_type": "code",
      "source": [
        "!pip install neo4j"
      ],
      "metadata": {
        "colab": {
          "base_uri": "https://localhost:8080/"
        },
        "id": "cD-6UNZiK1kW",
        "outputId": "573d4378-723b-4b0f-980b-ad6c026d0bc3"
      },
      "execution_count": null,
      "outputs": [
        {
          "output_type": "stream",
          "name": "stdout",
          "text": [
            "Collecting neo4j\n",
            "  Downloading neo4j-6.0.2-py3-none-any.whl.metadata (5.2 kB)\n",
            "Requirement already satisfied: pytz in /usr/local/lib/python3.12/dist-packages (from neo4j) (2025.2)\n",
            "Downloading neo4j-6.0.2-py3-none-any.whl (325 kB)\n",
            "\u001b[?25l   \u001b[90m━━━━━━━━━━━━━━━━━━━━━━━━━━━━━━━━━━━━━━━━\u001b[0m \u001b[32m0.0/325.8 kB\u001b[0m \u001b[31m?\u001b[0m eta \u001b[36m-:--:--\u001b[0m\r\u001b[2K   \u001b[91m━━━━━━━━━━━━━━━━━━━━━━━━━━━━━━━\u001b[0m\u001b[90m╺\u001b[0m\u001b[90m━━━━━━━━\u001b[0m \u001b[32m256.0/325.8 kB\u001b[0m \u001b[31m7.5 MB/s\u001b[0m eta \u001b[36m0:00:01\u001b[0m\r\u001b[2K   \u001b[90m━━━━━━━━━━━━━━━━━━━━━━━━━━━━━━━━━━━━━━━━\u001b[0m \u001b[32m325.8/325.8 kB\u001b[0m \u001b[31m6.0 MB/s\u001b[0m eta \u001b[36m0:00:00\u001b[0m\n",
            "\u001b[?25hInstalling collected packages: neo4j\n",
            "Successfully installed neo4j-6.0.2\n"
          ]
        }
      ]
    },
    {
      "cell_type": "code",
      "execution_count": null,
      "metadata": {
        "id": "nbXoj4VZKdUu"
      },
      "outputs": [],
      "source": [
        "from neo4j import GraphDatabase\n",
        "\n",
        "# Replace with your Neo4j connection details\n",
        "uri = \"neo4j+s://cff38ac6.databases.neo4j.io\"\n",
        "user = \"neo4j\"\n",
        "password = \"o560UzZbsbhW4F5F-0fXS-anNIdkdljZ_Rtqxv53ax0\"\n",
        "\n",
        "driver = GraphDatabase.driver(uri, auth=(user, password))\n",
        "\n"
      ]
    },
    {
      "cell_type": "code",
      "source": [
        "driver.verify_connectivity()\n",
        "print(\"Connection established.\")"
      ],
      "metadata": {
        "colab": {
          "base_uri": "https://localhost:8080/"
        },
        "id": "XVIe6ZXca_-y",
        "outputId": "00a73c9a-fd10-458f-869e-858f8f403f3f"
      },
      "execution_count": null,
      "outputs": [
        {
          "output_type": "stream",
          "name": "stdout",
          "text": [
            "Connection established.\n"
          ]
        }
      ]
    },
    {
      "cell_type": "code",
      "source": [
        "records, summary, keys = driver.execute_query(\"\"\"\n",
        "    MATCH (n) RETURN n LIMIT 10\n",
        "    \"\"\",\n",
        "    database_=\"neo4j\",\n",
        ")\n",
        "\n"
      ],
      "metadata": {
        "id": "rOuv41XAKpzD"
      },
      "execution_count": null,
      "outputs": []
    },
    {
      "cell_type": "code",
      "source": [
        "#MATCH (p:people)-[r]-(m:movies)\n",
        "#where m.released=2000\n",
        "#RETURN m, r, p\n"
      ],
      "metadata": {
        "id": "buNevmQzewFi"
      },
      "execution_count": null,
      "outputs": []
    },
    {
      "cell_type": "code",
      "source": [
        "for record in records:\n",
        "    for key in keys:\n",
        "        node_or_relationship = record[key]\n",
        "        if hasattr(node_or_relationship, 'properties') and 'name' in node_or_relationship.properties:\n",
        "            print(node_or_relationship.properties['name'])\n",
        "        elif hasattr(node_or_relationship, 'properties'):\n",
        "             print(node_or_relationship.properties)\n",
        "        else:\n",
        "            print(node_or_relationship) # Print if it's not a node or relationship with a 'name' property\n",
        "    print(\"-\" * 20) # Print a separator between records"
      ],
      "metadata": {
        "colab": {
          "base_uri": "https://localhost:8080/"
        },
        "id": "vPB5_6MrfRnZ",
        "outputId": "4d7a45ed-5f79-4a77-a28c-0390941185af"
      },
      "execution_count": null,
      "outputs": [
        {
          "output_type": "stream",
          "name": "stdout",
          "text": [
            "<Node element_id='4:e92b5223-4ea4-4161-abb3-3b00dd374c15:0' labels=frozenset({'people'}) properties={'born': '1969', 'name': 'Michael Sheen'}>\n",
            "--------------------\n",
            "<Node element_id='4:e92b5223-4ea4-4161-abb3-3b00dd374c15:1' labels=frozenset({'people'}) properties={'born': '1937', 'name': 'Jack Nicholson'}>\n",
            "--------------------\n",
            "<Node element_id='4:e92b5223-4ea4-4161-abb3-3b00dd374c15:2' labels=frozenset({'people'}) properties={'born': '1956', 'name': 'Nathan Lane'}>\n",
            "--------------------\n",
            "<Node element_id='4:e92b5223-4ea4-4161-abb3-3b00dd374c15:3' labels=frozenset({'people'}) properties={'born': '1967', 'name': 'Philip Seymour Hoffman'}>\n",
            "--------------------\n",
            "<Node element_id='4:e92b5223-4ea4-4161-abb3-3b00dd374c15:4' labels=frozenset({'people'}) properties={'born': '1971', 'name': 'Noah Wyle'}>\n",
            "--------------------\n",
            "<Node element_id='4:e92b5223-4ea4-4161-abb3-3b00dd374c15:5' labels=frozenset({'people'}) properties={'born': '1962', 'name': \"Rosie O'Donnell\"}>\n",
            "--------------------\n",
            "<Node element_id='4:e92b5223-4ea4-4161-abb3-3b00dd374c15:6' labels=frozenset({'people'}) properties={'born': '1963', 'name': 'Greg Kinnear'}>\n",
            "--------------------\n",
            "<Node element_id='4:e92b5223-4ea4-4161-abb3-3b00dd374c15:7' labels=frozenset({'people'}) properties={'born': '1946', 'name': 'Susan Sarandon'}>\n",
            "--------------------\n",
            "<Node element_id='4:e92b5223-4ea4-4161-abb3-3b00dd374c15:8' labels=frozenset({'people'}) properties={'born': '1947', 'name': 'Takeshi Kitano'}>\n",
            "--------------------\n",
            "<Node element_id='4:e92b5223-4ea4-4161-abb3-3b00dd374c15:9' labels=frozenset({'people'}) properties={'born': '1955', 'name': 'Gary Sinise'}>\n",
            "--------------------\n"
          ]
        }
      ]
    }
  ]
}