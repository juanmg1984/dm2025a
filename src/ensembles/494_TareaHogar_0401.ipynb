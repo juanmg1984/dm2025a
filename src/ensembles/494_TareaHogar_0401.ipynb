{
 "cells": [
  {
   "cell_type": "markdown",
   "metadata": {
    "id": "0cEmzeUKFkPh"
   },
   "source": [
    "# Tarea para el Hogar 04"
   ]
  },
  {
   "cell_type": "markdown",
   "metadata": {
    "id": "nSICPpyTGQmC"
   },
   "source": [
    "Esta Tarea para el Hogar 02 se entrega el final de la cuarta clase\n",
    "<br> se espera de usted que intente avanzar con los desafios propuestos y que los traiga terminados para la Clase 05 que será el viernes 01-agosto"
   ]
  },
  {
   "cell_type": "markdown",
   "metadata": {
    "id": "DenyKXkiJ5JN"
   },
   "source": [
    "##  1. Cazatalentos"
   ]
  },
  {
   "cell_type": "markdown",
   "metadata": {
    "id": "l-K2_ZsZGrVD"
   },
   "source": [
    "En la Clase 03 nos hemos enfrentado a  \"La Maldicion del Ganandor\",  elegir el modelo con el mejor puntaje simple no suele ser la mejor estrategia.\n",
    "<br> Lea y ejecute el notebook  **src/CazaTalentos/CazaTalentos.ipynb**\n",
    "<br> en caso de interesarle, participe del Desafío Ordenamiento  que vence el sábado 02 de agosto a las 19:00"
   ]
  },
  {
   "cell_type": "markdown",
   "metadata": {
    "id": "K9GkTOk5J9t3"
   },
   "source": [
    "## 2. Hiperparámetros del LightGBM"
   ]
  },
  {
   "cell_type": "markdown",
   "metadata": {
    "id": "VmEFy0ukKL5T"
   },
   "source": [
    "Los objetivos de esta tarea son:\n",
    "\n",
    "\n",
    "*   Aumentar la rentabilidad de la campaña de marketing de retención proactiva de clientes.\n",
    "*   Generar un mejor modelo optimizando sus hiperparámetros\n",
    "*   Conceptual : investigar los mas relevantes hiperparámetros de LightGBM\n",
    "*   Familiarizarse con la Bayesian Optimization, sus largos tiempos de corrida y opciones para reducirlos\n",
    "*   Familiarizarse con el uso de máquinas virtuales de Google Colab\n",
    "*   Ver un pipeline completo de optimización de hiperparámetros y puesta en producción"
   ]
  },
  {
   "cell_type": "markdown",
   "metadata": {
    "id": "5yvlS6JQLRMd"
   },
   "source": [
    "LightGBM cuenta con mas de 60 hiperparámetros, siendo posible utilizar 40 al mismo tiempo, aunque no razonable.\n",
    "<br> La documentación oficial de los hiperparámetros de LightGBM es  https://lightgbm.readthedocs.io/en/latest/Parameters.html#core-parameters\n"
   ]
  },
  {
   "cell_type": "markdown",
   "metadata": {
    "id": "eydI4YNAsFaf"
   },
   "source": [
    "Se lo alerta sobre que una Optimizacion Bayesiana lleva varias horas de corrida, y usted deberá correr VARIAS optimizaciones para descubrir cuales parámetros conviene optimizar.\n",
    "<br> A pesar que la próxima clase es recien en viernes 01 de agosto, inicie la tarea con tiempo, aprenda a planificar estratégicamente sus corridas como un@ científ@  de datos."
   ]
  },
  {
   "cell_type": "markdown",
   "metadata": {
    "id": "RzU4S0SeMcpp"
   },
   "source": [
    "Es necesario investigar cuales son los hiperparámetros de LightGBM que vale la pena optimizar en una Bayesian Optimization, ya que los realmente utiles son apenas un reducido subconjunto.\n",
    "<br>Usted deberá investigar cuales son los hiperparámetros mas relevantes de LightGBM, su primer alternativa es preguntándole a su amigo con capacidades especiales ChatGPT o sus endogámicos familiares Claude, DeepSeek, Gemini, Grok, etc\n",
    "<br> La segunda alternativa es la propia documentación de LightGBM  https://lightgbm.readthedocs.io/en/latest/Parameters-Tuning.html\n"
   ]
  },
  {
   "cell_type": "markdown",
   "metadata": {
    "id": "LNptUgI_NWWG"
   },
   "source": [
    "Adicionalmente podra buscar información como la que proveen esta diminuta muestra aleatoria de artículos ligeros:\n",
    "*  https://medium.com/@sarahzouinina/a-deep-dive-into-lightgbm-how-to-choose-and-tune-parameters-7c584945842e\n",
    "*  https://www.kaggle.com/code/somang1418/tuning-hyperparameters-under-10-minutes-lgbm\n",
    "*  https://towardsdatascience.com/beginners-guide-to-the-must-know-lightgbm-hyperparameters-a0005a812702/\n",
    "\n",
    "\n",
    "<br>  La muestra anterior se brinda a modo de ejemplo, usted deberá buscar muuuuchas  fuentes adicionales de información\n",
    "<br> Tenga presente que LightGBM es el estado del arte en modelado predictivo para datasets estructurado, que son el 90% del trabajo del 95% de los Data Scientists en Argentina."
   ]
  },
  {
   "cell_type": "markdown",
   "metadata": {
    "id": "WpUThBojODyK"
   },
   "source": [
    "El desafío de esta tarea es:\n",
    "* Qué hiperparparámetros conviene optimizar?  Las recomendaciones de los artículos ligeros es siempre sensata?  Sus autores realmente hicieron experimentos o son siemplemente escritores de entretenimiento carente de base científica?\n",
    "* Elegidos los hiperparámetros, cual es el  <desde, hasta> que se debe utilizar en la Bayesian Optimization ?\n",
    "* Realmente vale la pena optimizar 10 o 16 hiperparámetros al mismo tiempo ?  No resulta contraproducente una búsqueda en un espacio de tal alta dimensionalidad ?"
   ]
  },
  {
   "cell_type": "markdown",
   "metadata": {
    "id": "PX0qg_c0yqob"
   },
   "source": [
    "#### 2.1  Seteo del ambiente en Google Colab"
   ]
  },
  {
   "cell_type": "markdown",
   "metadata": {
    "id": "NGY7H9xza7Zr"
   },
   "source": [
    "Esta parte se debe correr con el runtime en Python3\n",
    "<br>Ir al menu, Runtime -> Change Runtime Type -> Runtime type ->  **Python 3**"
   ]
  },
  {
   "cell_type": "markdown",
   "metadata": {
    "id": "7PupIBNba7Zr"
   },
   "source": [
    "Conectar la virtual machine donde esta corriendo Google Colab con el  Google Drive, para poder tener persistencia de archivos"
   ]
  },
  {
   "cell_type": "code",
   "execution_count": null,
   "metadata": {
    "id": "9LpZCst5a7Zs"
   },
   "outputs": [],
   "source": [
    "# primero establecer el Runtime de Python 3\n",
    "from google.colab import drive\n",
    "drive.mount('/content/.drive')"
   ]
  },
  {
   "cell_type": "markdown",
   "metadata": {
    "id": "JYC_F-wla7Zs"
   },
   "source": [
    "Para correr la siguiente celda es fundamental en Arranque en Frio haber copiado el archivo kaggle.json al Google Drive, en la carpeta indicada en el instructivo\n",
    "\n",
    "<br>los siguientes comando estan en shell script de Linux\n",
    "*   Crear las carpetas en el Google Drive\n",
    "*   \"instalar\" el archivo kaggle.json desde el Google Drive a la virtual machine para que pueda ser utilizado por la libreria  kaggle de Python\n",
    "*   Bajar el  **dataset_pequeno**  al  Google Drive  y tambien al disco local de la virtual machine que esta corriendo Google Colab\n",
    "\n"
   ]
  },
  {
   "cell_type": "code",
   "execution_count": null,
   "metadata": {
    "id": "XWLelftXa7Zt"
   },
   "outputs": [],
   "source": [
    "%%shell\n",
    "\n",
    "mkdir -p \"/content/.drive/My Drive/dm\"\n",
    "mkdir -p \"/content/buckets\"\n",
    "ln -s \"/content/.drive/My Drive/dm\" /content/buckets/b1\n",
    "\n",
    "mkdir -p ~/.kaggle\n",
    "cp /content/buckets/b1/kaggle/kaggle.json  ~/.kaggle\n",
    "chmod 600 ~/.kaggle/kaggle.json\n",
    "\n",
    "\n",
    "mkdir -p /content/buckets/b1/exp\n",
    "mkdir -p /content/buckets/b1/datasets\n",
    "mkdir -p /content/datasets\n",
    "\n",
    "\n",
    "\n",
    "archivo_origen=\"https://storage.googleapis.com/open-courses/itba2025-8d0a/dataset_pequeno.csv\"\n",
    "archivo_destino=\"/content/datasets/dataset_pequeno.csv\"\n",
    "archivo_destino_bucket=\"/content/buckets/b1/datasets/dataset_pequeno.csv\"\n",
    "\n",
    "if ! test -f $archivo_destino_bucket; then\n",
    "  wget  $archivo_origen  -O $archivo_destino_bucket\n",
    "fi\n",
    "\n",
    "\n",
    "if ! test -f $archivo_destino; then\n",
    "  cp  $archivo_destino_bucket  $archivo_destino\n",
    "fi\n"
   ]
  },
  {
   "cell_type": "markdown",
   "metadata": {
    "id": "oSKhZRToy2F7"
   },
   "source": [
    "### 2.2 Optimizacion Hiperparámetros"
   ]
  },
  {
   "cell_type": "markdown",
   "metadata": {
    "id": "2kwPpHAtSmix"
   },
   "source": [
    "Esta parte se debe correr con el runtime en lenguaje R Ir al menu, Runtime -> Change Runtime Type -> Runtime type -> R"
   ]
  },
  {
   "cell_type": "markdown",
   "metadata": {
    "id": "xp4-Bj3aYI8d"
   },
   "source": [
    "### 2.2.1 Inicio"
   ]
  },
  {
   "cell_type": "markdown",
   "metadata": {
    "id": "zy8YTZfESxeJ"
   },
   "source": [
    "limpio el ambiente de R"
   ]
  },
  {
   "cell_type": "code",
   "execution_count": 24,
   "metadata": {
    "id": "gBq__iAdQliq"
   },
   "outputs": [
    {
     "data": {
      "text/html": [
       "'Fri Jul 25 13:10:00 2025'"
      ],
      "text/latex": [
       "'Fri Jul 25 13:10:00 2025'"
      ],
      "text/markdown": [
       "'Fri Jul 25 13:10:00 2025'"
      ],
      "text/plain": [
       "[1] \"Fri Jul 25 13:10:00 2025\""
      ]
     },
     "metadata": {},
     "output_type": "display_data"
    }
   ],
   "source": [
    "format(Sys.time(), \"%a %b %d %X %Y\")"
   ]
  },
  {
   "cell_type": "code",
   "execution_count": 43,
   "metadata": {
    "id": "7rdVrBojS1IV"
   },
   "outputs": [
    {
     "data": {
      "text/html": [
       "<table class=\"dataframe\">\n",
       "<caption>A matrix: 2 × 6 of type dbl</caption>\n",
       "<thead>\n",
       "\t<tr><th></th><th scope=col>used</th><th scope=col>(Mb)</th><th scope=col>gc trigger</th><th scope=col>(Mb)</th><th scope=col>max used</th><th scope=col>(Mb)</th></tr>\n",
       "</thead>\n",
       "<tbody>\n",
       "\t<tr><th scope=row>Ncells</th><td> 2317076</td><td>123.8</td><td> 3893824</td><td>208.0</td><td>  3893824</td><td>208.0</td></tr>\n",
       "\t<tr><th scope=row>Vcells</th><td>18396129</td><td>140.4</td><td>95453596</td><td>728.3</td><td>108322179</td><td>826.5</td></tr>\n",
       "</tbody>\n",
       "</table>\n"
      ],
      "text/latex": [
       "A matrix: 2 × 6 of type dbl\n",
       "\\begin{tabular}{r|llllll}\n",
       "  & used & (Mb) & gc trigger & (Mb) & max used & (Mb)\\\\\n",
       "\\hline\n",
       "\tNcells &  2317076 & 123.8 &  3893824 & 208.0 &   3893824 & 208.0\\\\\n",
       "\tVcells & 18396129 & 140.4 & 95453596 & 728.3 & 108322179 & 826.5\\\\\n",
       "\\end{tabular}\n"
      ],
      "text/markdown": [
       "\n",
       "A matrix: 2 × 6 of type dbl\n",
       "\n",
       "| <!--/--> | used | (Mb) | gc trigger | (Mb) | max used | (Mb) |\n",
       "|---|---|---|---|---|---|---|\n",
       "| Ncells |  2317076 | 123.8 |  3893824 | 208.0 |   3893824 | 208.0 |\n",
       "| Vcells | 18396129 | 140.4 | 95453596 | 728.3 | 108322179 | 826.5 |\n",
       "\n"
      ],
      "text/plain": [
       "       used     (Mb)  gc trigger (Mb)  max used  (Mb) \n",
       "Ncells  2317076 123.8  3893824   208.0   3893824 208.0\n",
       "Vcells 18396129 140.4 95453596   728.3 108322179 826.5"
      ]
     },
     "metadata": {},
     "output_type": "display_data"
    }
   ],
   "source": [
    "# limpio la memoria\n",
    "rm(list=ls(all.names=TRUE)) # remove all objects\n",
    "gc(full=TRUE, verbose=FALSE) # garbage collection"
   ]
  },
  {
   "cell_type": "markdown",
   "metadata": {
    "id": "kuPfQ7ksjwW3"
   },
   "source": [
    "### 2.2.2 Carga de Librerias"
   ]
  },
  {
   "cell_type": "code",
   "execution_count": 44,
   "metadata": {
    "id": "lVyxLaJ1j1J_"
   },
   "outputs": [],
   "source": [
    "# cargo las librerias que necesito\n",
    "require(\"data.table\")\n",
    "require(\"parallel\")\n",
    "\n",
    "if( !require(\"primes\") ) install.packages(\"primes\")\n",
    "require(\"primes\")\n",
    "\n",
    "if( !require(\"utils\") ) install.packages(\"utils\")\n",
    "require(\"utils\")\n",
    "\n",
    "if( !require(\"rlist\") ) install.packages(\"rlist\")\n",
    "require(\"rlist\")\n",
    "\n",
    "if( !require(\"yaml\")) install.packages(\"yaml\")\n",
    "require(\"yaml\")\n",
    "\n",
    "if( !require(\"lightgbm\") ) install.packages(\"lightgbm\")\n",
    "require(\"lightgbm\")\n",
    "\n",
    "if( !require(\"DiceKriging\") ) install.packages(\"DiceKriging\")\n",
    "require(\"DiceKriging\")\n",
    "\n",
    "if( !require(\"mlrMBO\") ) install.packages(\"mlrMBO\")\n",
    "require(\"mlrMBO\")"
   ]
  },
  {
   "cell_type": "markdown",
   "metadata": {
    "id": "Iz-6Qt6BUaA3"
   },
   "source": [
    "### 2.2.3 Definicion de Parametros"
   ]
  },
  {
   "cell_type": "markdown",
   "metadata": {
    "id": "cOdlKd7lUm2I"
   },
   "source": [
    "aqui debe cargar SU semilla primigenia\n",
    "<br>recuerde cambiar el numero de experimento en cada corrida nueva"
   ]
  },
  {
   "cell_type": "code",
   "execution_count": 45,
   "metadata": {
    "id": "ASYkebOu2mF6"
   },
   "outputs": [],
   "source": [
    "PARAM <- list()\n",
    "PARAM$experimento <- 49402\n",
    "PARAM$semilla_primigenia <- 100109\n"
   ]
  },
  {
   "cell_type": "code",
   "execution_count": 46,
   "metadata": {
    "id": "ezOhQdbA293o"
   },
   "outputs": [],
   "source": [
    "PARAM$kaggle$competencia <- \"data-mining-analista-sr-2025-a\"\n",
    "PARAM$kaggle$cortes <- seq(10000, 12000, by= 500)"
   ]
  },
  {
   "cell_type": "code",
   "execution_count": 47,
   "metadata": {
    "id": "jtB0Lub42rHO"
   },
   "outputs": [],
   "source": [
    "# un undersampling de 0.1  toma solo el 10% de los CONTINUA\n",
    "# undersampling de 1.0  implica tomar TODOS los datos\n",
    "\n",
    "PARAM$trainingstrategy$undersampling <- 0.55"
   ]
  },
  {
   "cell_type": "code",
   "execution_count": 48,
   "metadata": {
    "id": "OFxm-xiNUOJX"
   },
   "outputs": [],
   "source": [
    "# Parametros LightGBM\n",
    "\n",
    "PARAM$hyperparametertuning$xval_folds <- 5\n",
    "\n",
    "# parametros fijos del LightGBM que se pisaran con la parte variable de la BO\n",
    "PARAM$lgbm$param_fijos <-  list(\n",
    "  boosting= \"gbdt\", # puede ir  dart  , ni pruebe random_forest\n",
    "  objective= \"binary\",\n",
    "  metric= \"auc\",\n",
    "  first_metric_only= FALSE,\n",
    "  boost_from_average= TRUE,\n",
    "  feature_pre_filter= FALSE,\n",
    "  force_row_wise= TRUE, # para reducir warnings\n",
    "  verbosity= -1,\n",
    "\n",
    "  seed= PARAM$semilla_primigenia,\n",
    "\n",
    "  max_depth= -1L, # -1 significa no limitar,  por ahora lo dejo fijo\n",
    "  min_gain_to_split= 0.0, # min_gain_to_split >= 0\n",
    "  min_sum_hessian_in_leaf= 1.0, #  min_sum_hessian_in_leaf >= 0.0\n",
    "  lambda_l1= 0.1, # lambda_l1 >= 0.0\n",
    "  lambda_l2= 0.1, # lambda_l2 >= 0.0\n",
    "  max_bin= 255L, # lo debo dejar fijo, no participa de la BO\n",
    "\n",
    "  bagging_fraction= 0.8, # 0.0 < bagging_fraction <= 1.0\n",
    "  pos_bagging_fraction= 0.9, # 0.0 < pos_bagging_fraction <= 1.0\n",
    "  neg_bagging_fraction= 0.9, # 0.0 < neg_bagging_fraction <= 1.0\n",
    "  is_unbalance= FALSE, #\n",
    "  scale_pos_weight= 5.0, # scale_pos_weight > 0.0\n",
    "\n",
    "  drop_rate= 0.2, # 0.0 < neg_bagging_fraction <= 1.0\n",
    "  max_drop= 50, # <=0 means no limit\n",
    "  skip_drop= 0.7, # 0.0 <= skip_drop <= 1.0\n",
    "\n",
    "  extra_trees= TRUE,\n",
    "\n",
    "  num_iterations= 1000,\n",
    "  learning_rate= 0.05,\n",
    "  feature_fraction= 0.8,\n",
    "  num_leaves= 31,\n",
    "  min_data_in_leaf= 1000\n",
    ")\n"
   ]
  },
  {
   "cell_type": "markdown",
   "metadata": {
    "id": "D5Yj-JV4yvOt"
   },
   "source": [
    "Aqui se definen los hiperparámetros de LightGBM que participan de la Bayesian Optimization\n",
    "<br> si es un numero entero debe ir  makeIntegerParam\n",
    "<br> si es un numero real (con decimales) debe ir  makeNumericParam\n",
    "<br> es muy importante leer cuales son un lower y upper  permitidos y ademas razonables"
   ]
  },
  {
   "cell_type": "code",
   "execution_count": 49,
   "metadata": {
    "id": "jENpR26ZyuS8"
   },
   "outputs": [],
   "source": [
    "# Aqui se cargan los bordes de los hiperparametros de la BO\n",
    "PARAM$hypeparametertuning$hs <- makeParamSet(\n",
    "  makeIntegerParam(\"num_iterations\", lower= 100L, upper= 1500L),\n",
    "  makeNumericParam(\"learning_rate\", lower= 0.01, upper= 0.15),\n",
    "  makeNumericParam(\"feature_fraction\", lower= 0.5, upper= 1.0),\n",
    "  makeIntegerParam(\"num_leaves\", lower= 31L, upper= 255L),\n",
    "  makeIntegerParam(\"min_data_in_leaf\", lower= 20L, upper= 1000L)\n",
    ")"
   ]
  },
  {
   "cell_type": "markdown",
   "metadata": {
    "id": "-_RPFUb3zMoW"
   },
   "source": [
    "A mayor cantidad de hiperparámetros, se debe aumentar las iteraciones de la Bayesian Optimization\n",
    "<br> 30 es un valor muy tacaño, pero corre rápido\n",
    "<br> deberia partir de 50, alcanzando los 100 si se dispone de tiempo"
   ]
  },
  {
   "cell_type": "code",
   "execution_count": 50,
   "metadata": {
    "id": "q5Rd3pnbzSiG"
   },
   "outputs": [],
   "source": [
    "PARAM$hyperparametertuning$iteraciones <- 80 # iteraciones bayesianas"
   ]
  },
  {
   "cell_type": "markdown",
   "metadata": {
    "id": "4RWZXL1VZjMI"
   },
   "source": [
    "### 2.2.4  Preprocesamiento"
   ]
  },
  {
   "cell_type": "code",
   "execution_count": 51,
   "metadata": {
    "id": "j3toG9-lZm4K"
   },
   "outputs": [],
   "source": [
    "# carpeta de trabajo\n",
    "\n",
    "setwd(\"/content/buckets/b1/exp\")\n",
    "experimento_folder <- paste0(\"HT\", PARAM$experimento)\n",
    "dir.create(experimento_folder, showWarnings=FALSE)\n",
    "setwd( paste0(\"/content/buckets/b1/exp/\", experimento_folder ))"
   ]
  },
  {
   "cell_type": "code",
   "execution_count": 52,
   "metadata": {
    "id": "FM3lxKoLZ643"
   },
   "outputs": [],
   "source": [
    "# lectura del dataset\n",
    "\n",
    "dataset <- fread(\"/content/datasets/dataset_pequeno.csv\")"
   ]
  },
  {
   "cell_type": "code",
   "execution_count": 53,
   "metadata": {
    "id": "OsJ-91UeZ-I_"
   },
   "outputs": [],
   "source": [
    "dataset_train <- dataset[foto_mes %in% c(202107)]"
   ]
  },
  {
   "cell_type": "code",
   "execution_count": 54,
   "metadata": {
    "id": "vrWE7BE0aB2J"
   },
   "outputs": [],
   "source": [
    "# paso la clase a binaria que tome valores {0,1}  enteros\n",
    "#  BAJA+1 y BAJA+2  son  1,   CONTINUA es 0\n",
    "\n",
    "dataset_train[,\n",
    "  clase01 := ifelse(clase_ternaria %in% c(\"BAJA+2\",\"BAJA+1\"), 1L, 0L)\n",
    "]"
   ]
  },
  {
   "cell_type": "code",
   "execution_count": 55,
   "metadata": {
    "id": "jP7YlQBnaW6W"
   },
   "outputs": [],
   "source": [
    "# defino los datos que forma parte del training\n",
    "# aqui se hace el undersampling de los CONTINUA\n",
    "# notar que para esto utilizo la SEGUNDA semilla\n",
    "\n",
    "set.seed(PARAM$semilla_primigenia, kind = \"L'Ecuyer-CMRG\")\n",
    "dataset_train[, azar := runif(nrow(dataset_train))]\n",
    "dataset_train[, training := 0L]\n",
    "\n",
    "dataset_train[\n",
    "  foto_mes %in% c(202107) &\n",
    "    (azar <= PARAM$trainingstrategy$undersampling | clase_ternaria %in% c(\"BAJA+1\", \"BAJA+2\")),\n",
    "  training := 1L\n",
    "]"
   ]
  },
  {
   "cell_type": "code",
   "execution_count": 56,
   "metadata": {
    "id": "xElu4s5W4rX7"
   },
   "outputs": [],
   "source": [
    "# los campos que se van a utilizar\n",
    "\n",
    "campos_buenos <- setdiff(\n",
    "  colnames(dataset_train),\n",
    "  c(\"clase_ternaria\", \"clase01\", \"azar\", \"training\")\n",
    ")"
   ]
  },
  {
   "cell_type": "code",
   "execution_count": 57,
   "metadata": {
    "id": "PppMHcGYaaol"
   },
   "outputs": [
    {
     "data": {
      "text/html": [
       "91340"
      ],
      "text/latex": [
       "91340"
      ],
      "text/markdown": [
       "91340"
      ],
      "text/plain": [
       "[1] 91340"
      ]
     },
     "metadata": {},
     "output_type": "display_data"
    },
    {
     "data": {
      "text/html": [
       "154"
      ],
      "text/latex": [
       "154"
      ],
      "text/markdown": [
       "154"
      ],
      "text/plain": [
       "[1] 154"
      ]
     },
     "metadata": {},
     "output_type": "display_data"
    }
   ],
   "source": [
    "# dejo los datos en el formato que necesita LightGBM\n",
    "\n",
    "dtrain <- lgb.Dataset(\n",
    "  data= data.matrix(dataset_train[training == 1L, campos_buenos, with= FALSE]),\n",
    "  label= dataset_train[training == 1L, clase01],\n",
    "  free_raw_data= FALSE\n",
    ")\n",
    "\n",
    "nrow(dtrain)\n",
    "ncol(dtrain)"
   ]
  },
  {
   "cell_type": "markdown",
   "metadata": {
    "id": "Ta-EkOu3cphF"
   },
   "source": [
    "2.2.5 Configuracion Bayesian Optimization"
   ]
  },
  {
   "cell_type": "code",
   "execution_count": 58,
   "metadata": {
    "id": "cjgfurjdfiXb"
   },
   "outputs": [],
   "source": [
    "# En el argumento x llegan los parmaetros de la bayesiana\n",
    "#  devuelve la AUC en cross validation del modelo entrenado\n",
    "\n",
    "EstimarGanancia_AUC_lightgbm <- function(x) {\n",
    "\n",
    "  # x pisa (o agrega) a param_fijos\n",
    "  param_completo <- modifyList(PARAM$lgbm$param_fijos, x)\n",
    "\n",
    "  # entreno LightGBM\n",
    "  modelocv <- lgb.cv(\n",
    "    data= dtrain,\n",
    "    nfold= PARAM$hyperparametertuning$xval_folds,\n",
    "    stratified= TRUE,\n",
    "    param= param_completo\n",
    "  )\n",
    "\n",
    "  # obtengo la ganancia\n",
    "  AUC <- modelocv$best_score\n",
    "\n",
    "  # hago espacio en la memoria\n",
    "  rm(modelocv)\n",
    "  gc(full= TRUE, verbose= FALSE)\n",
    "\n",
    "  message(format(Sys.time(), \"%a %b %d %X %Y\"), \" AUC \", AUC)\n",
    "\n",
    "  return(AUC)\n",
    "}"
   ]
  },
  {
   "cell_type": "code",
   "execution_count": 59,
   "metadata": {
    "id": "WLi_o1hocvN-"
   },
   "outputs": [],
   "source": [
    "# Aqui comienza la configuracion de la Bayesian Optimization\n",
    "\n",
    "# en este archivo quedan la evolucion binaria de la BO\n",
    "kbayesiana <- \"bayesiana.RDATA\"\n",
    "\n",
    "funcion_optimizar <- EstimarGanancia_AUC_lightgbm # la funcion que voy a maximizar\n",
    "\n",
    "configureMlr(show.learner.output= FALSE)\n",
    "\n",
    "# configuro la busqueda bayesiana,  los hiperparametros que se van a optimizar\n",
    "# por favor, no desesperarse por lo complejo\n",
    "\n",
    "obj.fun <- makeSingleObjectiveFunction(\n",
    "  fn= funcion_optimizar, # la funcion que voy a maximizar\n",
    "  minimize= FALSE, # estoy Maximizando la ganancia\n",
    "  noisy= TRUE,\n",
    "  par.set= PARAM$hypeparametertuning$hs, # definido al comienzo del programa\n",
    "  has.simple.signature= FALSE # paso los parametros en una lista\n",
    ")\n",
    "\n",
    "# cada 600 segundos guardo el resultado intermedio\n",
    "ctrl <- makeMBOControl(\n",
    "  save.on.disk.at.time= 600, # se graba cada 600 segundos\n",
    "  save.file.path= kbayesiana\n",
    ") # se graba cada 600 segundos\n",
    "\n",
    "# indico la cantidad de iteraciones que va a tener la Bayesian Optimization\n",
    "ctrl <- setMBOControlTermination(\n",
    "  ctrl,\n",
    "  iters= PARAM$hyperparametertuning$iteraciones\n",
    ") # cantidad de iteraciones\n",
    "\n",
    "# defino el método estandar para la creacion de los puntos iniciales,\n",
    "# los \"No Inteligentes\"\n",
    "ctrl <- setMBOControlInfill(ctrl, crit= makeMBOInfillCritEI())\n",
    "\n",
    "# establezco la funcion que busca el maximo\n",
    "surr.km <- makeLearner(\n",
    "  \"regr.km\",\n",
    "  predict.type= \"se\",\n",
    "  covtype= \"matern3_2\",\n",
    "  control= list(trace= TRUE)\n",
    ")\n"
   ]
  },
  {
   "cell_type": "markdown",
   "metadata": {
    "id": "_uUeVo5pc4zc"
   },
   "source": [
    "2.2.6 Corrida Bayesian Optimization"
   ]
  },
  {
   "cell_type": "code",
   "execution_count": 60,
   "metadata": {
    "id": "RcABNaKGciaz"
   },
   "outputs": [
    {
     "name": "stderr",
     "output_type": "stream",
     "text": [
      "Computing y column(s) for design. Not provided.\n",
      "\n",
      "Fri Jul 25 13:16:18 2025 AUC 0.925035597084312\n",
      "\n",
      "Fri Jul 25 13:17:43 2025 AUC 0.927417904404977\n",
      "\n",
      "Fri Jul 25 13:20:39 2025 AUC 0.923290776943536\n",
      "\n",
      "Fri Jul 25 13:22:09 2025 AUC 0.927131963010511\n",
      "\n",
      "Fri Jul 25 13:24:04 2025 AUC 0.925015712054605\n",
      "\n",
      "Fri Jul 25 13:26:19 2025 AUC 0.92461770805453\n",
      "\n",
      "Fri Jul 25 13:28:02 2025 AUC 0.924257327931563\n",
      "\n",
      "Fri Jul 25 13:28:57 2025 AUC 0.923406627571642\n",
      "\n",
      "Fri Jul 25 13:29:27 2025 AUC 0.923676405160688\n",
      "\n",
      "Fri Jul 25 13:31:12 2025 AUC 0.925244220965016\n",
      "\n",
      "Fri Jul 25 13:33:37 2025 AUC 0.92237229914006\n",
      "\n",
      "Fri Jul 25 13:35:10 2025 AUC 0.926272259834303\n",
      "\n",
      "Fri Jul 25 13:36:10 2025 AUC 0.9289336362261\n",
      "\n",
      "Fri Jul 25 13:36:24 2025 AUC 0.926767735883421\n",
      "\n",
      "Fri Jul 25 13:38:46 2025 AUC 0.924167418819481\n",
      "\n",
      "Fri Jul 25 13:39:31 2025 AUC 0.923686961497523\n",
      "\n",
      "Fri Jul 25 13:41:31 2025 AUC 0.927326312672172\n",
      "\n",
      "Fri Jul 25 13:41:46 2025 AUC 0.922899226089011\n",
      "\n",
      "Fri Jul 25 13:43:02 2025 AUC 0.928977863197687\n",
      "\n",
      "Fri Jul 25 13:45:50 2025 AUC 0.923103310422557\n",
      "\n",
      "[mbo] 0: num_iterations=1394; learning_rate=0.0637; feature_fraction=0.628; num_leaves=181; min_data_in_leaf=218 : y = 0.925 : 224.6 secs : initdesign\n",
      "\n",
      "[mbo] 0: num_iterations=691; learning_rate=0.0498; feature_fraction=0.765; num_leaves=166; min_data_in_leaf=600 : y = 0.927 : 84.3 secs : initdesign\n",
      "\n",
      "[mbo] 0: num_iterations=1325; learning_rate=0.124; feature_fraction=0.8; num_leaves=222; min_data_in_leaf=537 : y = 0.923 : 176.2 secs : initdesign\n",
      "\n",
      "[mbo] 0: num_iterations=807; learning_rate=0.0338; feature_fraction=0.69; num_leaves=136; min_data_in_leaf=704 : y = 0.927 : 90.6 secs : initdesign\n",
      "\n",
      "[mbo] 0: num_iterations=1108; learning_rate=0.0981; feature_fraction=0.891; num_leaves=156; min_data_in_leaf=864 : y = 0.925 : 114.5 secs : initdesign\n",
      "\n",
      "[mbo] 0: num_iterations=1079; learning_rate=0.0904; feature_fraction=0.571; num_leaves=84; min_data_in_leaf=356 : y = 0.925 : 134.6 secs : initdesign\n",
      "\n",
      "[mbo] 0: num_iterations=659; learning_rate=0.107; feature_fraction=0.83; num_leaves=127; min_data_in_leaf=205 : y = 0.924 : 103.2 secs : initdesign\n",
      "\n",
      "[mbo] 0: num_iterations=357; learning_rate=0.0714; feature_fraction=0.545; num_leaves=119; min_data_in_leaf=73 : y = 0.923 : 54.9 secs : initdesign\n",
      "\n",
      "[mbo] 0: num_iterations=264; learning_rate=0.121; feature_fraction=0.726; num_leaves=101; min_data_in_leaf=649 : y = 0.924 : 30.1 secs : initdesign\n",
      "\n",
      "[mbo] 0: num_iterations=1211; learning_rate=0.0807; feature_fraction=0.522; num_leaves=94; min_data_in_leaf=951 : y = 0.925 : 105.7 secs : initdesign\n",
      "\n",
      "[mbo] 0: num_iterations=1462; learning_rate=0.129; feature_fraction=0.935; num_leaves=64; min_data_in_leaf=491 : y = 0.922 : 145.0 secs : initdesign\n",
      "\n",
      "[mbo] 0: num_iterations=483; learning_rate=0.0264; feature_fraction=0.866; num_leaves=153; min_data_in_leaf=66 : y = 0.926 : 92.1 secs : initdesign\n",
      "\n",
      "[mbo] 0: num_iterations=587; learning_rate=0.0202; feature_fraction=0.953; num_leaves=234; min_data_in_leaf=849 : y = 0.929 : 60.0 secs : initdesign\n",
      "\n",
      "[mbo] 0: num_iterations=126; learning_rate=0.0561; feature_fraction=0.905; num_leaves=67; min_data_in_leaf=736 : y = 0.927 : 14.4 secs : initdesign\n",
      "\n",
      "[mbo] 0: num_iterations=938; learning_rate=0.077; feature_fraction=0.608; num_leaves=192; min_data_in_leaf=280 : y = 0.924 : 142.3 secs : initdesign\n",
      "\n",
      "[mbo] 0: num_iterations=426; learning_rate=0.144; feature_fraction=0.654; num_leaves=254; min_data_in_leaf=779 : y = 0.924 : 44.4 secs : initdesign\n",
      "\n",
      "[mbo] 0: num_iterations=1222; learning_rate=0.0403; feature_fraction=0.718; num_leaves=209; min_data_in_leaf=968 : y = 0.927 : 119.9 secs : initdesign\n",
      "\n",
      "[mbo] 0: num_iterations=198; learning_rate=0.139; feature_fraction=0.789; num_leaves=38; min_data_in_leaf=138 : y = 0.923 : 14.9 secs : initdesign\n",
      "\n",
      "[mbo] 0: num_iterations=747; learning_rate=0.0104; feature_fraction=0.588; num_leaves=48; min_data_in_leaf=429 : y = 0.929 : 76.1 secs : initdesign\n",
      "\n",
      "[mbo] 0: num_iterations=959; learning_rate=0.115; feature_fraction=0.997; num_leaves=212; min_data_in_leaf=402 : y = 0.923 : 168.5 secs : initdesign\n",
      "\n",
      "Saved the current state after iteration 1 in the file bayesiana.RDATA.\n",
      "\n",
      "Fri Jul 25 13:47:01 2025 AUC 0.927469954037545\n",
      "\n",
      "[mbo] 1: num_iterations=657; learning_rate=0.01; feature_fraction=0.827; num_leaves=176; min_data_in_leaf=800 : y = 0.927 : 67.8 secs : infill_ei\n",
      "\n",
      "Fri Jul 25 13:49:38 2025 AUC 0.928393695707738\n",
      "\n",
      "[mbo] 2: num_iterations=768; learning_rate=0.0214; feature_fraction=0.999; num_leaves=255; min_data_in_leaf=599 : y = 0.928 : 155.5 secs : infill_ei\n",
      "\n",
      "Fri Jul 25 13:50:31 2025 AUC 0.92841087254181\n",
      "\n",
      "[mbo] 3: num_iterations=625; learning_rate=0.0367; feature_fraction=0.973; num_leaves=252; min_data_in_leaf=998 : y = 0.928 : 52.2 secs : infill_ei\n",
      "\n",
      "Fri Jul 25 13:51:44 2025 AUC 0.928949005029586\n",
      "\n",
      "[mbo] 4: num_iterations=926; learning_rate=0.01; feature_fraction=0.51; num_leaves=31; min_data_in_leaf=505 : y = 0.929 : 72.4 secs : infill_ei\n",
      "\n",
      "Fri Jul 25 13:52:32 2025 AUC 0.928463555609884\n",
      "\n",
      "[mbo] 5: num_iterations=668; learning_rate=0.0166; feature_fraction=0.699; num_leaves=31; min_data_in_leaf=860 : y = 0.928 : 47.4 secs : infill_ei\n",
      "\n",
      "Fri Jul 25 13:53:33 2025 AUC 0.927760897569695\n",
      "\n",
      "[mbo] 6: num_iterations=667; learning_rate=0.0118; feature_fraction=0.531; num_leaves=37; min_data_in_leaf=811 : y = 0.928 : 61.2 secs : infill_ei\n",
      "\n",
      "Fri Jul 25 13:55:11 2025 AUC 0.928838535122324\n",
      "\n",
      "[mbo] 7: num_iterations=1122; learning_rate=0.0151; feature_fraction=0.618; num_leaves=31; min_data_in_leaf=431 : y = 0.929 : 97.2 secs : infill_ei\n",
      "\n",
      "Fri Jul 25 13:56:15 2025 AUC 0.929979009305392\n",
      "\n",
      "[mbo] 8: num_iterations=534; learning_rate=0.016; feature_fraction=0.841; num_leaves=31; min_data_in_leaf=515 : y = 0.93 : 62.9 secs : infill_ei\n",
      "\n",
      "Saved the current state after iteration 9 in the file bayesiana.RDATA.\n",
      "\n",
      "Fri Jul 25 13:57:11 2025 AUC 0.928818850440129\n",
      "\n",
      "[mbo] 9: num_iterations=550; learning_rate=0.01; feature_fraction=0.981; num_leaves=31; min_data_in_leaf=496 : y = 0.929 : 52.9 secs : infill_ei\n",
      "\n",
      "Fri Jul 25 13:57:20 2025 AUC 0.922224719670034\n",
      "\n",
      "[mbo] 10: num_iterations=116; learning_rate=0.0182; feature_fraction=0.848; num_leaves=31; min_data_in_leaf=539 : y = 0.922 : 8.1 secs : infill_ei\n",
      "\n",
      "Fri Jul 25 13:58:13 2025 AUC 0.929349884869342\n",
      "\n",
      "[mbo] 11: num_iterations=591; learning_rate=0.0199; feature_fraction=0.859; num_leaves=47; min_data_in_leaf=521 : y = 0.929 : 51.9 secs : infill_ei\n",
      "\n",
      "Fri Jul 25 13:58:54 2025 AUC 0.929938464313233\n",
      "\n",
      "[mbo] 12: num_iterations=593; learning_rate=0.0153; feature_fraction=0.83; num_leaves=31; min_data_in_leaf=250 : y = 0.93 : 40.7 secs : infill_ei\n",
      "\n",
      "Fri Jul 25 14:00:31 2025 AUC 0.929611538833867\n",
      "\n",
      "[mbo] 13: num_iterations=842; learning_rate=0.015; feature_fraction=0.818; num_leaves=46; min_data_in_leaf=145 : y = 0.93 : 95.9 secs : infill_ei\n",
      "\n",
      "Fri Jul 25 14:01:27 2025 AUC 0.929693301720081\n",
      "\n",
      "[mbo] 14: num_iterations=765; learning_rate=0.0157; feature_fraction=0.837; num_leaves=32; min_data_in_leaf=466 : y = 0.93 : 56.0 secs : infill_ei\n",
      "\n",
      "Fri Jul 25 14:02:09 2025 AUC 0.929871622271484\n",
      "\n",
      "[mbo] 15: num_iterations=591; learning_rate=0.0158; feature_fraction=0.715; num_leaves=31; min_data_in_leaf=427 : y = 0.93 : 40.7 secs : infill_ei\n",
      "\n",
      "Fri Jul 25 14:03:39 2025 AUC 0.929299259742784\n",
      "\n",
      "[mbo] 16: num_iterations=572; learning_rate=0.016; feature_fraction=0.958; num_leaves=163; min_data_in_leaf=424 : y = 0.929 : 89.4 secs : infill_ei\n",
      "\n",
      "Fri Jul 25 14:04:19 2025 AUC 0.930272130584821\n",
      "\n",
      "[mbo] 17: num_iterations=563; learning_rate=0.0157; feature_fraction=0.846; num_leaves=31; min_data_in_leaf=390 : y = 0.93 : 39.8 secs : infill_ei\n",
      "\n",
      "Fri Jul 25 14:07:09 2025 AUC 0.927818100525525\n",
      "\n",
      "[mbo] 18: num_iterations=958; learning_rate=0.0154; feature_fraction=0.502; num_leaves=255; min_data_in_leaf=334 : y = 0.928 : 168.6 secs : infill_ei\n",
      "\n",
      "Saved the current state after iteration 19 in the file bayesiana.RDATA.\n",
      "\n",
      "Fri Jul 25 14:09:25 2025 AUC 0.928738708088097\n",
      "\n",
      "[mbo] 19: num_iterations=944; learning_rate=0.0146; feature_fraction=0.876; num_leaves=90; min_data_in_leaf=400 : y = 0.929 : 132.1 secs : infill_ei\n",
      "\n",
      "Fri Jul 25 14:10:28 2025 AUC 0.928694306345161\n",
      "\n",
      "[mbo] 20: num_iterations=556; learning_rate=0.0157; feature_fraction=0.909; num_leaves=62; min_data_in_leaf=236 : y = 0.929 : 62.7 secs : infill_ei\n",
      "\n",
      "Fri Jul 25 14:11:32 2025 AUC 0.930052436698618\n",
      "\n",
      "[mbo] 21: num_iterations=926; learning_rate=0.0145; feature_fraction=0.632; num_leaves=31; min_data_in_leaf=79 : y = 0.93 : 62.7 secs : infill_ei\n",
      "\n",
      "Fri Jul 25 14:12:36 2025 AUC 0.930106839989495\n",
      "\n",
      "[mbo] 22: num_iterations=895; learning_rate=0.0139; feature_fraction=0.68; num_leaves=33; min_data_in_leaf=293 : y = 0.93 : 63.9 secs : infill_ei\n",
      "\n",
      "Fri Jul 25 14:13:54 2025 AUC 0.930268642084074\n",
      "\n",
      "[mbo] 23: num_iterations=972; learning_rate=0.0102; feature_fraction=0.713; num_leaves=31; min_data_in_leaf=89 : y = 0.93 : 76.6 secs : infill_ei\n",
      "\n",
      "Fri Jul 25 14:15:07 2025 AUC 0.929421345241031\n",
      "\n",
      "[mbo] 24: num_iterations=967; learning_rate=0.0124; feature_fraction=0.588; num_leaves=31; min_data_in_leaf=204 : y = 0.929 : 72.9 secs : infill_ei\n",
      "\n",
      "Fri Jul 25 14:16:06 2025 AUC 0.929752443810302\n",
      "\n",
      "[mbo] 25: num_iterations=907; learning_rate=0.0113; feature_fraction=0.714; num_leaves=31; min_data_in_leaf=38 : y = 0.93 : 58.2 secs : infill_ei\n",
      "\n",
      "Fri Jul 25 14:17:09 2025 AUC 0.929903181877033\n",
      "\n",
      "[mbo] 26: num_iterations=997; learning_rate=0.0166; feature_fraction=0.753; num_leaves=31; min_data_in_leaf=93 : y = 0.93 : 61.6 secs : infill_ei\n",
      "\n",
      "Fri Jul 25 14:17:57 2025 AUC 0.929475339249396\n",
      "\n",
      "[mbo] 27: num_iterations=689; learning_rate=0.0143; feature_fraction=0.791; num_leaves=36; min_data_in_leaf=324 : y = 0.929 : 47.9 secs : infill_ei\n",
      "\n",
      "Saved the current state after iteration 28 in the file bayesiana.RDATA.\n",
      "\n",
      "Fri Jul 25 14:19:36 2025 AUC 0.931201238847451\n",
      "\n",
      "[mbo] 28: num_iterations=1388; learning_rate=0.01; feature_fraction=0.814; num_leaves=31; min_data_in_leaf=104 : y = 0.931 : 95.0 secs : infill_ei\n",
      "\n",
      "Fri Jul 25 14:21:20 2025 AUC 0.929928462914021\n",
      "\n",
      "[mbo] 29: num_iterations=1285; learning_rate=0.0101; feature_fraction=0.781; num_leaves=32; min_data_in_leaf=200 : y = 0.93 : 102.0 secs : infill_ei\n",
      "\n",
      "Fri Jul 25 14:24:18 2025 AUC 0.928641670797384\n",
      "\n",
      "[mbo] 30: num_iterations=1470; learning_rate=0.01; feature_fraction=0.808; num_leaves=73; min_data_in_leaf=21 : y = 0.929 : 176.8 secs : infill_ei\n",
      "\n",
      "Fri Jul 25 14:25:51 2025 AUC 0.929623050319456\n",
      "\n",
      "[mbo] 31: num_iterations=1370; learning_rate=0.0106; feature_fraction=0.892; num_leaves=31; min_data_in_leaf=69 : y = 0.93 : 92.8 secs : infill_ei\n",
      "\n",
      "Fri Jul 25 14:27:27 2025 AUC 0.929884513513618\n",
      "\n",
      "[mbo] 32: num_iterations=1381; learning_rate=0.0101; feature_fraction=0.74; num_leaves=31; min_data_in_leaf=197 : y = 0.93 : 94.5 secs : infill_ei\n",
      "\n",
      "Fri Jul 25 14:29:11 2025 AUC 0.930229153859891\n",
      "\n",
      "[mbo] 33: num_iterations=1377; learning_rate=0.0104; feature_fraction=0.826; num_leaves=32; min_data_in_leaf=485 : y = 0.93 : 103.2 secs : infill_ei\n",
      "\n",
      "Saved the current state after iteration 34 in the file bayesiana.RDATA.\n",
      "\n",
      "Fri Jul 25 14:31:02 2025 AUC 0.929281022937518\n",
      "\n",
      "[mbo] 34: num_iterations=1382; learning_rate=0.0156; feature_fraction=0.821; num_leaves=34; min_data_in_leaf=151 : y = 0.929 : 106.6 secs : infill_ei\n",
      "\n",
      "Fri Jul 25 14:32:15 2025 AUC 0.927876555202168\n",
      "\n",
      "[mbo] 35: num_iterations=951; learning_rate=0.0513; feature_fraction=0.955; num_leaves=31; min_data_in_leaf=998 : y = 0.928 : 72.7 secs : infill_ei\n",
      "\n",
      "Fri Jul 25 14:33:06 2025 AUC 0.926792620905801\n",
      "\n",
      "[mbo] 36: num_iterations=465; learning_rate=0.0645; feature_fraction=1; num_leaves=172; min_data_in_leaf=1000 : y = 0.927 : 49.7 secs : infill_ei\n",
      "\n",
      "Fri Jul 25 14:35:04 2025 AUC 0.929839358164884\n",
      "\n",
      "[mbo] 37: num_iterations=1097; learning_rate=0.01; feature_fraction=0.812; num_leaves=61; min_data_in_leaf=98 : y = 0.93 : 116.8 secs : infill_ei\n",
      "\n",
      "Fri Jul 25 14:36:35 2025 AUC 0.927763401117892\n",
      "\n",
      "[mbo] 38: num_iterations=907; learning_rate=0.0423; feature_fraction=0.997; num_leaves=168; min_data_in_leaf=941 : y = 0.928 : 90.9 secs : infill_ei\n",
      "\n",
      "Fri Jul 25 14:38:20 2025 AUC 0.929856653945241\n",
      "\n",
      "[mbo] 39: num_iterations=1432; learning_rate=0.0155; feature_fraction=0.911; num_leaves=31; min_data_in_leaf=526 : y = 0.93 : 104.2 secs : infill_ei\n",
      "\n",
      "Fri Jul 25 14:40:08 2025 AUC 0.929600173685898\n",
      "\n",
      "[mbo] 40: num_iterations=1495; learning_rate=0.01; feature_fraction=0.954; num_leaves=31; min_data_in_leaf=951 : y = 0.93 : 107.2 secs : infill_ei\n",
      "\n",
      "Saved the current state after iteration 41 in the file bayesiana.RDATA.\n",
      "\n",
      "Fri Jul 25 14:42:46 2025 AUC 0.92861631068271\n",
      "\n",
      "[mbo] 41: num_iterations=1405; learning_rate=0.0101; feature_fraction=0.85; num_leaves=78; min_data_in_leaf=692 : y = 0.929 : 153.0 secs : infill_ei\n",
      "\n",
      "Fri Jul 25 14:44:38 2025 AUC 0.929455153619199\n",
      "\n",
      "[mbo] 42: num_iterations=1496; learning_rate=0.0284; feature_fraction=0.956; num_leaves=31; min_data_in_leaf=936 : y = 0.929 : 111.2 secs : infill_ei\n",
      "\n",
      "Fri Jul 25 14:46:04 2025 AUC 0.928743474640446\n",
      "\n",
      "[mbo] 43: num_iterations=1146; learning_rate=0.019; feature_fraction=0.983; num_leaves=31; min_data_in_leaf=999 : y = 0.929 : 85.4 secs : infill_ei\n",
      "\n",
      "Fri Jul 25 14:48:52 2025 AUC 0.928765868697934\n",
      "\n",
      "[mbo] 44: num_iterations=987; learning_rate=0.01; feature_fraction=0.646; num_leaves=118; min_data_in_leaf=176 : y = 0.929 : 166.3 secs : infill_ei\n",
      "\n",
      "Fri Jul 25 14:50:40 2025 AUC 0.928579356679156\n",
      "\n",
      "[mbo] 45: num_iterations=1500; learning_rate=0.0452; feature_fraction=0.987; num_leaves=31; min_data_in_leaf=527 : y = 0.929 : 107.4 secs : infill_ei\n",
      "\n",
      "Saved the current state after iteration 46 in the file bayesiana.RDATA.\n",
      "\n",
      "Fri Jul 25 14:52:27 2025 AUC 0.929808080953422\n",
      "\n",
      "[mbo] 46: num_iterations=1413; learning_rate=0.0146; feature_fraction=1; num_leaves=31; min_data_in_leaf=723 : y = 0.93 : 102.2 secs : infill_ei\n",
      "\n",
      "Fri Jul 25 14:54:57 2025 AUC 0.927684334925336\n",
      "\n",
      "[mbo] 47: num_iterations=1500; learning_rate=0.0555; feature_fraction=0.994; num_leaves=252; min_data_in_leaf=876 : y = 0.928 : 149.3 secs : infill_ei\n",
      "\n",
      "Fri Jul 25 14:57:47 2025 AUC 0.928905420015629\n",
      "\n",
      "[mbo] 48: num_iterations=1478; learning_rate=0.0189; feature_fraction=1; num_leaves=245; min_data_in_leaf=869 : y = 0.929 : 168.5 secs : infill_ei\n",
      "\n",
      "Fri Jul 25 14:59:26 2025 AUC 0.927275988619252\n",
      "\n",
      "[mbo] 49: num_iterations=1302; learning_rate=0.0361; feature_fraction=1; num_leaves=31; min_data_in_leaf=761 : y = 0.927 : 98.7 secs : infill_ei\n",
      "\n",
      "Fri Jul 25 15:00:05 2025 AUC 0.928975886372659\n",
      "\n",
      "[mbo] 50: num_iterations=532; learning_rate=0.0127; feature_fraction=0.65; num_leaves=31; min_data_in_leaf=121 : y = 0.929 : 37.9 secs : infill_ei\n",
      "\n",
      "Fri Jul 25 15:01:28 2025 AUC 0.929040926755651\n",
      "\n",
      "[mbo] 51: num_iterations=541; learning_rate=0.0142; feature_fraction=0.807; num_leaves=254; min_data_in_leaf=490 : y = 0.929 : 81.6 secs : infill_ei\n",
      "\n",
      "Saved the current state after iteration 52 in the file bayesiana.RDATA.\n",
      "\n",
      "Fri Jul 25 15:02:38 2025 AUC 0.929205676395478\n",
      "\n",
      "[mbo] 52: num_iterations=830; learning_rate=0.0218; feature_fraction=0.508; num_leaves=31; min_data_in_leaf=103 : y = 0.929 : 64.8 secs : infill_ei\n",
      "\n",
      "Fri Jul 25 15:04:00 2025 AUC 0.928818906218666\n",
      "\n",
      "[mbo] 53: num_iterations=928; learning_rate=0.0205; feature_fraction=0.621; num_leaves=31; min_data_in_leaf=520 : y = 0.929 : 81.4 secs : infill_ei\n",
      "\n",
      "Fri Jul 25 15:06:32 2025 AUC 0.928755632055582\n",
      "\n",
      "[mbo] 54: num_iterations=1406; learning_rate=0.0183; feature_fraction=1; num_leaves=55; min_data_in_leaf=1000 : y = 0.929 : 151.1 secs : infill_ei\n",
      "\n",
      "Fri Jul 25 15:08:51 2025 AUC 0.926723002062374\n",
      "\n",
      "[mbo] 55: num_iterations=1499; learning_rate=0.0518; feature_fraction=0.851; num_leaves=41; min_data_in_leaf=971 : y = 0.927 : 138.6 secs : infill_ei\n",
      "\n",
      "Fri Jul 25 15:09:52 2025 AUC 0.929867793731638\n",
      "\n",
      "[mbo] 56: num_iterations=861; learning_rate=0.0152; feature_fraction=0.999; num_leaves=31; min_data_in_leaf=986 : y = 0.93 : 59.1 secs : infill_ei\n",
      "\n",
      "Fri Jul 25 15:11:47 2025 AUC 0.929367378444113\n",
      "\n",
      "[mbo] 57: num_iterations=1099; learning_rate=0.0145; feature_fraction=0.992; num_leaves=201; min_data_in_leaf=828 : y = 0.929 : 114.9 secs : infill_ei\n",
      "\n",
      "Saved the current state after iteration 58 in the file bayesiana.RDATA.\n",
      "\n",
      "Fri Jul 25 15:13:06 2025 AUC 0.929553483447362\n",
      "\n",
      "[mbo] 58: num_iterations=964; learning_rate=0.0141; feature_fraction=0.966; num_leaves=31; min_data_in_leaf=812 : y = 0.93 : 72.4 secs : infill_ei\n",
      "\n",
      "Fri Jul 25 15:15:30 2025 AUC 0.928658341628835\n",
      "\n",
      "[mbo] 59: num_iterations=1346; learning_rate=0.0127; feature_fraction=0.966; num_leaves=69; min_data_in_leaf=870 : y = 0.929 : 142.5 secs : infill_ei\n",
      "\n",
      "Fri Jul 25 15:18:47 2025 AUC 0.928532400433674\n",
      "\n",
      "[mbo] 60: num_iterations=1500; learning_rate=0.0345; feature_fraction=0.957; num_leaves=233; min_data_in_leaf=545 : y = 0.929 : 196.3 secs : infill_ei\n",
      "\n",
      "Fri Jul 25 15:19:32 2025 AUC 0.928721515411084\n",
      "\n",
      "[mbo] 61: num_iterations=562; learning_rate=0.0472; feature_fraction=0.998; num_leaves=31; min_data_in_leaf=435 : y = 0.929 : 43.6 secs : infill_ei\n",
      "\n",
      "Fri Jul 25 15:20:33 2025 AUC 0.928529204862912\n",
      "\n",
      "[mbo] 62: num_iterations=997; learning_rate=0.0421; feature_fraction=0.665; num_leaves=31; min_data_in_leaf=20 : y = 0.929 : 60.9 secs : infill_ei\n",
      "\n",
      "Fri Jul 25 15:21:25 2025 AUC 0.927164528968473\n",
      "\n",
      "[mbo] 63: num_iterations=528; learning_rate=0.0426; feature_fraction=0.5; num_leaves=255; min_data_in_leaf=885 : y = 0.927 : 50.3 secs : infill_ei\n",
      "\n",
      "Fri Jul 25 15:22:16 2025 AUC 0.928496090414177\n",
      "\n",
      "[mbo] 64: num_iterations=534; learning_rate=0.0214; feature_fraction=0.966; num_leaves=33; min_data_in_leaf=1000 : y = 0.928 : 49.9 secs : infill_ei\n",
      "\n",
      "Saved the current state after iteration 65 in the file bayesiana.RDATA.\n",
      "\n",
      "Fri Jul 25 15:23:38 2025 AUC 0.927170061897214\n",
      "\n",
      "[mbo] 65: num_iterations=540; learning_rate=0.0164; feature_fraction=0.501; num_leaves=255; min_data_in_leaf=291 : y = 0.927 : 77.4 secs : infill_ei\n",
      "\n",
      "Fri Jul 25 15:24:39 2025 AUC 0.929983818645479\n",
      "\n",
      "[mbo] 66: num_iterations=859; learning_rate=0.0145; feature_fraction=0.998; num_leaves=31; min_data_in_leaf=377 : y = 0.93 : 60.4 secs : infill_ei\n",
      "\n",
      "Fri Jul 25 15:26:01 2025 AUC 0.92835185619559\n",
      "\n",
      "[mbo] 67: num_iterations=895; learning_rate=0.015; feature_fraction=1; num_leaves=255; min_data_in_leaf=960 : y = 0.928 : 81.0 secs : infill_ei\n",
      "\n",
      "Fri Jul 25 15:28:12 2025 AUC 0.92761902985439\n",
      "\n",
      "[mbo] 68: num_iterations=1500; learning_rate=0.0253; feature_fraction=0.5; num_leaves=174; min_data_in_leaf=993 : y = 0.928 : 129.3 secs : infill_ei\n",
      "\n",
      "Fri Jul 25 15:30:54 2025 AUC 0.928504973489102\n",
      "\n",
      "[mbo] 69: num_iterations=1133; learning_rate=0.0145; feature_fraction=0.818; num_leaves=254; min_data_in_leaf=399 : y = 0.929 : 161.5 secs : infill_ei\n",
      "\n",
      "Fri Jul 25 15:31:49 2025 AUC 0.92867866832736\n",
      "\n",
      "[mbo] 70: num_iterations=821; learning_rate=0.0322; feature_fraction=0.988; num_leaves=31; min_data_in_leaf=431 : y = 0.929 : 54.2 secs : infill_ei\n",
      "\n",
      "Fri Jul 25 15:32:44 2025 AUC 0.928053404411602\n",
      "\n",
      "[mbo] 71: num_iterations=528; learning_rate=0.0453; feature_fraction=0.828; num_leaves=31; min_data_in_leaf=862 : y = 0.928 : 53.1 secs : infill_ei\n",
      "\n",
      "Saved the current state after iteration 72 in the file bayesiana.RDATA.\n",
      "\n",
      "Fri Jul 25 15:36:40 2025 AUC 0.926687393221603\n",
      "\n",
      "[mbo] 72: num_iterations=1415; learning_rate=0.01; feature_fraction=0.503; num_leaves=135; min_data_in_leaf=103 : y = 0.927 : 230.6 secs : infill_ei\n",
      "\n",
      "Fri Jul 25 15:37:43 2025 AUC 0.92847723654009\n",
      "\n",
      "[mbo] 73: num_iterations=928; learning_rate=0.0602; feature_fraction=0.996; num_leaves=31; min_data_in_leaf=98 : y = 0.928 : 62.3 secs : infill_ei\n",
      "\n",
      "Fri Jul 25 15:39:27 2025 AUC 0.928779814049219\n",
      "\n",
      "[mbo] 74: num_iterations=1043; learning_rate=0.0101; feature_fraction=0.712; num_leaves=40; min_data_in_leaf=989 : y = 0.929 : 103.4 secs : infill_ei\n",
      "\n",
      "Fri Jul 25 15:43:06 2025 AUC 0.929403332673631\n",
      "\n",
      "[mbo] 75: num_iterations=1447; learning_rate=0.01; feature_fraction=1; num_leaves=166; min_data_in_leaf=470 : y = 0.929 : 217.1 secs : infill_ei\n",
      "\n",
      "Saved the current state after iteration 76 in the file bayesiana.RDATA.\n",
      "\n",
      "Fri Jul 25 15:46:27 2025 AUC 0.924274078170848\n",
      "\n",
      "[mbo] 76: num_iterations=1078; learning_rate=0.0496; feature_fraction=0.97; num_leaves=247; min_data_in_leaf=59 : y = 0.924 : 195.1 secs : infill_ei\n",
      "\n",
      "Fri Jul 25 15:47:07 2025 AUC 0.92733454477599\n",
      "\n",
      "[mbo] 77: num_iterations=584; learning_rate=0.0683; feature_fraction=0.93; num_leaves=31; min_data_in_leaf=528 : y = 0.927 : 38.4 secs : infill_ei\n",
      "\n",
      "Fri Jul 25 15:49:28 2025 AUC 0.928226116905733\n",
      "\n",
      "[mbo] 78: num_iterations=1500; learning_rate=0.0264; feature_fraction=0.971; num_leaves=164; min_data_in_leaf=914 : y = 0.928 : 140.2 secs : infill_ei\n",
      "\n",
      "Fri Jul 25 15:51:19 2025 AUC 0.930885820827377\n",
      "\n",
      "[mbo] 79: num_iterations=1500; learning_rate=0.0103; feature_fraction=0.997; num_leaves=33; min_data_in_leaf=359 : y = 0.931 : 109.0 secs : infill_ei\n",
      "\n",
      "Fri Jul 25 15:52:58 2025 AUC 0.92772045667464\n",
      "\n",
      "[mbo] 80: num_iterations=1111; learning_rate=0.0377; feature_fraction=0.501; num_leaves=43; min_data_in_leaf=956 : y = 0.928 : 97.6 secs : infill_ei\n",
      "\n",
      "Saved the final state in the file bayesiana.RDATA\n",
      "\n"
     ]
    }
   ],
   "source": [
    "# inicio la optimizacion bayesiana, retomando si ya existe\n",
    "# es la celda mas lenta de todo el notebook\n",
    "\n",
    "if (!file.exists(kbayesiana)) {\n",
    "  bayesiana_salida <- mbo(obj.fun, learner= surr.km, control= ctrl)\n",
    "} else {\n",
    "  bayesiana_salida <- mboContinue(kbayesiana) # retomo en caso que ya exista\n",
    "}"
   ]
  },
  {
   "cell_type": "code",
   "execution_count": 61,
   "metadata": {
    "id": "ssk5nnMk6INK"
   },
   "outputs": [
    {
     "data": {
      "text/html": [
       "<style>\n",
       ".list-inline {list-style: none; margin:0; padding: 0}\n",
       ".list-inline>li {display: inline-block}\n",
       ".list-inline>li:not(:last-child)::after {content: \"\\00b7\"; padding: 0 .5ex}\n",
       "</style>\n",
       "<ol class=list-inline><li>'num_iterations'</li><li>'learning_rate'</li><li>'feature_fraction'</li><li>'num_leaves'</li><li>'min_data_in_leaf'</li><li>'y'</li><li>'dob'</li><li>'eol'</li><li>'error.message'</li><li>'exec.time'</li><li>'ei'</li><li>'error.model'</li><li>'train.time'</li><li>'prop.type'</li><li>'propose.time'</li><li>'se'</li><li>'mean'</li></ol>\n"
      ],
      "text/latex": [
       "\\begin{enumerate*}\n",
       "\\item 'num\\_iterations'\n",
       "\\item 'learning\\_rate'\n",
       "\\item 'feature\\_fraction'\n",
       "\\item 'num\\_leaves'\n",
       "\\item 'min\\_data\\_in\\_leaf'\n",
       "\\item 'y'\n",
       "\\item 'dob'\n",
       "\\item 'eol'\n",
       "\\item 'error.message'\n",
       "\\item 'exec.time'\n",
       "\\item 'ei'\n",
       "\\item 'error.model'\n",
       "\\item 'train.time'\n",
       "\\item 'prop.type'\n",
       "\\item 'propose.time'\n",
       "\\item 'se'\n",
       "\\item 'mean'\n",
       "\\end{enumerate*}\n"
      ],
      "text/markdown": [
       "1. 'num_iterations'\n",
       "2. 'learning_rate'\n",
       "3. 'feature_fraction'\n",
       "4. 'num_leaves'\n",
       "5. 'min_data_in_leaf'\n",
       "6. 'y'\n",
       "7. 'dob'\n",
       "8. 'eol'\n",
       "9. 'error.message'\n",
       "10. 'exec.time'\n",
       "11. 'ei'\n",
       "12. 'error.model'\n",
       "13. 'train.time'\n",
       "14. 'prop.type'\n",
       "15. 'propose.time'\n",
       "16. 'se'\n",
       "17. 'mean'\n",
       "\n",
       "\n"
      ],
      "text/plain": [
       " [1] \"num_iterations\"   \"learning_rate\"    \"feature_fraction\" \"num_leaves\"      \n",
       " [5] \"min_data_in_leaf\" \"y\"                \"dob\"              \"eol\"             \n",
       " [9] \"error.message\"    \"exec.time\"        \"ei\"               \"error.model\"     \n",
       "[13] \"train.time\"       \"prop.type\"        \"propose.time\"     \"se\"              \n",
       "[17] \"mean\"            "
      ]
     },
     "metadata": {},
     "output_type": "display_data"
    }
   ],
   "source": [
    "\n",
    "tb_bayesiana <- as.data.table(bayesiana_salida$opt.path)\n",
    "colnames( tb_bayesiana)"
   ]
  },
  {
   "cell_type": "code",
   "execution_count": 62,
   "metadata": {
    "id": "u4zq-vknhjGc"
   },
   "outputs": [],
   "source": [
    "# almaceno los resultados de la Bayesian Optimization\n",
    "# y capturo los mejores hiperparametros encontrados\n",
    "\n",
    "tb_bayesiana <- as.data.table(bayesiana_salida$opt.path)\n",
    "\n",
    "tb_bayesiana[, iter := .I]\n",
    "\n",
    "# ordeno en forma descendente por AUC = y\n",
    "setorder(tb_bayesiana, -y)\n",
    "\n",
    "# grabo para eventualmente poder utilizarlos en OTRA corrida\n",
    "fwrite( tb_bayesiana,\n",
    "  file= \"BO_log.txt\",\n",
    "  sep= \"\\t\"\n",
    ")\n",
    "\n",
    "# los mejores hiperparámetros son los que quedaron en el registro 1 de la tabla\n",
    "PARAM$out$lgbm$mejores_hiperparametros <- tb_bayesiana[\n",
    "  1, # el primero es el de mejor AUC\n",
    "  setdiff(colnames(tb_bayesiana),\n",
    "    c(\"y\",\"dob\",\"eol\",\"error.message\",\"exec.time\",\"ei\",\"error.model\",\n",
    "      \"train.time\",\"prop.type\",\"propose.time\",\"se\",\"mean\",\"iter\")),\n",
    "  with= FALSE\n",
    "]\n",
    "\n",
    "\n",
    "PARAM$out$lgbm$y <- tb_bayesiana[1, y]\n"
   ]
  },
  {
   "cell_type": "code",
   "execution_count": 63,
   "metadata": {
    "id": "E8v2eA427N8e"
   },
   "outputs": [],
   "source": [
    "write_yaml( PARAM, file=\"PARAM.yml\")"
   ]
  },
  {
   "cell_type": "code",
   "execution_count": 64,
   "metadata": {
    "id": "iBTWexVU7PGC"
   },
   "outputs": [
    {
     "name": "stdout",
     "output_type": "stream",
     "text": [
      "   num_iterations learning_rate feature_fraction num_leaves min_data_in_leaf\n",
      "            <int>         <num>            <num>      <int>            <int>\n",
      "1:           1388    0.01000703        0.8142944         31              104\n",
      "[1] 0.9312012\n"
     ]
    }
   ],
   "source": [
    "print(PARAM$out$lgbm$mejores_hiperparametros)\n",
    "print(PARAM$out$lgbm$y)"
   ]
  },
  {
   "cell_type": "markdown",
   "metadata": {
    "id": "TKsVZmAnhwX-"
   },
   "source": [
    "## 2.3  Produccion"
   ]
  },
  {
   "cell_type": "markdown",
   "metadata": {
    "id": "RQ_C33Tr5B_9"
   },
   "source": [
    "### Final Training\n",
    "Construyo el modelo final, que es uno solo, no hace ningun tipo de particion < training, validation, testing>]"
   ]
  },
  {
   "cell_type": "code",
   "execution_count": 65,
   "metadata": {
    "id": "eDqfyA14hzwv"
   },
   "outputs": [],
   "source": [
    "setwd(\"/content/buckets/b1/exp\")\n",
    "experimento <- paste0(\"exp\", PARAM$experimento)\n",
    "dir.create(experimento, showWarnings= FALSE)\n",
    "setwd( paste0(\"/content/buckets/b1/exp/\", experimento ))"
   ]
  },
  {
   "cell_type": "markdown",
   "metadata": {
    "id": "8qFmFivf5Iet"
   },
   "source": [
    "#### Final Training Dataset\n",
    "\n",
    "Aqui esta la gran decision de en qué meses hago el Final Training\n",
    "<br> debo utilizar los mejores hiperparámetros que encontré en la optimización bayesiana"
   ]
  },
  {
   "cell_type": "code",
   "execution_count": 66,
   "metadata": {
    "id": "lg5WVZncvc7H"
   },
   "outputs": [],
   "source": [
    "# clase01\n",
    "dataset[, clase01 := ifelse(clase_ternaria %in% c(\"BAJA+1\", \"BAJA+2\"), 1L, 0L)]"
   ]
  },
  {
   "cell_type": "code",
   "execution_count": 67,
   "metadata": {
    "id": "yc9QzXREv0xf"
   },
   "outputs": [],
   "source": [
    "dataset_train <- dataset[foto_mes %in% c(202107)]"
   ]
  },
  {
   "cell_type": "code",
   "execution_count": 68,
   "metadata": {
    "id": "thjdqEBLuvNt"
   },
   "outputs": [],
   "source": [
    "# dejo los datos en el formato que necesita LightGBM\n",
    "\n",
    "dtrain <- lgb.Dataset(\n",
    "  data= data.matrix(dataset_train[, campos_buenos, with= FALSE]),\n",
    "  label= dataset_train[, clase01]\n",
    ")"
   ]
  },
  {
   "cell_type": "markdown",
   "metadata": {
    "id": "VNUa-WSz5Oqu"
   },
   "source": [
    "#### Final Training Hyperparameters"
   ]
  },
  {
   "cell_type": "code",
   "execution_count": 69,
   "metadata": {
    "id": "FgCcvBfEwImu"
   },
   "outputs": [
    {
     "data": {
      "text/html": [
       "<dl>\n",
       "\t<dt>$boosting</dt>\n",
       "\t\t<dd>'gbdt'</dd>\n",
       "\t<dt>$objective</dt>\n",
       "\t\t<dd>'binary'</dd>\n",
       "\t<dt>$metric</dt>\n",
       "\t\t<dd>'auc'</dd>\n",
       "\t<dt>$first_metric_only</dt>\n",
       "\t\t<dd>FALSE</dd>\n",
       "\t<dt>$boost_from_average</dt>\n",
       "\t\t<dd>TRUE</dd>\n",
       "\t<dt>$feature_pre_filter</dt>\n",
       "\t\t<dd>FALSE</dd>\n",
       "\t<dt>$force_row_wise</dt>\n",
       "\t\t<dd>TRUE</dd>\n",
       "\t<dt>$verbosity</dt>\n",
       "\t\t<dd>-1</dd>\n",
       "\t<dt>$seed</dt>\n",
       "\t\t<dd>100109</dd>\n",
       "\t<dt>$max_depth</dt>\n",
       "\t\t<dd>-1</dd>\n",
       "\t<dt>$min_gain_to_split</dt>\n",
       "\t\t<dd>0</dd>\n",
       "\t<dt>$min_sum_hessian_in_leaf</dt>\n",
       "\t\t<dd>1</dd>\n",
       "\t<dt>$lambda_l1</dt>\n",
       "\t\t<dd>0.1</dd>\n",
       "\t<dt>$lambda_l2</dt>\n",
       "\t\t<dd>0.1</dd>\n",
       "\t<dt>$max_bin</dt>\n",
       "\t\t<dd>255</dd>\n",
       "\t<dt>$bagging_fraction</dt>\n",
       "\t\t<dd>0.8</dd>\n",
       "\t<dt>$pos_bagging_fraction</dt>\n",
       "\t\t<dd>0.9</dd>\n",
       "\t<dt>$neg_bagging_fraction</dt>\n",
       "\t\t<dd>0.9</dd>\n",
       "\t<dt>$is_unbalance</dt>\n",
       "\t\t<dd>FALSE</dd>\n",
       "\t<dt>$scale_pos_weight</dt>\n",
       "\t\t<dd>5</dd>\n",
       "\t<dt>$drop_rate</dt>\n",
       "\t\t<dd>0.2</dd>\n",
       "\t<dt>$max_drop</dt>\n",
       "\t\t<dd>50</dd>\n",
       "\t<dt>$skip_drop</dt>\n",
       "\t\t<dd>0.7</dd>\n",
       "\t<dt>$extra_trees</dt>\n",
       "\t\t<dd>TRUE</dd>\n",
       "\t<dt>$num_iterations</dt>\n",
       "\t\t<dd>1388</dd>\n",
       "\t<dt>$learning_rate</dt>\n",
       "\t\t<dd>0.0100070312312697</dd>\n",
       "\t<dt>$feature_fraction</dt>\n",
       "\t\t<dd>0.814294356238841</dd>\n",
       "\t<dt>$num_leaves</dt>\n",
       "\t\t<dd>31</dd>\n",
       "\t<dt>$min_data_in_leaf</dt>\n",
       "\t\t<dd>104</dd>\n",
       "</dl>\n"
      ],
      "text/latex": [
       "\\begin{description}\n",
       "\\item[\\$boosting] 'gbdt'\n",
       "\\item[\\$objective] 'binary'\n",
       "\\item[\\$metric] 'auc'\n",
       "\\item[\\$first\\_metric\\_only] FALSE\n",
       "\\item[\\$boost\\_from\\_average] TRUE\n",
       "\\item[\\$feature\\_pre\\_filter] FALSE\n",
       "\\item[\\$force\\_row\\_wise] TRUE\n",
       "\\item[\\$verbosity] -1\n",
       "\\item[\\$seed] 100109\n",
       "\\item[\\$max\\_depth] -1\n",
       "\\item[\\$min\\_gain\\_to\\_split] 0\n",
       "\\item[\\$min\\_sum\\_hessian\\_in\\_leaf] 1\n",
       "\\item[\\$lambda\\_l1] 0.1\n",
       "\\item[\\$lambda\\_l2] 0.1\n",
       "\\item[\\$max\\_bin] 255\n",
       "\\item[\\$bagging\\_fraction] 0.8\n",
       "\\item[\\$pos\\_bagging\\_fraction] 0.9\n",
       "\\item[\\$neg\\_bagging\\_fraction] 0.9\n",
       "\\item[\\$is\\_unbalance] FALSE\n",
       "\\item[\\$scale\\_pos\\_weight] 5\n",
       "\\item[\\$drop\\_rate] 0.2\n",
       "\\item[\\$max\\_drop] 50\n",
       "\\item[\\$skip\\_drop] 0.7\n",
       "\\item[\\$extra\\_trees] TRUE\n",
       "\\item[\\$num\\_iterations] 1388\n",
       "\\item[\\$learning\\_rate] 0.0100070312312697\n",
       "\\item[\\$feature\\_fraction] 0.814294356238841\n",
       "\\item[\\$num\\_leaves] 31\n",
       "\\item[\\$min\\_data\\_in\\_leaf] 104\n",
       "\\end{description}\n"
      ],
      "text/markdown": [
       "$boosting\n",
       ":   'gbdt'\n",
       "$objective\n",
       ":   'binary'\n",
       "$metric\n",
       ":   'auc'\n",
       "$first_metric_only\n",
       ":   FALSE\n",
       "$boost_from_average\n",
       ":   TRUE\n",
       "$feature_pre_filter\n",
       ":   FALSE\n",
       "$force_row_wise\n",
       ":   TRUE\n",
       "$verbosity\n",
       ":   -1\n",
       "$seed\n",
       ":   100109\n",
       "$max_depth\n",
       ":   -1\n",
       "$min_gain_to_split\n",
       ":   0\n",
       "$min_sum_hessian_in_leaf\n",
       ":   1\n",
       "$lambda_l1\n",
       ":   0.1\n",
       "$lambda_l2\n",
       ":   0.1\n",
       "$max_bin\n",
       ":   255\n",
       "$bagging_fraction\n",
       ":   0.8\n",
       "$pos_bagging_fraction\n",
       ":   0.9\n",
       "$neg_bagging_fraction\n",
       ":   0.9\n",
       "$is_unbalance\n",
       ":   FALSE\n",
       "$scale_pos_weight\n",
       ":   5\n",
       "$drop_rate\n",
       ":   0.2\n",
       "$max_drop\n",
       ":   50\n",
       "$skip_drop\n",
       ":   0.7\n",
       "$extra_trees\n",
       ":   TRUE\n",
       "$num_iterations\n",
       ":   1388\n",
       "$learning_rate\n",
       ":   0.0100070312312697\n",
       "$feature_fraction\n",
       ":   0.814294356238841\n",
       "$num_leaves\n",
       ":   31\n",
       "$min_data_in_leaf\n",
       ":   104\n",
       "\n",
       "\n"
      ],
      "text/plain": [
       "$boosting\n",
       "[1] \"gbdt\"\n",
       "\n",
       "$objective\n",
       "[1] \"binary\"\n",
       "\n",
       "$metric\n",
       "[1] \"auc\"\n",
       "\n",
       "$first_metric_only\n",
       "[1] FALSE\n",
       "\n",
       "$boost_from_average\n",
       "[1] TRUE\n",
       "\n",
       "$feature_pre_filter\n",
       "[1] FALSE\n",
       "\n",
       "$force_row_wise\n",
       "[1] TRUE\n",
       "\n",
       "$verbosity\n",
       "[1] -1\n",
       "\n",
       "$seed\n",
       "[1] 100109\n",
       "\n",
       "$max_depth\n",
       "[1] -1\n",
       "\n",
       "$min_gain_to_split\n",
       "[1] 0\n",
       "\n",
       "$min_sum_hessian_in_leaf\n",
       "[1] 1\n",
       "\n",
       "$lambda_l1\n",
       "[1] 0.1\n",
       "\n",
       "$lambda_l2\n",
       "[1] 0.1\n",
       "\n",
       "$max_bin\n",
       "[1] 255\n",
       "\n",
       "$bagging_fraction\n",
       "[1] 0.8\n",
       "\n",
       "$pos_bagging_fraction\n",
       "[1] 0.9\n",
       "\n",
       "$neg_bagging_fraction\n",
       "[1] 0.9\n",
       "\n",
       "$is_unbalance\n",
       "[1] FALSE\n",
       "\n",
       "$scale_pos_weight\n",
       "[1] 5\n",
       "\n",
       "$drop_rate\n",
       "[1] 0.2\n",
       "\n",
       "$max_drop\n",
       "[1] 50\n",
       "\n",
       "$skip_drop\n",
       "[1] 0.7\n",
       "\n",
       "$extra_trees\n",
       "[1] TRUE\n",
       "\n",
       "$num_iterations\n",
       "[1] 1388\n",
       "\n",
       "$learning_rate\n",
       "[1] 0.01000703\n",
       "\n",
       "$feature_fraction\n",
       "[1] 0.8142944\n",
       "\n",
       "$num_leaves\n",
       "[1] 31\n",
       "\n",
       "$min_data_in_leaf\n",
       "[1] 104\n"
      ]
     },
     "metadata": {},
     "output_type": "display_data"
    }
   ],
   "source": [
    "param_final <- modifyList(PARAM$lgbm$param_fijos,\n",
    "  PARAM$out$lgbm$mejores_hiperparametros)\n",
    "\n",
    "param_final"
   ]
  },
  {
   "cell_type": "markdown",
   "metadata": {
    "id": "TZIYn4l95TBH"
   },
   "source": [
    "#### Training\n",
    "Genero el modelo final, siempre sobre TODOS los datos de  final_train, sin hacer ningun tipo de undersampling de la clase mayoritaria"
   ]
  },
  {
   "cell_type": "code",
   "execution_count": 70,
   "metadata": {
    "id": "vPLsd4mMRe4u"
   },
   "outputs": [],
   "source": [
    "# este punto es muy SUTIL  y será revisado en la Clase 05\n",
    "\n",
    "param_normalizado <- copy(param_final)\n",
    "param_normalizado$min_data_in_leaf <-  param_final$min_data_in_leaf / PARAM$trainingstrategy$undersampling"
   ]
  },
  {
   "cell_type": "code",
   "execution_count": 71,
   "metadata": {
    "id": "WRI_-taRwOXO"
   },
   "outputs": [
    {
     "ename": "ERROR",
     "evalue": "Error in data$construct(): Parameter min_data_in_leaf should be of type int, got \"189.0909\"\n\n",
     "output_type": "error",
     "traceback": [
      "Error in data$construct(): Parameter min_data_in_leaf should be of type int, got \"189.0909\"\n\nTraceback:\n",
      "1. data$construct()",
      "2. .handleSimpleError(function (cnd) \n . {\n .     watcher$capture_plot_and_output()\n .     cnd <- sanitize_call(cnd)\n .     watcher$push(cnd)\n .     switch(on_error, continue = invokeRestart(\"eval_continue\"), \n .         stop = invokeRestart(\"eval_stop\"), error = NULL)\n . }, \"Parameter min_data_in_leaf should be of type int, got \\\"189.0909\\\"\\n\", \n .     base::quote(data$construct()))"
     ]
    }
   ],
   "source": [
    "  # entreno LightGBM\n",
    "\n",
    "  modelo_final <- lgb.train(\n",
    "    data= dtrain,\n",
    "    param= param_normalizado\n",
    "  )"
   ]
  },
  {
   "cell_type": "code",
   "execution_count": null,
   "metadata": {
    "id": "_bkhnCvj0g3Q"
   },
   "outputs": [],
   "source": [
    "# ahora imprimo la importancia de variables\n",
    "\n",
    "tb_importancia <- as.data.table(lgb.importance(modelo_final))\n",
    "archivo_importancia <- \"impo.txt\"\n",
    "\n",
    "fwrite(tb_importancia,\n",
    "  file= archivo_importancia,\n",
    "  sep= \"\\t\"\n",
    ")"
   ]
  },
  {
   "cell_type": "code",
   "execution_count": null,
   "metadata": {
    "id": "lZ3sLmbh0kFj"
   },
   "outputs": [],
   "source": [
    "# grabo a disco el modelo en un formato para seres humanos ... ponele ...\n",
    "\n",
    "lgb.save(modelo_final, \"modelo.txt\" )"
   ]
  },
  {
   "cell_type": "markdown",
   "metadata": {
    "id": "VEtp2--t5Ymg"
   },
   "source": [
    "### Scoring"
   ]
  },
  {
   "cell_type": "markdown",
   "metadata": {
    "id": "hI5008Mj5ZdI"
   },
   "source": [
    "Aplico el modelo final a los datos del futuro"
   ]
  },
  {
   "cell_type": "code",
   "execution_count": null,
   "metadata": {
    "id": "PimBY3N_0ryP"
   },
   "outputs": [],
   "source": [
    "# aplico el modelo a los datos sin clase\n",
    "dfuture <- dataset[foto_mes == 202109]\n",
    "\n",
    "# aplico el modelo a los datos nuevos\n",
    "prediccion <- predict(\n",
    "  modelo_final,\n",
    "  data.matrix(dfuture[, campos_buenos, with= FALSE])\n",
    ")"
   ]
  },
  {
   "cell_type": "markdown",
   "metadata": {
    "id": "D26rNRh55gpw"
   },
   "source": [
    "#### Tabla Prediccion"
   ]
  },
  {
   "cell_type": "code",
   "execution_count": null,
   "metadata": {
    "id": "RJwg7LHd11yu"
   },
   "outputs": [],
   "source": [
    "# tabla de prediccion\n",
    "\n",
    "tb_prediccion <- dfuture[, list(numero_de_cliente)]\n",
    "tb_prediccion[, prob := prediccion ]\n",
    "\n",
    "# grabo las probabilidad del modelo\n",
    "fwrite(tb_prediccion,\n",
    "  file= \"prediccion.txt\",\n",
    "  sep= \"\\t\"\n",
    ")"
   ]
  },
  {
   "cell_type": "markdown",
   "metadata": {
    "id": "jOt4eG_55ltv"
   },
   "source": [
    "Kaggle Competition Submit"
   ]
  },
  {
   "cell_type": "code",
   "execution_count": null,
   "metadata": {
    "id": "gWW3tatE12je"
   },
   "outputs": [],
   "source": [
    "# genero archivos con los  \"envios\" mejores\n",
    "# suba TODOS los archivos a Kaggle\n",
    "\n",
    "# ordeno por probabilidad descendente\n",
    "setorder(tb_prediccion, -prob)\n",
    "\n",
    "dir.create(\"kaggle\")\n",
    "\n",
    "for (envios in PARAM$kaggle$cortes) {\n",
    "\n",
    "  tb_prediccion[, Predicted := 0L] # seteo inicial a 0\n",
    "  tb_prediccion[1:envios, Predicted := 1L] # marclo los primeros\n",
    "\n",
    "  archivo_kaggle <- paste0(\"./kaggle/KA\", PARAM$experimento, \"_\", envios, \".csv\")\n",
    "\n",
    "  # grabo el archivo\n",
    "  fwrite(tb_prediccion[, list(numero_de_cliente, Predicted)],\n",
    "    file= archivo_kaggle,\n",
    "    sep= \",\"\n",
    "  )\n",
    "\n",
    "  # subida a Kaggle, armo la linea de comando\n",
    "  comando <- \"kaggle competitions submit\"\n",
    "  competencia <- paste(\"-c\", PARAM$kaggle$competencia)\n",
    "  arch <- paste( \"-f\", archivo_kaggle)\n",
    "\n",
    "  mensaje <- paste0(\"-m 'envios=\", envios,\n",
    "  \"  semilla=\", PARAM$semilla_primigenia,\n",
    "    \"'\" )\n",
    "\n",
    "  linea <- paste( comando, competencia, arch, mensaje)\n",
    "\n",
    "  salida <- system(linea, intern=TRUE) # el submit a Kaggle\n",
    "  cat(salida, \"\\n\")\n",
    "}"
   ]
  },
  {
   "cell_type": "code",
   "execution_count": null,
   "metadata": {
    "id": "B9tB2X4439Hg"
   },
   "outputs": [],
   "source": [
    "write_yaml( PARAM, file=\"PARAM.yml\")"
   ]
  },
  {
   "cell_type": "code",
   "execution_count": null,
   "metadata": {
    "id": "9zA_W25c15DP"
   },
   "outputs": [],
   "source": [
    "format(Sys.time(), \"%a %b %d %X %Y\")"
   ]
  },
  {
   "cell_type": "markdown",
   "metadata": {
    "id": "UdVZucdLHzZ0"
   },
   "source": [
    "Finalmente usted deberá cargar el resultado de su corrida en la Google Sheet Colaborativa,  hoja **TareaHogar04**\n",
    "<br> Siéntase libre de agregar las columnas que hagan falta a la planilla"
   ]
  },
  {
   "cell_type": "code",
   "execution_count": null,
   "metadata": {
    "id": "WMHh7uNVIJkT"
   },
   "outputs": [],
   "source": []
  }
 ],
 "metadata": {
  "colab": {
   "provenance": []
  },
  "kernelspec": {
   "display_name": "R",
   "language": "R",
   "name": "ir"
  },
  "language_info": {
   "codemirror_mode": "r",
   "file_extension": ".r",
   "mimetype": "text/x-r-source",
   "name": "R",
   "pygments_lexer": "r",
   "version": "4.4.3"
  }
 },
 "nbformat": 4,
 "nbformat_minor": 4
}
