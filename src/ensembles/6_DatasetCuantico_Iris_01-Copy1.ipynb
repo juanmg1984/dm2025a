{
 "cells": [
  {
   "cell_type": "code",
   "execution_count": null,
   "id": "a8a59d07-678f-483e-900b-336b3532ba47",
   "metadata": {},
   "outputs": [],
   "source": [
    "format(Sys.time(), \"%a %b %d %X %Y\")"
   ]
  },
  {
   "cell_type": "code",
   "execution_count": null,
   "id": "e5b2d480-d719-4dc7-b7ab-3bc8915d154f",
   "metadata": {},
   "outputs": [],
   "source": [
    "# limpio la memoria\n",
    "rm(list=ls(all.names=TRUE)) # remove all objects\n",
    "gc(full=TRUE, verbose=FALSE) # garbage collection"
   ]
  },
  {
   "cell_type": "code",
   "execution_count": null,
   "id": "83314f99-54a5-4197-9db5-04c626bfd7c4",
   "metadata": {},
   "outputs": [],
   "source": [
    "# Paso 1: Instalación de paquetes necesarios\n",
    "if (!require(\"lightgbm\")) install.packages(\"lightgbm\")\n",
    "if (!require(\"mlrMBO\")) install.packages(\"mlrMBO\")\n",
    "if (!require(\"data.table\")) install.packages(\"data.table\")\n",
    "\n",
    "library(lightgbm)\n",
    "library(mlrMBO)\n",
    "library(data.table)\n",
    "library(parallel)\n",
    "library(smoof)\n",
    "library(mlr)\n"
   ]
  },
  {
   "cell_type": "code",
   "execution_count": null,
   "id": "ba8b1a56-483b-4fd9-b18e-8cb046aa0762",
   "metadata": {},
   "outputs": [],
   "source": [
    "# Paso 2: Análisis exploratorio simple\n",
    "iris_dt <- as.data.table(iris)\n",
    "print(iris_dt[, .N, by = Species])"
   ]
  },
  {
   "cell_type": "code",
   "execution_count": null,
   "id": "14bf79af-0e3a-4b12-afe0-80e5cc5053f4",
   "metadata": {},
   "outputs": [],
   "source": [
    "# Paso 3: Dataset sin duplicar (baseline)\n",
    "iris_base <- copy(iris_dt)\n",
    "iris_base[, target := ifelse(Species == \"virginica\", 1L, 0L)]\n",
    "iris_base[, Species := NULL]"
   ]
  },
  {
   "cell_type": "code",
   "execution_count": null,
   "id": "39aab35f-5d43-49bf-884b-7edd777927f3",
   "metadata": {},
   "outputs": [],
   "source": [
    "# Paso 4: Dataset duplicado (con ruido negativo)\n",
    "iris_dup <- copy(iris_dt)\n",
    "iris_dup[, target := ifelse(Species == \"virginica\", 1L, 0L)]\n",
    "iris_pos <- iris_dup[target == 1L]\n",
    "iris_neg_copies <- copy(iris_pos)[, target := 0L]\n",
    "iris_augmented <- rbindlist(list(iris_dup, iris_neg_copies))\n",
    "iris_augmented[, Species := NULL]\n",
    "\n",
    "start_time <- Sys.time()"
   ]
  },
  {
   "cell_type": "code",
   "execution_count": null,
   "id": "d7ded380-b0a4-4e19-b9eb-132411426fc9",
   "metadata": {},
   "outputs": [],
   "source": [
    "# Paso 5: Función de entrenamiento y evaluación\n",
    "train_evaluate <- function(data, seed = 123, iters = 10) {\n",
    "  set.seed(seed)\n",
    "  idx_train <- sample(1:nrow(data), 0.7 * nrow(data))\n",
    "  train <- data[idx_train]\n",
    "  test <- data[-idx_train]\n",
    "\n",
    "  dtrain <- lgb.Dataset(data = data.matrix(train[, !\"target\", with = FALSE]), label = train$target)\n",
    "\n",
    "  param_base <- list(objective = \"binary\",\n",
    "                     metric = \"auc\",\n",
    "                     verbosity = -1,\n",
    "                     feature_pre_filter = FALSE)\n",
    "\n",
    "  ps <- makeParamSet(\n",
    "    makeNumericParam(\"learning_rate\", lower = 0.01, upper = 0.2),\n",
    "    makeIntegerParam(\"num_leaves\", lower = 10L, upper = 200L),\n",
    "    makeIntegerParam(\"min_data_in_leaf\", lower = 5L, upper = 100L)\n",
    "  )\n",
    "\n",
    "  obj_fun <- makeSingleObjectiveFunction(\n",
    "    fn = function(x) {\n",
    "      x <- as.list(x)\n",
    "      param <- modifyList(param_base, x)\n",
    "      suppressMessages(suppressWarnings({\n",
    "        cv <- lgb.cv(params = param,\n",
    "                     data = dtrain,\n",
    "                     nfold = 5,\n",
    "                     nrounds = 100,\n",
    "                     early_stopping_rounds = 10,\n",
    "                     verbose = -1)\n",
    "        return(max(unlist(cv$record_evals$valid$auc$eval)))\n",
    "      }))\n",
    "    },\n",
    "    par.set = ps,\n",
    "    minimize = FALSE\n",
    "  )\n",
    "\n",
    "  ctrl <- makeMBOControl()\n",
    "  ctrl <- setMBOControlTermination(ctrl, iters = iters)\n",
    "  ctrl <- setMBOControlInfill(ctrl, crit = makeMBOInfillCritEI())\n",
    "  surrogate <- makeLearner(\"regr.km\", predict.type = \"se\", config = list(on.par.without.desc = \"quiet\"))\n",
    "\n",
    "  run <- suppressMessages(suppressWarnings(mbo(obj_fun, learner = surrogate, control = ctrl)))\n",
    "\n",
    "  dbest <- suppressMessages(suppressWarnings(lgb.train(params = modifyList(param_base, as.list(run$x)),\n",
    "                                                       data = dtrain,\n",
    "                                                       nrounds = 100)))\n",
    "\n",
    "  y_pred <- predict(dbest, data.matrix(test[, !\"target\", with = FALSE]))\n",
    "  if (!require(\"pROC\")) install.packages(\"pROC\")\n",
    "  library(pROC)\n",
    "  auc_final <- auc(test$target, y_pred)\n",
    "\n",
    "  list(run = run, auc = auc_final, predictions = y_pred, test = test)\n",
    "}\n"
   ]
  },
  {
   "cell_type": "code",
   "execution_count": null,
   "id": "fb31e130-3687-4074-94da-62a9e4f2c1c6",
   "metadata": {},
   "outputs": [],
   "source": [
    "# Paso 6: Ejecutar ambos experimentos\n",
    "res_base <- train_evaluate(iris_base, iters = 30)"
   ]
  },
  {
   "cell_type": "code",
   "execution_count": null,
   "id": "aa076ff4-de32-4e2b-878e-b4941fa2ddf9",
   "metadata": {},
   "outputs": [],
   "source": [
    "res_augm <- train_evaluate(iris_augmented, iters = 30)"
   ]
  },
  {
   "cell_type": "code",
   "execution_count": null,
   "id": "e3b0e574-d472-4d24-8cb3-8262c930fcc7",
   "metadata": {},
   "outputs": [],
   "source": [
    "params_log <- data.table(\n",
    "  experimento = c(\"original\", \"duplicado\"),\n",
    "  learning_rate = c(res_base$run$x$learning_rate, res_augm$run$x$learning_rate),\n",
    "  num_leaves = c(res_base$run$x$num_leaves, res_augm$run$x$num_leaves),\n",
    "  min_data_in_leaf = c(res_base$run$x$min_data_in_leaf, res_augm$run$x$min_data_in_leaf),\n",
    "  auc_train = c(as.numeric(res_base$auc), as.numeric(res_augm$auc))\n",
    ")\n",
    "\n",
    "pred_base_final <- res_base$predictions\n",
    "pred_augm_final <- res_augm$predictions\n",
    "auc_base_final <- auc(res_base$test$target, pred_base_final)\n",
    "auc_augm_final <- auc(res_augm$test$target, pred_augm_final)\n",
    "\n",
    "params_log[, auc_test := c(as.numeric(auc_base_final), as.numeric(auc_augm_final))]\n",
    "print(params_log)\n",
    "\n",
    "fwrite(params_log, \"resumen_resultados.csv\")\n",
    "\n",
    "end_time <- Sys.time()\n",
    "cat(\"Tiempo total de ejecución:\", round(difftime(end_time, start_time, units = \"secs\"), 2), \"segundos\\n\")"
   ]
  }
 ],
 "metadata": {
  "kernelspec": {
   "display_name": "R",
   "language": "R",
   "name": "ir"
  },
  "language_info": {
   "codemirror_mode": "r",
   "file_extension": ".r",
   "mimetype": "text/x-r-source",
   "name": "R",
   "pygments_lexer": "r",
   "version": "4.4.3"
  }
 },
 "nbformat": 4,
 "nbformat_minor": 5
}
