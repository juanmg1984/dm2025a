{
 "cells": [
  {
   "cell_type": "markdown",
   "metadata": {
    "id": "0cEmzeUKFkPh"
   },
   "source": [
    "# Tarea para el Hogar 04"
   ]
  },
  {
   "cell_type": "markdown",
   "metadata": {
    "id": "nSICPpyTGQmC"
   },
   "source": [
    "Esta Tarea para el Hogar 02 se entrega el final de la cuarta clase\n",
    "<br> se espera de usted que intente avanzar con los desafios propuestos y que los traiga terminados para la Clase 05 que será el viernes 01-agosto"
   ]
  },
  {
   "cell_type": "markdown",
   "metadata": {
    "id": "DenyKXkiJ5JN"
   },
   "source": [
    "##  1. Cazatalentos"
   ]
  },
  {
   "cell_type": "markdown",
   "metadata": {
    "id": "l-K2_ZsZGrVD"
   },
   "source": [
    "En la Clase 03 nos hemos enfrentado a  \"La Maldicion del Ganandor\",  elegir el modelo con el mejor puntaje simple no suele ser la mejor estrategia.\n",
    "<br> Lea y ejecute el notebook  **src/CazaTalentos/CazaTalentos.ipynb**\n",
    "<br> en caso de interesarle, participe del Desafío Ordenamiento  que vence el sábado 02 de agosto a las 19:00"
   ]
  },
  {
   "cell_type": "markdown",
   "metadata": {
    "id": "K9GkTOk5J9t3"
   },
   "source": [
    "## 2. Hiperparámetros del LightGBM"
   ]
  },
  {
   "cell_type": "markdown",
   "metadata": {
    "id": "VmEFy0ukKL5T"
   },
   "source": [
    "Los objetivos de esta tarea son:\n",
    "\n",
    "\n",
    "*   Aumentar la rentabilidad de la campaña de marketing de retención proactiva de clientes.\n",
    "*   Generar un mejor modelo optimizando sus hiperparámetros\n",
    "*   Conceptual : investigar los mas relevantes hiperparámetros de LightGBM\n",
    "*   Familiarizarse con la Bayesian Optimization, sus largos tiempos de corrida y opciones para reducirlos\n",
    "*   Familiarizarse con el uso de máquinas virtuales de Google Colab\n",
    "*   Ver un pipeline completo de optimización de hiperparámetros y puesta en producción"
   ]
  },
  {
   "cell_type": "markdown",
   "metadata": {
    "id": "5yvlS6JQLRMd"
   },
   "source": [
    "LightGBM cuenta con mas de 60 hiperparámetros, siendo posible utilizar 40 al mismo tiempo, aunque no razonable.\n",
    "<br> La documentación oficial de los hiperparámetros de LightGBM es  https://lightgbm.readthedocs.io/en/latest/Parameters.html#core-parameters\n"
   ]
  },
  {
   "cell_type": "markdown",
   "metadata": {
    "id": "eydI4YNAsFaf"
   },
   "source": [
    "Se lo alerta sobre que una Optimizacion Bayesiana lleva varias horas de corrida, y usted deberá correr VARIAS optimizaciones para descubrir cuales parámetros conviene optimizar.\n",
    "<br> A pesar que la próxima clase es recien en viernes 01 de agosto, inicie la tarea con tiempo, aprenda a planificar estratégicamente sus corridas como un@ científ@  de datos."
   ]
  },
  {
   "cell_type": "markdown",
   "metadata": {
    "id": "RzU4S0SeMcpp"
   },
   "source": [
    "Es necesario investigar cuales son los hiperparámetros de LightGBM que vale la pena optimizar en una Bayesian Optimization, ya que los realmente utiles son apenas un reducido subconjunto.\n",
    "<br>Usted deberá investigar cuales son los hiperparámetros mas relevantes de LightGBM, su primer alternativa es preguntándole a su amigo con capacidades especiales ChatGPT o sus endogámicos familiares Claude, DeepSeek, Gemini, Grok, etc\n",
    "<br> La segunda alternativa es la propia documentación de LightGBM  https://lightgbm.readthedocs.io/en/latest/Parameters-Tuning.html\n"
   ]
  },
  {
   "cell_type": "markdown",
   "metadata": {
    "id": "LNptUgI_NWWG"
   },
   "source": [
    "Adicionalmente podra buscar información como la que proveen esta diminuta muestra aleatoria de artículos ligeros:\n",
    "*  https://medium.com/@sarahzouinina/a-deep-dive-into-lightgbm-how-to-choose-and-tune-parameters-7c584945842e\n",
    "*  https://www.kaggle.com/code/somang1418/tuning-hyperparameters-under-10-minutes-lgbm\n",
    "*  https://towardsdatascience.com/beginners-guide-to-the-must-know-lightgbm-hyperparameters-a0005a812702/\n",
    "\n",
    "\n",
    "<br>  La muestra anterior se brinda a modo de ejemplo, usted deberá buscar muuuuchas  fuentes adicionales de información\n",
    "<br> Tenga presente que LightGBM es el estado del arte en modelado predictivo para datasets estructurado, que son el 90% del trabajo del 95% de los Data Scientists en Argentina."
   ]
  },
  {
   "cell_type": "markdown",
   "metadata": {
    "id": "WpUThBojODyK"
   },
   "source": [
    "El desafío de esta tarea es:\n",
    "* Qué hiperparparámetros conviene optimizar?  Las recomendaciones de los artículos ligeros es siempre sensata?  Sus autores realmente hicieron experimentos o son siemplemente escritores de entretenimiento carente de base científica?\n",
    "* Elegidos los hiperparámetros, cual es el  <desde, hasta> que se debe utilizar en la Bayesian Optimization ?\n",
    "* Realmente vale la pena optimizar 10 o 16 hiperparámetros al mismo tiempo ?  No resulta contraproducente una búsqueda en un espacio de tal alta dimensionalidad ?"
   ]
  },
  {
   "cell_type": "markdown",
   "metadata": {
    "id": "PX0qg_c0yqob"
   },
   "source": [
    "#### 2.1  Seteo del ambiente en Google Colab"
   ]
  },
  {
   "cell_type": "markdown",
   "metadata": {
    "id": "NGY7H9xza7Zr"
   },
   "source": [
    "Esta parte se debe correr con el runtime en Python3\n",
    "<br>Ir al menu, Runtime -> Change Runtime Type -> Runtime type ->  **Python 3**"
   ]
  },
  {
   "cell_type": "markdown",
   "metadata": {
    "id": "7PupIBNba7Zr"
   },
   "source": [
    "Conectar la virtual machine donde esta corriendo Google Colab con el  Google Drive, para poder tener persistencia de archivos"
   ]
  },
  {
   "cell_type": "code",
   "execution_count": null,
   "metadata": {
    "id": "9LpZCst5a7Zs"
   },
   "outputs": [],
   "source": [
    "# primero establecer el Runtime de Python 3\n",
    "from google.colab import drive\n",
    "drive.mount('/content/.drive')"
   ]
  },
  {
   "cell_type": "markdown",
   "metadata": {
    "id": "JYC_F-wla7Zs"
   },
   "source": [
    "Para correr la siguiente celda es fundamental en Arranque en Frio haber copiado el archivo kaggle.json al Google Drive, en la carpeta indicada en el instructivo\n",
    "\n",
    "<br>los siguientes comando estan en shell script de Linux\n",
    "*   Crear las carpetas en el Google Drive\n",
    "*   \"instalar\" el archivo kaggle.json desde el Google Drive a la virtual machine para que pueda ser utilizado por la libreria  kaggle de Python\n",
    "*   Bajar el  **dataset_pequeno**  al  Google Drive  y tambien al disco local de la virtual machine que esta corriendo Google Colab\n",
    "\n"
   ]
  },
  {
   "cell_type": "code",
   "execution_count": null,
   "metadata": {
    "id": "XWLelftXa7Zt"
   },
   "outputs": [],
   "source": [
    "%%shell\n",
    "\n",
    "mkdir -p \"/content/.drive/My Drive/dm\"\n",
    "mkdir -p \"/content/buckets\"\n",
    "ln -s \"/content/.drive/My Drive/dm\" /content/buckets/b1\n",
    "\n",
    "mkdir -p ~/.kaggle\n",
    "cp /content/buckets/b1/kaggle/kaggle.json  ~/.kaggle\n",
    "chmod 600 ~/.kaggle/kaggle.json\n",
    "\n",
    "\n",
    "mkdir -p /content/buckets/b1/exp\n",
    "mkdir -p /content/buckets/b1/datasets\n",
    "mkdir -p /content/datasets\n",
    "\n",
    "\n",
    "\n",
    "archivo_origen=\"https://storage.googleapis.com/open-courses/itba2025-8d0a/dataset_pequeno.csv\"\n",
    "archivo_destino=\"/content/datasets/dataset_pequeno.csv\"\n",
    "archivo_destino_bucket=\"/content/buckets/b1/datasets/dataset_pequeno.csv\"\n",
    "\n",
    "if ! test -f $archivo_destino_bucket; then\n",
    "  wget  $archivo_origen  -O $archivo_destino_bucket\n",
    "fi\n",
    "\n",
    "\n",
    "if ! test -f $archivo_destino; then\n",
    "  cp  $archivo_destino_bucket  $archivo_destino\n",
    "fi\n"
   ]
  },
  {
   "cell_type": "markdown",
   "metadata": {
    "id": "oSKhZRToy2F7"
   },
   "source": [
    "### 2.2 Optimizacion Hiperparámetros"
   ]
  },
  {
   "cell_type": "markdown",
   "metadata": {
    "id": "2kwPpHAtSmix"
   },
   "source": [
    "Esta parte se debe correr con el runtime en lenguaje R Ir al menu, Runtime -> Change Runtime Type -> Runtime type -> R"
   ]
  },
  {
   "cell_type": "markdown",
   "metadata": {
    "id": "xp4-Bj3aYI8d"
   },
   "source": [
    "### 2.2.1 Inicio"
   ]
  },
  {
   "cell_type": "markdown",
   "metadata": {
    "id": "zy8YTZfESxeJ"
   },
   "source": [
    "limpio el ambiente de R"
   ]
  },
  {
   "cell_type": "code",
   "execution_count": 1,
   "metadata": {
    "id": "gBq__iAdQliq"
   },
   "outputs": [
    {
     "data": {
      "text/html": [
       "'Sun Jul 27 06:09:26 PM 2025'"
      ],
      "text/latex": [
       "'Sun Jul 27 06:09:26 PM 2025'"
      ],
      "text/markdown": [
       "'Sun Jul 27 06:09:26 PM 2025'"
      ],
      "text/plain": [
       "[1] \"Sun Jul 27 06:09:26 PM 2025\""
      ]
     },
     "metadata": {},
     "output_type": "display_data"
    }
   ],
   "source": [
    "format(Sys.time(), \"%a %b %d %X %Y\")"
   ]
  },
  {
   "cell_type": "code",
   "execution_count": 2,
   "metadata": {
    "id": "7rdVrBojS1IV"
   },
   "outputs": [
    {
     "data": {
      "text/html": [
       "<table class=\"dataframe\">\n",
       "<caption>A matrix: 2 × 6 of type dbl</caption>\n",
       "<thead>\n",
       "\t<tr><th></th><th scope=col>used</th><th scope=col>(Mb)</th><th scope=col>gc trigger</th><th scope=col>(Mb)</th><th scope=col>max used</th><th scope=col>(Mb)</th></tr>\n",
       "</thead>\n",
       "<tbody>\n",
       "\t<tr><th scope=row>Ncells</th><td> 656930</td><td>35.1</td><td>1439222</td><td>76.9</td><td>1431544</td><td>76.5</td></tr>\n",
       "\t<tr><th scope=row>Vcells</th><td>1225015</td><td> 9.4</td><td>8388608</td><td>64.0</td><td>1924961</td><td>14.7</td></tr>\n",
       "</tbody>\n",
       "</table>\n"
      ],
      "text/latex": [
       "A matrix: 2 × 6 of type dbl\n",
       "\\begin{tabular}{r|llllll}\n",
       "  & used & (Mb) & gc trigger & (Mb) & max used & (Mb)\\\\\n",
       "\\hline\n",
       "\tNcells &  656930 & 35.1 & 1439222 & 76.9 & 1431544 & 76.5\\\\\n",
       "\tVcells & 1225015 &  9.4 & 8388608 & 64.0 & 1924961 & 14.7\\\\\n",
       "\\end{tabular}\n"
      ],
      "text/markdown": [
       "\n",
       "A matrix: 2 × 6 of type dbl\n",
       "\n",
       "| <!--/--> | used | (Mb) | gc trigger | (Mb) | max used | (Mb) |\n",
       "|---|---|---|---|---|---|---|\n",
       "| Ncells |  656930 | 35.1 | 1439222 | 76.9 | 1431544 | 76.5 |\n",
       "| Vcells | 1225015 |  9.4 | 8388608 | 64.0 | 1924961 | 14.7 |\n",
       "\n"
      ],
      "text/plain": [
       "       used    (Mb) gc trigger (Mb) max used (Mb)\n",
       "Ncells  656930 35.1 1439222    76.9 1431544  76.5\n",
       "Vcells 1225015  9.4 8388608    64.0 1924961  14.7"
      ]
     },
     "metadata": {},
     "output_type": "display_data"
    }
   ],
   "source": [
    "# limpio la memoria\n",
    "rm(list=ls(all.names=TRUE)) # remove all objects\n",
    "gc(full=TRUE, verbose=FALSE) # garbage collection"
   ]
  },
  {
   "cell_type": "markdown",
   "metadata": {
    "id": "kuPfQ7ksjwW3"
   },
   "source": [
    "### 2.2.2 Carga de Librerias"
   ]
  },
  {
   "cell_type": "code",
   "execution_count": 3,
   "metadata": {
    "id": "lVyxLaJ1j1J_"
   },
   "outputs": [
    {
     "name": "stderr",
     "output_type": "stream",
     "text": [
      "Loading required package: data.table\n",
      "\n",
      "Loading required package: parallel\n",
      "\n",
      "Loading required package: primes\n",
      "\n",
      "Loading required package: rlist\n",
      "\n",
      "Loading required package: yaml\n",
      "\n",
      "Loading required package: lightgbm\n",
      "\n",
      "Loading required package: DiceKriging\n",
      "\n",
      "Loading required package: mlrMBO\n",
      "\n",
      "Loading required package: mlr\n",
      "\n",
      "Loading required package: ParamHelpers\n",
      "\n",
      "Loading required package: smoof\n",
      "\n",
      "Loading required package: checkmate\n",
      "\n",
      "\n",
      "Attaching package: ‘checkmate’\n",
      "\n",
      "\n",
      "The following object is masked from ‘package:DiceKriging’:\n",
      "\n",
      "    checkNames\n",
      "\n",
      "\n"
     ]
    }
   ],
   "source": [
    "# cargo las librerias que necesito\n",
    "require(\"data.table\")\n",
    "require(\"parallel\")\n",
    "\n",
    "if( !require(\"primes\") ) install.packages(\"primes\")\n",
    "require(\"primes\")\n",
    "\n",
    "if( !require(\"utils\") ) install.packages(\"utils\")\n",
    "require(\"utils\")\n",
    "\n",
    "if( !require(\"rlist\") ) install.packages(\"rlist\")\n",
    "require(\"rlist\")\n",
    "\n",
    "if( !require(\"yaml\")) install.packages(\"yaml\")\n",
    "require(\"yaml\")\n",
    "\n",
    "if( !require(\"lightgbm\") ) install.packages(\"lightgbm\")\n",
    "require(\"lightgbm\")\n",
    "\n",
    "if( !require(\"DiceKriging\") ) install.packages(\"DiceKriging\")\n",
    "require(\"DiceKriging\")\n",
    "\n",
    "if( !require(\"mlrMBO\") ) install.packages(\"mlrMBO\")\n",
    "require(\"mlrMBO\")"
   ]
  },
  {
   "cell_type": "markdown",
   "metadata": {
    "id": "Iz-6Qt6BUaA3"
   },
   "source": [
    "### 2.2.3 Definicion de Parametros"
   ]
  },
  {
   "cell_type": "markdown",
   "metadata": {
    "id": "cOdlKd7lUm2I"
   },
   "source": [
    "aqui debe cargar SU semilla primigenia\n",
    "<br>recuerde cambiar el numero de experimento en cada corrida nueva"
   ]
  },
  {
   "cell_type": "code",
   "execution_count": 4,
   "metadata": {
    "id": "ASYkebOu2mF6"
   },
   "outputs": [],
   "source": [
    "PARAM <- list()\n",
    "PARAM$experimento <- 49407\n",
    "PARAM$semilla_primigenia <- 100109\n"
   ]
  },
  {
   "cell_type": "code",
   "execution_count": 5,
   "metadata": {
    "id": "ezOhQdbA293o"
   },
   "outputs": [],
   "source": [
    "PARAM$kaggle$competencia <- \"data-mining-analista-sr-2025-a\"\n",
    "PARAM$kaggle$cortes <- seq(10000, 12000, by= 500)"
   ]
  },
  {
   "cell_type": "code",
   "execution_count": 6,
   "metadata": {
    "id": "jtB0Lub42rHO"
   },
   "outputs": [],
   "source": [
    "# un undersampling de 0.1  toma solo el 10% de los CONTINUA\n",
    "# undersampling de 1.0  implica tomar TODOS los datos\n",
    "\n",
    "PARAM$trainingstrategy$undersampling <- 0.5"
   ]
  },
  {
   "cell_type": "code",
   "execution_count": 7,
   "metadata": {
    "id": "OFxm-xiNUOJX"
   },
   "outputs": [],
   "source": [
    "# Parametros LightGBM\n",
    "\n",
    "PARAM$hyperparametertuning$xval_folds <- 5\n",
    "\n",
    "# parametros fijos del LightGBM que se pisaran con la parte variable de la BO\n",
    "PARAM$lgbm$param_fijos <-  list(\n",
    "  boosting= \"gbdt\", # puede ir  dart  , ni pruebe random_forest\n",
    "  objective= \"binary\",\n",
    "  metric= \"auc\",\n",
    "  first_metric_only= FALSE,\n",
    "  boost_from_average= TRUE,\n",
    "  feature_pre_filter= FALSE,\n",
    "  force_row_wise= TRUE, # para reducir warnings\n",
    "  verbosity= -100,\n",
    "\n",
    "  seed= PARAM$semilla_primigenia,\n",
    "\n",
    "  max_depth= 12L, # -1 significa no limitar,  por ahora lo dejo fijo\n",
    "  min_gain_to_split= 0.1, # min_gain_to_split >= 0\n",
    "  min_sum_hessian_in_leaf= 0.001, #  min_sum_hessian_in_leaf >= 0.0\n",
    "  lambda_l1= 0.5, # lambda_l1 >= 0.0\n",
    "  lambda_l2= 0.1, # lambda_l2 >= 0.0\n",
    "  max_bin= 31L, # lo debo dejar fijo, no participa de la BO\n",
    "\n",
    "  bagging_fraction= 0.5, # 0.0 < bagging_fraction <= 1.0\n",
    "  pos_bagging_fraction= 1.0, # 0.0 < pos_bagging_fraction <= 1.0\n",
    "  neg_bagging_fraction= 1.0, # 0.0 < neg_bagging_fraction <= 1.0\n",
    "  is_unbalance= FALSE, #\n",
    "  scale_pos_weight= 1.0, # scale_pos_weight > 0.0\n",
    "\n",
    "  drop_rate= 0.1, # 0.0 < neg_bagging_fraction <= 1.0\n",
    "  max_drop= 50, # <=0 means no limit\n",
    "  skip_drop= 0.5, # 0.0 <= skip_drop <= 1.0\n",
    "\n",
    "  extra_trees= FALSE,\n",
    "\n",
    "  num_iterations= 1388,\n",
    "  learning_rate= 0.010007,\n",
    "  feature_fraction= 0.8142944,\n",
    "  num_leaves= 31,\n",
    "  min_data_in_leaf= 104\n",
    ")\n"
   ]
  },
  {
   "cell_type": "markdown",
   "metadata": {
    "id": "D5Yj-JV4yvOt"
   },
   "source": [
    "Aqui se definen los hiperparámetros de LightGBM que participan de la Bayesian Optimization\n",
    "<br> si es un numero entero debe ir  makeIntegerParam\n",
    "<br> si es un numero real (con decimales) debe ir  makeNumericParam\n",
    "<br> es muy importante leer cuales son un lower y upper  permitidos y ademas razonables"
   ]
  },
  {
   "cell_type": "code",
   "execution_count": 8,
   "metadata": {
    "id": "jENpR26ZyuS8"
   },
   "outputs": [],
   "source": [
    "# Aqui se cargan los bordes de los hiperparametros de la BO\n",
    "PARAM$hypeparametertuning$hs <- makeParamSet(\n",
    "  makeIntegerParam(\"num_iterations\", lower= 600L, upper= 1500L),\n",
    "  makeNumericParam(\"learning_rate\", lower= 0.01, upper= 0.06),\n",
    "  makeNumericParam(\"feature_fraction\", lower= 0.4, upper= 0.8),\n",
    "  makeIntegerParam(\"num_leaves\", lower= 500L, upper= 1500L),\n",
    "  makeIntegerParam(\"min_data_in_leaf\", lower= 400L, upper= 1500L)\n",
    ")"
   ]
  },
  {
   "cell_type": "markdown",
   "metadata": {
    "id": "-_RPFUb3zMoW"
   },
   "source": [
    "A mayor cantidad de hiperparámetros, se debe aumentar las iteraciones de la Bayesian Optimization\n",
    "<br> 30 es un valor muy tacaño, pero corre rápido\n",
    "<br> deberia partir de 50, alcanzando los 100 si se dispone de tiempo"
   ]
  },
  {
   "cell_type": "code",
   "execution_count": 9,
   "metadata": {
    "id": "q5Rd3pnbzSiG"
   },
   "outputs": [],
   "source": [
    "PARAM$hyperparametertuning$iteraciones <- 100 # iteraciones bayesianas"
   ]
  },
  {
   "cell_type": "markdown",
   "metadata": {
    "id": "4RWZXL1VZjMI"
   },
   "source": [
    "### 2.2.4  Preprocesamiento"
   ]
  },
  {
   "cell_type": "code",
   "execution_count": 10,
   "metadata": {
    "id": "j3toG9-lZm4K"
   },
   "outputs": [],
   "source": [
    "# carpeta de trabajo\n",
    "\n",
    "setwd(\"/content/buckets/b1/exp\")\n",
    "experimento_folder <- paste0(\"HT\", PARAM$experimento)\n",
    "dir.create(experimento_folder, showWarnings=FALSE)\n",
    "setwd( paste0(\"/content/buckets/b1/exp/\", experimento_folder ))"
   ]
  },
  {
   "cell_type": "code",
   "execution_count": 11,
   "metadata": {
    "id": "FM3lxKoLZ643"
   },
   "outputs": [],
   "source": [
    "# lectura del dataset\n",
    "\n",
    "dataset <- fread(\"/content/datasets/dataset_pequeno.csv\")"
   ]
  },
  {
   "cell_type": "code",
   "execution_count": 12,
   "metadata": {
    "id": "OsJ-91UeZ-I_"
   },
   "outputs": [],
   "source": [
    "dataset_train <- dataset[foto_mes %in% c(202107)]"
   ]
  },
  {
   "cell_type": "code",
   "execution_count": 13,
   "metadata": {
    "id": "vrWE7BE0aB2J"
   },
   "outputs": [],
   "source": [
    "# paso la clase a binaria que tome valores {0,1}  enteros\n",
    "#  BAJA+1 y BAJA+2  son  1,   CONTINUA es 0\n",
    "\n",
    "dataset_train[,\n",
    "  clase01 := ifelse(clase_ternaria %in% c(\"BAJA+2\",\"BAJA+1\"), 1L, 0L)\n",
    "]"
   ]
  },
  {
   "cell_type": "code",
   "execution_count": 14,
   "metadata": {
    "id": "jP7YlQBnaW6W"
   },
   "outputs": [],
   "source": [
    "# defino los datos que forma parte del training\n",
    "# aqui se hace el undersampling de los CONTINUA\n",
    "# notar que para esto utilizo la SEGUNDA semilla\n",
    "\n",
    "set.seed(PARAM$semilla_primigenia, kind = \"L'Ecuyer-CMRG\")\n",
    "dataset_train[, azar := runif(nrow(dataset_train))]\n",
    "dataset_train[, training := 0L]\n",
    "\n",
    "dataset_train[\n",
    "  foto_mes %in% c(202107) &\n",
    "    (azar <= PARAM$trainingstrategy$undersampling | clase_ternaria %in% c(\"BAJA+1\", \"BAJA+2\")),\n",
    "  training := 1L\n",
    "]"
   ]
  },
  {
   "cell_type": "code",
   "execution_count": 15,
   "metadata": {
    "id": "xElu4s5W4rX7"
   },
   "outputs": [],
   "source": [
    "# los campos que se van a utilizar\n",
    "\n",
    "campos_buenos <- setdiff(\n",
    "  colnames(dataset_train),\n",
    "  c(\"clase_ternaria\", \"clase01\", \"azar\", \"training\")\n",
    ")"
   ]
  },
  {
   "cell_type": "code",
   "execution_count": 16,
   "metadata": {
    "id": "PppMHcGYaaol"
   },
   "outputs": [
    {
     "data": {
      "text/html": [
       "83273"
      ],
      "text/latex": [
       "83273"
      ],
      "text/markdown": [
       "83273"
      ],
      "text/plain": [
       "[1] 83273"
      ]
     },
     "metadata": {},
     "output_type": "display_data"
    },
    {
     "data": {
      "text/html": [
       "154"
      ],
      "text/latex": [
       "154"
      ],
      "text/markdown": [
       "154"
      ],
      "text/plain": [
       "[1] 154"
      ]
     },
     "metadata": {},
     "output_type": "display_data"
    }
   ],
   "source": [
    "# dejo los datos en el formato que necesita LightGBM\n",
    "\n",
    "dtrain <- lgb.Dataset(\n",
    "  data= data.matrix(dataset_train[training == 1L, campos_buenos, with= FALSE]),\n",
    "  label= dataset_train[training == 1L, clase01],\n",
    "  free_raw_data= FALSE\n",
    ")\n",
    "\n",
    "nrow(dtrain)\n",
    "ncol(dtrain)"
   ]
  },
  {
   "cell_type": "markdown",
   "metadata": {
    "id": "Ta-EkOu3cphF"
   },
   "source": [
    "2.2.5 Configuracion Bayesian Optimization"
   ]
  },
  {
   "cell_type": "code",
   "execution_count": 17,
   "metadata": {
    "id": "cjgfurjdfiXb"
   },
   "outputs": [],
   "source": [
    "# En el argumento x llegan los parmaetros de la bayesiana\n",
    "#  devuelve la AUC en cross validation del modelo entrenado\n",
    "\n",
    "EstimarGanancia_AUC_lightgbm <- function(x) {\n",
    "\n",
    "  # x pisa (o agrega) a param_fijos\n",
    "  param_completo <- modifyList(PARAM$lgbm$param_fijos, x)\n",
    "\n",
    "  # entreno LightGBM\n",
    "  modelocv <- lgb.cv(\n",
    "    data= dtrain,\n",
    "    nfold= PARAM$hyperparametertuning$xval_folds,\n",
    "    stratified= TRUE,\n",
    "    param= param_completo\n",
    "  )\n",
    "\n",
    "  # obtengo la ganancia\n",
    "  AUC <- modelocv$best_score\n",
    "\n",
    "  # hago espacio en la memoria\n",
    "  rm(modelocv)\n",
    "  gc(full= TRUE, verbose= FALSE)\n",
    "\n",
    "  message(format(Sys.time(), \"%a %b %d %X %Y\"), \" AUC \", AUC)\n",
    "\n",
    "  return(AUC)\n",
    "}"
   ]
  },
  {
   "cell_type": "code",
   "execution_count": 18,
   "metadata": {
    "id": "WLi_o1hocvN-"
   },
   "outputs": [],
   "source": [
    "# Aqui comienza la configuracion de la Bayesian Optimization\n",
    "\n",
    "# en este archivo quedan la evolucion binaria de la BO\n",
    "kbayesiana <- \"bayesiana.RDATA\"\n",
    "\n",
    "funcion_optimizar <- EstimarGanancia_AUC_lightgbm # la funcion que voy a maximizar\n",
    "\n",
    "configureMlr(show.learner.output= FALSE)\n",
    "\n",
    "# configuro la busqueda bayesiana,  los hiperparametros que se van a optimizar\n",
    "# por favor, no desesperarse por lo complejo\n",
    "\n",
    "obj.fun <- makeSingleObjectiveFunction(\n",
    "  fn= funcion_optimizar, # la funcion que voy a maximizar\n",
    "  minimize= FALSE, # estoy Maximizando la ganancia\n",
    "  noisy= TRUE,\n",
    "  par.set= PARAM$hypeparametertuning$hs, # definido al comienzo del programa\n",
    "  has.simple.signature= FALSE # paso los parametros en una lista\n",
    ")\n",
    "\n",
    "# cada 600 segundos guardo el resultado intermedio\n",
    "ctrl <- makeMBOControl(\n",
    "  save.on.disk.at.time= 600, # se graba cada 600 segundos\n",
    "  save.file.path= kbayesiana\n",
    ") # se graba cada 600 segundos\n",
    "\n",
    "# indico la cantidad de iteraciones que va a tener la Bayesian Optimization\n",
    "ctrl <- setMBOControlTermination(\n",
    "  ctrl,\n",
    "  iters= PARAM$hyperparametertuning$iteraciones\n",
    ") # cantidad de iteraciones\n",
    "\n",
    "# defino el método estandar para la creacion de los puntos iniciales,\n",
    "# los \"No Inteligentes\"\n",
    "ctrl <- setMBOControlInfill(ctrl, crit= makeMBOInfillCritEI())\n",
    "\n",
    "# establezco la funcion que busca el maximo\n",
    "surr.km <- makeLearner(\n",
    "  \"regr.km\",\n",
    "  predict.type= \"se\",\n",
    "  covtype= \"matern3_2\",\n",
    "  control= list(trace= TRUE)\n",
    ")\n"
   ]
  },
  {
   "cell_type": "markdown",
   "metadata": {
    "id": "_uUeVo5pc4zc"
   },
   "source": [
    "2.2.6 Corrida Bayesian Optimization"
   ]
  },
  {
   "cell_type": "code",
   "execution_count": 19,
   "metadata": {
    "id": "RcABNaKGciaz"
   },
   "outputs": [
    {
     "name": "stderr",
     "output_type": "stream",
     "text": [
      "Computing y column(s) for design. Not provided.\n",
      "\n",
      "Sun Jul 27 06:17:22 PM 2025 AUC 0.929404739145634\n",
      "\n",
      "Sun Jul 27 06:18:16 PM 2025 AUC 0.928731110831685\n",
      "\n",
      "Sun Jul 27 06:18:55 PM 2025 AUC 0.928502857103109\n",
      "\n",
      "Sun Jul 27 06:20:05 PM 2025 AUC 0.928714281096615\n",
      "\n",
      "Sun Jul 27 06:21:02 PM 2025 AUC 0.92782047010543\n",
      "\n",
      "Sun Jul 27 06:22:30 PM 2025 AUC 0.929629045650866\n",
      "\n",
      "Sun Jul 27 06:23:27 PM 2025 AUC 0.929788830621105\n",
      "\n",
      "Sun Jul 27 06:24:33 PM 2025 AUC 0.930149809212041\n",
      "\n",
      "Sun Jul 27 06:25:25 PM 2025 AUC 0.927281038489849\n",
      "\n",
      "Sun Jul 27 06:27:09 PM 2025 AUC 0.92876049391459\n",
      "\n",
      "Sun Jul 27 06:27:52 PM 2025 AUC 0.927859631111649\n",
      "\n",
      "Sun Jul 27 06:29:12 PM 2025 AUC 0.929728218793356\n",
      "\n",
      "Sun Jul 27 06:30:40 PM 2025 AUC 0.929217003745262\n",
      "\n",
      "Sun Jul 27 06:31:18 PM 2025 AUC 0.929260367135387\n",
      "\n",
      "Sun Jul 27 06:32:31 PM 2025 AUC 0.929075431541295\n",
      "\n",
      "Sun Jul 27 06:33:21 PM 2025 AUC 0.928313881564908\n",
      "\n",
      "Sun Jul 27 06:35:25 PM 2025 AUC 0.928137424599916\n",
      "\n",
      "Sun Jul 27 06:36:41 PM 2025 AUC 0.929409922482557\n",
      "\n",
      "Sun Jul 27 06:37:41 PM 2025 AUC 0.929964930125067\n",
      "\n",
      "Sun Jul 27 06:38:14 PM 2025 AUC 0.930041148911903\n",
      "\n",
      "[mbo] 0: num_iterations=1432; learning_rate=0.0292; feature_fraction=0.502; num_leaves=1171; min_data_in_leaf=622 : y = 0.929 : 105.1 secs : initdesign\n",
      "\n",
      "[mbo] 0: num_iterations=980; learning_rate=0.0242; feature_fraction=0.612; num_leaves=1103; min_data_in_leaf=1051 : y = 0.929 : 54.0 secs : initdesign\n",
      "\n",
      "[mbo] 0: num_iterations=1388; learning_rate=0.0508; feature_fraction=0.64; num_leaves=1351; min_data_in_leaf=981 : y = 0.929 : 38.4 secs : initdesign\n",
      "\n",
      "[mbo] 0: num_iterations=1054; learning_rate=0.0185; feature_fraction=0.552; num_leaves=969; min_data_in_leaf=1168 : y = 0.929 : 70.6 secs : initdesign\n",
      "\n",
      "[mbo] 0: num_iterations=1248; learning_rate=0.0414; feature_fraction=0.713; num_leaves=1060; min_data_in_leaf=1348 : y = 0.928 : 57.0 secs : initdesign\n",
      "\n",
      "[mbo] 0: num_iterations=1229; learning_rate=0.0387; feature_fraction=0.457; num_leaves=738; min_data_in_leaf=778 : y = 0.93 : 87.6 secs : initdesign\n",
      "\n",
      "[mbo] 0: num_iterations=959; learning_rate=0.0445; feature_fraction=0.664; num_leaves=927; min_data_in_leaf=608 : y = 0.93 : 57.4 secs : initdesign\n",
      "\n",
      "[mbo] 0: num_iterations=765; learning_rate=0.0319; feature_fraction=0.436; num_leaves=893; min_data_in_leaf=460 : y = 0.93 : 65.8 secs : initdesign\n",
      "\n",
      "[mbo] 0: num_iterations=705; learning_rate=0.0496; feature_fraction=0.581; num_leaves=813; min_data_in_leaf=1106 : y = 0.927 : 52.5 secs : initdesign\n",
      "\n",
      "[mbo] 0: num_iterations=1314; learning_rate=0.0353; feature_fraction=0.417; num_leaves=783; min_data_in_leaf=1445 : y = 0.929 : 103.2 secs : initdesign\n",
      "\n",
      "[mbo] 0: num_iterations=1476; learning_rate=0.0527; feature_fraction=0.748; num_leaves=650; min_data_in_leaf=929 : y = 0.928 : 43.8 secs : initdesign\n",
      "\n",
      "[mbo] 0: num_iterations=846; learning_rate=0.0159; feature_fraction=0.693; num_leaves=1045; min_data_in_leaf=452 : y = 0.93 : 79.3 secs : initdesign\n",
      "\n",
      "[mbo] 0: num_iterations=913; learning_rate=0.0136; feature_fraction=0.762; num_leaves=1406; min_data_in_leaf=1330 : y = 0.929 : 88.3 secs : initdesign\n",
      "\n",
      "[mbo] 0: num_iterations=617; learning_rate=0.0265; feature_fraction=0.724; num_leaves=664; min_data_in_leaf=1203 : y = 0.929 : 37.6 secs : initdesign\n",
      "\n",
      "[mbo] 0: num_iterations=1139; learning_rate=0.0339; feature_fraction=0.486; num_leaves=1219; min_data_in_leaf=692 : y = 0.929 : 73.6 secs : initdesign\n",
      "\n",
      "[mbo] 0: num_iterations=809; learning_rate=0.0578; feature_fraction=0.523; num_leaves=1495; min_data_in_leaf=1251 : y = 0.928 : 49.6 secs : initdesign\n",
      "\n",
      "[mbo] 0: num_iterations=1321; learning_rate=0.0208; feature_fraction=0.574; num_leaves=1294; min_data_in_leaf=1464 : y = 0.928 : 124.2 secs : initdesign\n",
      "\n",
      "[mbo] 0: num_iterations=663; learning_rate=0.056; feature_fraction=0.631; num_leaves=534; min_data_in_leaf=533 : y = 0.929 : 75.8 secs : initdesign\n",
      "\n",
      "[mbo] 0: num_iterations=1016; learning_rate=0.0101; feature_fraction=0.47; num_leaves=578; min_data_in_leaf=859 : y = 0.93 : 60.3 secs : initdesign\n",
      "\n",
      "[mbo] 0: num_iterations=1152; learning_rate=0.0474; feature_fraction=0.798; num_leaves=1308; min_data_in_leaf=829 : y = 0.93 : 33.0 secs : initdesign\n",
      "\n",
      "Saved the current state after iteration 1 in the file bayesiana.RDATA.\n",
      "\n",
      "Sun Jul 27 06:39:02 PM 2025 AUC 0.929990733679077\n",
      "\n",
      "[mbo] 1: num_iterations=1010; learning_rate=0.0255; feature_fraction=0.774; num_leaves=1212; min_data_in_leaf=830 : y = 0.93 : 43.9 secs : infill_ei\n",
      "\n",
      "Sun Jul 27 06:39:33 PM 2025 AUC 0.928852219586714\n",
      "\n",
      "[mbo] 2: num_iterations=879; learning_rate=0.0416; feature_fraction=0.8; num_leaves=1481; min_data_in_leaf=671 : y = 0.929 : 30.5 secs : infill_ei\n",
      "\n",
      "Sun Jul 27 06:40:27 PM 2025 AUC 0.930129389114367\n",
      "\n",
      "[mbo] 3: num_iterations=895; learning_rate=0.0118; feature_fraction=0.445; num_leaves=671; min_data_in_leaf=580 : y = 0.93 : 53.5 secs : infill_ei\n",
      "\n",
      "Sun Jul 27 06:41:25 PM 2025 AUC 0.929457390694804\n",
      "\n",
      "[mbo] 4: num_iterations=864; learning_rate=0.0238; feature_fraction=0.4; num_leaves=841; min_data_in_leaf=499 : y = 0.929 : 58.1 secs : infill_ei\n",
      "\n",
      "Sun Jul 27 06:42:53 PM 2025 AUC 0.930030317847228\n",
      "\n",
      "[mbo] 5: num_iterations=824; learning_rate=0.0154; feature_fraction=0.458; num_leaves=818; min_data_in_leaf=489 : y = 0.93 : 87.0 secs : infill_ei\n",
      "\n",
      "Sun Jul 27 06:43:42 PM 2025 AUC 0.930380634505626\n",
      "\n",
      "[mbo] 6: num_iterations=658; learning_rate=0.0278; feature_fraction=0.797; num_leaves=583; min_data_in_leaf=776 : y = 0.93 : 48.2 secs : infill_ei\n",
      "\n",
      "Sun Jul 27 06:44:19 PM 2025 AUC 0.929943769240337\n",
      "\n",
      "[mbo] 7: num_iterations=693; learning_rate=0.0196; feature_fraction=0.663; num_leaves=502; min_data_in_leaf=784 : y = 0.93 : 36.0 secs : infill_ei\n",
      "\n",
      "Sun Jul 27 06:45:16 PM 2025 AUC 0.929857199767953\n",
      "\n",
      "[mbo] 8: num_iterations=709; learning_rate=0.0145; feature_fraction=0.8; num_leaves=839; min_data_in_leaf=915 : y = 0.93 : 57.0 secs : infill_ei\n",
      "\n",
      "Sun Jul 27 06:46:36 PM 2025 AUC 0.929033656314184\n",
      "\n",
      "[mbo] 9: num_iterations=679; learning_rate=0.0306; feature_fraction=0.73; num_leaves=502; min_data_in_leaf=438 : y = 0.929 : 79.2 secs : infill_ei\n",
      "\n",
      "Sun Jul 27 06:48:34 PM 2025 AUC 0.930819840022817\n",
      "\n",
      "[mbo] 10: num_iterations=749; learning_rate=0.0225; feature_fraction=0.466; num_leaves=572; min_data_in_leaf=611 : y = 0.931 : 116.7 secs : infill_ei\n",
      "\n",
      "Saved the current state after iteration 11 in the file bayesiana.RDATA.\n",
      "\n",
      "Sun Jul 27 06:49:27 PM 2025 AUC 0.928916987847377\n",
      "\n",
      "[mbo] 11: num_iterations=604; learning_rate=0.0258; feature_fraction=0.481; num_leaves=502; min_data_in_leaf=604 : y = 0.929 : 47.9 secs : infill_ei\n",
      "\n",
      "Sun Jul 27 06:50:11 PM 2025 AUC 0.928612185851167\n",
      "\n",
      "[mbo] 12: num_iterations=1229; learning_rate=0.0473; feature_fraction=0.794; num_leaves=732; min_data_in_leaf=891 : y = 0.929 : 43.8 secs : infill_ei\n",
      "\n",
      "Sun Jul 27 06:51:19 PM 2025 AUC 0.92982317087587\n",
      "\n",
      "[mbo] 13: num_iterations=781; learning_rate=0.0281; feature_fraction=0.501; num_leaves=841; min_data_in_leaf=605 : y = 0.93 : 67.0 secs : infill_ei\n",
      "\n",
      "Sun Jul 27 06:51:56 PM 2025 AUC 0.929239394648486\n",
      "\n",
      "[mbo] 14: num_iterations=784; learning_rate=0.0196; feature_fraction=0.705; num_leaves=589; min_data_in_leaf=678 : y = 0.929 : 37.0 secs : infill_ei\n",
      "\n",
      "Sun Jul 27 06:52:39 PM 2025 AUC 0.929170375123966\n",
      "\n",
      "[mbo] 15: num_iterations=689; learning_rate=0.0221; feature_fraction=0.43; num_leaves=520; min_data_in_leaf=706 : y = 0.929 : 42.2 secs : infill_ei\n",
      "\n",
      "Sun Jul 27 06:54:13 PM 2025 AUC 0.92909809125164\n",
      "\n",
      "[mbo] 16: num_iterations=1107; learning_rate=0.0152; feature_fraction=0.735; num_leaves=1256; min_data_in_leaf=1438 : y = 0.929 : 93.5 secs : infill_ei\n",
      "\n",
      "Sun Jul 27 06:55:01 PM 2025 AUC 0.929810406869766\n",
      "\n",
      "[mbo] 17: num_iterations=757; learning_rate=0.0423; feature_fraction=0.468; num_leaves=741; min_data_in_leaf=450 : y = 0.93 : 47.1 secs : infill_ei\n",
      "\n",
      "Sun Jul 27 06:57:01 PM 2025 AUC 0.929250697766237\n",
      "\n",
      "[mbo] 18: num_iterations=764; learning_rate=0.0199; feature_fraction=0.463; num_leaves=618; min_data_in_leaf=904 : y = 0.929 : 119.1 secs : infill_ei\n",
      "\n",
      "Sun Jul 27 06:59:01 PM 2025 AUC 0.929199619521595\n",
      "\n",
      "[mbo] 19: num_iterations=672; learning_rate=0.0378; feature_fraction=0.509; num_leaves=1142; min_data_in_leaf=1079 : y = 0.929 : 119.5 secs : infill_ei\n",
      "\n",
      "Saved the current state after iteration 20 in the file bayesiana.RDATA.\n",
      "\n",
      "Sun Jul 27 07:00:57 PM 2025 AUC 0.927773604775927\n",
      "\n",
      "[mbo] 20: num_iterations=1182; learning_rate=0.0579; feature_fraction=0.615; num_leaves=1241; min_data_in_leaf=941 : y = 0.928 : 110.6 secs : infill_ei\n",
      "\n",
      "Sun Jul 27 07:02:54 PM 2025 AUC 0.927771171966543\n",
      "\n",
      "[mbo] 21: num_iterations=1189; learning_rate=0.0538; feature_fraction=0.629; num_leaves=620; min_data_in_leaf=1132 : y = 0.928 : 116.8 secs : infill_ei\n",
      "\n",
      "Sun Jul 27 07:04:48 PM 2025 AUC 0.930792698769002\n",
      "\n",
      "[mbo] 22: num_iterations=694; learning_rate=0.0502; feature_fraction=0.43; num_leaves=1065; min_data_in_leaf=524 : y = 0.931 : 112.9 secs : infill_ei\n",
      "\n",
      "Sun Jul 27 07:06:23 PM 2025 AUC 0.93008950530964\n",
      "\n",
      "[mbo] 23: num_iterations=1138; learning_rate=0.0227; feature_fraction=0.464; num_leaves=586; min_data_in_leaf=583 : y = 0.93 : 94.1 secs : infill_ei\n",
      "\n",
      "Sun Jul 27 07:07:09 PM 2025 AUC 0.930473144494319\n",
      "\n",
      "[mbo] 24: num_iterations=747; learning_rate=0.0253; feature_fraction=0.451; num_leaves=901; min_data_in_leaf=572 : y = 0.93 : 45.6 secs : infill_ei\n",
      "\n",
      "Sun Jul 27 07:09:28 PM 2025 AUC 0.929498889052321\n",
      "\n",
      "[mbo] 25: num_iterations=738; learning_rate=0.0313; feature_fraction=0.46; num_leaves=570; min_data_in_leaf=403 : y = 0.929 : 137.7 secs : infill_ei\n",
      "\n",
      "Saved the current state after iteration 26 in the file bayesiana.RDATA.\n",
      "\n",
      "Sun Jul 27 07:11:23 PM 2025 AUC 0.930408020344217\n",
      "\n",
      "[mbo] 26: num_iterations=812; learning_rate=0.0157; feature_fraction=0.432; num_leaves=730; min_data_in_leaf=613 : y = 0.93 : 111.0 secs : infill_ei\n",
      "\n",
      "Sun Jul 27 07:13:25 PM 2025 AUC 0.930071816822188\n",
      "\n",
      "[mbo] 27: num_iterations=798; learning_rate=0.047; feature_fraction=0.463; num_leaves=526; min_data_in_leaf=610 : y = 0.93 : 121.3 secs : infill_ei\n",
      "\n",
      "Sun Jul 27 07:15:42 PM 2025 AUC 0.929787296724909\n",
      "\n",
      "[mbo] 28: num_iterations=816; learning_rate=0.0401; feature_fraction=0.454; num_leaves=1169; min_data_in_leaf=522 : y = 0.93 : 135.6 secs : infill_ei\n",
      "\n",
      "Sun Jul 27 07:17:49 PM 2025 AUC 0.930416277346831\n",
      "\n",
      "[mbo] 29: num_iterations=748; learning_rate=0.0232; feature_fraction=0.476; num_leaves=698; min_data_in_leaf=455 : y = 0.93 : 126.2 secs : infill_ei\n",
      "\n",
      "Sun Jul 27 07:19:19 PM 2025 AUC 0.930403876536264\n",
      "\n",
      "[mbo] 30: num_iterations=804; learning_rate=0.0114; feature_fraction=0.469; num_leaves=696; min_data_in_leaf=601 : y = 0.93 : 89.5 secs : infill_ei\n",
      "\n",
      "Sun Jul 27 07:20:34 PM 2025 AUC 0.929945936705729\n",
      "\n",
      "[mbo] 31: num_iterations=753; learning_rate=0.0195; feature_fraction=0.453; num_leaves=622; min_data_in_leaf=561 : y = 0.93 : 73.8 secs : infill_ei\n",
      "\n",
      "Saved the current state after iteration 32 in the file bayesiana.RDATA.\n",
      "\n",
      "Sun Jul 27 07:21:50 PM 2025 AUC 0.929231056528983\n",
      "\n",
      "[mbo] 32: num_iterations=767; learning_rate=0.0368; feature_fraction=0.533; num_leaves=678; min_data_in_leaf=435 : y = 0.929 : 71.9 secs : infill_ei\n",
      "\n",
      "Sun Jul 27 07:23:25 PM 2025 AUC 0.9304608763455\n",
      "\n",
      "[mbo] 33: num_iterations=1001; learning_rate=0.0109; feature_fraction=0.432; num_leaves=1087; min_data_in_leaf=553 : y = 0.93 : 94.9 secs : infill_ei\n",
      "\n",
      "Sun Jul 27 07:24:29 PM 2025 AUC 0.929327235823171\n",
      "\n",
      "[mbo] 34: num_iterations=807; learning_rate=0.0212; feature_fraction=0.769; num_leaves=700; min_data_in_leaf=611 : y = 0.929 : 63.1 secs : infill_ei\n",
      "\n",
      "Sun Jul 27 07:25:31 PM 2025 AUC 0.929445116177193\n",
      "\n",
      "[mbo] 35: num_iterations=835; learning_rate=0.0473; feature_fraction=0.432; num_leaves=978; min_data_in_leaf=810 : y = 0.929 : 61.1 secs : infill_ei\n",
      "\n",
      "Sun Jul 27 07:26:17 PM 2025 AUC 0.929448713204611\n",
      "\n",
      "[mbo] 36: num_iterations=730; learning_rate=0.0271; feature_fraction=0.447; num_leaves=1032; min_data_in_leaf=612 : y = 0.929 : 45.4 secs : infill_ei\n",
      "\n",
      "Sun Jul 27 07:27:09 PM 2025 AUC 0.930410360574782\n",
      "\n",
      "[mbo] 37: num_iterations=834; learning_rate=0.0186; feature_fraction=0.48; num_leaves=568; min_data_in_leaf=599 : y = 0.93 : 50.8 secs : infill_ei\n",
      "\n",
      "Sun Jul 27 07:27:57 PM 2025 AUC 0.930349859606015\n",
      "\n",
      "[mbo] 38: num_iterations=734; learning_rate=0.0215; feature_fraction=0.468; num_leaves=931; min_data_in_leaf=539 : y = 0.93 : 47.4 secs : infill_ei\n",
      "\n",
      "Sun Jul 27 07:28:54 PM 2025 AUC 0.930982326533418\n",
      "\n",
      "[mbo] 39: num_iterations=860; learning_rate=0.0472; feature_fraction=0.428; num_leaves=1054; min_data_in_leaf=513 : y = 0.931 : 56.1 secs : infill_ei\n",
      "\n",
      "Sun Jul 27 07:29:48 PM 2025 AUC 0.929662568376399\n",
      "\n",
      "[mbo] 40: num_iterations=865; learning_rate=0.0269; feature_fraction=0.46; num_leaves=599; min_data_in_leaf=629 : y = 0.93 : 53.6 secs : infill_ei\n",
      "\n",
      "Sun Jul 27 07:30:19 PM 2025 AUC 0.92882076320049\n",
      "\n",
      "[mbo] 41: num_iterations=648; learning_rate=0.0342; feature_fraction=0.795; num_leaves=742; min_data_in_leaf=643 : y = 0.929 : 29.7 secs : infill_ei\n",
      "\n",
      "Sun Jul 27 07:31:07 PM 2025 AUC 0.93059314481849\n",
      "\n",
      "[mbo] 42: num_iterations=931; learning_rate=0.0479; feature_fraction=0.434; num_leaves=702; min_data_in_leaf=519 : y = 0.931 : 47.3 secs : infill_ei\n",
      "\n",
      "Saved the current state after iteration 43 in the file bayesiana.RDATA.\n",
      "\n",
      "Sun Jul 27 07:31:51 PM 2025 AUC 0.92939647774626\n",
      "\n",
      "[mbo] 43: num_iterations=897; learning_rate=0.0141; feature_fraction=0.654; num_leaves=934; min_data_in_leaf=722 : y = 0.929 : 39.5 secs : infill_ei\n",
      "\n",
      "Sun Jul 27 07:32:51 PM 2025 AUC 0.929160111839355\n",
      "\n",
      "[mbo] 44: num_iterations=1242; learning_rate=0.0471; feature_fraction=0.42; num_leaves=1068; min_data_in_leaf=527 : y = 0.929 : 59.5 secs : infill_ei\n",
      "\n",
      "Sun Jul 27 07:33:36 PM 2025 AUC 0.930005298706429\n",
      "\n",
      "[mbo] 45: num_iterations=798; learning_rate=0.0449; feature_fraction=0.426; num_leaves=1082; min_data_in_leaf=521 : y = 0.93 : 43.7 secs : infill_ei\n",
      "\n",
      "Sun Jul 27 07:34:17 PM 2025 AUC 0.930310149064064\n",
      "\n",
      "[mbo] 46: num_iterations=762; learning_rate=0.0495; feature_fraction=0.427; num_leaves=1046; min_data_in_leaf=872 : y = 0.93 : 40.3 secs : infill_ei\n",
      "\n",
      "Sun Jul 27 07:35:03 PM 2025 AUC 0.928781115639023\n",
      "\n",
      "[mbo] 47: num_iterations=853; learning_rate=0.0496; feature_fraction=0.441; num_leaves=1113; min_data_in_leaf=502 : y = 0.929 : 45.1 secs : infill_ei\n",
      "\n",
      "Sun Jul 27 07:35:37 PM 2025 AUC 0.93028053039282\n",
      "\n",
      "[mbo] 48: num_iterations=698; learning_rate=0.0316; feature_fraction=0.608; num_leaves=868; min_data_in_leaf=891 : y = 0.93 : 33.7 secs : infill_ei\n",
      "\n",
      "Sun Jul 27 07:36:26 PM 2025 AUC 0.930195933686045\n",
      "\n",
      "[mbo] 49: num_iterations=770; learning_rate=0.0276; feature_fraction=0.431; num_leaves=1051; min_data_in_leaf=531 : y = 0.93 : 48.1 secs : infill_ei\n",
      "\n",
      "Sun Jul 27 07:37:08 PM 2025 AUC 0.929424424473589\n",
      "\n",
      "[mbo] 50: num_iterations=805; learning_rate=0.0537; feature_fraction=0.427; num_leaves=1051; min_data_in_leaf=540 : y = 0.929 : 41.0 secs : infill_ei\n",
      "\n",
      "Sun Jul 27 07:38:25 PM 2025 AUC 0.92854828267804\n",
      "\n",
      "[mbo] 51: num_iterations=1241; learning_rate=0.0439; feature_fraction=0.572; num_leaves=1174; min_data_in_leaf=1386 : y = 0.929 : 76.1 secs : infill_ei\n",
      "\n",
      "Sun Jul 27 07:39:17 PM 2025 AUC 0.929868567860637\n",
      "\n",
      "[mbo] 52: num_iterations=1123; learning_rate=0.0239; feature_fraction=0.74; num_leaves=912; min_data_in_leaf=605 : y = 0.93 : 50.5 secs : infill_ei\n",
      "\n",
      "Sun Jul 27 07:39:58 PM 2025 AUC 0.9289176923014\n",
      "\n",
      "[mbo] 53: num_iterations=1086; learning_rate=0.0329; feature_fraction=0.719; num_leaves=917; min_data_in_leaf=1414 : y = 0.929 : 41.1 secs : infill_ei\n",
      "\n",
      "Sun Jul 27 07:41:10 PM 2025 AUC 0.929136459948845\n",
      "\n",
      "[mbo] 54: num_iterations=670; learning_rate=0.0143; feature_fraction=0.488; num_leaves=735; min_data_in_leaf=1455 : y = 0.929 : 70.5 secs : infill_ei\n",
      "\n",
      "Sun Jul 27 07:43:06 PM 2025 AUC 0.929466560881486\n",
      "\n",
      "[mbo] 55: num_iterations=641; learning_rate=0.0328; feature_fraction=0.533; num_leaves=835; min_data_in_leaf=400 : y = 0.929 : 115.5 secs : infill_ei\n",
      "\n",
      "Saved the current state after iteration 56 in the file bayesiana.RDATA.\n",
      "\n",
      "Sun Jul 27 07:44:37 PM 2025 AUC 0.92990602759427\n",
      "\n",
      "[mbo] 56: num_iterations=891; learning_rate=0.0473; feature_fraction=0.425; num_leaves=984; min_data_in_leaf=457 : y = 0.93 : 86.3 secs : infill_ei\n",
      "\n",
      "Sun Jul 27 07:45:39 PM 2025 AUC 0.930247369685068\n",
      "\n",
      "[mbo] 57: num_iterations=894; learning_rate=0.0475; feature_fraction=0.408; num_leaves=749; min_data_in_leaf=514 : y = 0.93 : 61.6 secs : infill_ei\n",
      "\n",
      "Sun Jul 27 07:47:30 PM 2025 AUC 0.930387767914066\n",
      "\n",
      "[mbo] 58: num_iterations=930; learning_rate=0.0457; feature_fraction=0.461; num_leaves=1044; min_data_in_leaf=515 : y = 0.93 : 110.1 secs : infill_ei\n",
      "\n",
      "Sun Jul 27 07:49:05 PM 2025 AUC 0.930164680423991\n",
      "\n",
      "[mbo] 59: num_iterations=722; learning_rate=0.0267; feature_fraction=0.671; num_leaves=1060; min_data_in_leaf=813 : y = 0.93 : 93.7 secs : infill_ei\n",
      "\n",
      "Sun Jul 27 07:50:54 PM 2025 AUC 0.929727594952288\n",
      "\n",
      "[mbo] 60: num_iterations=860; learning_rate=0.0406; feature_fraction=0.495; num_leaves=1061; min_data_in_leaf=522 : y = 0.93 : 108.4 secs : infill_ei\n",
      "\n",
      "Sun Jul 27 07:52:54 PM 2025 AUC 0.930268477090087\n",
      "\n",
      "[mbo] 61: num_iterations=840; learning_rate=0.0133; feature_fraction=0.436; num_leaves=524; min_data_in_leaf=610 : y = 0.93 : 118.5 secs : infill_ei\n",
      "\n",
      "Sun Jul 27 07:54:52 PM 2025 AUC 0.929373740003912\n",
      "\n",
      "[mbo] 62: num_iterations=745; learning_rate=0.02; feature_fraction=0.48; num_leaves=539; min_data_in_leaf=615 : y = 0.929 : 116.6 secs : infill_ei\n",
      "\n",
      "Saved the current state after iteration 63 in the file bayesiana.RDATA.\n",
      "\n",
      "Sun Jul 27 07:55:52 PM 2025 AUC 0.928130054674221\n",
      "\n",
      "[mbo] 63: num_iterations=631; learning_rate=0.0407; feature_fraction=0.608; num_leaves=1376; min_data_in_leaf=1000 : y = 0.928 : 54.2 secs : infill_ei\n",
      "\n",
      "Sun Jul 27 07:57:06 PM 2025 AUC 0.930172035940601\n",
      "\n",
      "[mbo] 64: num_iterations=796; learning_rate=0.0335; feature_fraction=0.44; num_leaves=1054; min_data_in_leaf=516 : y = 0.93 : 72.5 secs : infill_ei\n",
      "\n",
      "Sun Jul 27 07:58:30 PM 2025 AUC 0.927767144473478\n",
      "\n",
      "[mbo] 65: num_iterations=1167; learning_rate=0.0152; feature_fraction=0.65; num_leaves=537; min_data_in_leaf=1126 : y = 0.928 : 83.3 secs : infill_ei\n",
      "\n",
      "Sun Jul 27 07:59:28 PM 2025 AUC 0.930647554163255\n",
      "\n",
      "[mbo] 66: num_iterations=709; learning_rate=0.0234; feature_fraction=0.608; num_leaves=889; min_data_in_leaf=538 : y = 0.931 : 56.9 secs : infill_ei\n",
      "\n",
      "Sun Jul 27 08:00:23 PM 2025 AUC 0.930240858928455\n",
      "\n",
      "[mbo] 67: num_iterations=612; learning_rate=0.0174; feature_fraction=0.43; num_leaves=576; min_data_in_leaf=609 : y = 0.93 : 54.6 secs : infill_ei\n",
      "\n",
      "Sun Jul 27 08:01:43 PM 2025 AUC 0.931208266142883\n",
      "\n",
      "[mbo] 68: num_iterations=797; learning_rate=0.0139; feature_fraction=0.476; num_leaves=579; min_data_in_leaf=400 : y = 0.931 : 78.6 secs : infill_ei\n",
      "\n",
      "Sun Jul 27 08:03:04 PM 2025 AUC 0.929809684792417\n",
      "\n",
      "[mbo] 69: num_iterations=880; learning_rate=0.0341; feature_fraction=0.491; num_leaves=1231; min_data_in_leaf=895 : y = 0.93 : 80.0 secs : infill_ei\n",
      "\n",
      "Sun Jul 27 08:03:58 PM 2025 AUC 0.928758733083281\n",
      "\n",
      "[mbo] 70: num_iterations=831; learning_rate=0.0173; feature_fraction=0.623; num_leaves=845; min_data_in_leaf=1340 : y = 0.929 : 53.5 secs : infill_ei\n",
      "\n",
      "Sun Jul 27 08:04:55 PM 2025 AUC 0.928919807995799\n",
      "\n",
      "[mbo] 71: num_iterations=1278; learning_rate=0.044; feature_fraction=0.725; num_leaves=1062; min_data_in_leaf=411 : y = 0.929 : 56.0 secs : infill_ei\n",
      "\n",
      "Sun Jul 27 08:06:11 PM 2025 AUC 0.930199539525474\n",
      "\n",
      "[mbo] 72: num_iterations=798; learning_rate=0.0152; feature_fraction=0.468; num_leaves=889; min_data_in_leaf=770 : y = 0.93 : 74.7 secs : infill_ei\n",
      "\n",
      "Saved the current state after iteration 73 in the file bayesiana.RDATA.\n",
      "\n",
      "Sun Jul 27 08:07:45 PM 2025 AUC 0.929339070816451\n",
      "\n",
      "[mbo] 73: num_iterations=1120; learning_rate=0.0352; feature_fraction=0.552; num_leaves=1254; min_data_in_leaf=864 : y = 0.929 : 87.9 secs : infill_ei\n",
      "\n",
      "Sun Jul 27 08:09:04 PM 2025 AUC 0.930114977916765\n",
      "\n",
      "[mbo] 74: num_iterations=955; learning_rate=0.0124; feature_fraction=0.741; num_leaves=1278; min_data_in_leaf=639 : y = 0.93 : 78.2 secs : infill_ei\n",
      "\n",
      "Sun Jul 27 08:10:13 PM 2025 AUC 0.929558147668344\n",
      "\n",
      "[mbo] 75: num_iterations=1297; learning_rate=0.0484; feature_fraction=0.601; num_leaves=1064; min_data_in_leaf=546 : y = 0.93 : 68.1 secs : infill_ei\n",
      "\n",
      "Sun Jul 27 08:12:12 PM 2025 AUC 0.930447837403135\n",
      "\n",
      "[mbo] 76: num_iterations=1462; learning_rate=0.0246; feature_fraction=0.482; num_leaves=1038; min_data_in_leaf=731 : y = 0.93 : 118.6 secs : infill_ei\n",
      "\n",
      "Sun Jul 27 08:13:09 PM 2025 AUC 0.928255354483832\n",
      "\n",
      "[mbo] 77: num_iterations=712; learning_rate=0.0576; feature_fraction=0.408; num_leaves=833; min_data_in_leaf=1333 : y = 0.928 : 55.2 secs : infill_ei\n",
      "\n",
      "Sun Jul 27 08:14:20 PM 2025 AUC 0.929439433040173\n",
      "\n",
      "[mbo] 78: num_iterations=960; learning_rate=0.0404; feature_fraction=0.569; num_leaves=574; min_data_in_leaf=935 : y = 0.929 : 70.4 secs : infill_ei\n",
      "\n",
      "Sun Jul 27 08:15:44 PM 2025 AUC 0.929964326523698\n",
      "\n",
      "[mbo] 79: num_iterations=866; learning_rate=0.011; feature_fraction=0.462; num_leaves=556; min_data_in_leaf=400 : y = 0.93 : 82.9 secs : infill_ei\n",
      "\n",
      "Sun Jul 27 08:17:23 PM 2025 AUC 0.929776541365687\n",
      "\n",
      "[mbo] 80: num_iterations=1086; learning_rate=0.0171; feature_fraction=0.515; num_leaves=539; min_data_in_leaf=802 : y = 0.93 : 98.3 secs : infill_ei\n",
      "\n",
      "Saved the current state after iteration 81 in the file bayesiana.RDATA.\n",
      "\n",
      "Sun Jul 27 08:18:35 PM 2025 AUC 0.92768735290917\n",
      "\n",
      "[mbo] 81: num_iterations=711; learning_rate=0.0441; feature_fraction=0.418; num_leaves=669; min_data_in_leaf=1408 : y = 0.928 : 67.0 secs : infill_ei\n",
      "\n",
      "Sun Jul 27 08:20:01 PM 2025 AUC 0.929592957898798\n",
      "\n",
      "[mbo] 82: num_iterations=868; learning_rate=0.0136; feature_fraction=0.478; num_leaves=591; min_data_in_leaf=402 : y = 0.93 : 85.6 secs : infill_ei\n",
      "\n",
      "Sun Jul 27 08:20:59 PM 2025 AUC 0.930205709777682\n",
      "\n",
      "[mbo] 83: num_iterations=721; learning_rate=0.0142; feature_fraction=0.632; num_leaves=688; min_data_in_leaf=402 : y = 0.93 : 56.9 secs : infill_ei\n",
      "\n",
      "Sun Jul 27 08:21:57 PM 2025 AUC 0.9290175010627\n",
      "\n",
      "[mbo] 84: num_iterations=1293; learning_rate=0.0438; feature_fraction=0.662; num_leaves=630; min_data_in_leaf=1016 : y = 0.929 : 56.7 secs : infill_ei\n",
      "\n",
      "Sun Jul 27 08:23:09 PM 2025 AUC 0.930612157619413\n",
      "\n",
      "[mbo] 85: num_iterations=798; learning_rate=0.0154; feature_fraction=0.472; num_leaves=573; min_data_in_leaf=766 : y = 0.931 : 70.9 secs : infill_ei\n",
      "\n",
      "Sun Jul 27 08:24:22 PM 2025 AUC 0.929367082244056\n",
      "\n",
      "[mbo] 86: num_iterations=1306; learning_rate=0.0463; feature_fraction=0.593; num_leaves=836; min_data_in_leaf=814 : y = 0.929 : 72.5 secs : infill_ei\n",
      "\n",
      "Sun Jul 27 08:25:27 PM 2025 AUC 0.928521139245928\n",
      "\n",
      "[mbo] 87: num_iterations=798; learning_rate=0.0519; feature_fraction=0.457; num_leaves=826; min_data_in_leaf=1382 : y = 0.929 : 64.0 secs : infill_ei\n",
      "\n",
      "Sun Jul 27 08:26:44 PM 2025 AUC 0.929953737589808\n",
      "\n",
      "[mbo] 88: num_iterations=798; learning_rate=0.0226; feature_fraction=0.483; num_leaves=529; min_data_in_leaf=471 : y = 0.93 : 75.9 secs : infill_ei\n",
      "\n",
      "Sun Jul 27 08:27:42 PM 2025 AUC 0.929078841470606\n",
      "\n",
      "[mbo] 89: num_iterations=743; learning_rate=0.0463; feature_fraction=0.579; num_leaves=1116; min_data_in_leaf=1291 : y = 0.929 : 56.7 secs : infill_ei\n",
      "\n",
      "Saved the current state after iteration 90 in the file bayesiana.RDATA.\n",
      "\n",
      "Sun Jul 27 08:29:06 PM 2025 AUC 0.930413543383668\n",
      "\n",
      "[mbo] 90: num_iterations=863; learning_rate=0.0485; feature_fraction=0.465; num_leaves=983; min_data_in_leaf=656 : y = 0.93 : 79.0 secs : infill_ei\n",
      "\n",
      "Sun Jul 27 08:30:52 PM 2025 AUC 0.92786803710974\n",
      "\n",
      "[mbo] 91: num_iterations=1253; learning_rate=0.0312; feature_fraction=0.41; num_leaves=1497; min_data_in_leaf=1310 : y = 0.928 : 105.6 secs : infill_ei\n",
      "\n",
      "Sun Jul 27 08:31:51 PM 2025 AUC 0.930262366771811\n",
      "\n",
      "[mbo] 92: num_iterations=698; learning_rate=0.0445; feature_fraction=0.403; num_leaves=1057; min_data_in_leaf=626 : y = 0.93 : 58.1 secs : infill_ei\n",
      "\n",
      "Sun Jul 27 08:33:21 PM 2025 AUC 0.927839775715365\n",
      "\n",
      "[mbo] 93: num_iterations=1064; learning_rate=0.0247; feature_fraction=0.525; num_leaves=1304; min_data_in_leaf=1467 : y = 0.928 : 88.9 secs : infill_ei\n",
      "\n",
      "Sun Jul 27 08:34:23 PM 2025 AUC 0.928779353397937\n",
      "\n",
      "[mbo] 94: num_iterations=1259; learning_rate=0.0583; feature_fraction=0.604; num_leaves=1450; min_data_in_leaf=720 : y = 0.929 : 60.9 secs : infill_ei\n",
      "\n",
      "Sun Jul 27 08:35:32 PM 2025 AUC 0.930206533022158\n",
      "\n",
      "[mbo] 95: num_iterations=724; learning_rate=0.0149; feature_fraction=0.417; num_leaves=568; min_data_in_leaf=406 : y = 0.93 : 67.9 secs : infill_ei\n",
      "\n",
      "Sun Jul 27 08:36:44 PM 2025 AUC 0.929353892033505\n",
      "\n",
      "[mbo] 96: num_iterations=746; learning_rate=0.0186; feature_fraction=0.481; num_leaves=579; min_data_in_leaf=427 : y = 0.929 : 71.1 secs : infill_ei\n",
      "\n",
      "Sun Jul 27 08:37:52 PM 2025 AUC 0.929191912416021\n",
      "\n",
      "[mbo] 97: num_iterations=758; learning_rate=0.0153; feature_fraction=0.593; num_leaves=595; min_data_in_leaf=400 : y = 0.929 : 66.5 secs : infill_ei\n",
      "\n",
      "Saved the current state after iteration 98 in the file bayesiana.RDATA.\n",
      "\n",
      "Sun Jul 27 08:39:49 PM 2025 AUC 0.928689335371916\n",
      "\n",
      "[mbo] 98: num_iterations=1400; learning_rate=0.0192; feature_fraction=0.61; num_leaves=1032; min_data_in_leaf=1010 : y = 0.929 : 110.5 secs : infill_ei\n",
      "\n",
      "Sun Jul 27 08:40:36 PM 2025 AUC 0.927099538020884\n",
      "\n",
      "[mbo] 99: num_iterations=1124; learning_rate=0.0586; feature_fraction=0.687; num_leaves=1023; min_data_in_leaf=1326 : y = 0.927 : 46.3 secs : infill_ei\n",
      "\n",
      "Sun Jul 27 08:41:41 PM 2025 AUC 0.928673774342956\n",
      "\n",
      "[mbo] 100: num_iterations=750; learning_rate=0.0262; feature_fraction=0.426; num_leaves=838; min_data_in_leaf=1099 : y = 0.929 : 63.2 secs : infill_ei\n",
      "\n",
      "Saved the final state in the file bayesiana.RDATA\n",
      "\n"
     ]
    }
   ],
   "source": [
    "# inicio la optimizacion bayesiana, retomando si ya existe\n",
    "# es la celda mas lenta de todo el notebook\n",
    "\n",
    "if (!file.exists(kbayesiana)) {\n",
    "  bayesiana_salida <- mbo(obj.fun, learner= surr.km, control= ctrl)\n",
    "} else {\n",
    "  bayesiana_salida <- mboContinue(kbayesiana) # retomo en caso que ya exista\n",
    "}"
   ]
  },
  {
   "cell_type": "code",
   "execution_count": 20,
   "metadata": {
    "id": "ssk5nnMk6INK"
   },
   "outputs": [
    {
     "data": {
      "text/html": [
       "<style>\n",
       ".list-inline {list-style: none; margin:0; padding: 0}\n",
       ".list-inline>li {display: inline-block}\n",
       ".list-inline>li:not(:last-child)::after {content: \"\\00b7\"; padding: 0 .5ex}\n",
       "</style>\n",
       "<ol class=list-inline><li>'num_iterations'</li><li>'learning_rate'</li><li>'feature_fraction'</li><li>'num_leaves'</li><li>'min_data_in_leaf'</li><li>'y'</li><li>'dob'</li><li>'eol'</li><li>'error.message'</li><li>'exec.time'</li><li>'ei'</li><li>'error.model'</li><li>'train.time'</li><li>'prop.type'</li><li>'propose.time'</li><li>'se'</li><li>'mean'</li></ol>\n"
      ],
      "text/latex": [
       "\\begin{enumerate*}\n",
       "\\item 'num\\_iterations'\n",
       "\\item 'learning\\_rate'\n",
       "\\item 'feature\\_fraction'\n",
       "\\item 'num\\_leaves'\n",
       "\\item 'min\\_data\\_in\\_leaf'\n",
       "\\item 'y'\n",
       "\\item 'dob'\n",
       "\\item 'eol'\n",
       "\\item 'error.message'\n",
       "\\item 'exec.time'\n",
       "\\item 'ei'\n",
       "\\item 'error.model'\n",
       "\\item 'train.time'\n",
       "\\item 'prop.type'\n",
       "\\item 'propose.time'\n",
       "\\item 'se'\n",
       "\\item 'mean'\n",
       "\\end{enumerate*}\n"
      ],
      "text/markdown": [
       "1. 'num_iterations'\n",
       "2. 'learning_rate'\n",
       "3. 'feature_fraction'\n",
       "4. 'num_leaves'\n",
       "5. 'min_data_in_leaf'\n",
       "6. 'y'\n",
       "7. 'dob'\n",
       "8. 'eol'\n",
       "9. 'error.message'\n",
       "10. 'exec.time'\n",
       "11. 'ei'\n",
       "12. 'error.model'\n",
       "13. 'train.time'\n",
       "14. 'prop.type'\n",
       "15. 'propose.time'\n",
       "16. 'se'\n",
       "17. 'mean'\n",
       "\n",
       "\n"
      ],
      "text/plain": [
       " [1] \"num_iterations\"   \"learning_rate\"    \"feature_fraction\" \"num_leaves\"      \n",
       " [5] \"min_data_in_leaf\" \"y\"                \"dob\"              \"eol\"             \n",
       " [9] \"error.message\"    \"exec.time\"        \"ei\"               \"error.model\"     \n",
       "[13] \"train.time\"       \"prop.type\"        \"propose.time\"     \"se\"              \n",
       "[17] \"mean\"            "
      ]
     },
     "metadata": {},
     "output_type": "display_data"
    }
   ],
   "source": [
    "\n",
    "tb_bayesiana <- as.data.table(bayesiana_salida$opt.path)\n",
    "colnames( tb_bayesiana)"
   ]
  },
  {
   "cell_type": "code",
   "execution_count": 21,
   "metadata": {
    "id": "u4zq-vknhjGc"
   },
   "outputs": [],
   "source": [
    "# almaceno los resultados de la Bayesian Optimization\n",
    "# y capturo los mejores hiperparametros encontrados\n",
    "\n",
    "tb_bayesiana <- as.data.table(bayesiana_salida$opt.path)\n",
    "\n",
    "tb_bayesiana[, iter := .I]\n",
    "\n",
    "# ordeno en forma descendente por AUC = y\n",
    "setorder(tb_bayesiana, -y)\n",
    "\n",
    "# grabo para eventualmente poder utilizarlos en OTRA corrida\n",
    "fwrite( tb_bayesiana,\n",
    "  file= \"BO_log.txt\",\n",
    "  sep= \"\\t\"\n",
    ")\n",
    "\n",
    "# los mejores hiperparámetros son los que quedaron en el registro 1 de la tabla\n",
    "PARAM$out$lgbm$mejores_hiperparametros <- tb_bayesiana[\n",
    "  1, # el primero es el de mejor AUC\n",
    "  setdiff(colnames(tb_bayesiana),\n",
    "    c(\"y\",\"dob\",\"eol\",\"error.message\",\"exec.time\",\"ei\",\"error.model\",\n",
    "      \"train.time\",\"prop.type\",\"propose.time\",\"se\",\"mean\",\"iter\")),\n",
    "  with= FALSE\n",
    "]\n",
    "\n",
    "\n",
    "PARAM$out$lgbm$y <- tb_bayesiana[1, y]\n"
   ]
  },
  {
   "cell_type": "code",
   "execution_count": 22,
   "metadata": {
    "id": "E8v2eA427N8e"
   },
   "outputs": [],
   "source": [
    "write_yaml( PARAM, file=\"PARAM.yml\")"
   ]
  },
  {
   "cell_type": "code",
   "execution_count": 23,
   "metadata": {
    "id": "iBTWexVU7PGC"
   },
   "outputs": [
    {
     "name": "stdout",
     "output_type": "stream",
     "text": [
      "   num_iterations learning_rate feature_fraction num_leaves min_data_in_leaf\n",
      "            <int>         <num>            <num>      <int>            <int>\n",
      "1:            797    0.01391926        0.4762266        579              400\n",
      "[1] 0.9312083\n"
     ]
    }
   ],
   "source": [
    "print(PARAM$out$lgbm$mejores_hiperparametros)\n",
    "print(PARAM$out$lgbm$y)"
   ]
  },
  {
   "cell_type": "markdown",
   "metadata": {
    "id": "TKsVZmAnhwX-"
   },
   "source": [
    "## 2.3  Produccion"
   ]
  },
  {
   "cell_type": "markdown",
   "metadata": {
    "id": "RQ_C33Tr5B_9"
   },
   "source": [
    "### Final Training\n",
    "Construyo el modelo final, que es uno solo, no hace ningun tipo de particion < training, validation, testing>]"
   ]
  },
  {
   "cell_type": "code",
   "execution_count": 24,
   "metadata": {
    "id": "eDqfyA14hzwv"
   },
   "outputs": [],
   "source": [
    "setwd(\"/content/buckets/b1/exp\")\n",
    "experimento <- paste0(\"exp\", PARAM$experimento)\n",
    "dir.create(experimento, showWarnings= FALSE)\n",
    "setwd( paste0(\"/content/buckets/b1/exp/\", experimento ))"
   ]
  },
  {
   "cell_type": "markdown",
   "metadata": {
    "id": "8qFmFivf5Iet"
   },
   "source": [
    "#### Final Training Dataset\n",
    "\n",
    "Aqui esta la gran decision de en qué meses hago el Final Training\n",
    "<br> debo utilizar los mejores hiperparámetros que encontré en la optimización bayesiana"
   ]
  },
  {
   "cell_type": "code",
   "execution_count": 25,
   "metadata": {
    "id": "lg5WVZncvc7H"
   },
   "outputs": [],
   "source": [
    "# clase01\n",
    "dataset[, clase01 := ifelse(clase_ternaria %in% c(\"BAJA+1\", \"BAJA+2\"), 1L, 0L)]"
   ]
  },
  {
   "cell_type": "code",
   "execution_count": 26,
   "metadata": {
    "id": "yc9QzXREv0xf"
   },
   "outputs": [],
   "source": [
    "dataset_train <- dataset[foto_mes %in% c(202107)]"
   ]
  },
  {
   "cell_type": "code",
   "execution_count": 27,
   "metadata": {
    "id": "thjdqEBLuvNt"
   },
   "outputs": [],
   "source": [
    "# dejo los datos en el formato que necesita LightGBM\n",
    "\n",
    "dtrain <- lgb.Dataset(\n",
    "  data= data.matrix(dataset_train[, campos_buenos, with= FALSE]),\n",
    "  label= dataset_train[, clase01]\n",
    ")"
   ]
  },
  {
   "cell_type": "markdown",
   "metadata": {
    "id": "VNUa-WSz5Oqu"
   },
   "source": [
    "#### Final Training Hyperparameters"
   ]
  },
  {
   "cell_type": "code",
   "execution_count": 28,
   "metadata": {
    "id": "FgCcvBfEwImu"
   },
   "outputs": [
    {
     "data": {
      "text/html": [
       "<dl>\n",
       "\t<dt>$boosting</dt>\n",
       "\t\t<dd>'gbdt'</dd>\n",
       "\t<dt>$objective</dt>\n",
       "\t\t<dd>'binary'</dd>\n",
       "\t<dt>$metric</dt>\n",
       "\t\t<dd>'auc'</dd>\n",
       "\t<dt>$first_metric_only</dt>\n",
       "\t\t<dd>FALSE</dd>\n",
       "\t<dt>$boost_from_average</dt>\n",
       "\t\t<dd>TRUE</dd>\n",
       "\t<dt>$feature_pre_filter</dt>\n",
       "\t\t<dd>FALSE</dd>\n",
       "\t<dt>$force_row_wise</dt>\n",
       "\t\t<dd>TRUE</dd>\n",
       "\t<dt>$verbosity</dt>\n",
       "\t\t<dd>-100</dd>\n",
       "\t<dt>$seed</dt>\n",
       "\t\t<dd>100109</dd>\n",
       "\t<dt>$max_depth</dt>\n",
       "\t\t<dd>12</dd>\n",
       "\t<dt>$min_gain_to_split</dt>\n",
       "\t\t<dd>0.1</dd>\n",
       "\t<dt>$min_sum_hessian_in_leaf</dt>\n",
       "\t\t<dd>0.001</dd>\n",
       "\t<dt>$lambda_l1</dt>\n",
       "\t\t<dd>0.5</dd>\n",
       "\t<dt>$lambda_l2</dt>\n",
       "\t\t<dd>0.1</dd>\n",
       "\t<dt>$max_bin</dt>\n",
       "\t\t<dd>31</dd>\n",
       "\t<dt>$bagging_fraction</dt>\n",
       "\t\t<dd>0.5</dd>\n",
       "\t<dt>$pos_bagging_fraction</dt>\n",
       "\t\t<dd>1</dd>\n",
       "\t<dt>$neg_bagging_fraction</dt>\n",
       "\t\t<dd>1</dd>\n",
       "\t<dt>$is_unbalance</dt>\n",
       "\t\t<dd>FALSE</dd>\n",
       "\t<dt>$scale_pos_weight</dt>\n",
       "\t\t<dd>1</dd>\n",
       "\t<dt>$drop_rate</dt>\n",
       "\t\t<dd>0.1</dd>\n",
       "\t<dt>$max_drop</dt>\n",
       "\t\t<dd>50</dd>\n",
       "\t<dt>$skip_drop</dt>\n",
       "\t\t<dd>0.5</dd>\n",
       "\t<dt>$extra_trees</dt>\n",
       "\t\t<dd>FALSE</dd>\n",
       "\t<dt>$num_iterations</dt>\n",
       "\t\t<dd>797</dd>\n",
       "\t<dt>$learning_rate</dt>\n",
       "\t\t<dd>0.0139192616502964</dd>\n",
       "\t<dt>$feature_fraction</dt>\n",
       "\t\t<dd>0.476226643091196</dd>\n",
       "\t<dt>$num_leaves</dt>\n",
       "\t\t<dd>579</dd>\n",
       "\t<dt>$min_data_in_leaf</dt>\n",
       "\t\t<dd>400</dd>\n",
       "</dl>\n"
      ],
      "text/latex": [
       "\\begin{description}\n",
       "\\item[\\$boosting] 'gbdt'\n",
       "\\item[\\$objective] 'binary'\n",
       "\\item[\\$metric] 'auc'\n",
       "\\item[\\$first\\_metric\\_only] FALSE\n",
       "\\item[\\$boost\\_from\\_average] TRUE\n",
       "\\item[\\$feature\\_pre\\_filter] FALSE\n",
       "\\item[\\$force\\_row\\_wise] TRUE\n",
       "\\item[\\$verbosity] -100\n",
       "\\item[\\$seed] 100109\n",
       "\\item[\\$max\\_depth] 12\n",
       "\\item[\\$min\\_gain\\_to\\_split] 0.1\n",
       "\\item[\\$min\\_sum\\_hessian\\_in\\_leaf] 0.001\n",
       "\\item[\\$lambda\\_l1] 0.5\n",
       "\\item[\\$lambda\\_l2] 0.1\n",
       "\\item[\\$max\\_bin] 31\n",
       "\\item[\\$bagging\\_fraction] 0.5\n",
       "\\item[\\$pos\\_bagging\\_fraction] 1\n",
       "\\item[\\$neg\\_bagging\\_fraction] 1\n",
       "\\item[\\$is\\_unbalance] FALSE\n",
       "\\item[\\$scale\\_pos\\_weight] 1\n",
       "\\item[\\$drop\\_rate] 0.1\n",
       "\\item[\\$max\\_drop] 50\n",
       "\\item[\\$skip\\_drop] 0.5\n",
       "\\item[\\$extra\\_trees] FALSE\n",
       "\\item[\\$num\\_iterations] 797\n",
       "\\item[\\$learning\\_rate] 0.0139192616502964\n",
       "\\item[\\$feature\\_fraction] 0.476226643091196\n",
       "\\item[\\$num\\_leaves] 579\n",
       "\\item[\\$min\\_data\\_in\\_leaf] 400\n",
       "\\end{description}\n"
      ],
      "text/markdown": [
       "$boosting\n",
       ":   'gbdt'\n",
       "$objective\n",
       ":   'binary'\n",
       "$metric\n",
       ":   'auc'\n",
       "$first_metric_only\n",
       ":   FALSE\n",
       "$boost_from_average\n",
       ":   TRUE\n",
       "$feature_pre_filter\n",
       ":   FALSE\n",
       "$force_row_wise\n",
       ":   TRUE\n",
       "$verbosity\n",
       ":   -100\n",
       "$seed\n",
       ":   100109\n",
       "$max_depth\n",
       ":   12\n",
       "$min_gain_to_split\n",
       ":   0.1\n",
       "$min_sum_hessian_in_leaf\n",
       ":   0.001\n",
       "$lambda_l1\n",
       ":   0.5\n",
       "$lambda_l2\n",
       ":   0.1\n",
       "$max_bin\n",
       ":   31\n",
       "$bagging_fraction\n",
       ":   0.5\n",
       "$pos_bagging_fraction\n",
       ":   1\n",
       "$neg_bagging_fraction\n",
       ":   1\n",
       "$is_unbalance\n",
       ":   FALSE\n",
       "$scale_pos_weight\n",
       ":   1\n",
       "$drop_rate\n",
       ":   0.1\n",
       "$max_drop\n",
       ":   50\n",
       "$skip_drop\n",
       ":   0.5\n",
       "$extra_trees\n",
       ":   FALSE\n",
       "$num_iterations\n",
       ":   797\n",
       "$learning_rate\n",
       ":   0.0139192616502964\n",
       "$feature_fraction\n",
       ":   0.476226643091196\n",
       "$num_leaves\n",
       ":   579\n",
       "$min_data_in_leaf\n",
       ":   400\n",
       "\n",
       "\n"
      ],
      "text/plain": [
       "$boosting\n",
       "[1] \"gbdt\"\n",
       "\n",
       "$objective\n",
       "[1] \"binary\"\n",
       "\n",
       "$metric\n",
       "[1] \"auc\"\n",
       "\n",
       "$first_metric_only\n",
       "[1] FALSE\n",
       "\n",
       "$boost_from_average\n",
       "[1] TRUE\n",
       "\n",
       "$feature_pre_filter\n",
       "[1] FALSE\n",
       "\n",
       "$force_row_wise\n",
       "[1] TRUE\n",
       "\n",
       "$verbosity\n",
       "[1] -100\n",
       "\n",
       "$seed\n",
       "[1] 100109\n",
       "\n",
       "$max_depth\n",
       "[1] 12\n",
       "\n",
       "$min_gain_to_split\n",
       "[1] 0.1\n",
       "\n",
       "$min_sum_hessian_in_leaf\n",
       "[1] 0.001\n",
       "\n",
       "$lambda_l1\n",
       "[1] 0.5\n",
       "\n",
       "$lambda_l2\n",
       "[1] 0.1\n",
       "\n",
       "$max_bin\n",
       "[1] 31\n",
       "\n",
       "$bagging_fraction\n",
       "[1] 0.5\n",
       "\n",
       "$pos_bagging_fraction\n",
       "[1] 1\n",
       "\n",
       "$neg_bagging_fraction\n",
       "[1] 1\n",
       "\n",
       "$is_unbalance\n",
       "[1] FALSE\n",
       "\n",
       "$scale_pos_weight\n",
       "[1] 1\n",
       "\n",
       "$drop_rate\n",
       "[1] 0.1\n",
       "\n",
       "$max_drop\n",
       "[1] 50\n",
       "\n",
       "$skip_drop\n",
       "[1] 0.5\n",
       "\n",
       "$extra_trees\n",
       "[1] FALSE\n",
       "\n",
       "$num_iterations\n",
       "[1] 797\n",
       "\n",
       "$learning_rate\n",
       "[1] 0.01391926\n",
       "\n",
       "$feature_fraction\n",
       "[1] 0.4762266\n",
       "\n",
       "$num_leaves\n",
       "[1] 579\n",
       "\n",
       "$min_data_in_leaf\n",
       "[1] 400\n"
      ]
     },
     "metadata": {},
     "output_type": "display_data"
    }
   ],
   "source": [
    "param_final <- modifyList(PARAM$lgbm$param_fijos,\n",
    "  PARAM$out$lgbm$mejores_hiperparametros)\n",
    "\n",
    "param_final"
   ]
  },
  {
   "cell_type": "markdown",
   "metadata": {
    "id": "TZIYn4l95TBH"
   },
   "source": [
    "#### Training\n",
    "Genero el modelo final, siempre sobre TODOS los datos de  final_train, sin hacer ningun tipo de undersampling de la clase mayoritaria"
   ]
  },
  {
   "cell_type": "code",
   "execution_count": 29,
   "metadata": {
    "id": "vPLsd4mMRe4u"
   },
   "outputs": [],
   "source": [
    "# este punto es muy SUTIL  y será revisado en la Clase 05\n",
    "\n",
    "param_normalizado <- copy(param_final)\n",
    "param_normalizado$min_data_in_leaf <-  param_final$min_data_in_leaf / PARAM$trainingstrategy$undersampling"
   ]
  },
  {
   "cell_type": "code",
   "execution_count": 30,
   "metadata": {
    "id": "WRI_-taRwOXO"
   },
   "outputs": [],
   "source": [
    "  # entreno LightGBM\n",
    "\n",
    "  modelo_final <- lgb.train(\n",
    "    data= dtrain,\n",
    "    param= param_normalizado\n",
    "  )"
   ]
  },
  {
   "cell_type": "code",
   "execution_count": 31,
   "metadata": {
    "id": "_bkhnCvj0g3Q"
   },
   "outputs": [],
   "source": [
    "# ahora imprimo la importancia de variables\n",
    "\n",
    "tb_importancia <- as.data.table(lgb.importance(modelo_final))\n",
    "archivo_importancia <- \"impo.txt\"\n",
    "\n",
    "fwrite(tb_importancia,\n",
    "  file= archivo_importancia,\n",
    "  sep= \"\\t\"\n",
    ")"
   ]
  },
  {
   "cell_type": "code",
   "execution_count": 32,
   "metadata": {
    "id": "lZ3sLmbh0kFj"
   },
   "outputs": [],
   "source": [
    "# grabo a disco el modelo en un formato para seres humanos ... ponele ...\n",
    "\n",
    "lgb.save(modelo_final, \"modelo.txt\" )"
   ]
  },
  {
   "cell_type": "markdown",
   "metadata": {
    "id": "VEtp2--t5Ymg"
   },
   "source": [
    "### Scoring"
   ]
  },
  {
   "cell_type": "markdown",
   "metadata": {
    "id": "hI5008Mj5ZdI"
   },
   "source": [
    "Aplico el modelo final a los datos del futuro"
   ]
  },
  {
   "cell_type": "code",
   "execution_count": 33,
   "metadata": {
    "id": "PimBY3N_0ryP"
   },
   "outputs": [],
   "source": [
    "# aplico el modelo a los datos sin clase\n",
    "dfuture <- dataset[foto_mes == 202109]\n",
    "\n",
    "# aplico el modelo a los datos nuevos\n",
    "prediccion <- predict(\n",
    "  modelo_final,\n",
    "  data.matrix(dfuture[, campos_buenos, with= FALSE])\n",
    ")"
   ]
  },
  {
   "cell_type": "markdown",
   "metadata": {
    "id": "D26rNRh55gpw"
   },
   "source": [
    "#### Tabla Prediccion"
   ]
  },
  {
   "cell_type": "code",
   "execution_count": 34,
   "metadata": {
    "id": "RJwg7LHd11yu"
   },
   "outputs": [],
   "source": [
    "# tabla de prediccion\n",
    "\n",
    "tb_prediccion <- dfuture[, list(numero_de_cliente)]\n",
    "tb_prediccion[, prob := prediccion ]\n",
    "\n",
    "# grabo las probabilidad del modelo\n",
    "fwrite(tb_prediccion,\n",
    "  file= \"prediccion.txt\",\n",
    "  sep= \"\\t\"\n",
    ")"
   ]
  },
  {
   "cell_type": "markdown",
   "metadata": {
    "id": "jOt4eG_55ltv"
   },
   "source": [
    "Kaggle Competition Submit"
   ]
  },
  {
   "cell_type": "code",
   "execution_count": 35,
   "metadata": {
    "id": "gWW3tatE12je"
   },
   "outputs": [
    {
     "name": "stdout",
     "output_type": "stream",
     "text": [
      "Successfully submitted to Data Mining, Analista Sr 2025A \n",
      "Successfully submitted to Data Mining, Analista Sr 2025A \n",
      "Successfully submitted to Data Mining, Analista Sr 2025A \n",
      "Successfully submitted to Data Mining, Analista Sr 2025A \n",
      "Successfully submitted to Data Mining, Analista Sr 2025A \n"
     ]
    }
   ],
   "source": [
    "# genero archivos con los  \"envios\" mejores\n",
    "# suba TODOS los archivos a Kaggle\n",
    "\n",
    "# ordeno por probabilidad descendente\n",
    "setorder(tb_prediccion, -prob)\n",
    "\n",
    "dir.create(\"kaggle\")\n",
    "\n",
    "for (envios in PARAM$kaggle$cortes) {\n",
    "\n",
    "  tb_prediccion[, Predicted := 0L] # seteo inicial a 0\n",
    "  tb_prediccion[1:envios, Predicted := 1L] # marclo los primeros\n",
    "\n",
    "  archivo_kaggle <- paste0(\"./kaggle/KA\", PARAM$experimento, \"_\", envios, \".csv\")\n",
    "\n",
    "  # grabo el archivo\n",
    "  fwrite(tb_prediccion[, list(numero_de_cliente, Predicted)],\n",
    "    file= archivo_kaggle,\n",
    "    sep= \",\"\n",
    "  )\n",
    "\n",
    "  # subida a Kaggle, armo la linea de comando\n",
    "  comando <- \"kaggle competitions submit\"\n",
    "  competencia <- paste(\"-c\", PARAM$kaggle$competencia)\n",
    "  arch <- paste( \"-f\", archivo_kaggle)\n",
    "\n",
    "  mensaje <- paste0(\"-m 'envios=\", envios,\n",
    "  \"  semilla=\", PARAM$semilla_primigenia,\n",
    "    \"'\" )\n",
    "\n",
    "  linea <- paste( comando, competencia, arch, mensaje)\n",
    "\n",
    "  salida <- system(linea, intern=TRUE) # el submit a Kaggle\n",
    "  cat(salida, \"\\n\")\n",
    "}"
   ]
  },
  {
   "cell_type": "code",
   "execution_count": 36,
   "metadata": {
    "id": "B9tB2X4439Hg"
   },
   "outputs": [],
   "source": [
    "write_yaml( PARAM, file=\"PARAM.yml\")"
   ]
  },
  {
   "cell_type": "code",
   "execution_count": 37,
   "metadata": {
    "id": "9zA_W25c15DP"
   },
   "outputs": [
    {
     "data": {
      "text/html": [
       "'Sun Jul 27 08:43:13 PM 2025'"
      ],
      "text/latex": [
       "'Sun Jul 27 08:43:13 PM 2025'"
      ],
      "text/markdown": [
       "'Sun Jul 27 08:43:13 PM 2025'"
      ],
      "text/plain": [
       "[1] \"Sun Jul 27 08:43:13 PM 2025\""
      ]
     },
     "metadata": {},
     "output_type": "display_data"
    }
   ],
   "source": [
    "format(Sys.time(), \"%a %b %d %X %Y\")"
   ]
  },
  {
   "cell_type": "markdown",
   "metadata": {
    "id": "UdVZucdLHzZ0"
   },
   "source": [
    "Finalmente usted deberá cargar el resultado de su corrida en la Google Sheet Colaborativa,  hoja **TareaHogar04**\n",
    "<br> Siéntase libre de agregar las columnas que hagan falta a la planilla"
   ]
  },
  {
   "cell_type": "code",
   "execution_count": null,
   "metadata": {
    "id": "WMHh7uNVIJkT"
   },
   "outputs": [],
   "source": []
  },
  {
   "cell_type": "code",
   "execution_count": null,
   "metadata": {},
   "outputs": [],
   "source": []
  },
  {
   "cell_type": "code",
   "execution_count": null,
   "metadata": {},
   "outputs": [],
   "source": []
  }
 ],
 "metadata": {
  "colab": {
   "provenance": []
  },
  "kernelspec": {
   "display_name": "R",
   "language": "R",
   "name": "ir"
  },
  "language_info": {
   "codemirror_mode": "r",
   "file_extension": ".r",
   "mimetype": "text/x-r-source",
   "name": "R",
   "pygments_lexer": "r",
   "version": "4.4.3"
  }
 },
 "nbformat": 4,
 "nbformat_minor": 4
}
