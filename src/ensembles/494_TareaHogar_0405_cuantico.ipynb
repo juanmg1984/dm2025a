{
 "cells": [
  {
   "cell_type": "markdown",
   "metadata": {
    "id": "0cEmzeUKFkPh"
   },
   "source": [
    "# Tarea para el Hogar 04"
   ]
  },
  {
   "cell_type": "markdown",
   "metadata": {
    "id": "nSICPpyTGQmC"
   },
   "source": [
    "Esta Tarea para el Hogar 02 se entrega el final de la cuarta clase\n",
    "<br> se espera de usted que intente avanzar con los desafios propuestos y que los traiga terminados para la Clase 05 que será el viernes 01-agosto"
   ]
  },
  {
   "cell_type": "markdown",
   "metadata": {
    "id": "DenyKXkiJ5JN"
   },
   "source": [
    "##  1. Cazatalentos"
   ]
  },
  {
   "cell_type": "markdown",
   "metadata": {
    "id": "l-K2_ZsZGrVD"
   },
   "source": [
    "En la Clase 03 nos hemos enfrentado a  \"La Maldicion del Ganandor\",  elegir el modelo con el mejor puntaje simple no suele ser la mejor estrategia.\n",
    "<br> Lea y ejecute el notebook  **src/CazaTalentos/CazaTalentos.ipynb**\n",
    "<br> en caso de interesarle, participe del Desafío Ordenamiento  que vence el sábado 02 de agosto a las 19:00"
   ]
  },
  {
   "cell_type": "markdown",
   "metadata": {
    "id": "K9GkTOk5J9t3"
   },
   "source": [
    "## 2. Hiperparámetros del LightGBM"
   ]
  },
  {
   "cell_type": "markdown",
   "metadata": {
    "id": "VmEFy0ukKL5T"
   },
   "source": [
    "Los objetivos de esta tarea son:\n",
    "\n",
    "\n",
    "*   Aumentar la rentabilidad de la campaña de marketing de retención proactiva de clientes.\n",
    "*   Generar un mejor modelo optimizando sus hiperparámetros\n",
    "*   Conceptual : investigar los mas relevantes hiperparámetros de LightGBM\n",
    "*   Familiarizarse con la Bayesian Optimization, sus largos tiempos de corrida y opciones para reducirlos\n",
    "*   Familiarizarse con el uso de máquinas virtuales de Google Colab\n",
    "*   Ver un pipeline completo de optimización de hiperparámetros y puesta en producción"
   ]
  },
  {
   "cell_type": "markdown",
   "metadata": {
    "id": "5yvlS6JQLRMd"
   },
   "source": [
    "LightGBM cuenta con mas de 60 hiperparámetros, siendo posible utilizar 40 al mismo tiempo, aunque no razonable.\n",
    "<br> La documentación oficial de los hiperparámetros de LightGBM es  https://lightgbm.readthedocs.io/en/latest/Parameters.html#core-parameters\n"
   ]
  },
  {
   "cell_type": "markdown",
   "metadata": {
    "id": "eydI4YNAsFaf"
   },
   "source": [
    "Se lo alerta sobre que una Optimizacion Bayesiana lleva varias horas de corrida, y usted deberá correr VARIAS optimizaciones para descubrir cuales parámetros conviene optimizar.\n",
    "<br> A pesar que la próxima clase es recien en viernes 01 de agosto, inicie la tarea con tiempo, aprenda a planificar estratégicamente sus corridas como un@ científ@  de datos."
   ]
  },
  {
   "cell_type": "markdown",
   "metadata": {
    "id": "RzU4S0SeMcpp"
   },
   "source": [
    "Es necesario investigar cuales son los hiperparámetros de LightGBM que vale la pena optimizar en una Bayesian Optimization, ya que los realmente utiles son apenas un reducido subconjunto.\n",
    "<br>Usted deberá investigar cuales son los hiperparámetros mas relevantes de LightGBM, su primer alternativa es preguntándole a su amigo con capacidades especiales ChatGPT o sus endogámicos familiares Claude, DeepSeek, Gemini, Grok, etc\n",
    "<br> La segunda alternativa es la propia documentación de LightGBM  https://lightgbm.readthedocs.io/en/latest/Parameters-Tuning.html\n"
   ]
  },
  {
   "cell_type": "markdown",
   "metadata": {
    "id": "LNptUgI_NWWG"
   },
   "source": [
    "Adicionalmente podra buscar información como la que proveen esta diminuta muestra aleatoria de artículos ligeros:\n",
    "*  https://medium.com/@sarahzouinina/a-deep-dive-into-lightgbm-how-to-choose-and-tune-parameters-7c584945842e\n",
    "*  https://www.kaggle.com/code/somang1418/tuning-hyperparameters-under-10-minutes-lgbm\n",
    "*  https://towardsdatascience.com/beginners-guide-to-the-must-know-lightgbm-hyperparameters-a0005a812702/\n",
    "\n",
    "\n",
    "<br>  La muestra anterior se brinda a modo de ejemplo, usted deberá buscar muuuuchas  fuentes adicionales de información\n",
    "<br> Tenga presente que LightGBM es el estado del arte en modelado predictivo para datasets estructurado, que son el 90% del trabajo del 95% de los Data Scientists en Argentina."
   ]
  },
  {
   "cell_type": "markdown",
   "metadata": {
    "id": "WpUThBojODyK"
   },
   "source": [
    "El desafío de esta tarea es:\n",
    "* Qué hiperparparámetros conviene optimizar?  Las recomendaciones de los artículos ligeros es siempre sensata?  Sus autores realmente hicieron experimentos o son siemplemente escritores de entretenimiento carente de base científica?\n",
    "* Elegidos los hiperparámetros, cual es el  <desde, hasta> que se debe utilizar en la Bayesian Optimization ?\n",
    "* Realmente vale la pena optimizar 10 o 16 hiperparámetros al mismo tiempo ?  No resulta contraproducente una búsqueda en un espacio de tal alta dimensionalidad ?"
   ]
  },
  {
   "cell_type": "markdown",
   "metadata": {
    "id": "PX0qg_c0yqob"
   },
   "source": [
    "#### 2.1  Seteo del ambiente en Google Colab"
   ]
  },
  {
   "cell_type": "markdown",
   "metadata": {
    "id": "NGY7H9xza7Zr"
   },
   "source": [
    "Esta parte se debe correr con el runtime en Python3\n",
    "<br>Ir al menu, Runtime -> Change Runtime Type -> Runtime type ->  **Python 3**"
   ]
  },
  {
   "cell_type": "markdown",
   "metadata": {
    "id": "7PupIBNba7Zr"
   },
   "source": [
    "Conectar la virtual machine donde esta corriendo Google Colab con el  Google Drive, para poder tener persistencia de archivos"
   ]
  },
  {
   "cell_type": "code",
   "execution_count": null,
   "metadata": {
    "id": "9LpZCst5a7Zs"
   },
   "outputs": [],
   "source": [
    "# primero establecer el Runtime de Python 3\n",
    "from google.colab import drive\n",
    "drive.mount('/content/.drive')"
   ]
  },
  {
   "cell_type": "markdown",
   "metadata": {
    "id": "JYC_F-wla7Zs"
   },
   "source": [
    "Para correr la siguiente celda es fundamental en Arranque en Frio haber copiado el archivo kaggle.json al Google Drive, en la carpeta indicada en el instructivo\n",
    "\n",
    "<br>los siguientes comando estan en shell script de Linux\n",
    "*   Crear las carpetas en el Google Drive\n",
    "*   \"instalar\" el archivo kaggle.json desde el Google Drive a la virtual machine para que pueda ser utilizado por la libreria  kaggle de Python\n",
    "*   Bajar el  **dataset_pequeno**  al  Google Drive  y tambien al disco local de la virtual machine que esta corriendo Google Colab\n",
    "\n"
   ]
  },
  {
   "cell_type": "code",
   "execution_count": null,
   "metadata": {
    "id": "XWLelftXa7Zt"
   },
   "outputs": [],
   "source": [
    "%%shell\n",
    "\n",
    "mkdir -p \"/content/.drive/My Drive/dm\"\n",
    "mkdir -p \"/content/buckets\"\n",
    "ln -s \"/content/.drive/My Drive/dm\" /content/buckets/b1\n",
    "\n",
    "mkdir -p ~/.kaggle\n",
    "cp /content/buckets/b1/kaggle/kaggle.json  ~/.kaggle\n",
    "chmod 600 ~/.kaggle/kaggle.json\n",
    "\n",
    "\n",
    "mkdir -p /content/buckets/b1/exp\n",
    "mkdir -p /content/buckets/b1/datasets\n",
    "mkdir -p /content/datasets\n",
    "\n",
    "\n",
    "\n",
    "archivo_origen=\"https://storage.googleapis.com/open-courses/itba2025-8d0a/dataset_pequeno.csv\"\n",
    "archivo_destino=\"/content/datasets/dataset_pequeno.csv\"\n",
    "archivo_destino_bucket=\"/content/buckets/b1/datasets/dataset_pequeno.csv\"\n",
    "\n",
    "if ! test -f $archivo_destino_bucket; then\n",
    "  wget  $archivo_origen  -O $archivo_destino_bucket\n",
    "fi\n",
    "\n",
    "\n",
    "if ! test -f $archivo_destino; then\n",
    "  cp  $archivo_destino_bucket  $archivo_destino\n",
    "fi\n"
   ]
  },
  {
   "cell_type": "markdown",
   "metadata": {
    "id": "oSKhZRToy2F7"
   },
   "source": [
    "### 2.2 Optimizacion Hiperparámetros"
   ]
  },
  {
   "cell_type": "markdown",
   "metadata": {
    "id": "2kwPpHAtSmix"
   },
   "source": [
    "Esta parte se debe correr con el runtime en lenguaje R Ir al menu, Runtime -> Change Runtime Type -> Runtime type -> R"
   ]
  },
  {
   "cell_type": "markdown",
   "metadata": {
    "id": "xp4-Bj3aYI8d"
   },
   "source": [
    "### 2.2.1 Inicio"
   ]
  },
  {
   "cell_type": "markdown",
   "metadata": {
    "id": "zy8YTZfESxeJ"
   },
   "source": [
    "limpio el ambiente de R"
   ]
  },
  {
   "cell_type": "code",
   "execution_count": 21,
   "metadata": {
    "id": "gBq__iAdQliq"
   },
   "outputs": [
    {
     "data": {
      "text/html": [
       "'Tue Aug 05 12:27:36 AM 2025'"
      ],
      "text/latex": [
       "'Tue Aug 05 12:27:36 AM 2025'"
      ],
      "text/markdown": [
       "'Tue Aug 05 12:27:36 AM 2025'"
      ],
      "text/plain": [
       "[1] \"Tue Aug 05 12:27:36 AM 2025\""
      ]
     },
     "metadata": {},
     "output_type": "display_data"
    }
   ],
   "source": [
    "format(Sys.time(), \"%a %b %d %X %Y\")"
   ]
  },
  {
   "cell_type": "code",
   "execution_count": 22,
   "metadata": {
    "id": "7rdVrBojS1IV"
   },
   "outputs": [
    {
     "data": {
      "text/html": [
       "<table class=\"dataframe\">\n",
       "<caption>A matrix: 2 × 6 of type dbl</caption>\n",
       "<thead>\n",
       "\t<tr><th></th><th scope=col>used</th><th scope=col>(Mb)</th><th scope=col>gc trigger</th><th scope=col>(Mb)</th><th scope=col>max used</th><th scope=col>(Mb)</th></tr>\n",
       "</thead>\n",
       "<tbody>\n",
       "\t<tr><th scope=row>Ncells</th><td> 2300667</td><td>122.9</td><td>  3891007</td><td>207.9</td><td>  3891007</td><td>207.9</td></tr>\n",
       "\t<tr><th scope=row>Vcells</th><td>29883463</td><td>228.0</td><td>104696535</td><td>798.8</td><td>130812804</td><td>998.1</td></tr>\n",
       "</tbody>\n",
       "</table>\n"
      ],
      "text/latex": [
       "A matrix: 2 × 6 of type dbl\n",
       "\\begin{tabular}{r|llllll}\n",
       "  & used & (Mb) & gc trigger & (Mb) & max used & (Mb)\\\\\n",
       "\\hline\n",
       "\tNcells &  2300667 & 122.9 &   3891007 & 207.9 &   3891007 & 207.9\\\\\n",
       "\tVcells & 29883463 & 228.0 & 104696535 & 798.8 & 130812804 & 998.1\\\\\n",
       "\\end{tabular}\n"
      ],
      "text/markdown": [
       "\n",
       "A matrix: 2 × 6 of type dbl\n",
       "\n",
       "| <!--/--> | used | (Mb) | gc trigger | (Mb) | max used | (Mb) |\n",
       "|---|---|---|---|---|---|---|\n",
       "| Ncells |  2300667 | 122.9 |   3891007 | 207.9 |   3891007 | 207.9 |\n",
       "| Vcells | 29883463 | 228.0 | 104696535 | 798.8 | 130812804 | 998.1 |\n",
       "\n"
      ],
      "text/plain": [
       "       used     (Mb)  gc trigger (Mb)  max used  (Mb) \n",
       "Ncells  2300667 122.9   3891007  207.9   3891007 207.9\n",
       "Vcells 29883463 228.0 104696535  798.8 130812804 998.1"
      ]
     },
     "metadata": {},
     "output_type": "display_data"
    }
   ],
   "source": [
    "# limpio la memoria\n",
    "rm(list=ls(all.names=TRUE)) # remove all objects\n",
    "gc(full=TRUE, verbose=FALSE) # garbage collection"
   ]
  },
  {
   "cell_type": "markdown",
   "metadata": {
    "id": "kuPfQ7ksjwW3"
   },
   "source": [
    "### 2.2.2 Carga de Librerias"
   ]
  },
  {
   "cell_type": "code",
   "execution_count": 23,
   "metadata": {
    "id": "lVyxLaJ1j1J_"
   },
   "outputs": [],
   "source": [
    "# cargo las librerias que necesito\n",
    "require(\"data.table\")\n",
    "require(\"parallel\")\n",
    "\n",
    "if( !require(\"primes\") ) install.packages(\"primes\")\n",
    "require(\"primes\")\n",
    "\n",
    "if( !require(\"utils\") ) install.packages(\"utils\")\n",
    "require(\"utils\")\n",
    "\n",
    "if( !require(\"rlist\") ) install.packages(\"rlist\")\n",
    "require(\"rlist\")\n",
    "\n",
    "if( !require(\"yaml\")) install.packages(\"yaml\")\n",
    "require(\"yaml\")\n",
    "\n",
    "if( !require(\"lightgbm\") ) install.packages(\"lightgbm\")\n",
    "require(\"lightgbm\")\n",
    "\n",
    "if( !require(\"DiceKriging\") ) install.packages(\"DiceKriging\")\n",
    "require(\"DiceKriging\")\n",
    "\n",
    "if( !require(\"mlrMBO\") ) install.packages(\"mlrMBO\")\n",
    "require(\"mlrMBO\")"
   ]
  },
  {
   "cell_type": "markdown",
   "metadata": {
    "id": "Iz-6Qt6BUaA3"
   },
   "source": [
    "### 2.2.3 Definicion de Parametros"
   ]
  },
  {
   "cell_type": "markdown",
   "metadata": {
    "id": "cOdlKd7lUm2I"
   },
   "source": [
    "aqui debe cargar SU semilla primigenia\n",
    "<br>recuerde cambiar el numero de experimento en cada corrida nueva"
   ]
  },
  {
   "cell_type": "code",
   "execution_count": 24,
   "metadata": {
    "id": "ASYkebOu2mF6"
   },
   "outputs": [],
   "source": [
    "PARAM <- list()\n",
    "PARAM$experimento <- 49425\n",
    "PARAM$semilla_primigenia <- 100109\n"
   ]
  },
  {
   "cell_type": "code",
   "execution_count": 25,
   "metadata": {
    "id": "ezOhQdbA293o"
   },
   "outputs": [],
   "source": [
    "PARAM$kaggle$competencia <- \"data-mining-analista-sr-2025-a\"\n",
    "PARAM$kaggle$cortes <- seq(10000, 12000, by= 500)"
   ]
  },
  {
   "cell_type": "code",
   "execution_count": 26,
   "metadata": {
    "id": "jtB0Lub42rHO"
   },
   "outputs": [],
   "source": [
    "# un undersampling de 0.1  toma solo el 10% de los CONTINUA\n",
    "# undersampling de 1.0  implica tomar TODOS los datos\n",
    "\n",
    "PARAM$trainingstrategy$undersampling <- 1"
   ]
  },
  {
   "cell_type": "code",
   "execution_count": 55,
   "metadata": {
    "id": "OFxm-xiNUOJX"
   },
   "outputs": [],
   "source": [
    "# Parametros LightGBM\n",
    "\n",
    "PARAM$hyperparametertuning$xval_folds <- 5\n",
    "\n",
    "# parametros fijos del LightGBM que se pisaran con la parte variable de la BO\n",
    "PARAM$lgbm$param_fijos <-  list(\n",
    "  boosting= \"gbdt\", # puede ir  dart  , ni pruebe random_forest\n",
    "  objective= \"binary\",\n",
    "  metric= \"auc\",\n",
    "  first_metric_only= FALSE,\n",
    "  boost_from_average= TRUE,\n",
    "  feature_pre_filter= FALSE,\n",
    "  force_row_wise= TRUE, # para reducir warnings\n",
    "  verbosity= -100,\n",
    "\n",
    "  seed= PARAM$semilla_primigenia,\n",
    "\n",
    "  max_depth= -1L, # -1 significa no limitar,  por ahora lo dejo fijo\n",
    "  min_gain_to_split= 0.1, # min_gain_to_split >= 0\n",
    "  min_sum_hessian_in_leaf= 1, #  min_sum_hessian_in_leaf >= 0.0\n",
    "  lambda_l1= 1, # lambda_l1 >= 0.0\n",
    "  lambda_l2= 800, # lambda_l2 >= 0.0\n",
    "  max_bin= 31L, # lo debo dejar fijo, no participa de la BO\n",
    "\n",
    "  bagging_fraction= 0.5, # 0.0 < bagging_fraction <= 1.0\n",
    "  pos_bagging_fraction= 1.0, # 0.0 < pos_bagging_fraction <= 1.0\n",
    "  neg_bagging_fraction= 1.0, # 0.0 < neg_bagging_fraction <= 1.0\n",
    "  is_unbalance= FALSE, #\n",
    "  scale_pos_weight= 0.5, # scale_pos_weight > 0.0\n",
    "\n",
    "  drop_rate= 0, # 0.0 < neg_bagging_fraction <= 1.0\n",
    "  max_drop= 0, # <=0 means no limit\n",
    "  skip_drop= 0, # 0.0 <= skip_drop <= 1.0\n",
    "\n",
    "  extra_trees= FALSE,\n",
    "\n",
    "  num_iterations= 1388,\n",
    "  learning_rate= 0.010007,\n",
    "  feature_fraction= 0.8142944,\n",
    "  num_leaves= 31,\n",
    "  min_data_in_leaf= 104\n",
    ")\n"
   ]
  },
  {
   "cell_type": "markdown",
   "metadata": {
    "id": "D5Yj-JV4yvOt"
   },
   "source": [
    "Aqui se definen los hiperparámetros de LightGBM que participan de la Bayesian Optimization\n",
    "<br> si es un numero entero debe ir  makeIntegerParam\n",
    "<br> si es un numero real (con decimales) debe ir  makeNumericParam\n",
    "<br> es muy importante leer cuales son un lower y upper  permitidos y ademas razonables"
   ]
  },
  {
   "cell_type": "code",
   "execution_count": 56,
   "metadata": {
    "id": "jENpR26ZyuS8"
   },
   "outputs": [],
   "source": [
    "# Aqui se cargan los bordes de los hiperparametros de la BO\n",
    "PARAM$hypeparametertuning$hs <- makeParamSet(\n",
    "  makeIntegerParam(\"num_iterations\", lower= 600L, upper= 2000L),\n",
    "  makeNumericParam(\"learning_rate\", lower= 0.001, upper= 0.4),\n",
    "  makeNumericParam(\"feature_fraction\", lower= 0.4, upper= 0.8),\n",
    "  makeIntegerParam(\"num_leaves\", lower= 20L, upper= 2000L),\n",
    "  makeIntegerParam(\"min_data_in_leaf\", lower= 50L, upper= 2000L)\n",
    ")"
   ]
  },
  {
   "cell_type": "markdown",
   "metadata": {
    "id": "-_RPFUb3zMoW"
   },
   "source": [
    "A mayor cantidad de hiperparámetros, se debe aumentar las iteraciones de la Bayesian Optimization\n",
    "<br> 30 es un valor muy tacaño, pero corre rápido\n",
    "<br> deberia partir de 50, alcanzando los 100 si se dispone de tiempo"
   ]
  },
  {
   "cell_type": "code",
   "execution_count": 57,
   "metadata": {
    "id": "q5Rd3pnbzSiG"
   },
   "outputs": [],
   "source": [
    "PARAM$hyperparametertuning$iteraciones <- 100 # iteraciones bayesianas"
   ]
  },
  {
   "cell_type": "markdown",
   "metadata": {
    "id": "4RWZXL1VZjMI"
   },
   "source": [
    "### 2.2.4  Preprocesamiento"
   ]
  },
  {
   "cell_type": "code",
   "execution_count": 58,
   "metadata": {
    "id": "j3toG9-lZm4K"
   },
   "outputs": [],
   "source": [
    "# carpeta de trabajo\n",
    "\n",
    "setwd(\"/content/buckets/b1/exp\")\n",
    "experimento_folder <- paste0(\"HT\", PARAM$experimento)\n",
    "dir.create(experimento_folder, showWarnings=FALSE)\n",
    "setwd( paste0(\"/content/buckets/b1/exp/\", experimento_folder ))"
   ]
  },
  {
   "cell_type": "code",
   "execution_count": 59,
   "metadata": {
    "id": "FM3lxKoLZ643"
   },
   "outputs": [],
   "source": [
    "# lectura del dataset\n",
    "\n",
    "dataset <- fread(\"/content/datasets/dataset_pequeno.csv\")"
   ]
  },
  {
   "cell_type": "code",
   "execution_count": 60,
   "metadata": {
    "id": "OsJ-91UeZ-I_"
   },
   "outputs": [],
   "source": [
    "dataset_train <- dataset[foto_mes %in% c(202107)]"
   ]
  },
  {
   "cell_type": "code",
   "execution_count": 61,
   "metadata": {
    "id": "vrWE7BE0aB2J"
   },
   "outputs": [],
   "source": [
    "# paso la clase a binaria que tome valores {0,1}  enteros\n",
    "#  BAJA+1 y BAJA+2  son  1,   CONTINUA es 0\n",
    "\n",
    "dataset_train[,\n",
    "  clase01 := ifelse(clase_ternaria %in% c(\"BAJA+2\",\"BAJA+1\"), 1L, 0L)\n",
    "]"
   ]
  },
  {
   "cell_type": "code",
   "execution_count": 62,
   "metadata": {},
   "outputs": [],
   "source": [
    "dataset_positivos <- copy(dataset_train[clase01 == 1])\n",
    "dataset_positivos[, clase01 := 0]\n",
    "dataset_train <- rbind(dataset_train, dataset_positivos)\n"
   ]
  },
  {
   "cell_type": "code",
   "execution_count": 63,
   "metadata": {
    "id": "jP7YlQBnaW6W"
   },
   "outputs": [],
   "source": [
    "# defino los datos que forma parte del training\n",
    "# aqui se hace el undersampling de los CONTINUA\n",
    "# notar que para esto utilizo la SEGUNDA semilla\n",
    "\n",
    "set.seed(PARAM$semilla_primigenia, kind = \"L'Ecuyer-CMRG\")\n",
    "dataset_train[, azar := runif(nrow(dataset_train))]\n",
    "dataset_train[, training := 0L]\n",
    "\n",
    "dataset_train[\n",
    "  foto_mes %in% c(202107) &\n",
    "    (azar <= PARAM$trainingstrategy$undersampling | clase_ternaria %in% c(\"BAJA+1\", \"BAJA+2\")),\n",
    "  training := 1L\n",
    "]"
   ]
  },
  {
   "cell_type": "code",
   "execution_count": 64,
   "metadata": {
    "id": "xElu4s5W4rX7"
   },
   "outputs": [],
   "source": [
    "# los campos que se van a utilizar\n",
    "\n",
    "campos_buenos <- setdiff(\n",
    "  colnames(dataset_train),\n",
    "  c(\"clase_ternaria\", \"clase01\", \"azar\", \"training\")\n",
    ")"
   ]
  },
  {
   "cell_type": "code",
   "execution_count": 65,
   "metadata": {
    "id": "PppMHcGYaaol"
   },
   "outputs": [
    {
     "data": {
      "text/html": [
       "166981"
      ],
      "text/latex": [
       "166981"
      ],
      "text/markdown": [
       "166981"
      ],
      "text/plain": [
       "[1] 166981"
      ]
     },
     "metadata": {},
     "output_type": "display_data"
    },
    {
     "data": {
      "text/html": [
       "154"
      ],
      "text/latex": [
       "154"
      ],
      "text/markdown": [
       "154"
      ],
      "text/plain": [
       "[1] 154"
      ]
     },
     "metadata": {},
     "output_type": "display_data"
    }
   ],
   "source": [
    "# dejo los datos en el formato que necesita LightGBM\n",
    "\n",
    "dtrain <- lgb.Dataset(\n",
    "  data= data.matrix(dataset_train[training == 1L, campos_buenos, with= FALSE]),\n",
    "  label= dataset_train[training == 1L, clase01],\n",
    "  free_raw_data= FALSE\n",
    ")\n",
    "\n",
    "nrow(dtrain)\n",
    "ncol(dtrain)"
   ]
  },
  {
   "cell_type": "markdown",
   "metadata": {
    "id": "Ta-EkOu3cphF"
   },
   "source": [
    "2.2.5 Configuracion Bayesian Optimization"
   ]
  },
  {
   "cell_type": "code",
   "execution_count": 66,
   "metadata": {
    "id": "cjgfurjdfiXb"
   },
   "outputs": [],
   "source": [
    "# En el argumento x llegan los parmaetros de la bayesiana\n",
    "#  devuelve la AUC en cross validation del modelo entrenado\n",
    "\n",
    "EstimarGanancia_AUC_lightgbm <- function(x) {\n",
    "\n",
    "  # x pisa (o agrega) a param_fijos\n",
    "  param_completo <- modifyList(PARAM$lgbm$param_fijos, x)\n",
    "\n",
    "  # entreno LightGBM\n",
    "  modelocv <- lgb.cv(\n",
    "    data= dtrain,\n",
    "    nfold= PARAM$hyperparametertuning$xval_folds,\n",
    "    stratified= TRUE,\n",
    "    param= param_completo\n",
    "  )\n",
    "\n",
    "  # obtengo la ganancia\n",
    "  AUC <- modelocv$best_score\n",
    "\n",
    "  # hago espacio en la memoria\n",
    "  rm(modelocv)\n",
    "  gc(full= TRUE, verbose= FALSE)\n",
    "\n",
    "  message(format(Sys.time(), \"%a %b %d %X %Y\"), \" AUC \", AUC)\n",
    "\n",
    "  return(AUC)\n",
    "}"
   ]
  },
  {
   "cell_type": "code",
   "execution_count": 67,
   "metadata": {
    "id": "WLi_o1hocvN-"
   },
   "outputs": [],
   "source": [
    "# Aqui comienza la configuracion de la Bayesian Optimization\n",
    "\n",
    "# en este archivo quedan la evolucion binaria de la BO\n",
    "kbayesiana <- \"bayesiana.RDATA\"\n",
    "\n",
    "funcion_optimizar <- EstimarGanancia_AUC_lightgbm # la funcion que voy a maximizar\n",
    "\n",
    "configureMlr(show.learner.output= FALSE)\n",
    "\n",
    "# configuro la busqueda bayesiana,  los hiperparametros que se van a optimizar\n",
    "# por favor, no desesperarse por lo complejo\n",
    "\n",
    "obj.fun <- makeSingleObjectiveFunction(\n",
    "  fn= funcion_optimizar, # la funcion que voy a maximizar\n",
    "  minimize= FALSE, # estoy Maximizando la ganancia\n",
    "  noisy= TRUE,\n",
    "  par.set= PARAM$hypeparametertuning$hs, # definido al comienzo del programa\n",
    "  has.simple.signature= FALSE # paso los parametros en una lista\n",
    ")\n",
    "\n",
    "# cada 600 segundos guardo el resultado intermedio\n",
    "ctrl <- makeMBOControl(\n",
    "  save.on.disk.at.time= 600, # se graba cada 600 segundos\n",
    "  save.file.path= kbayesiana\n",
    ") # se graba cada 600 segundos\n",
    "\n",
    "# indico la cantidad de iteraciones que va a tener la Bayesian Optimization\n",
    "ctrl <- setMBOControlTermination(\n",
    "  ctrl,\n",
    "  iters= PARAM$hyperparametertuning$iteraciones\n",
    ") # cantidad de iteraciones\n",
    "\n",
    "# defino el método estandar para la creacion de los puntos iniciales,\n",
    "# los \"No Inteligentes\"\n",
    "ctrl <- setMBOControlInfill(ctrl, crit= makeMBOInfillCritEI())\n",
    "\n",
    "# establezco la funcion que busca el maximo\n",
    "surr.km <- makeLearner(\n",
    "  \"regr.km\",\n",
    "  predict.type= \"se\",\n",
    "  covtype= \"matern3_2\",\n",
    "  control= list(trace= TRUE)\n",
    ")\n"
   ]
  },
  {
   "cell_type": "markdown",
   "metadata": {
    "id": "_uUeVo5pc4zc"
   },
   "source": [
    "2.2.6 Corrida Bayesian Optimization"
   ]
  },
  {
   "cell_type": "code",
   "execution_count": 68,
   "metadata": {
    "id": "RcABNaKGciaz"
   },
   "outputs": [
    {
     "name": "stderr",
     "output_type": "stream",
     "text": [
      "Computing y column(s) for design. Not provided.\n",
      "\n",
      "Tue Aug 05 12:31:58 AM 2025 AUC 0.921463722533115\n",
      "\n",
      "Tue Aug 05 12:32:48 AM 2025 AUC 0.921717283902745\n",
      "\n",
      "Tue Aug 05 12:33:41 AM 2025 AUC 0.920666356943336\n",
      "\n",
      "Tue Aug 05 12:34:13 AM 2025 AUC 0.920657993235376\n",
      "\n",
      "Tue Aug 05 12:34:38 AM 2025 AUC 0.921795044770142\n",
      "\n",
      "Tue Aug 05 12:35:30 AM 2025 AUC 0.920947387002337\n",
      "\n",
      "Tue Aug 05 12:36:11 AM 2025 AUC 0.920118992598323\n",
      "\n",
      "Tue Aug 05 12:37:03 AM 2025 AUC 0.922390448501025\n",
      "\n",
      "Tue Aug 05 12:38:10 AM 2025 AUC 0.917505176783955\n",
      "\n",
      "Tue Aug 05 12:38:51 AM 2025 AUC 0.921667899755045\n",
      "\n",
      "Tue Aug 05 12:39:38 AM 2025 AUC 0.921290222169518\n",
      "\n",
      "Tue Aug 05 12:41:25 AM 2025 AUC 0.92127197284305\n",
      "\n",
      "Tue Aug 05 12:41:57 AM 2025 AUC 0.920752868643364\n",
      "\n",
      "Tue Aug 05 12:43:46 AM 2025 AUC 0.920329178051705\n",
      "\n",
      "Tue Aug 05 12:45:12 AM 2025 AUC 0.92089040226091\n",
      "\n",
      "Tue Aug 05 12:45:49 AM 2025 AUC 0.920973373695738\n",
      "\n",
      "Tue Aug 05 12:47:02 AM 2025 AUC 0.899414408405259\n",
      "\n",
      "Tue Aug 05 12:48:38 AM 2025 AUC 0.920523673512298\n",
      "\n",
      "Tue Aug 05 12:49:18 AM 2025 AUC 0.92096223491148\n",
      "\n",
      "Tue Aug 05 12:49:56 AM 2025 AUC 0.921054909654621\n",
      "\n",
      "[mbo] 0: num_iterations=1095; learning_rate=0.293; feature_fraction=0.5; num_leaves=1537; min_data_in_leaf=638 : y = 0.921 : 63.3 secs : initdesign\n",
      "\n",
      "[mbo] 0: num_iterations=1390; learning_rate=0.231; feature_fraction=0.605; num_leaves=1221; min_data_in_leaf=1126 : y = 0.922 : 50.1 secs : initdesign\n",
      "\n",
      "[mbo] 0: num_iterations=1077; learning_rate=0.264; feature_fraction=0.552; num_leaves=1026; min_data_in_leaf=1904 : y = 0.921 : 53.0 secs : initdesign\n",
      "\n",
      "[mbo] 0: num_iterations=713; learning_rate=0.107; feature_fraction=0.778; num_leaves=1496; min_data_in_leaf=578 : y = 0.921 : 31.2 secs : initdesign\n",
      "\n",
      "[mbo] 0: num_iterations=871; learning_rate=0.258; feature_fraction=0.734; num_leaves=275; min_data_in_leaf=847 : y = 0.922 : 25.0 secs : initdesign\n",
      "\n",
      "[mbo] 0: num_iterations=1782; learning_rate=0.136; feature_fraction=0.656; num_leaves=908; min_data_in_leaf=1331 : y = 0.921 : 52.4 secs : initdesign\n",
      "\n",
      "[mbo] 0: num_iterations=1610; learning_rate=0.332; feature_fraction=0.676; num_leaves=957; min_data_in_leaf=1834 : y = 0.92 : 41.0 secs : initdesign\n",
      "\n",
      "[mbo] 0: num_iterations=1181; learning_rate=0.151; feature_fraction=0.588; num_leaves=681; min_data_in_leaf=270 : y = 0.922 : 52.0 secs : initdesign\n",
      "\n",
      "[mbo] 0: num_iterations=977; learning_rate=0.035; feature_fraction=0.512; num_leaves=1187; min_data_in_leaf=1523 : y = 0.918 : 67.3 secs : initdesign\n",
      "\n",
      "[mbo] 0: num_iterations=1451; learning_rate=0.193; feature_fraction=0.792; num_leaves=98; min_data_in_leaf=797 : y = 0.922 : 40.8 secs : initdesign\n",
      "\n",
      "[mbo] 0: num_iterations=791; learning_rate=0.215; feature_fraction=0.528; num_leaves=1712; min_data_in_leaf=1057 : y = 0.921 : 46.4 secs : initdesign\n",
      "\n",
      "[mbo] 0: num_iterations=1578; learning_rate=0.0512; feature_fraction=0.564; num_leaves=1940; min_data_in_leaf=1717 : y = 0.921 : 107.1 secs : initdesign\n",
      "\n",
      "[mbo] 0: num_iterations=1240; learning_rate=0.362; feature_fraction=0.751; num_leaves=317; min_data_in_leaf=52 : y = 0.921 : 32.2 secs : initdesign\n",
      "\n",
      "[mbo] 0: num_iterations=1857; learning_rate=0.0766; feature_fraction=0.421; num_leaves=596; min_data_in_leaf=1675 : y = 0.92 : 108.6 secs : initdesign\n",
      "\n",
      "[mbo] 0: num_iterations=1679; learning_rate=0.31; feature_fraction=0.463; num_leaves=1689; min_data_in_leaf=156 : y = 0.921 : 86.8 secs : initdesign\n",
      "\n",
      "[mbo] 0: num_iterations=931; learning_rate=0.169; feature_fraction=0.637; num_leaves=436; min_data_in_leaf=1482 : y = 0.921 : 36.7 secs : initdesign\n",
      "\n",
      "[mbo] 0: num_iterations=1874; learning_rate=0.00255; feature_fraction=0.698; num_leaves=1342; min_data_in_leaf=505 : y = 0.899 : 72.5 secs : initdesign\n",
      "\n",
      "[mbo] 0: num_iterations=1940; learning_rate=0.347; feature_fraction=0.458; num_leaves=199; min_data_in_leaf=1274 : y = 0.921 : 96.6 secs : initdesign\n",
      "\n",
      "[mbo] 0: num_iterations=612; learning_rate=0.0955; feature_fraction=0.411; num_leaves=788; min_data_in_leaf=411 : y = 0.921 : 40.2 secs : initdesign\n",
      "\n",
      "[mbo] 0: num_iterations=1317; learning_rate=0.393; feature_fraction=0.702; num_leaves=1891; min_data_in_leaf=981 : y = 0.921 : 37.9 secs : initdesign\n",
      "\n",
      "Saved the current state after iteration 1 in the file bayesiana.RDATA.\n",
      "\n",
      "Tue Aug 05 12:51:32 AM 2025 AUC 0.920459332504728\n",
      "\n",
      "[mbo] 1: num_iterations=1255; learning_rate=0.0945; feature_fraction=0.441; num_leaves=1998; min_data_in_leaf=1992 : y = 0.92 : 90.2 secs : infill_ei\n",
      "\n",
      "Tue Aug 05 12:52:30 AM 2025 AUC 0.921360018096956\n",
      "\n",
      "[mbo] 2: num_iterations=1124; learning_rate=0.221; feature_fraction=0.427; num_leaves=36; min_data_in_leaf=50 : y = 0.921 : 57.9 secs : infill_ei\n",
      "\n",
      "Tue Aug 05 12:53:20 AM 2025 AUC 0.918182143011353\n",
      "\n",
      "[mbo] 3: num_iterations=643; learning_rate=0.0616; feature_fraction=0.509; num_leaves=1996; min_data_in_leaf=1997 : y = 0.918 : 49.2 secs : infill_ei\n",
      "\n",
      "Tue Aug 05 12:54:38 AM 2025 AUC 0.921768628166394\n",
      "\n",
      "[mbo] 4: num_iterations=1497; learning_rate=0.172; feature_fraction=0.403; num_leaves=1992; min_data_in_leaf=403 : y = 0.922 : 77.9 secs : infill_ei\n",
      "\n",
      "Tue Aug 05 12:56:04 AM 2025 AUC 0.920788861425714\n",
      "\n",
      "[mbo] 5: num_iterations=1599; learning_rate=0.146; feature_fraction=0.456; num_leaves=767; min_data_in_leaf=1722 : y = 0.921 : 85.9 secs : infill_ei\n",
      "\n",
      "Tue Aug 05 12:56:40 AM 2025 AUC 0.922053285778326\n",
      "\n",
      "[mbo] 6: num_iterations=600; learning_rate=0.167; feature_fraction=0.561; num_leaves=977; min_data_in_leaf=277 : y = 0.922 : 35.4 secs : infill_ei\n",
      "\n",
      "Tue Aug 05 12:57:12 AM 2025 AUC 0.921019796306673\n",
      "\n",
      "[mbo] 7: num_iterations=1125; learning_rate=0.206; feature_fraction=0.799; num_leaves=1701; min_data_in_leaf=56 : y = 0.921 : 31.5 secs : infill_ei\n",
      "\n",
      "Tue Aug 05 12:58:20 AM 2025 AUC 0.921632957962358\n",
      "\n",
      "[mbo] 8: num_iterations=1273; learning_rate=0.125; feature_fraction=0.4; num_leaves=1550; min_data_in_leaf=54 : y = 0.922 : 67.7 secs : infill_ei\n",
      "\n",
      "Tue Aug 05 12:59:08 AM 2025 AUC 0.921371049767858\n",
      "\n",
      "[mbo] 9: num_iterations=892; learning_rate=0.141; feature_fraction=0.4; num_leaves=20; min_data_in_leaf=637 : y = 0.921 : 47.6 secs : infill_ei\n",
      "\n",
      "Tue Aug 05 01:00:00 AM 2025 AUC 0.922077835363497\n",
      "\n",
      "[mbo] 10: num_iterations=911; learning_rate=0.15; feature_fraction=0.402; num_leaves=1717; min_data_in_leaf=292 : y = 0.922 : 51.1 secs : infill_ei\n",
      "\n",
      "Tue Aug 05 01:01:34 AM 2025 AUC 0.920978737511322\n",
      "\n",
      "[mbo] 11: num_iterations=1915; learning_rate=0.131; feature_fraction=0.572; num_leaves=1998; min_data_in_leaf=1573 : y = 0.921 : 93.9 secs : infill_ei\n",
      "\n",
      "Saved the current state after iteration 12 in the file bayesiana.RDATA.\n",
      "\n",
      "Tue Aug 05 01:02:42 AM 2025 AUC 0.920942497710866\n",
      "\n",
      "[mbo] 12: num_iterations=1305; learning_rate=0.204; feature_fraction=0.401; num_leaves=780; min_data_in_leaf=544 : y = 0.921 : 63.8 secs : infill_ei\n",
      "\n",
      "Tue Aug 05 01:03:30 AM 2025 AUC 0.921367313157231\n",
      "\n",
      "[mbo] 13: num_iterations=1938; learning_rate=0.281; feature_fraction=0.642; num_leaves=34; min_data_in_leaf=53 : y = 0.921 : 47.6 secs : infill_ei\n",
      "\n",
      "Tue Aug 05 01:04:09 AM 2025 AUC 0.921023898469248\n",
      "\n",
      "[mbo] 14: num_iterations=1404; learning_rate=0.256; feature_fraction=0.647; num_leaves=1998; min_data_in_leaf=50 : y = 0.921 : 38.5 secs : infill_ei\n",
      "\n",
      "Tue Aug 05 01:04:41 AM 2025 AUC 0.921412224390823\n",
      "\n",
      "[mbo] 15: num_iterations=601; learning_rate=0.307; feature_fraction=0.49; num_leaves=24; min_data_in_leaf=106 : y = 0.921 : 32.2 secs : infill_ei\n",
      "\n",
      "Tue Aug 05 01:05:07 AM 2025 AUC 0.921162270938326\n",
      "\n",
      "[mbo] 16: num_iterations=904; learning_rate=0.302; feature_fraction=0.799; num_leaves=1886; min_data_in_leaf=1181 : y = 0.921 : 25.0 secs : infill_ei\n",
      "\n",
      "Tue Aug 05 01:05:40 AM 2025 AUC 0.921005460459823\n",
      "\n",
      "[mbo] 17: num_iterations=600; learning_rate=0.4; feature_fraction=0.459; num_leaves=69; min_data_in_leaf=1137 : y = 0.921 : 32.6 secs : infill_ei\n",
      "\n",
      "Tue Aug 05 01:06:05 AM 2025 AUC 0.920602014031294\n",
      "\n",
      "[mbo] 18: num_iterations=602; learning_rate=0.159; feature_fraction=0.788; num_leaves=946; min_data_in_leaf=1992 : y = 0.921 : 24.8 secs : infill_ei\n",
      "\n",
      "Tue Aug 05 01:06:36 AM 2025 AUC 0.920368995707093\n",
      "\n",
      "[mbo] 19: num_iterations=601; learning_rate=0.359; feature_fraction=0.454; num_leaves=1988; min_data_in_leaf=855 : y = 0.92 : 31.0 secs : infill_ei\n",
      "\n",
      "Tue Aug 05 01:07:16 AM 2025 AUC 0.921508291107785\n",
      "\n",
      "[mbo] 20: num_iterations=1380; learning_rate=0.167; feature_fraction=0.799; num_leaves=1999; min_data_in_leaf=1304 : y = 0.922 : 39.0 secs : infill_ei\n",
      "\n",
      "Tue Aug 05 01:08:03 AM 2025 AUC 0.92122237952131\n",
      "\n",
      "[mbo] 21: num_iterations=1450; learning_rate=0.102; feature_fraction=0.8; num_leaves=1204; min_data_in_leaf=1799 : y = 0.921 : 46.9 secs : infill_ei\n",
      "\n",
      "Tue Aug 05 01:08:33 AM 2025 AUC 0.920997159014179\n",
      "\n",
      "[mbo] 22: num_iterations=713; learning_rate=0.144; feature_fraction=0.787; num_leaves=564; min_data_in_leaf=180 : y = 0.921 : 29.0 secs : infill_ei\n",
      "\n",
      "Tue Aug 05 01:10:05 AM 2025 AUC 0.920579090725861\n",
      "\n",
      "[mbo] 23: num_iterations=1591; learning_rate=0.0777; feature_fraction=0.484; num_leaves=1999; min_data_in_leaf=2000 : y = 0.921 : 91.8 secs : infill_ei\n",
      "\n",
      "Tue Aug 05 01:11:22 AM 2025 AUC 0.921307392522357\n",
      "\n",
      "[mbo] 24: num_iterations=1548; learning_rate=0.204; feature_fraction=0.558; num_leaves=22; min_data_in_leaf=50 : y = 0.921 : 76.2 secs : infill_ei\n",
      "\n",
      "Tue Aug 05 01:12:31 AM 2025 AUC 0.921173510300825\n",
      "\n",
      "[mbo] 25: num_iterations=1209; learning_rate=0.111; feature_fraction=0.473; num_leaves=1796; min_data_in_leaf=1091 : y = 0.921 : 68.7 secs : infill_ei\n",
      "\n",
      "Saved the current state after iteration 26 in the file bayesiana.RDATA.\n",
      "\n",
      "Tue Aug 05 01:13:36 AM 2025 AUC 0.921480078359817\n",
      "\n",
      "[mbo] 26: num_iterations=1338; learning_rate=0.159; feature_fraction=0.579; num_leaves=1377; min_data_in_leaf=370 : y = 0.921 : 59.4 secs : infill_ei\n",
      "\n",
      "Tue Aug 05 01:14:49 AM 2025 AUC 0.921016540622995\n",
      "\n",
      "[mbo] 27: num_iterations=1420; learning_rate=0.104; feature_fraction=0.576; num_leaves=484; min_data_in_leaf=1732 : y = 0.921 : 72.5 secs : infill_ei\n",
      "\n",
      "Tue Aug 05 01:15:47 AM 2025 AUC 0.92145078347247\n",
      "\n",
      "[mbo] 28: num_iterations=1073; learning_rate=0.154; feature_fraction=0.401; num_leaves=477; min_data_in_leaf=52 : y = 0.921 : 56.9 secs : infill_ei\n",
      "\n",
      "Tue Aug 05 01:16:20 AM 2025 AUC 0.921720916113927\n",
      "\n",
      "[mbo] 29: num_iterations=645; learning_rate=0.182; feature_fraction=0.586; num_leaves=2000; min_data_in_leaf=474 : y = 0.922 : 32.7 secs : infill_ei\n",
      "\n",
      "Tue Aug 05 01:16:57 AM 2025 AUC 0.92108332482482\n",
      "\n",
      "[mbo] 30: num_iterations=1559; learning_rate=0.292; feature_fraction=0.792; num_leaves=22; min_data_in_leaf=1022 : y = 0.921 : 36.4 secs : infill_ei\n",
      "\n",
      "Tue Aug 05 01:17:47 AM 2025 AUC 0.92175570625466\n",
      "\n",
      "[mbo] 31: num_iterations=1996; learning_rate=0.225; feature_fraction=0.8; num_leaves=1994; min_data_in_leaf=1669 : y = 0.922 : 49.7 secs : infill_ei\n",
      "\n",
      "Tue Aug 05 01:18:41 AM 2025 AUC 0.921368997466508\n",
      "\n",
      "[mbo] 32: num_iterations=1998; learning_rate=0.233; feature_fraction=0.799; num_leaves=20; min_data_in_leaf=534 : y = 0.921 : 53.9 secs : infill_ei\n",
      "\n",
      "Tue Aug 05 01:19:04 AM 2025 AUC 0.921149256522854\n",
      "\n",
      "[mbo] 33: num_iterations=604; learning_rate=0.231; feature_fraction=0.638; num_leaves=575; min_data_in_leaf=287 : y = 0.921 : 21.9 secs : infill_ei\n",
      "\n",
      "Tue Aug 05 01:19:45 AM 2025 AUC 0.921385630891013\n",
      "\n",
      "[mbo] 34: num_iterations=1164; learning_rate=0.287; feature_fraction=0.596; num_leaves=20; min_data_in_leaf=311 : y = 0.921 : 41.1 secs : infill_ei\n",
      "\n",
      "Tue Aug 05 01:20:35 AM 2025 AUC 0.921153840952412\n",
      "\n",
      "[mbo] 35: num_iterations=1924; learning_rate=0.26; feature_fraction=0.712; num_leaves=1940; min_data_in_leaf=900 : y = 0.921 : 48.9 secs : infill_ei\n",
      "\n",
      "Tue Aug 05 01:22:08 AM 2025 AUC 0.920820106873762\n",
      "\n",
      "[mbo] 36: num_iterations=1981; learning_rate=0.4; feature_fraction=0.402; num_leaves=961; min_data_in_leaf=93 : y = 0.921 : 93.0 secs : infill_ei\n",
      "\n",
      "Tue Aug 05 01:22:57 AM 2025 AUC 0.921380385569314\n",
      "\n",
      "[mbo] 37: num_iterations=2000; learning_rate=0.189; feature_fraction=0.719; num_leaves=1999; min_data_in_leaf=1246 : y = 0.921 : 48.7 secs : infill_ei\n",
      "\n",
      "Saved the current state after iteration 38 in the file bayesiana.RDATA.\n",
      "\n",
      "Tue Aug 05 01:23:43 AM 2025 AUC 0.921269715840008\n",
      "\n",
      "[mbo] 38: num_iterations=1847; learning_rate=0.4; feature_fraction=0.799; num_leaves=22; min_data_in_leaf=1467 : y = 0.921 : 39.4 secs : infill_ei\n",
      "\n",
      "Tue Aug 05 01:24:30 AM 2025 AUC 0.92049531189698\n",
      "\n",
      "[mbo] 39: num_iterations=1996; learning_rate=0.225; feature_fraction=0.798; num_leaves=25; min_data_in_leaf=1439 : y = 0.92 : 46.7 secs : infill_ei\n",
      "\n",
      "Tue Aug 05 01:25:04 AM 2025 AUC 0.921078656182296\n",
      "\n",
      "[mbo] 40: num_iterations=654; learning_rate=0.141; feature_fraction=0.59; num_leaves=785; min_data_in_leaf=820 : y = 0.921 : 33.8 secs : infill_ei\n",
      "\n",
      "Tue Aug 05 01:25:41 AM 2025 AUC 0.920978633618234\n",
      "\n",
      "[mbo] 41: num_iterations=1251; learning_rate=0.197; feature_fraction=0.798; num_leaves=1996; min_data_in_leaf=1999 : y = 0.921 : 36.1 secs : infill_ei\n",
      "\n",
      "Tue Aug 05 01:26:16 AM 2025 AUC 0.920840184425906\n",
      "\n",
      "[mbo] 42: num_iterations=603; learning_rate=0.184; feature_fraction=0.457; num_leaves=1874; min_data_in_leaf=50 : y = 0.921 : 35.2 secs : infill_ei\n",
      "\n",
      "Tue Aug 05 01:26:57 AM 2025 AUC 0.921772750743661\n",
      "\n",
      "[mbo] 43: num_iterations=634; learning_rate=0.119; feature_fraction=0.493; num_leaves=1998; min_data_in_leaf=274 : y = 0.922 : 40.0 secs : infill_ei\n",
      "\n",
      "Tue Aug 05 01:28:12 AM 2025 AUC 0.92084767165536\n",
      "\n",
      "[mbo] 44: num_iterations=1582; learning_rate=0.254; feature_fraction=0.406; num_leaves=20; min_data_in_leaf=598 : y = 0.921 : 74.4 secs : infill_ei\n",
      "\n",
      "Tue Aug 05 01:28:40 AM 2025 AUC 0.921033621394057\n",
      "\n",
      "[mbo] 45: num_iterations=1077; learning_rate=0.239; feature_fraction=0.8; num_leaves=1629; min_data_in_leaf=1325 : y = 0.921 : 28.0 secs : infill_ei\n",
      "\n",
      "Tue Aug 05 01:29:23 AM 2025 AUC 0.921832126583232\n",
      "\n",
      "[mbo] 46: num_iterations=1979; learning_rate=0.4; feature_fraction=0.772; num_leaves=464; min_data_in_leaf=771 : y = 0.922 : 42.7 secs : infill_ei\n",
      "\n",
      "Tue Aug 05 01:29:46 AM 2025 AUC 0.921362592695034\n",
      "\n",
      "[mbo] 47: num_iterations=882; learning_rate=0.387; feature_fraction=0.8; num_leaves=853; min_data_in_leaf=976 : y = 0.921 : 21.7 secs : infill_ei\n",
      "\n",
      "Tue Aug 05 01:30:31 AM 2025 AUC 0.920504720528371\n",
      "\n",
      "[mbo] 48: num_iterations=1835; learning_rate=0.294; feature_fraction=0.8; num_leaves=941; min_data_in_leaf=269 : y = 0.921 : 45.2 secs : infill_ei\n",
      "\n",
      "Tue Aug 05 01:31:35 AM 2025 AUC 0.920880175076325\n",
      "\n",
      "[mbo] 49: num_iterations=1742; learning_rate=0.208; feature_fraction=0.6; num_leaves=1998; min_data_in_leaf=1475 : y = 0.921 : 63.3 secs : infill_ei\n",
      "\n",
      "Tue Aug 05 01:32:27 AM 2025 AUC 0.92154453728586\n",
      "\n",
      "[mbo] 50: num_iterations=954; learning_rate=0.128; feature_fraction=0.403; num_leaves=121; min_data_in_leaf=276 : y = 0.922 : 51.4 secs : infill_ei\n",
      "\n",
      "Tue Aug 05 01:33:20 AM 2025 AUC 0.921010382045333\n",
      "\n",
      "[mbo] 51: num_iterations=1995; learning_rate=0.174; feature_fraction=0.795; num_leaves=255; min_data_in_leaf=222 : y = 0.921 : 52.3 secs : infill_ei\n",
      "\n",
      "Saved the current state after iteration 52 in the file bayesiana.RDATA.\n",
      "\n",
      "Tue Aug 05 01:34:45 AM 2025 AUC 0.921424140940605\n",
      "\n",
      "[mbo] 52: num_iterations=1892; learning_rate=0.0994; feature_fraction=0.592; num_leaves=2000; min_data_in_leaf=61 : y = 0.921 : 81.0 secs : infill_ei\n",
      "\n",
      "Tue Aug 05 01:36:26 AM 2025 AUC 0.921816896396777\n",
      "\n",
      "[mbo] 53: num_iterations=1999; learning_rate=0.226; feature_fraction=0.466; num_leaves=1999; min_data_in_leaf=475 : y = 0.922 : 99.7 secs : infill_ei\n",
      "\n",
      "Tue Aug 05 01:37:13 AM 2025 AUC 0.921576995499303\n",
      "\n",
      "[mbo] 54: num_iterations=1141; learning_rate=0.4; feature_fraction=0.564; num_leaves=20; min_data_in_leaf=550 : y = 0.922 : 47.0 secs : infill_ei\n",
      "\n",
      "Tue Aug 05 01:37:39 AM 2025 AUC 0.921381191016733\n",
      "\n",
      "[mbo] 55: num_iterations=600; learning_rate=0.315; feature_fraction=0.589; num_leaves=222; min_data_in_leaf=1105 : y = 0.921 : 25.3 secs : infill_ei\n",
      "\n",
      "Tue Aug 05 01:38:32 AM 2025 AUC 0.92183949168124\n",
      "\n",
      "[mbo] 56: num_iterations=1444; learning_rate=0.148; feature_fraction=0.601; num_leaves=33; min_data_in_leaf=245 : y = 0.922 : 52.2 secs : infill_ei\n",
      "\n",
      "Tue Aug 05 01:39:08 AM 2025 AUC 0.921365080786633\n",
      "\n",
      "[mbo] 57: num_iterations=1122; learning_rate=0.146; feature_fraction=0.681; num_leaves=2000; min_data_in_leaf=185 : y = 0.921 : 35.5 secs : infill_ei\n",
      "\n",
      "Tue Aug 05 01:40:01 AM 2025 AUC 0.920804807571821\n",
      "\n",
      "[mbo] 58: num_iterations=953; learning_rate=0.113; feature_fraction=0.401; num_leaves=1156; min_data_in_leaf=1646 : y = 0.921 : 53.3 secs : infill_ei\n",
      "\n",
      "Tue Aug 05 01:40:40 AM 2025 AUC 0.921637916951005\n",
      "\n",
      "[mbo] 59: num_iterations=955; learning_rate=0.176; feature_fraction=0.618; num_leaves=21; min_data_in_leaf=389 : y = 0.922 : 38.2 secs : infill_ei\n",
      "\n",
      "Tue Aug 05 01:41:15 AM 2025 AUC 0.921370249862435\n",
      "\n",
      "[mbo] 60: num_iterations=1208; learning_rate=0.179; feature_fraction=0.689; num_leaves=864; min_data_in_leaf=488 : y = 0.921 : 34.7 secs : infill_ei\n",
      "\n",
      "Tue Aug 05 01:41:53 AM 2025 AUC 0.920492497154137\n",
      "\n",
      "[mbo] 61: num_iterations=634; learning_rate=0.164; feature_fraction=0.456; num_leaves=1999; min_data_in_leaf=781 : y = 0.92 : 37.1 secs : infill_ei\n",
      "\n",
      "Tue Aug 05 01:43:25 AM 2025 AUC 0.921680666437781\n",
      "\n",
      "[mbo] 62: num_iterations=1789; learning_rate=0.112; feature_fraction=0.401; num_leaves=2000; min_data_in_leaf=291 : y = 0.922 : 91.6 secs : infill_ei\n",
      "\n",
      "Saved the current state after iteration 63 in the file bayesiana.RDATA.\n",
      "\n",
      "Tue Aug 05 01:44:18 AM 2025 AUC 0.92103969281915\n",
      "\n",
      "[mbo] 63: num_iterations=897; learning_rate=0.149; feature_fraction=0.536; num_leaves=757; min_data_in_leaf=300 : y = 0.921 : 48.7 secs : infill_ei\n",
      "\n",
      "Tue Aug 05 01:44:47 AM 2025 AUC 0.922150263220021\n",
      "\n",
      "[mbo] 64: num_iterations=610; learning_rate=0.164; feature_fraction=0.601; num_leaves=808; min_data_in_leaf=50 : y = 0.922 : 28.5 secs : infill_ei\n",
      "\n",
      "Tue Aug 05 01:45:13 AM 2025 AUC 0.921134666359324\n",
      "\n",
      "[mbo] 65: num_iterations=605; learning_rate=0.171; feature_fraction=0.787; num_leaves=26; min_data_in_leaf=1045 : y = 0.921 : 24.5 secs : infill_ei\n",
      "\n",
      "Tue Aug 05 01:45:44 AM 2025 AUC 0.920612172781148\n",
      "\n",
      "[mbo] 66: num_iterations=639; learning_rate=0.396; feature_fraction=0.558; num_leaves=1929; min_data_in_leaf=61 : y = 0.921 : 30.6 secs : infill_ei\n",
      "\n",
      "Tue Aug 05 01:46:23 AM 2025 AUC 0.921290319602696\n",
      "\n",
      "[mbo] 67: num_iterations=1302; learning_rate=0.153; feature_fraction=0.791; num_leaves=614; min_data_in_leaf=171 : y = 0.921 : 38.5 secs : infill_ei\n",
      "\n",
      "Tue Aug 05 01:47:09 AM 2025 AUC 0.921612233504557\n",
      "\n",
      "[mbo] 68: num_iterations=896; learning_rate=0.111; feature_fraction=0.588; num_leaves=2000; min_data_in_leaf=133 : y = 0.922 : 45.2 secs : infill_ei\n",
      "\n",
      "Tue Aug 05 01:47:52 AM 2025 AUC 0.921000073690017\n",
      "\n",
      "[mbo] 69: num_iterations=1193; learning_rate=0.152; feature_fraction=0.612; num_leaves=23; min_data_in_leaf=775 : y = 0.921 : 42.8 secs : infill_ei\n",
      "\n",
      "Tue Aug 05 01:48:37 AM 2025 AUC 0.920535361388995\n",
      "\n",
      "[mbo] 70: num_iterations=880; learning_rate=0.244; feature_fraction=0.401; num_leaves=2000; min_data_in_leaf=357 : y = 0.921 : 44.7 secs : infill_ei\n",
      "\n",
      "Tue Aug 05 01:48:59 AM 2025 AUC 0.921359304914701\n",
      "\n",
      "[mbo] 71: num_iterations=601; learning_rate=0.19; feature_fraction=0.7; num_leaves=30; min_data_in_leaf=271 : y = 0.921 : 21.5 secs : infill_ei\n",
      "\n",
      "Tue Aug 05 01:49:50 AM 2025 AUC 0.921024676088952\n",
      "\n",
      "[mbo] 72: num_iterations=1999; learning_rate=0.4; feature_fraction=0.632; num_leaves=257; min_data_in_leaf=580 : y = 0.921 : 49.8 secs : infill_ei\n",
      "\n",
      "Tue Aug 05 01:50:53 AM 2025 AUC 0.9210464909919\n",
      "\n",
      "[mbo] 73: num_iterations=1566; learning_rate=0.167; feature_fraction=0.599; num_leaves=602; min_data_in_leaf=59 : y = 0.921 : 62.2 secs : infill_ei\n",
      "\n",
      "Tue Aug 05 01:51:39 AM 2025 AUC 0.921610492619715\n",
      "\n",
      "[mbo] 74: num_iterations=943; learning_rate=0.147; feature_fraction=0.581; num_leaves=106; min_data_in_leaf=55 : y = 0.922 : 45.8 secs : infill_ei\n",
      "\n",
      "Tue Aug 05 01:52:14 AM 2025 AUC 0.920988482142498\n",
      "\n",
      "[mbo] 75: num_iterations=600; learning_rate=0.179; feature_fraction=0.542; num_leaves=1484; min_data_in_leaf=336 : y = 0.921 : 34.7 secs : infill_ei\n",
      "\n",
      "Tue Aug 05 01:53:01 AM 2025 AUC 0.921072040278284\n",
      "\n",
      "[mbo] 76: num_iterations=970; learning_rate=0.335; feature_fraction=0.401; num_leaves=21; min_data_in_leaf=804 : y = 0.921 : 45.8 secs : infill_ei\n",
      "\n",
      "Tue Aug 05 01:53:57 AM 2025 AUC 0.921608967194012\n",
      "\n",
      "[mbo] 77: num_iterations=1984; learning_rate=0.121; feature_fraction=0.799; num_leaves=2000; min_data_in_leaf=1670 : y = 0.922 : 55.4 secs : infill_ei\n",
      "\n",
      "Saved the current state after iteration 78 in the file bayesiana.RDATA.\n",
      "\n",
      "Tue Aug 05 01:54:49 AM 2025 AUC 0.922065972067932\n",
      "\n",
      "[mbo] 78: num_iterations=1121; learning_rate=0.222; feature_fraction=0.577; num_leaves=2000; min_data_in_leaf=352 : y = 0.922 : 47.5 secs : infill_ei\n",
      "\n",
      "Tue Aug 05 01:56:20 AM 2025 AUC 0.920723100658769\n",
      "\n",
      "[mbo] 79: num_iterations=1994; learning_rate=0.0907; feature_fraction=0.581; num_leaves=1999; min_data_in_leaf=1568 : y = 0.921 : 90.4 secs : infill_ei\n",
      "\n",
      "Tue Aug 05 01:56:50 AM 2025 AUC 0.920801930562131\n",
      "\n",
      "[mbo] 80: num_iterations=1377; learning_rate=0.4; feature_fraction=0.742; num_leaves=656; min_data_in_leaf=1981 : y = 0.921 : 29.7 secs : infill_ei\n",
      "\n",
      "Tue Aug 05 01:58:27 AM 2025 AUC 0.921914110870873\n",
      "\n",
      "[mbo] 81: num_iterations=1998; learning_rate=0.114; feature_fraction=0.402; num_leaves=259; min_data_in_leaf=59 : y = 0.922 : 96.8 secs : infill_ei\n",
      "\n",
      "Tue Aug 05 01:58:53 AM 2025 AUC 0.921476154289741\n",
      "\n",
      "[mbo] 82: num_iterations=1114; learning_rate=0.4; feature_fraction=0.791; num_leaves=34; min_data_in_leaf=170 : y = 0.921 : 24.7 secs : infill_ei\n",
      "\n",
      "Tue Aug 05 01:59:11 AM 2025 AUC 0.921746537627199\n",
      "\n",
      "[mbo] 83: num_iterations=610; learning_rate=0.313; feature_fraction=0.8; num_leaves=26; min_data_in_leaf=637 : y = 0.922 : 17.8 secs : infill_ei\n",
      "\n",
      "Tue Aug 05 01:59:43 AM 2025 AUC 0.920526182460784\n",
      "\n",
      "[mbo] 84: num_iterations=1170; learning_rate=0.215; feature_fraction=0.8; num_leaves=1362; min_data_in_leaf=822 : y = 0.921 : 31.3 secs : infill_ei\n",
      "\n",
      "Tue Aug 05 02:00:01 AM 2025 AUC 0.920755113305165\n",
      "\n",
      "[mbo] 85: num_iterations=677; learning_rate=0.4; feature_fraction=0.723; num_leaves=28; min_data_in_leaf=873 : y = 0.921 : 17.9 secs : infill_ei\n",
      "\n",
      "Tue Aug 05 02:01:07 AM 2025 AUC 0.921640321835125\n",
      "\n",
      "[mbo] 86: num_iterations=1181; learning_rate=0.153; feature_fraction=0.401; num_leaves=1999; min_data_in_leaf=265 : y = 0.922 : 65.1 secs : infill_ei\n",
      "\n",
      "Tue Aug 05 02:01:33 AM 2025 AUC 0.92155129511644\n",
      "\n",
      "[mbo] 87: num_iterations=600; learning_rate=0.255; feature_fraction=0.595; num_leaves=1988; min_data_in_leaf=1101 : y = 0.922 : 25.2 secs : infill_ei\n",
      "\n",
      "Tue Aug 05 02:02:29 AM 2025 AUC 0.922216068673602\n",
      "\n",
      "[mbo] 88: num_iterations=1310; learning_rate=0.123; feature_fraction=0.594; num_leaves=890; min_data_in_leaf=268 : y = 0.922 : 55.2 secs : infill_ei\n",
      "\n",
      "Tue Aug 05 02:03:20 AM 2025 AUC 0.921085944884164\n",
      "\n",
      "[mbo] 89: num_iterations=1193; learning_rate=0.238; feature_fraction=0.569; num_leaves=25; min_data_in_leaf=531 : y = 0.921 : 50.1 secs : infill_ei\n",
      "\n",
      "Tue Aug 05 02:04:25 AM 2025 AUC 0.921085867893427\n",
      "\n",
      "[mbo] 90: num_iterations=1425; learning_rate=0.4; feature_fraction=0.4; num_leaves=1017; min_data_in_leaf=1118 : y = 0.921 : 65.0 secs : infill_ei\n",
      "\n",
      "Saved the current state after iteration 91 in the file bayesiana.RDATA.\n",
      "\n",
      "Tue Aug 05 02:04:48 AM 2025 AUC 0.921650345512369\n",
      "\n",
      "[mbo] 91: num_iterations=602; learning_rate=0.397; feature_fraction=0.644; num_leaves=1214; min_data_in_leaf=317 : y = 0.922 : 17.9 secs : infill_ei\n",
      "\n",
      "Tue Aug 05 02:06:27 AM 2025 AUC 0.921602537069819\n",
      "\n",
      "[mbo] 92: num_iterations=2000; learning_rate=0.143; feature_fraction=0.401; num_leaves=958; min_data_in_leaf=366 : y = 0.922 : 97.7 secs : infill_ei\n",
      "\n",
      "Tue Aug 05 02:06:49 AM 2025 AUC 0.921739527110764\n",
      "\n",
      "[mbo] 93: num_iterations=600; learning_rate=0.318; feature_fraction=0.609; num_leaves=1250; min_data_in_leaf=406 : y = 0.922 : 21.5 secs : infill_ei\n",
      "\n",
      "Tue Aug 05 02:07:10 AM 2025 AUC 0.920425128372118\n",
      "\n",
      "[mbo] 94: num_iterations=600; learning_rate=0.4; feature_fraction=0.615; num_leaves=1605; min_data_in_leaf=1931 : y = 0.92 : 20.3 secs : infill_ei\n",
      "\n",
      "Tue Aug 05 02:07:51 AM 2025 AUC 0.920933376746861\n",
      "\n",
      "[mbo] 95: num_iterations=2000; learning_rate=0.4; feature_fraction=0.798; num_leaves=1404; min_data_in_leaf=1291 : y = 0.921 : 40.3 secs : infill_ei\n",
      "\n",
      "Tue Aug 05 02:08:18 AM 2025 AUC 0.921514151602346\n",
      "\n",
      "[mbo] 96: num_iterations=600; learning_rate=0.132; feature_fraction=0.691; num_leaves=1076; min_data_in_leaf=164 : y = 0.922 : 26.6 secs : infill_ei\n",
      "\n",
      "Tue Aug 05 02:08:38 AM 2025 AUC 0.921310205389505\n",
      "\n",
      "[mbo] 97: num_iterations=600; learning_rate=0.277; feature_fraction=0.738; num_leaves=1319; min_data_in_leaf=124 : y = 0.921 : 18.8 secs : infill_ei\n",
      "\n",
      "Tue Aug 05 02:08:56 AM 2025 AUC 0.920892295787615\n",
      "\n",
      "[mbo] 98: num_iterations=600; learning_rate=0.29; feature_fraction=0.695; num_leaves=916; min_data_in_leaf=1070 : y = 0.921 : 18.2 secs : infill_ei\n",
      "\n",
      "Tue Aug 05 02:09:23 AM 2025 AUC 0.92112106475125\n",
      "\n",
      "[mbo] 99: num_iterations=634; learning_rate=0.23; feature_fraction=0.608; num_leaves=1743; min_data_in_leaf=481 : y = 0.921 : 25.7 secs : infill_ei\n",
      "\n",
      "Tue Aug 05 02:09:50 AM 2025 AUC 0.92081785087035\n",
      "\n",
      "[mbo] 100: num_iterations=1010; learning_rate=0.265; feature_fraction=0.799; num_leaves=143; min_data_in_leaf=56 : y = 0.921 : 26.7 secs : infill_ei\n",
      "\n",
      "Saved the final state in the file bayesiana.RDATA\n",
      "\n"
     ]
    }
   ],
   "source": [
    "# inicio la optimizacion bayesiana, retomando si ya existe\n",
    "# es la celda mas lenta de todo el notebook\n",
    "\n",
    "if (!file.exists(kbayesiana)) {\n",
    "  bayesiana_salida <- mbo(obj.fun, learner= surr.km, control= ctrl)\n",
    "} else {\n",
    "  bayesiana_salida <- mboContinue(kbayesiana) # retomo en caso que ya exista\n",
    "}"
   ]
  },
  {
   "cell_type": "code",
   "execution_count": 69,
   "metadata": {
    "id": "ssk5nnMk6INK"
   },
   "outputs": [
    {
     "data": {
      "text/html": [
       "<style>\n",
       ".list-inline {list-style: none; margin:0; padding: 0}\n",
       ".list-inline>li {display: inline-block}\n",
       ".list-inline>li:not(:last-child)::after {content: \"\\00b7\"; padding: 0 .5ex}\n",
       "</style>\n",
       "<ol class=list-inline><li>'num_iterations'</li><li>'learning_rate'</li><li>'feature_fraction'</li><li>'num_leaves'</li><li>'min_data_in_leaf'</li><li>'y'</li><li>'dob'</li><li>'eol'</li><li>'error.message'</li><li>'exec.time'</li><li>'ei'</li><li>'error.model'</li><li>'train.time'</li><li>'prop.type'</li><li>'propose.time'</li><li>'se'</li><li>'mean'</li></ol>\n"
      ],
      "text/latex": [
       "\\begin{enumerate*}\n",
       "\\item 'num\\_iterations'\n",
       "\\item 'learning\\_rate'\n",
       "\\item 'feature\\_fraction'\n",
       "\\item 'num\\_leaves'\n",
       "\\item 'min\\_data\\_in\\_leaf'\n",
       "\\item 'y'\n",
       "\\item 'dob'\n",
       "\\item 'eol'\n",
       "\\item 'error.message'\n",
       "\\item 'exec.time'\n",
       "\\item 'ei'\n",
       "\\item 'error.model'\n",
       "\\item 'train.time'\n",
       "\\item 'prop.type'\n",
       "\\item 'propose.time'\n",
       "\\item 'se'\n",
       "\\item 'mean'\n",
       "\\end{enumerate*}\n"
      ],
      "text/markdown": [
       "1. 'num_iterations'\n",
       "2. 'learning_rate'\n",
       "3. 'feature_fraction'\n",
       "4. 'num_leaves'\n",
       "5. 'min_data_in_leaf'\n",
       "6. 'y'\n",
       "7. 'dob'\n",
       "8. 'eol'\n",
       "9. 'error.message'\n",
       "10. 'exec.time'\n",
       "11. 'ei'\n",
       "12. 'error.model'\n",
       "13. 'train.time'\n",
       "14. 'prop.type'\n",
       "15. 'propose.time'\n",
       "16. 'se'\n",
       "17. 'mean'\n",
       "\n",
       "\n"
      ],
      "text/plain": [
       " [1] \"num_iterations\"   \"learning_rate\"    \"feature_fraction\" \"num_leaves\"      \n",
       " [5] \"min_data_in_leaf\" \"y\"                \"dob\"              \"eol\"             \n",
       " [9] \"error.message\"    \"exec.time\"        \"ei\"               \"error.model\"     \n",
       "[13] \"train.time\"       \"prop.type\"        \"propose.time\"     \"se\"              \n",
       "[17] \"mean\"            "
      ]
     },
     "metadata": {},
     "output_type": "display_data"
    }
   ],
   "source": [
    "\n",
    "tb_bayesiana <- as.data.table(bayesiana_salida$opt.path)\n",
    "colnames( tb_bayesiana)"
   ]
  },
  {
   "cell_type": "code",
   "execution_count": 70,
   "metadata": {
    "id": "u4zq-vknhjGc"
   },
   "outputs": [],
   "source": [
    "# almaceno los resultados de la Bayesian Optimization\n",
    "# y capturo los mejores hiperparametros encontrados\n",
    "\n",
    "tb_bayesiana <- as.data.table(bayesiana_salida$opt.path)\n",
    "\n",
    "tb_bayesiana[, iter := .I]\n",
    "\n",
    "# ordeno en forma descendente por AUC = y\n",
    "setorder(tb_bayesiana, -y)\n",
    "\n",
    "# grabo para eventualmente poder utilizarlos en OTRA corrida\n",
    "fwrite( tb_bayesiana,\n",
    "  file= \"BO_log.txt\",\n",
    "  sep= \"\\t\"\n",
    ")\n",
    "\n",
    "# los mejores hiperparámetros son los que quedaron en el registro 1 de la tabla\n",
    "PARAM$out$lgbm$mejores_hiperparametros <- tb_bayesiana[\n",
    "  1, # el primero es el de mejor AUC\n",
    "  setdiff(colnames(tb_bayesiana),\n",
    "    c(\"y\",\"dob\",\"eol\",\"error.message\",\"exec.time\",\"ei\",\"error.model\",\n",
    "      \"train.time\",\"prop.type\",\"propose.time\",\"se\",\"mean\",\"iter\")),\n",
    "  with= FALSE\n",
    "]\n",
    "\n",
    "\n",
    "PARAM$out$lgbm$y <- tb_bayesiana[1, y]\n"
   ]
  },
  {
   "cell_type": "code",
   "execution_count": 71,
   "metadata": {
    "id": "E8v2eA427N8e"
   },
   "outputs": [],
   "source": [
    "write_yaml( PARAM, file=\"PARAM.yml\")"
   ]
  },
  {
   "cell_type": "code",
   "execution_count": 72,
   "metadata": {
    "id": "iBTWexVU7PGC"
   },
   "outputs": [
    {
     "name": "stdout",
     "output_type": "stream",
     "text": [
      "   num_iterations learning_rate feature_fraction num_leaves min_data_in_leaf\n",
      "            <int>         <num>            <num>      <int>            <int>\n",
      "1:           1181     0.1514007        0.5880837        681              270\n",
      "[1] 0.9223904\n"
     ]
    }
   ],
   "source": [
    "print(PARAM$out$lgbm$mejores_hiperparametros)\n",
    "print(PARAM$out$lgbm$y)"
   ]
  },
  {
   "cell_type": "markdown",
   "metadata": {
    "id": "TKsVZmAnhwX-"
   },
   "source": [
    "## 2.3  Produccion"
   ]
  },
  {
   "cell_type": "markdown",
   "metadata": {
    "id": "RQ_C33Tr5B_9"
   },
   "source": [
    "### Final Training\n",
    "Construyo el modelo final, que es uno solo, no hace ningun tipo de particion < training, validation, testing>]"
   ]
  },
  {
   "cell_type": "code",
   "execution_count": 73,
   "metadata": {
    "id": "eDqfyA14hzwv"
   },
   "outputs": [],
   "source": [
    "setwd(\"/content/buckets/b1/exp\")\n",
    "experimento <- paste0(\"exp\", PARAM$experimento)\n",
    "dir.create(experimento, showWarnings= FALSE)\n",
    "setwd( paste0(\"/content/buckets/b1/exp/\", experimento ))"
   ]
  },
  {
   "cell_type": "markdown",
   "metadata": {
    "id": "8qFmFivf5Iet"
   },
   "source": [
    "#### Final Training Dataset\n",
    "\n",
    "Aqui esta la gran decision de en qué meses hago el Final Training\n",
    "<br> debo utilizar los mejores hiperparámetros que encontré en la optimización bayesiana"
   ]
  },
  {
   "cell_type": "code",
   "execution_count": 74,
   "metadata": {
    "id": "lg5WVZncvc7H"
   },
   "outputs": [],
   "source": [
    "# clase01\n",
    "dataset[, clase01 := ifelse(clase_ternaria %in% c(\"BAJA+1\", \"BAJA+2\"), 1L, 0L)]"
   ]
  },
  {
   "cell_type": "code",
   "execution_count": 75,
   "metadata": {
    "id": "yc9QzXREv0xf"
   },
   "outputs": [],
   "source": [
    "dataset_train <- dataset[foto_mes %in% c(202107)]"
   ]
  },
  {
   "cell_type": "code",
   "execution_count": 76,
   "metadata": {
    "id": "thjdqEBLuvNt"
   },
   "outputs": [],
   "source": [
    "# dejo los datos en el formato que necesita LightGBM\n",
    "\n",
    "dtrain <- lgb.Dataset(\n",
    "  data= data.matrix(dataset_train[, campos_buenos, with= FALSE]),\n",
    "  label= dataset_train[, clase01]\n",
    ")"
   ]
  },
  {
   "cell_type": "markdown",
   "metadata": {
    "id": "VNUa-WSz5Oqu"
   },
   "source": [
    "#### Final Training Hyperparameters"
   ]
  },
  {
   "cell_type": "code",
   "execution_count": 77,
   "metadata": {
    "id": "FgCcvBfEwImu"
   },
   "outputs": [
    {
     "data": {
      "text/html": [
       "<dl>\n",
       "\t<dt>$boosting</dt>\n",
       "\t\t<dd>'gbdt'</dd>\n",
       "\t<dt>$objective</dt>\n",
       "\t\t<dd>'binary'</dd>\n",
       "\t<dt>$metric</dt>\n",
       "\t\t<dd>'auc'</dd>\n",
       "\t<dt>$first_metric_only</dt>\n",
       "\t\t<dd>FALSE</dd>\n",
       "\t<dt>$boost_from_average</dt>\n",
       "\t\t<dd>TRUE</dd>\n",
       "\t<dt>$feature_pre_filter</dt>\n",
       "\t\t<dd>FALSE</dd>\n",
       "\t<dt>$force_row_wise</dt>\n",
       "\t\t<dd>TRUE</dd>\n",
       "\t<dt>$verbosity</dt>\n",
       "\t\t<dd>-100</dd>\n",
       "\t<dt>$seed</dt>\n",
       "\t\t<dd>100109</dd>\n",
       "\t<dt>$max_depth</dt>\n",
       "\t\t<dd>-1</dd>\n",
       "\t<dt>$min_gain_to_split</dt>\n",
       "\t\t<dd>0.1</dd>\n",
       "\t<dt>$min_sum_hessian_in_leaf</dt>\n",
       "\t\t<dd>1</dd>\n",
       "\t<dt>$lambda_l1</dt>\n",
       "\t\t<dd>1</dd>\n",
       "\t<dt>$lambda_l2</dt>\n",
       "\t\t<dd>800</dd>\n",
       "\t<dt>$max_bin</dt>\n",
       "\t\t<dd>31</dd>\n",
       "\t<dt>$bagging_fraction</dt>\n",
       "\t\t<dd>0.5</dd>\n",
       "\t<dt>$pos_bagging_fraction</dt>\n",
       "\t\t<dd>1</dd>\n",
       "\t<dt>$neg_bagging_fraction</dt>\n",
       "\t\t<dd>1</dd>\n",
       "\t<dt>$is_unbalance</dt>\n",
       "\t\t<dd>FALSE</dd>\n",
       "\t<dt>$scale_pos_weight</dt>\n",
       "\t\t<dd>0.5</dd>\n",
       "\t<dt>$drop_rate</dt>\n",
       "\t\t<dd>0</dd>\n",
       "\t<dt>$max_drop</dt>\n",
       "\t\t<dd>0</dd>\n",
       "\t<dt>$skip_drop</dt>\n",
       "\t\t<dd>0</dd>\n",
       "\t<dt>$extra_trees</dt>\n",
       "\t\t<dd>FALSE</dd>\n",
       "\t<dt>$num_iterations</dt>\n",
       "\t\t<dd>1181</dd>\n",
       "\t<dt>$learning_rate</dt>\n",
       "\t\t<dd>0.151400669324652</dd>\n",
       "\t<dt>$feature_fraction</dt>\n",
       "\t\t<dd>0.58808366459827</dd>\n",
       "\t<dt>$num_leaves</dt>\n",
       "\t\t<dd>681</dd>\n",
       "\t<dt>$min_data_in_leaf</dt>\n",
       "\t\t<dd>270</dd>\n",
       "</dl>\n"
      ],
      "text/latex": [
       "\\begin{description}\n",
       "\\item[\\$boosting] 'gbdt'\n",
       "\\item[\\$objective] 'binary'\n",
       "\\item[\\$metric] 'auc'\n",
       "\\item[\\$first\\_metric\\_only] FALSE\n",
       "\\item[\\$boost\\_from\\_average] TRUE\n",
       "\\item[\\$feature\\_pre\\_filter] FALSE\n",
       "\\item[\\$force\\_row\\_wise] TRUE\n",
       "\\item[\\$verbosity] -100\n",
       "\\item[\\$seed] 100109\n",
       "\\item[\\$max\\_depth] -1\n",
       "\\item[\\$min\\_gain\\_to\\_split] 0.1\n",
       "\\item[\\$min\\_sum\\_hessian\\_in\\_leaf] 1\n",
       "\\item[\\$lambda\\_l1] 1\n",
       "\\item[\\$lambda\\_l2] 800\n",
       "\\item[\\$max\\_bin] 31\n",
       "\\item[\\$bagging\\_fraction] 0.5\n",
       "\\item[\\$pos\\_bagging\\_fraction] 1\n",
       "\\item[\\$neg\\_bagging\\_fraction] 1\n",
       "\\item[\\$is\\_unbalance] FALSE\n",
       "\\item[\\$scale\\_pos\\_weight] 0.5\n",
       "\\item[\\$drop\\_rate] 0\n",
       "\\item[\\$max\\_drop] 0\n",
       "\\item[\\$skip\\_drop] 0\n",
       "\\item[\\$extra\\_trees] FALSE\n",
       "\\item[\\$num\\_iterations] 1181\n",
       "\\item[\\$learning\\_rate] 0.151400669324652\n",
       "\\item[\\$feature\\_fraction] 0.58808366459827\n",
       "\\item[\\$num\\_leaves] 681\n",
       "\\item[\\$min\\_data\\_in\\_leaf] 270\n",
       "\\end{description}\n"
      ],
      "text/markdown": [
       "$boosting\n",
       ":   'gbdt'\n",
       "$objective\n",
       ":   'binary'\n",
       "$metric\n",
       ":   'auc'\n",
       "$first_metric_only\n",
       ":   FALSE\n",
       "$boost_from_average\n",
       ":   TRUE\n",
       "$feature_pre_filter\n",
       ":   FALSE\n",
       "$force_row_wise\n",
       ":   TRUE\n",
       "$verbosity\n",
       ":   -100\n",
       "$seed\n",
       ":   100109\n",
       "$max_depth\n",
       ":   -1\n",
       "$min_gain_to_split\n",
       ":   0.1\n",
       "$min_sum_hessian_in_leaf\n",
       ":   1\n",
       "$lambda_l1\n",
       ":   1\n",
       "$lambda_l2\n",
       ":   800\n",
       "$max_bin\n",
       ":   31\n",
       "$bagging_fraction\n",
       ":   0.5\n",
       "$pos_bagging_fraction\n",
       ":   1\n",
       "$neg_bagging_fraction\n",
       ":   1\n",
       "$is_unbalance\n",
       ":   FALSE\n",
       "$scale_pos_weight\n",
       ":   0.5\n",
       "$drop_rate\n",
       ":   0\n",
       "$max_drop\n",
       ":   0\n",
       "$skip_drop\n",
       ":   0\n",
       "$extra_trees\n",
       ":   FALSE\n",
       "$num_iterations\n",
       ":   1181\n",
       "$learning_rate\n",
       ":   0.151400669324652\n",
       "$feature_fraction\n",
       ":   0.58808366459827\n",
       "$num_leaves\n",
       ":   681\n",
       "$min_data_in_leaf\n",
       ":   270\n",
       "\n",
       "\n"
      ],
      "text/plain": [
       "$boosting\n",
       "[1] \"gbdt\"\n",
       "\n",
       "$objective\n",
       "[1] \"binary\"\n",
       "\n",
       "$metric\n",
       "[1] \"auc\"\n",
       "\n",
       "$first_metric_only\n",
       "[1] FALSE\n",
       "\n",
       "$boost_from_average\n",
       "[1] TRUE\n",
       "\n",
       "$feature_pre_filter\n",
       "[1] FALSE\n",
       "\n",
       "$force_row_wise\n",
       "[1] TRUE\n",
       "\n",
       "$verbosity\n",
       "[1] -100\n",
       "\n",
       "$seed\n",
       "[1] 100109\n",
       "\n",
       "$max_depth\n",
       "[1] -1\n",
       "\n",
       "$min_gain_to_split\n",
       "[1] 0.1\n",
       "\n",
       "$min_sum_hessian_in_leaf\n",
       "[1] 1\n",
       "\n",
       "$lambda_l1\n",
       "[1] 1\n",
       "\n",
       "$lambda_l2\n",
       "[1] 800\n",
       "\n",
       "$max_bin\n",
       "[1] 31\n",
       "\n",
       "$bagging_fraction\n",
       "[1] 0.5\n",
       "\n",
       "$pos_bagging_fraction\n",
       "[1] 1\n",
       "\n",
       "$neg_bagging_fraction\n",
       "[1] 1\n",
       "\n",
       "$is_unbalance\n",
       "[1] FALSE\n",
       "\n",
       "$scale_pos_weight\n",
       "[1] 0.5\n",
       "\n",
       "$drop_rate\n",
       "[1] 0\n",
       "\n",
       "$max_drop\n",
       "[1] 0\n",
       "\n",
       "$skip_drop\n",
       "[1] 0\n",
       "\n",
       "$extra_trees\n",
       "[1] FALSE\n",
       "\n",
       "$num_iterations\n",
       "[1] 1181\n",
       "\n",
       "$learning_rate\n",
       "[1] 0.1514007\n",
       "\n",
       "$feature_fraction\n",
       "[1] 0.5880837\n",
       "\n",
       "$num_leaves\n",
       "[1] 681\n",
       "\n",
       "$min_data_in_leaf\n",
       "[1] 270\n"
      ]
     },
     "metadata": {},
     "output_type": "display_data"
    }
   ],
   "source": [
    "param_final <- modifyList(PARAM$lgbm$param_fijos,\n",
    "  PARAM$out$lgbm$mejores_hiperparametros)\n",
    "\n",
    "param_final"
   ]
  },
  {
   "cell_type": "markdown",
   "metadata": {
    "id": "TZIYn4l95TBH"
   },
   "source": [
    "#### Training\n",
    "Genero el modelo final, siempre sobre TODOS los datos de  final_train, sin hacer ningun tipo de undersampling de la clase mayoritaria"
   ]
  },
  {
   "cell_type": "code",
   "execution_count": 78,
   "metadata": {
    "id": "vPLsd4mMRe4u"
   },
   "outputs": [],
   "source": [
    "# este punto es muy SUTIL  y será revisado en la Clase 05\n",
    "\n",
    "param_normalizado <- copy(param_final)\n",
    "param_normalizado$min_data_in_leaf <-  param_final$min_data_in_leaf / PARAM$trainingstrategy$undersampling"
   ]
  },
  {
   "cell_type": "code",
   "execution_count": 79,
   "metadata": {
    "id": "WRI_-taRwOXO"
   },
   "outputs": [],
   "source": [
    "  # entreno LightGBM\n",
    "\n",
    "  modelo_final <- lgb.train(\n",
    "    data= dtrain,\n",
    "    param= param_normalizado\n",
    "  )"
   ]
  },
  {
   "cell_type": "code",
   "execution_count": 80,
   "metadata": {
    "id": "_bkhnCvj0g3Q"
   },
   "outputs": [],
   "source": [
    "# ahora imprimo la importancia de variables\n",
    "\n",
    "tb_importancia <- as.data.table(lgb.importance(modelo_final))\n",
    "archivo_importancia <- \"impo.txt\"\n",
    "\n",
    "fwrite(tb_importancia,\n",
    "  file= archivo_importancia,\n",
    "  sep= \"\\t\"\n",
    ")"
   ]
  },
  {
   "cell_type": "code",
   "execution_count": 81,
   "metadata": {
    "id": "lZ3sLmbh0kFj"
   },
   "outputs": [],
   "source": [
    "# grabo a disco el modelo en un formato para seres humanos ... ponele ...\n",
    "\n",
    "lgb.save(modelo_final, \"modelo.txt\" )"
   ]
  },
  {
   "cell_type": "markdown",
   "metadata": {
    "id": "VEtp2--t5Ymg"
   },
   "source": [
    "### Scoring"
   ]
  },
  {
   "cell_type": "markdown",
   "metadata": {
    "id": "hI5008Mj5ZdI"
   },
   "source": [
    "Aplico el modelo final a los datos del futuro"
   ]
  },
  {
   "cell_type": "code",
   "execution_count": 82,
   "metadata": {
    "id": "PimBY3N_0ryP"
   },
   "outputs": [],
   "source": [
    "# aplico el modelo a los datos sin clase\n",
    "dfuture <- dataset[foto_mes == 202109]\n",
    "dataset_positivos <- copy(dfuture[clase01 == 1])\n",
    "dataset_positivos[, clase01 := 0]\n",
    "dfuture <- rbind(dfuture, dataset_positivos)\n",
    "\n",
    "# aplico el modelo a los datos nuevos\n",
    "prediccion <- predict(\n",
    "  modelo_final,\n",
    "  data.matrix(dfuture[, campos_buenos, with= FALSE])\n",
    ")"
   ]
  },
  {
   "cell_type": "markdown",
   "metadata": {
    "id": "D26rNRh55gpw"
   },
   "source": [
    "#### Tabla Prediccion"
   ]
  },
  {
   "cell_type": "code",
   "execution_count": 83,
   "metadata": {
    "id": "RJwg7LHd11yu"
   },
   "outputs": [],
   "source": [
    "# tabla de prediccion\n",
    "\n",
    "tb_prediccion <- dfuture[, list(numero_de_cliente)]\n",
    "tb_prediccion[, prob := prediccion ]\n",
    "\n",
    "# grabo las probabilidad del modelo\n",
    "fwrite(tb_prediccion,\n",
    "  file= \"prediccion.txt\",\n",
    "  sep= \"\\t\"\n",
    ")"
   ]
  },
  {
   "cell_type": "markdown",
   "metadata": {
    "id": "jOt4eG_55ltv"
   },
   "source": [
    "Kaggle Competition Submit"
   ]
  },
  {
   "cell_type": "code",
   "execution_count": 84,
   "metadata": {
    "id": "gWW3tatE12je"
   },
   "outputs": [
    {
     "name": "stdout",
     "output_type": "stream",
     "text": [
      "Successfully submitted to Data Mining, Analista Sr 2025A \n",
      "Successfully submitted to Data Mining, Analista Sr 2025A \n",
      "Successfully submitted to Data Mining, Analista Sr 2025A \n",
      "Successfully submitted to Data Mining, Analista Sr 2025A \n",
      "Successfully submitted to Data Mining, Analista Sr 2025A \n"
     ]
    }
   ],
   "source": [
    "# genero archivos con los  \"envios\" mejores\n",
    "# suba TODOS los archivos a Kaggle\n",
    "\n",
    "# ordeno por probabilidad descendente\n",
    "setorder(tb_prediccion, -prob)\n",
    "\n",
    "dir.create(\"kaggle\")\n",
    "\n",
    "for (envios in PARAM$kaggle$cortes) {\n",
    "\n",
    "  tb_prediccion[, Predicted := 0L] # seteo inicial a 0\n",
    "  tb_prediccion[1:envios, Predicted := 1L] # marclo los primeros\n",
    "\n",
    "  archivo_kaggle <- paste0(\"./kaggle/KA\", PARAM$experimento, \"_\", envios, \".csv\")\n",
    "\n",
    "  # grabo el archivo\n",
    "  fwrite(tb_prediccion[, list(numero_de_cliente, Predicted)],\n",
    "    file= archivo_kaggle,\n",
    "    sep= \",\"\n",
    "  )\n",
    "\n",
    "  # subida a Kaggle, armo la linea de comando\n",
    "  comando <- \"kaggle competitions submit\"\n",
    "  competencia <- paste(\"-c\", PARAM$kaggle$competencia)\n",
    "  arch <- paste( \"-f\", archivo_kaggle)\n",
    "\n",
    "  mensaje <- paste0(\"-m 'envios=\", envios,\n",
    "  \"  semilla=\", PARAM$semilla_primigenia,\n",
    "    \"'\" )\n",
    "\n",
    "  linea <- paste( comando, competencia, arch, mensaje)\n",
    "\n",
    "  salida <- system(linea, intern=TRUE) # el submit a Kaggle\n",
    "  cat(salida, \"\\n\")\n",
    "}"
   ]
  },
  {
   "cell_type": "code",
   "execution_count": 85,
   "metadata": {
    "id": "B9tB2X4439Hg"
   },
   "outputs": [],
   "source": [
    "write_yaml( PARAM, file=\"PARAM.yml\")"
   ]
  },
  {
   "cell_type": "code",
   "execution_count": 86,
   "metadata": {
    "id": "9zA_W25c15DP"
   },
   "outputs": [
    {
     "data": {
      "text/html": [
       "'Tue Aug 05 02:10:44 AM 2025'"
      ],
      "text/latex": [
       "'Tue Aug 05 02:10:44 AM 2025'"
      ],
      "text/markdown": [
       "'Tue Aug 05 02:10:44 AM 2025'"
      ],
      "text/plain": [
       "[1] \"Tue Aug 05 02:10:44 AM 2025\""
      ]
     },
     "metadata": {},
     "output_type": "display_data"
    }
   ],
   "source": [
    "format(Sys.time(), \"%a %b %d %X %Y\")"
   ]
  },
  {
   "cell_type": "markdown",
   "metadata": {
    "id": "UdVZucdLHzZ0"
   },
   "source": [
    "Finalmente usted deberá cargar el resultado de su corrida en la Google Sheet Colaborativa,  hoja **TareaHogar04**\n",
    "<br> Siéntase libre de agregar las columnas que hagan falta a la planilla"
   ]
  },
  {
   "cell_type": "code",
   "execution_count": null,
   "metadata": {
    "id": "WMHh7uNVIJkT"
   },
   "outputs": [],
   "source": []
  },
  {
   "cell_type": "code",
   "execution_count": null,
   "metadata": {},
   "outputs": [],
   "source": []
  },
  {
   "cell_type": "code",
   "execution_count": null,
   "metadata": {},
   "outputs": [],
   "source": []
  },
  {
   "cell_type": "code",
   "execution_count": null,
   "metadata": {},
   "outputs": [],
   "source": []
  },
  {
   "cell_type": "code",
   "execution_count": null,
   "metadata": {},
   "outputs": [],
   "source": []
  },
  {
   "cell_type": "code",
   "execution_count": null,
   "metadata": {},
   "outputs": [],
   "source": []
  },
  {
   "cell_type": "code",
   "execution_count": null,
   "metadata": {},
   "outputs": [],
   "source": []
  },
  {
   "cell_type": "code",
   "execution_count": null,
   "metadata": {},
   "outputs": [],
   "source": []
  },
  {
   "cell_type": "code",
   "execution_count": null,
   "metadata": {},
   "outputs": [],
   "source": []
  },
  {
   "cell_type": "code",
   "execution_count": null,
   "metadata": {},
   "outputs": [],
   "source": []
  },
  {
   "cell_type": "code",
   "execution_count": null,
   "metadata": {},
   "outputs": [],
   "source": []
  },
  {
   "cell_type": "code",
   "execution_count": null,
   "metadata": {},
   "outputs": [],
   "source": []
  },
  {
   "cell_type": "code",
   "execution_count": null,
   "metadata": {},
   "outputs": [],
   "source": []
  },
  {
   "cell_type": "code",
   "execution_count": null,
   "metadata": {},
   "outputs": [],
   "source": []
  },
  {
   "cell_type": "code",
   "execution_count": null,
   "metadata": {},
   "outputs": [],
   "source": []
  },
  {
   "cell_type": "code",
   "execution_count": null,
   "metadata": {},
   "outputs": [],
   "source": []
  },
  {
   "cell_type": "code",
   "execution_count": null,
   "metadata": {},
   "outputs": [],
   "source": []
  },
  {
   "cell_type": "code",
   "execution_count": null,
   "metadata": {},
   "outputs": [],
   "source": []
  },
  {
   "cell_type": "code",
   "execution_count": null,
   "metadata": {},
   "outputs": [],
   "source": []
  },
  {
   "cell_type": "code",
   "execution_count": null,
   "metadata": {},
   "outputs": [],
   "source": []
  },
  {
   "cell_type": "code",
   "execution_count": null,
   "metadata": {},
   "outputs": [],
   "source": []
  },
  {
   "cell_type": "code",
   "execution_count": null,
   "metadata": {},
   "outputs": [],
   "source": []
  },
  {
   "cell_type": "code",
   "execution_count": null,
   "metadata": {},
   "outputs": [],
   "source": []
  },
  {
   "cell_type": "code",
   "execution_count": null,
   "metadata": {},
   "outputs": [],
   "source": []
  },
  {
   "cell_type": "code",
   "execution_count": null,
   "metadata": {},
   "outputs": [],
   "source": []
  },
  {
   "cell_type": "code",
   "execution_count": null,
   "metadata": {},
   "outputs": [],
   "source": []
  },
  {
   "cell_type": "code",
   "execution_count": null,
   "metadata": {},
   "outputs": [],
   "source": []
  },
  {
   "cell_type": "code",
   "execution_count": null,
   "metadata": {},
   "outputs": [],
   "source": []
  },
  {
   "cell_type": "code",
   "execution_count": null,
   "metadata": {},
   "outputs": [],
   "source": []
  },
  {
   "cell_type": "code",
   "execution_count": null,
   "metadata": {},
   "outputs": [],
   "source": []
  }
 ],
 "metadata": {
  "colab": {
   "provenance": []
  },
  "kernelspec": {
   "display_name": "R",
   "language": "R",
   "name": "ir"
  },
  "language_info": {
   "codemirror_mode": "r",
   "file_extension": ".r",
   "mimetype": "text/x-r-source",
   "name": "R",
   "pygments_lexer": "r",
   "version": "4.4.3"
  }
 },
 "nbformat": 4,
 "nbformat_minor": 4
}
