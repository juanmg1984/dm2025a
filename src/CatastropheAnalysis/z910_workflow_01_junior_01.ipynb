<!doctype html><html lang="en"><head><meta charset="utf-8"><title>JupyterLab</title><meta name="viewport" content="width=device-width,initial-scale=1">   <script id="jupyter-config-data" type="application/json">{"allow_hidden_files": false, "appName": "JupyterLab", "appNamespace": "lab", "appSettingsDir": "/home/juanmagonzalez/.venv/share/jupyter/lab/settings", "appUrl": "/lab", "appVersion": "4.4.4", "baseUrl": "/", "buildAvailable": true, "buildCheck": true, "cacheFiles": false, "copyAbsolutePath": false, "delete_to_trash": true, "devMode": false, "disabledExtensions": [], "exposeAppInBrowser": false, "extensionManager": {"can_install": true, "install_path": "/home/juanmagonzalez/.venv", "name": "PyPI"}, "extraLabextensionsPath": [], "federated_extensions": [{"entrypoints": null, "extension": "./extension", "load": "static/remoteEntry.5cbb9d2323598fbda535.js", "name": "jupyterlab_pygments", "style": "./style"}, {"entrypoints": null, "extension": "./extension", "load": "static/remoteEntry.ddc4857c90c9be31c55a.js", "name": "jupysql-plugin", "style": "./style"}, {"entrypoints": null, "load": "static/remoteEntry.5153b2c003c011c482e3.js", "mimeExtension": "./mimeExtension", "name": "jupyterlab-plotly"}, {"entrypoints": null, "extension": "./extension", "load": "static/remoteEntry.5e9cf5db83490c7d4a35.js", "name": "nbdime-jupyterlab", "style": "./style"}, {"entrypoints": null, "extension": "./extension", "load": "static/remoteEntry.c4975a3e381dbece876f.js", "name": "catboost-widget"}, {"entrypoints": null, "extension": "./extension", "load": "static/remoteEntry.2216236a86c7739e3b8a.js", "name": "@jupyterlab/git", "style": "./style"}], "fullAppUrl": "/lab", "fullLabextensionsUrl": "/lab/extensions", "fullLicensesUrl": "/lab/api/licenses", "fullListingsUrl": "/lab/api/listings", "fullMathjaxUrl": "/static/jupyter_server_mathjax/MathJax.js", "fullSettingsUrl": "/lab/api/settings", "fullStaticUrl": "/static/lab", "fullThemesUrl": "/lab/api/themes", "fullTranslationsApiUrl": "/lab/api/translations", "fullTreeUrl": "/lab/tree", "fullWorkspacesApiUrl": "/lab/api/workspaces", "ignorePlugins": [], "labextensionsPath": ["/home/juanmagonzalez/.venv/share/jupyter/labextensions", "/home/juanmagonzalez/.local/share/jupyter/labextensions", "/usr/local/share/jupyter/labextensions", "/usr/share/jupyter/labextensions"], "labextensionsUrl": "/lab/extensions", "licensesUrl": "/lab/api/licenses", "listingsUrl": "/lab/api/listings", "mathjaxConfig": "TeX-AMS-MML_HTMLorMML-full,Safe", "mode": "multiple-document", "news": {"disabled": false}, "notebookStartsKernel": true, "notebookVersion": "[2, 16, 0]", "preferredPath": "/", "quitButton": true, "rootUri": "file:///home/juanmagonzalez", "schemasDir": "/home/juanmagonzalez/.venv/share/jupyter/lab/schemas", "serverRoot": "/home/juanmagonzalez", "settingsUrl": "/lab/api/settings", "staticDir": "/home/juanmagonzalez/.venv/share/jupyter/lab/static", "store_id": 2, "templatesDir": "/home/juanmagonzalez/.venv/share/jupyter/lab/static", "terminalsAvailable": true, "themesDir": "/home/juanmagonzalez/.venv/share/jupyter/lab/themes", "themesUrl": "/lab/api/themes", "token": "", "translationsApiUrl": "/lab/api/translations", "treePath": "dm2025a/src/ensembles/z910_workflow_01_junior_01.ipynb", "treeUrl": "/lab/tree", "userSettingsDir": "/home/juanmagonzalez/.jupyter/lab/user-settings", "virtualDocumentsUri": "file:///home/juanmagonzalez/.virtual_documents", "workspace": "default", "workspacesApiUrl": "/lab/api/workspaces", "workspacesDir": "/home/juanmagonzalez/.jupyter/lab/workspaces", "wsUrl": ""}</script><link rel="icon" type="image/x-icon" href="/static/favicons/favicon.ico" class="idle favicon"><link rel="" type="image/x-icon" href="/static/favicons/favicon-busy-1.ico" class="busy favicon"> <script defer="defer" src="/static/lab/main.fc1935561dc0be5231f2.js?v=fc1935561dc0be5231f2"></script></head><body class="jp-ThemedContainer"><script>/* Remove token from URL. */
  (function () {
    var location = window.location;
    var search = location.search;

    // If there is no query string, bail.
    if (search.length <= 1) {
      return;
    }

    // Rebuild the query string without the `token`.
    var query = '?' + search.slice(1).split('&')
      .filter(function (param) { return param.split('=')[0] !== 'token'; })
      .join('&');

    // Rebuild the URL with the new query string.
    var url = location.origin + location.pathname +
      (query !== '?' ? query : '') + location.hash;

    if (url === location.href) {
      return;
    }

    window.history.replaceState({ }, '', url);
  })();</script></body></html>