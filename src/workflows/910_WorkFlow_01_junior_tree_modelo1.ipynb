{
 "cells": [
  {
   "cell_type": "markdown",
   "id": "859d38e7-11c0-48bc-978a-d0e907f19ed1",
   "metadata": {
    "id": "859d38e7-11c0-48bc-978a-d0e907f19ed1"
   },
   "source": [
    "# 9 WorkFlow Analista Jr"
   ]
  },
  {
   "cell_type": "markdown",
   "id": "29c586e3-ed7d-44b2-92a0-f19669f06940",
   "metadata": {
    "id": "29c586e3-ed7d-44b2-92a0-f19669f06940"
   },
   "source": [
    "### 9.1 Objetivo"
   ]
  },
  {
   "cell_type": "markdown",
   "id": "6fff8327-10ed-4b11-bbee-f1c3f357d123",
   "metadata": {
    "id": "6fff8327-10ed-4b11-bbee-f1c3f357d123"
   },
   "source": [
    "Presentar un workflow/pipeline completo al que los estudiantes deberán\n",
    "<br>El Analista Jr corre sus scripts en la virtual manchine **desktop-jr** que tiene estas características\n",
    "\n",
    "\n",
    "*   Normal, paga tarifa completa, nunca es apagada por Google\n",
    "*   reside en el datacenter de Sao Paulo, Brasil\n",
    "*   64 GB de memoria RAM\n",
    "*   8 vCPU\n",
    "\n"
   ]
  },
  {
   "cell_type": "markdown",
   "id": "oSKhZRToy2F7",
   "metadata": {
    "id": "oSKhZRToy2F7"
   },
   "source": [
    "## 9.3  Workflow"
   ]
  },
  {
   "cell_type": "markdown",
   "id": "85171302-a2d6-48cb-b9b2-8d839a276859",
   "metadata": {
    "id": "85171302-a2d6-48cb-b9b2-8d839a276859"
   },
   "source": [
    "## Inicializacion"
   ]
  },
  {
   "cell_type": "markdown",
   "id": "eSU5vi00CPRS",
   "metadata": {
    "id": "eSU5vi00CPRS"
   },
   "source": [
    "Esta parte se debe correr con el runtime en lenguaje **R** Ir al menu, Runtime -> Change Runtime Type -> Runtime type -> R"
   ]
  },
  {
   "cell_type": "markdown",
   "id": "Zq8dySimCPRT",
   "metadata": {
    "id": "Zq8dySimCPRT"
   },
   "source": [
    "limpio el ambiente de R"
   ]
  },
  {
   "cell_type": "code",
   "execution_count": null,
   "id": "EL8wdHaUs59K",
   "metadata": {
    "id": "EL8wdHaUs59K"
   },
   "outputs": [],
   "source": [
    "format(Sys.time(), \"%a %b %d %X %Y\")"
   ]
  },
  {
   "cell_type": "code",
   "execution_count": null,
   "id": "1iE0U4_WCPRT",
   "metadata": {
    "id": "1iE0U4_WCPRT"
   },
   "outputs": [],
   "source": [
    "# limpio la memoria\n",
    "rm(list=ls(all.names=TRUE)) # remove all objects\n",
    "gc(full=TRUE, verbose=FALSE) # garbage collection"
   ]
  },
  {
   "cell_type": "code",
   "execution_count": null,
   "id": "47e8e74a-806b-4dab-8e60-143a5af46b4c",
   "metadata": {},
   "outputs": [],
   "source": [
    "# --- Configuración ntfy ---\n",
    "Sys.setenv(NTFY_SERVER = \"https://ntfy.sh\")\n",
    "Sys.setenv(NTFY_CHANNEL = \"miNotebook_XYZ88\")   # tu canal\n",
    "\n",
    "# --- Helper para enviar notificaciones ---\n",
    "ntfy_send <- function(message, title = \"Notebook\", priority = 3, tags = NULL) {\n",
    "  channel <- Sys.getenv(\"NTFY_CHANNEL\")\n",
    "  server  <- Sys.getenv(\"NTFY_SERVER\", \"https://ntfy.sh\")\n",
    "  stopifnot(nzchar(channel))\n",
    "  url <- sprintf(\"%s/%s\", sub(\"/$\", \"\", server), channel)\n",
    "\n",
    "  hdr <- c(sprintf(\"Title: %s\", title), sprintf(\"Priority: %s\", priority))\n",
    "  if (!is.null(tags)) hdr <- c(hdr, sprintf(\"Tags: %s\", paste(tags, collapse=\",\")))\n",
    "\n",
    "  args <- c(rbind(\"-H\", shQuote(hdr)), \"-d\", shQuote(message), shQuote(url))\n",
    "  invisible(system2(\"curl\", args = args))\n",
    "}\n",
    "\n",
    "# Azúcar\n",
    "notificar <- function(m) ntfy_send(m, title = \"Notebook\", priority = 3, tags = c(\"bell\"))\n",
    "\n",
    "# Wrapper para bloques pesados\n",
    "notificar_chunk <- function(nombre, expr) {\n",
    "  inicio <- Sys.time()\n",
    "  ntfy_send(sprintf(\"▶️ Comienza: %s\", nombre), priority = 4, tags = c(\"play\",\"hourglass\"))\n",
    "  on.exit({\n",
    "    fin <- Sys.time()\n",
    "    ntfy_send(sprintf(\"✅ Termina: %s (%.1f min)\", nombre,\n",
    "                      as.numeric(difftime(fin, inicio, units=\"mins\"))),\n",
    "              priority = 3, tags = c(\"checkered_flag\"))\n",
    "  }, add = TRUE)\n",
    "  force(expr)\n",
    "}\n"
   ]
  },
  {
   "cell_type": "code",
   "execution_count": null,
   "id": "atmIUEUNUrK5",
   "metadata": {
    "id": "atmIUEUNUrK5"
   },
   "outputs": [],
   "source": [
    "require(\"data.table\")\n",
    "\n",
    "if( !require(\"R.utils\")) install.packages(\"R.utils\")\n",
    "require(\"R.utils\")"
   ]
  },
  {
   "cell_type": "markdown",
   "id": "BsxZ_ONyj9L_",
   "metadata": {
    "id": "BsxZ_ONyj9L_"
   },
   "source": [
    "#### Parametros"
   ]
  },
  {
   "cell_type": "code",
   "execution_count": null,
   "id": "peRH7ySLCPRV",
   "metadata": {
    "id": "peRH7ySLCPRV"
   },
   "outputs": [],
   "source": [
    "PARAM <- list()\n",
    "PARAM$semilla_primigenia <- 100109\n",
    "\n",
    "PARAM$experimento <- 91000103\n",
    "PARAM$dataset <- \"analistajr_competencia_2025.csv.gz\""
   ]
  },
  {
   "cell_type": "markdown",
   "id": "NoJbKo_4NG8A",
   "metadata": {
    "id": "NoJbKo_4NG8A"
   },
   "source": [
    "#### Carpeta del Experimento"
   ]
  },
  {
   "cell_type": "code",
   "execution_count": null,
   "id": "1gZD6ZMvCPRV",
   "metadata": {
    "id": "1gZD6ZMvCPRV"
   },
   "outputs": [],
   "source": [
    "# carpeta de trabajo\n",
    "\n",
    "setwd(\"/content/buckets/b1/exp\")\n",
    "experimento_folder <- paste0(\"WF\", PARAM$experimento)\n",
    "dir.create(experimento_folder, showWarnings=FALSE)\n",
    "setwd( paste0(\"/content/buckets/b1/exp/\", experimento_folder ))"
   ]
  },
  {
   "cell_type": "markdown",
   "id": "YVKBfLtkR8SO",
   "metadata": {
    "id": "YVKBfLtkR8SO"
   },
   "source": [
    "### 9.3.1   Preprocesamiento del dataset"
   ]
  },
  {
   "cell_type": "markdown",
   "id": "cr3K0RPVRjq6",
   "metadata": {
    "id": "cr3K0RPVRjq6"
   },
   "source": [
    "#### 9.3.1.1  DT incorporar dataset"
   ]
  },
  {
   "cell_type": "code",
   "execution_count": null,
   "id": "Xi0emX2ECPRV",
   "metadata": {
    "id": "Xi0emX2ECPRV"
   },
   "outputs": [],
   "source": [
    "# lectura del dataset\n",
    "dataset <- fread(paste0(\"/content/datasets/\", PARAM$dataset))"
   ]
  },
  {
   "cell_type": "markdown",
   "id": "MWuPzK3nSLY3",
   "metadata": {
    "id": "MWuPzK3nSLY3"
   },
   "source": [
    "#### 9.3.1.2  CA  Catastrophe Analysis\n",
    "Se intentan reparar las variables que para un mes están con todos los valores en cero."
   ]
  },
  {
   "cell_type": "markdown",
   "id": "UAI16-yCVcBS",
   "metadata": {
    "id": "UAI16-yCVcBS"
   },
   "source": [
    "El método que se utiliza es **Machine Learning** se asigna NA also valores, si ha leido bien, es la \"anti imputación de valores faltantes\"\n",
    "<br> Usted podrá aplicar aquí otros métodos"
   ]
  },
  {
   "cell_type": "code",
   "execution_count": null,
   "id": "JB9nRyNKNBzy",
   "metadata": {
    "id": "JB9nRyNKNBzy"
   },
   "outputs": [],
   "source": [
    "if( !require(\"mice\")) install.packages(\"mice\", repos = \"http://cran.us.r-project.org\")\n",
    "require(\"mice\")"
   ]
  },
  {
   "cell_type": "code",
   "execution_count": null,
   "id": "QuraTbvTMmpf",
   "metadata": {
    "id": "QuraTbvTMmpf"
   },
   "outputs": [],
   "source": [
    "# Escrito por alumnos de  Universidad Austral  Rosario\n",
    "\n",
    "Corregir_MICE <- function(pcampo, pmeses) {\n",
    "\n",
    "  meth <- rep(\"\", ncol(dataset))\n",
    "  names(meth) <- colnames(dataset)\n",
    "  meth[names(meth) == pcampo] <- \"sample\"\n",
    "\n",
    "  # llamada a mice  !\n",
    "  imputacion <- mice(dataset,\n",
    "    method = meth,\n",
    "    maxit = 5,\n",
    "    m = 1,\n",
    "    seed = 7)\n",
    "\n",
    "  tbl <- mice::complete(dataset)\n",
    "\n",
    "  dataset[, paste0(pcampo) := ifelse(foto_mes %in% pmeses, tbl[, get(pcampo)], get(pcampo))]\n",
    "\n",
    "}\n"
   ]
  },
  {
   "cell_type": "code",
   "execution_count": null,
   "id": "mUDX04VTJz3M",
   "metadata": {
    "id": "mUDX04VTJz3M"
   },
   "outputs": [],
   "source": [
    "Corregir_interpolar <- function(pcampo, pmeses) {\n",
    "\n",
    "  tbl <- dataset[, list(\n",
    "    \"v1\" = shift(get(pcampo), 1, type = \"lag\"),\n",
    "    \"v2\" = shift(get(pcampo), 1, type = \"lead\")\n",
    "  ),\n",
    "  by = eval(envg$PARAM$dataset_metadata$entity_id)\n",
    "  ]\n",
    "\n",
    "  tbl[, paste0(envg$PARAM$dataset_metadata$entity_id) := NULL]\n",
    "  tbl[, promedio := rowMeans(tbl, na.rm = TRUE)]\n",
    "\n",
    "  dataset[\n",
    "    ,\n",
    "    paste0(pcampo) := ifelse(!(foto_mes %in% pmeses),\n",
    "      get(pcampo),\n",
    "      tbl$promedio\n",
    "    )\n",
    "  ]\n",
    "}"
   ]
  },
  {
   "cell_type": "code",
   "execution_count": null,
   "id": "Yyt2YmrbJ1zf",
   "metadata": {
    "id": "Yyt2YmrbJ1zf"
   },
   "outputs": [],
   "source": [
    "AsignarNA_campomeses <- function(pcampo, pmeses) {\n",
    "\n",
    "  if( pcampo %in% colnames( dataset ) ) {\n",
    "\n",
    "    dataset[ foto_mes %in% pmeses, paste0(pcampo) := NA ]\n",
    "  }\n",
    "}"
   ]
  },
  {
   "cell_type": "code",
   "execution_count": null,
   "id": "aFBlFw7hJ4EW",
   "metadata": {
    "id": "aFBlFw7hJ4EW"
   },
   "outputs": [],
   "source": [
    "\n",
    "Corregir_atributo <- function(pcampo, pmeses, pmetodo)\n",
    "{\n",
    "  # si el campo no existe en el dataset, Afuera !\n",
    "  if( !(pcampo %in% colnames( dataset )) )\n",
    "    return( 1 )\n",
    "\n",
    "  # llamo a la funcion especializada que corresponde\n",
    "  switch( pmetodo,\n",
    "    \"MachineLearning\"     = AsignarNA_campomeses(pcampo, pmeses),\n",
    "    \"EstadisticaClasica\"  = Corregir_interpolar(pcampo, pmeses),\n",
    "    \"MICE\"                = Corregir_MICE(pcampo, pmeses),\n",
    "  )\n",
    "\n",
    "  return( 0 )\n",
    "}"
   ]
  },
  {
   "cell_type": "code",
   "execution_count": null,
   "id": "krkr3JCxJ9Px",
   "metadata": {
    "id": "krkr3JCxJ9Px"
   },
   "outputs": [],
   "source": [
    "\n",
    "Corregir_Rotas <- function(dataset, pmetodo) {\n",
    "  gc(verbose= FALSE)\n",
    "  cat( \"inicio Corregir_Rotas()\\n\")\n",
    "  # acomodo los errores del dataset\n",
    "\n",
    "  Corregir_atributo(\"active_quarter\", c(202006), pmetodo) # 1\n",
    "  Corregir_atributo(\"internet\", c(202006), pmetodo) # 2\n",
    "\n",
    "  Corregir_atributo(\"mrentabilidad\", c(201905, 201910, 202006), pmetodo) # 3\n",
    "  Corregir_atributo(\"mrentabilidad_annual\", c(201905, 201910, 202006), pmetodo) # 4\n",
    "\n",
    "  Corregir_atributo(\"mcomisiones\", c(201905, 201910, 202006), pmetodo) # 5\n",
    "\n",
    "  Corregir_atributo(\"mactivos_margen\", c(201905, 201910, 202006), pmetodo) # 6\n",
    "  Corregir_atributo(\"mpasivos_margen\", c(201905, 201910, 202006), pmetodo) # 7\n",
    "\n",
    "  Corregir_atributo(\"mcuentas_saldo\", c(202006), pmetodo) # 8\n",
    "\n",
    "  Corregir_atributo(\"ctarjeta_debito_transacciones\", c(202006), pmetodo) # 9\n",
    "\n",
    "  Corregir_atributo(\"mautoservicio\", c(202006), pmetodo) # 10\n",
    "\n",
    "  Corregir_atributo(\"ctarjeta_visa_transacciones\", c(202006), pmetodo) # 11\n",
    "  Corregir_atributo(\"mtarjeta_visa_consumo\", c(202006), pmetodo) # 12\n",
    "\n",
    "  Corregir_atributo(\"ctarjeta_master_transacciones\", c(202006), pmetodo) # 13\n",
    "  Corregir_atributo(\"mtarjeta_master_consumo\", c(202006), pmetodo) # 14\n",
    "\n",
    "  Corregir_atributo(\"ctarjeta_visa_debitos_automaticos\", c(201904), pmetodo) # 15\n",
    "  Corregir_atributo(\"mttarjeta_visa_debitos_automaticos\", c(201904), pmetodo) # 16\n",
    "\n",
    "  Corregir_atributo(\"ccajeros_propios_descuentos\",\n",
    "    c(201910, 202002, 202006, 202009, 202010, 202102), pmetodo) # 17\n",
    "\n",
    "  Corregir_atributo(\"mcajeros_propios_descuentos\",\n",
    "    c(201910, 202002, 202006, 202009, 202010, 202102), pmetodo) # 18\n",
    "\n",
    "  Corregir_atributo(\"ctarjeta_visa_descuentos\",\n",
    "    c(201910, 202002, 202006, 202009, 202010, 202102), pmetodo) # 19\n",
    "\n",
    "  Corregir_atributo(\"mtarjeta_visa_descuentos\",\n",
    "    c(201910, 202002, 202006, 202009, 202010, 202102), pmetodo) # 20\n",
    "\n",
    "  Corregir_atributo(\"ctarjeta_master_descuentos\",\n",
    "    c(201910, 202002, 202006, 202009, 202010, 202102), pmetodo) # 21\n",
    "\n",
    "  Corregir_atributo(\"mtarjeta_master_descuentos\",\n",
    "    c(201910, 202002, 202006, 202009, 202010, 202102), pmetodo) # 22\n",
    "\n",
    "  Corregir_atributo(\"ccomisiones_otras\", c(201905, 201910, 202006), pmetodo) # 23\n",
    "  Corregir_atributo(\"mcomisiones_otras\", c(201905, 201910, 202006), pmetodo) # 24\n",
    "\n",
    "  Corregir_atributo(\"cextraccion_autoservicio\", c(202006), pmetodo) # 25\n",
    "  Corregir_atributo(\"mextraccion_autoservicio\", c(202006), pmetodo) # 26\n",
    "\n",
    "  Corregir_atributo(\"ccheques_depositados\", c(202006), pmetodo) # 27\n",
    "  Corregir_atributo(\"mcheques_depositados\", c(202006), pmetodo) # 28\n",
    "  Corregir_atributo(\"ccheques_emitidos\", c(202006), pmetodo) # 29\n",
    "  Corregir_atributo(\"mcheques_emitidos\", c(202006), pmetodo) # 30\n",
    "  Corregir_atributo(\"ccheques_depositados_rechazados\", c(202006), pmetodo) # 31\n",
    "  Corregir_atributo(\"mcheques_depositados_rechazados\", c(202006), pmetodo) # 32\n",
    "  Corregir_atributo(\"ccheques_emitidos_rechazados\", c(202006), pmetodo) # 33\n",
    "  Corregir_atributo(\"mcheques_emitidos_rechazados\", c(202006), pmetodo) # 34\n",
    "\n",
    "  Corregir_atributo(\"tcallcenter\", c(202006), pmetodo) # 35\n",
    "  Corregir_atributo(\"ccallcenter_transacciones\", c(202006), pmetodo) # 36\n",
    "\n",
    "  Corregir_atributo(\"thomebanking\", c(202006), pmetodo) # 37\n",
    "  Corregir_atributo(\"chomebanking_transacciones\", c(201910, 202006), pmetodo) # 38\n",
    "\n",
    "  Corregir_atributo(\"ccajas_transacciones\", c(202006), pmetodo) # 39\n",
    "  Corregir_atributo(\"ccajas_consultas\", c(202006), pmetodo) # 40\n",
    "\n",
    "  Corregir_atributo(\"ccajas_depositos\", c(202006, 202105), pmetodo) # 41\n",
    "\n",
    "  Corregir_atributo(\"ccajas_extracciones\", c(202006), pmetodo) # 41\n",
    "  Corregir_atributo(\"ccajas_otras\", c(202006), pmetodo) # 43\n",
    "\n",
    "  Corregir_atributo(\"catm_trx\", c(202006), pmetodo) # 44\n",
    "  Corregir_atributo(\"matm\", c(202006), pmetodo) # 45\n",
    "  Corregir_atributo(\"catm_trx_other\", c(202006), pmetodo) # 46\n",
    "  Corregir_atributo(\"matm_other\", c(202006), pmetodo) # 47\n",
    "\n",
    "  cat( \"fin Corregir_rotas()\\n\")\n",
    "}\n"
   ]
  },
  {
   "cell_type": "code",
   "execution_count": null,
   "id": "HaW4TeBIMxTn",
   "metadata": {
    "id": "HaW4TeBIMxTn"
   },
   "outputs": [],
   "source": [
    "# resuelvo el Catastrophe Analysis\n",
    "\n",
    "setorder( dataset, numero_de_cliente, foto_mes )\n",
    "\n",
    "PARAM$CA$metodo= \"MachineLearning\"\n",
    "\n",
    "if( PARAM$CA$metodo %in% c(\"MachineLearning\", \"EstadisticaClasica\", \"MICE\") )\n",
    "  Corregir_Rotas(dataset, PARAM$CA$metodo)"
   ]
  },
  {
   "cell_type": "markdown",
   "id": "-4NiANYFSYHG",
   "metadata": {
    "id": "-4NiANYFSYHG"
   },
   "source": [
    "#### 9.3.1.3  DR  Data Drifting\n",
    "Se intenta corregir el data drifting, ajustando por algunos indices financieros"
   ]
  },
  {
   "cell_type": "code",
   "execution_count": null,
   "id": "XXPLxqc1ShLN",
   "metadata": {
    "id": "XXPLxqc1ShLN"
   },
   "outputs": [],
   "source": [
    "# meses que me interesan para el ajuste de variables monetarias\n",
    "vfoto_mes <- c(\n",
    "  201901, 201902, 201903, 201904, 201905, 201906,\n",
    "  201907, 201908, 201909, 201910, 201911, 201912,\n",
    "  202001, 202002, 202003, 202004, 202005, 202006,\n",
    "  202007, 202008, 202009, 202010, 202011, 202012,\n",
    "  202101, 202102, 202103, 202104, 202105, 202106,\n",
    "  202107, 202108, 202109\n",
    ")\n"
   ]
  },
  {
   "cell_type": "code",
   "execution_count": null,
   "id": "sjjUe3waSh8D",
   "metadata": {
    "id": "sjjUe3waSh8D"
   },
   "outputs": [],
   "source": [
    "# los valores que siguen fueron calculados por alumnos\n",
    "\n",
    "# momento 1.0  31-dic-2020 a las 23:59\n",
    "vIPC <- c(\n",
    "  1.9903030878, 1.9174403544, 1.8296186587,\n",
    "  1.7728862972, 1.7212488323, 1.6776304408,\n",
    "  1.6431248196, 1.5814483345, 1.4947526791,\n",
    "  1.4484037589, 1.3913580777, 1.3404220402,\n",
    "  1.3154288912, 1.2921698342, 1.2472681797,\n",
    "  1.2300475145, 1.2118694724, 1.1881073259,\n",
    "  1.1693969743, 1.1375456949, 1.1065619600,\n",
    "  1.0681100000, 1.0370000000, 1.0000000000,\n",
    "  0.9680542110, 0.9344152616, 0.8882274350,\n",
    "  0.8532444140, 0.8251880213, 0.8003763543,\n",
    "  0.7763107219, 0.7566381305, 0.7289384687\n",
    ")\n",
    "\n",
    "vdolar_blue <- c(\n",
    "   39.045455,  38.402500,  41.639474,\n",
    "   44.274737,  46.095455,  45.063333,\n",
    "   43.983333,  54.842857,  61.059524,\n",
    "   65.545455,  66.750000,  72.368421,\n",
    "   77.477273,  78.191667,  82.434211,\n",
    "  101.087500, 126.236842, 125.857143,\n",
    "  130.782609, 133.400000, 137.954545,\n",
    "  170.619048, 160.400000, 153.052632,\n",
    "  157.900000, 149.380952, 143.615385,\n",
    "  146.250000, 153.550000, 162.000000,\n",
    "  178.478261, 180.878788, 184.357143\n",
    ")\n",
    "\n",
    "vdolar_oficial <- c(\n",
    "   38.430000,  39.428000,  42.542105,\n",
    "   44.354211,  46.088636,  44.955000,\n",
    "   43.751429,  54.650476,  58.790000,\n",
    "   61.403182,  63.012632,  63.011579,\n",
    "   62.983636,  63.580556,  65.200000,\n",
    "   67.872000,  70.047895,  72.520952,\n",
    "   75.324286,  77.488500,  79.430909,\n",
    "   83.134762,  85.484737,  88.181667,\n",
    "   91.474000,  93.997778,  96.635909,\n",
    "   98.526000,  99.613158, 100.619048,\n",
    "  101.619048, 102.569048, 103.781818\n",
    ")\n",
    "\n",
    "vUVA <- c(\n",
    "  2.001408838932958,  1.950325472789153,  1.89323032351521,\n",
    "  1.8247220405493787, 1.746027787673673,  1.6871348409529485,\n",
    "  1.6361678865622313, 1.5927529755859773, 1.5549162794128493,\n",
    "  1.4949100586391746, 1.4197729500774545, 1.3678188186372326,\n",
    "  1.3136508617223726, 1.2690535173062818, 1.2381595983200178,\n",
    "  1.211656735577568,  1.1770808941405335, 1.1570338657445522,\n",
    "  1.1388769475653255, 1.1156993751209352, 1.093638313080772,\n",
    "  1.0657171590878205, 1.0362173587708712, 1.0,\n",
    "  0.9669867858358365, 0.9323750098728378, 0.8958202912590305,\n",
    "  0.8631993702994263, 0.8253893405524657, 0.7928918905364516,\n",
    "  0.7666323845128089, 0.7428976357662823, 0.721615762047849\n",
    ")\n"
   ]
  },
  {
   "cell_type": "code",
   "execution_count": null,
   "id": "RSF9i9nyWwKs",
   "metadata": {
    "id": "RSF9i9nyWwKs"
   },
   "outputs": [],
   "source": [
    "tb_indices <- as.data.table( list(\n",
    "  \"IPC\" = vIPC,\n",
    "  \"dolar_blue\" = vdolar_blue,\n",
    "  \"dolar_oficial\" = vdolar_oficial,\n",
    "  \"UVA\" = vUVA\n",
    "  )\n",
    ")\n",
    "\n",
    "tb_indices[[ 'foto_mes' ]] <- vfoto_mes\n",
    "\n",
    "tb_indices"
   ]
  },
  {
   "cell_type": "code",
   "execution_count": null,
   "id": "oq2zlvpkSmAU",
   "metadata": {
    "id": "oq2zlvpkSmAU"
   },
   "outputs": [],
   "source": [
    "drift_UVA <- function(campos_monetarios) {\n",
    "  cat( \"inicio drift_UVA()\\n\")\n",
    "\n",
    "  dataset[tb_indices,\n",
    "    on = c(\"foto_mes\"),\n",
    "    (campos_monetarios) := .SD * i.UVA,\n",
    "    .SDcols = campos_monetarios\n",
    "  ]\n",
    "\n",
    "  cat( \"fin drift_UVA()\\n\")\n",
    "}\n"
   ]
  },
  {
   "cell_type": "code",
   "execution_count": null,
   "id": "h2QbqSn8Sojj",
   "metadata": {
    "id": "h2QbqSn8Sojj"
   },
   "outputs": [],
   "source": [
    "drift_dolar_oficial <- function(campos_monetarios) {\n",
    "  cat( \"inicio drift_dolar_oficial()\\n\")\n",
    "\n",
    "  dataset[tb_indices,\n",
    "    on = c(\"foto_mes\"),\n",
    "    (campos_monetarios) := .SD / i.dolar_oficial,\n",
    "    .SDcols = campos_monetarios\n",
    "  ]\n",
    "\n",
    "  cat( \"fin drift_dolar_oficial()\\n\")\n",
    "}\n"
   ]
  },
  {
   "cell_type": "code",
   "execution_count": null,
   "id": "DMTgpq9VSqqM",
   "metadata": {
    "id": "DMTgpq9VSqqM"
   },
   "outputs": [],
   "source": [
    "drift_dolar_blue <- function(campos_monetarios) {\n",
    "  cat( \"inicio drift_dolar_blue()\\n\")\n",
    "\n",
    "  dataset[tb_indices,\n",
    "    on = c(\"foto_mes\"),\n",
    "    (campos_monetarios) := .SD / i.dolar_blue,\n",
    "    .SDcols = campos_monetarios\n",
    "  ]\n",
    "\n",
    "  cat( \"fin drift_dolar_blue()\\n\")\n",
    "}\n"
   ]
  },
  {
   "cell_type": "code",
   "execution_count": null,
   "id": "7n171_BoStAj",
   "metadata": {
    "id": "7n171_BoStAj"
   },
   "outputs": [],
   "source": [
    "drift_deflacion <- function(campos_monetarios) {\n",
    "  cat( \"inicio drift_deflacion()\\n\")\n",
    "\n",
    "  dataset[tb_indices,\n",
    "    on = c(\"foto_mes\"),\n",
    "    (campos_monetarios) := .SD * i.IPC,\n",
    "    .SDcols = campos_monetarios\n",
    "  ]\n",
    "\n",
    "  cat( \"fin drift_deflacion()\\n\")\n",
    "}\n"
   ]
  },
  {
   "cell_type": "code",
   "execution_count": null,
   "id": "Z94UizNySv0m",
   "metadata": {
    "id": "Z94UizNySv0m"
   },
   "outputs": [],
   "source": [
    "drift_rank_simple <- function(campos_drift) {\n",
    "\n",
    "  cat( \"inicio drift_rank_simple()\\n\")\n",
    "  for (campo in campos_drift)\n",
    "  {\n",
    "    cat(campo, \" \")\n",
    "    dataset[, paste0(campo, \"_rank\") :=\n",
    "      (frank(get(campo), ties.method = \"random\") - 1) / (.N - 1), by = list(foto_mes)]\n",
    "    dataset[, (campo) := NULL]\n",
    "  }\n",
    "  cat( \"fin drift_rank_simple()\\n\")\n",
    "}\n"
   ]
  },
  {
   "cell_type": "code",
   "execution_count": null,
   "id": "GnbUIXeWSyQm",
   "metadata": {
    "id": "GnbUIXeWSyQm"
   },
   "outputs": [],
   "source": [
    "# El cero se transforma en cero\n",
    "# los positivos se rankean por su lado\n",
    "# los negativos se rankean por su lado\n",
    "\n",
    "drift_rank_cero_fijo <- function(campos_drift) {\n",
    "\n",
    "  cat( \"inicio drift_rank_cero_fijo()\\n\")\n",
    "  for (campo in campos_drift)\n",
    "  {\n",
    "    cat(campo, \" \")\n",
    "    dataset[get(campo) == 0, paste0(campo, \"_rank\") := 0]\n",
    "    dataset[get(campo) > 0, paste0(campo, \"_rank\") :=\n",
    "      frank(get(campo), ties.method = \"random\") / .N, by = list(foto_mes)]\n",
    "\n",
    "    dataset[get(campo) < 0, paste0(campo, \"_rank\") :=\n",
    "      -frank(-get(campo), ties.method = \"random\") / .N, by = list(foto_mes)]\n",
    "    dataset[, (campo) := NULL]\n",
    "  }\n",
    "  cat(\"\\n\")\n",
    "  cat( \"fin drift_rank_cero_fijo()\\n\")\n",
    "}\n"
   ]
  },
  {
   "cell_type": "code",
   "execution_count": null,
   "id": "dhlyk-WxS040",
   "metadata": {
    "id": "dhlyk-WxS040"
   },
   "outputs": [],
   "source": [
    "drift_estandarizar <- function(campos_drift) {\n",
    "\n",
    "  cat( \"inicio drift_estandarizar()\\n\")\n",
    "  for (campo in campos_drift)\n",
    "  {\n",
    "    cat(campo, \" \")\n",
    "    dataset[, paste0(campo, \"_normal\") :=\n",
    "      (get(campo) -mean(campo, na.rm=TRUE)) / sd(get(campo), na.rm=TRUE),\n",
    "      by = list(foto_mes)]\n",
    "\n",
    "    dataset[, (campo) := NULL]\n",
    "  }\n",
    "  cat( \"fin drift_estandarizar()\\n\")\n",
    "}\n"
   ]
  },
  {
   "cell_type": "code",
   "execution_count": null,
   "id": "tlJjlN6PVanz",
   "metadata": {
    "id": "tlJjlN6PVanz"
   },
   "outputs": [],
   "source": [
    "# por como armé los nombres de campos,\n",
    "#  estos son los campos que expresan variables monetarias\n",
    "campos_monetarios <- colnames(dataset)\n",
    "campos_monetarios <- campos_monetarios[campos_monetarios %like%\n",
    "  \"^(m|Visa_m|Master_m|vm_m)\"]\n",
    "\n",
    "campos_monetarios"
   ]
  },
  {
   "cell_type": "code",
   "execution_count": null,
   "id": "G_8BH82XS3uV",
   "metadata": {
    "id": "G_8BH82XS3uV"
   },
   "outputs": [],
   "source": [
    "# ejecuto el Data Drifting\n",
    "setorder( dataset, numero_de_cliente, foto_mes )\n",
    "\n",
    "\n",
    "PARAM$DR$metodo <- \"deflacion\"\n",
    "\n",
    "switch(PARAM$DR$metodo,\n",
    "  \"ninguno\"        = cat(\"No hay correccion del data drifting\"),\n",
    "  \"rank_simple\"    = drift_rank_simple(campos_monetarios),\n",
    "  \"rank_cero_fijo\" = drift_rank_cero_fijo(campos_monetarios),\n",
    "  \"deflacion\"      = drift_deflacion(campos_monetarios),\n",
    "  \"dolar_blue\"     = drift_dolarblue(campos_monetarios),\n",
    "  \"dolar_oficial\"  = drift_dolaroficial(campos_monetarios),\n",
    "  \"UVA\"            = drift_UVA(campos_monetarios),\n",
    "  \"estandarizar\"   = drift_estandarizar(campos_monetarios)\n",
    ")\n"
   ]
  },
  {
   "cell_type": "code",
   "execution_count": null,
   "id": "-efBawbTWPKc",
   "metadata": {
    "id": "-efBawbTWPKc"
   },
   "outputs": [],
   "source": [
    "colnames(dataset)"
   ]
  },
  {
   "cell_type": "markdown",
   "id": "rZ11c9KcFoAp",
   "metadata": {
    "id": "rZ11c9KcFoAp"
   },
   "source": []
  },
  {
   "cell_type": "code",
   "execution_count": null,
   "id": "L85A2lwKSe3k",
   "metadata": {
    "id": "L85A2lwKSe3k"
   },
   "outputs": [],
   "source": [
    "# se intenta corregir el data drifting utilizando algunos indices financieros"
   ]
  },
  {
   "cell_type": "markdown",
   "id": "7sppIDYeSn5X",
   "metadata": {
    "id": "7sppIDYeSn5X"
   },
   "source": [
    "#### 9.3.1.3  FE_intra_manual Feature Engineering intra-mes\n",
    "\n",
    "Agrego campos nuevos dentro del mismo mes, SIN considerar la historia."
   ]
  },
  {
   "cell_type": "code",
   "execution_count": null,
   "id": "qrqf3j3_St3p",
   "metadata": {
    "id": "qrqf3j3_St3p"
   },
   "outputs": [],
   "source": [
    "# esta funcion atributos presentes existe debido a que las modalidades poseen datasets con distinta cantidad de campos\n",
    "atributos_presentes <- function( patributos )\n",
    "{\n",
    "  atributos <- unique( patributos )\n",
    "  comun <- intersect( atributos, colnames(dataset) )\n",
    "\n",
    "  return(  length( atributos ) == length( comun ) )\n",
    "}\n",
    "\n",
    "# el mes 1,2, ..12\n",
    "if( atributos_presentes( c(\"foto_mes\") ))\n",
    "  dataset[, kmes := foto_mes %% 100]\n",
    "\n",
    "# variable extraida de una tesis de maestria de Irlanda\n",
    "if( atributos_presentes( c(\"mpayroll\", \"cliente_edad\") ))\n",
    "  dataset[, mpayroll_sobre_edad := mpayroll / cliente_edad]\n"
   ]
  },
  {
   "cell_type": "code",
   "execution_count": null,
   "id": "iC4viwOdY5Kp",
   "metadata": {
    "id": "iC4viwOdY5Kp"
   },
   "outputs": [],
   "source": [
    "# visualizo las columas del dataset a esta etapa\n",
    "colnames(dataset)"
   ]
  },
  {
   "cell_type": "markdown",
   "id": "9682b4ca-3ab3-4bbc-a36a-b185361e6b6b",
   "metadata": {
    "id": "9682b4ca-3ab3-4bbc-a36a-b185361e6b6b"
   },
   "source": [
    "#### 9.3.1.4  FE_rf Feature Engineering de nuevas variables a partir de hojas de Random Forest"
   ]
  },
  {
   "cell_type": "code",
   "execution_count": null,
   "id": "Vd09ZaybfUeK",
   "metadata": {
    "id": "Vd09ZaybfUeK"
   },
   "outputs": [],
   "source": [
    "if( !require(\"lightgbm\")) install.packages(\"lightgbm\")\n",
    "require(\"lightgbm\")"
   ]
  },
  {
   "cell_type": "code",
   "execution_count": 34,
   "id": "b4eaae3b-909a-4d55-ae70-a7b3bd6134f5",
   "metadata": {
    "id": "i6vcLtXldMpz"
   },
   "outputs": [],
   "source": [
    "AgregaVarRandomForest <- function() {\n",
    "\n",
    "  cat( \"inicio AgregaVarRandomForest()\\n\")\n",
    "  gc(verbose= FALSE)\n",
    "  dataset[, clase01 := 0L ]\n",
    "  dataset[ clase_ternaria %in% PARAM$FE_rf$train$clase01_valor1,\n",
    "      clase01 := 1L ]\n",
    "\n",
    "  campos_buenos <- setdiff(\n",
    "    colnames(dataset),\n",
    "    c( \"clase_ternaria\", \"clase01\")\n",
    "  )\n",
    "\n",
    "  dataset[, entrenamiento :=\n",
    "    as.integer( foto_mes %in% PARAM$FE_rf$train$training )]\n",
    "\n",
    "  dtrain <- lgb.Dataset(\n",
    "    data = data.matrix(dataset[entrenamiento == TRUE, campos_buenos, with = FALSE]),\n",
    "    label = dataset[entrenamiento == TRUE, clase01],\n",
    "    free_raw_data = FALSE\n",
    "  )\n",
    "\n",
    "  modelo <- lgb.train(\n",
    "     data = dtrain,\n",
    "     param = PARAM$FE_rf$lgb_param,\n",
    "     verbose = -100\n",
    "  )\n",
    "\n",
    "  cat( \"Fin construccion RandomForest\\n\" )\n",
    "  # grabo el modelo, achivo .model\n",
    "  lgb.save(modelo, file=\"modelo.model\" )\n",
    "\n",
    "  qarbolitos <- copy(PARAM$FE_rf$lgb_param$num_iterations)\n",
    "\n",
    "  periodos <- dataset[ , unique( foto_mes ) ]\n",
    "\n",
    "  for( periodo in  periodos )\n",
    "  {\n",
    "    cat( \"periodo = \", periodo, \"\\n\" )\n",
    "    datamatrix <- data.matrix(dataset[ foto_mes== periodo, campos_buenos, with = FALSE])\n",
    "\n",
    "    cat( \"Inicio prediccion\\n\" )\n",
    "    prediccion <- predict(\n",
    "        modelo,\n",
    "        datamatrix,\n",
    "        type = \"leaf\"\n",
    "    )\n",
    "    cat( \"Fin prediccion\\n\" )\n",
    "\n",
    "    for( arbolito in 1:qarbolitos )\n",
    "    {\n",
    "       cat( arbolito, \" \" )\n",
    "       hojas_arbol <- unique(prediccion[ , arbolito])\n",
    "\n",
    "       for (pos in 1:length(hojas_arbol)) {\n",
    "         # el numero de nodo de la hoja, estan salteados\n",
    "         nodo_id <- hojas_arbol[pos]\n",
    "         dataset[ foto_mes== periodo, paste0(\n",
    "            \"rf_\", sprintf(\"%03d\", arbolito),\n",
    "             \"_\", sprintf(\"%03d\", nodo_id)\n",
    "          ) :=  as.integer( nodo_id == prediccion[ , arbolito]) ]\n",
    "\n",
    "       }\n",
    "\n",
    "       rm( hojas_arbol )\n",
    "    }\n",
    "    cat( \"\\n\" )\n",
    "\n",
    "    rm( prediccion )\n",
    "    rm( datamatrix )\n",
    "    gc(verbose= FALSE)\n",
    "  }\n",
    "\n",
    "  gc(verbose= FALSE)\n",
    "\n",
    "  # borro clase01 , no debe ensuciar el dataset\n",
    "  dataset[ , clase01 := NULL ]\n",
    "\n",
    "}\n",
    "\n",
    "\n",
    "# Parametros de Feature Engineering  a partir de hojas de Random Forest\n",
    "\n",
    "# Estos CUATRO parametros son los que se deben modificar\n",
    "PARAM$FE_rf$arbolitos= 40\n",
    "PARAM$FE_rf$hojas_por_arbol= 10\n",
    "PARAM$FE_rf$datos_por_hoja= 250\n",
    "PARAM$FE_rf$mtry_ratio= 0.2\n",
    "\n",
    "# Estos son quasi fijos\n",
    "PARAM$FE_rf$train$clase01_valor1 <- c( \"BAJA+2\", \"BAJA+1\")\n",
    "PARAM$FE_rf$train$training <- c( 202101, 202102, 202103)\n",
    "\n",
    "# Estos TAMBIEN son quasi fijos\n",
    "PARAM$FE_rf$lgb_param <-list(\n",
    "    # parametros que se pueden cambiar\n",
    "    num_iterations = PARAM$FE_rf$arbolitos,\n",
    "    num_leaves  = PARAM$FE_rf$hojas_por_arbol,\n",
    "    min_data_in_leaf = PARAM$FE_rf$datos_por_hoja,\n",
    "    feature_fraction_bynode  = PARAM$FE_rf$mtry_ratio,\n",
    "\n",
    "    # para que LightGBM emule Random Forest\n",
    "    boosting = \"rf\",\n",
    "    bagging_fraction = ( 1.0 - 1.0/exp(1.0) ),\n",
    "    bagging_freq = 1.0,\n",
    "    feature_fraction = 1.0,\n",
    "\n",
    "    # genericos de LightGBM\n",
    "    max_bin = 31L,\n",
    "    objective = \"binary\",\n",
    "    first_metric_only = TRUE,\n",
    "    boost_from_average = TRUE,\n",
    "    feature_pre_filter = FALSE,\n",
    "    force_row_wise = TRUE,\n",
    "    verbosity = -100,\n",
    "    max_depth = -1L,\n",
    "    min_gain_to_split = 0.0,\n",
    "    min_sum_hessian_in_leaf = 0.001,\n",
    "    lambda_l1 = 0.0,\n",
    "    lambda_l2 = 0.0,\n",
    "\n",
    "    pos_bagging_fraction = 1.0,\n",
    "    neg_bagging_fraction = 1.0,\n",
    "    is_unbalance = TRUE,\n",
    "    scale_pos_weight = 1.0,\n",
    "\n",
    "    drop_rate = 0.1,\n",
    "    max_drop = 50,\n",
    "    skip_drop = 0.5,\n",
    "\n",
    "    extra_trees = FALSE\n",
    "  )"
   ]
  },
  {
   "cell_type": "code",
   "execution_count": 35,
   "id": "GTTj4VdBezcE",
   "metadata": {
    "id": "GTTj4VdBezcE"
   },
   "outputs": [
    {
     "name": "stdout",
     "output_type": "stream",
     "text": [
      "inicio AgregaVarRandomForest()\n",
      "Fin construccion RandomForest\n",
      "periodo =  202003 \n",
      "Inicio prediccion\n",
      "Fin prediccion\n",
      "1  2  3  4  5  6  7  8  9  10  11  12  13  14  15  16  17  18  19  20  21  22  23  24  25  26  27  28  29  30  \n",
      "periodo =  202004 \n",
      "Inicio prediccion\n",
      "Fin prediccion\n",
      "1  2  3  4  5  6  7  8  9  10  11  12  13  14  15  16  17  18  19  20  21  22  23  24  25  26  27  28  29  30  \n",
      "periodo =  202005 \n",
      "Inicio prediccion\n",
      "Fin prediccion\n",
      "1  2  3  4  5  6  7  8  9  10  11  12  13  14  15  16  17  18  19  20  21  22  23  24  25  26  27  28  29  30  \n",
      "periodo =  202006 \n",
      "Inicio prediccion\n",
      "Fin prediccion\n",
      "1  2  3  4  5  6  7  8  9  10  11  12  13  14  15  16  17  18  19  20  21  22  23  24  25  26  27  28  29  30  \n",
      "periodo =  202007 \n",
      "Inicio prediccion\n",
      "Fin prediccion\n",
      "1  2  3  4  5  6  7  8  9  10  11  12  13  14  15  16  17  18  19  20  21  22  23  24  25  26  27  28  29  30  \n",
      "periodo =  202008 \n",
      "Inicio prediccion\n",
      "Fin prediccion\n",
      "1  2  3  4  5  6  7  8  9  10  11  12  13  14  15  16  17  18  19  20  21  22  23  24  25  26  27  28  29  30  \n",
      "periodo =  202009 \n",
      "Inicio prediccion\n",
      "Fin prediccion\n",
      "1  2  3  4  5  6  7  8  9  10  11  12  13  14  15  16  17  18  19  20  21  22  23  24  25  26  27  28  29  30  \n",
      "periodo =  202010 \n",
      "Inicio prediccion\n",
      "Fin prediccion\n",
      "1  2  3  4  5  6  7  8  9  10  11  12  13  14  15  16  17  18  19  20  21  22  23  24  25  26  27  28  29  30  \n",
      "periodo =  202011 \n",
      "Inicio prediccion\n",
      "Fin prediccion\n",
      "1  2  3  4  5  6  7  8  9  10  11  12  13  14  15  16  17  18  19  20  21  22  23  24  25  26  27  28  29  30  \n",
      "periodo =  202012 \n",
      "Inicio prediccion\n",
      "Fin prediccion\n",
      "1  2  3  4  5  6  7  8  9  10  11  12  13  14  15  16  17  18  19  20  21  22  23  24  25  26  27  28  29  30  \n",
      "periodo =  202101 \n",
      "Inicio prediccion\n",
      "Fin prediccion\n",
      "1  2  3  4  5  6  7  8  9  10  11  12  13  14  15  16  17  18  19  20  21  22  23  24  25  26  27  28  29  30  \n",
      "periodo =  202102 \n",
      "Inicio prediccion\n",
      "Fin prediccion\n",
      "1  2  3  4  5  6  7  8  9  10  11  12  13  14  15  16  17  18  19  20  21  22  23  24  25  26  27  28  29  30  \n",
      "periodo =  202103 \n",
      "Inicio prediccion\n",
      "Fin prediccion\n",
      "1  2  3  4  5  6  7  8  9  10  11  12  13  14  15  16  17  18  19  20  21  22  23  24  25  26  27  28  29  30  \n",
      "periodo =  202104 \n",
      "Inicio prediccion\n",
      "Fin prediccion\n",
      "1  2  3  4  5  6  7  8  9  10  11  12  13  14  15  16  17  18  19  20  21  22  23  24  25  26  27  28  29  30  \n",
      "periodo =  202105 \n",
      "Inicio prediccion\n",
      "Fin prediccion\n",
      "1  2  3  4  5  6  7  8  9  10  11  12  13  14  15  16  17  18  19  20  21  22  23  24  25  26  27  28  29  30  \n",
      "periodo =  202106 \n",
      "Inicio prediccion\n",
      "Fin prediccion\n",
      "1  2  3  4  5  6  7  8  9  10  11  12  13  14  15  16  17  18  19  20  21  22  23  24  25  26  27  28  29  30  \n",
      "periodo =  202107 \n",
      "Inicio prediccion\n",
      "Fin prediccion\n",
      "1  2  3  4  5  6  7  8  9  10  11  12  13  14  15  16  17  18  19  20  21  22  23  24  25  26  27  28  29  30  \n",
      "periodo =  202108 \n",
      "Inicio prediccion\n",
      "Fin prediccion\n",
      "1  2  3  4  5  6  7  8  9  10  11  12  13  14  15  16  17  18  19  20  21  22  23  24  25  26  27  28  29  30  \n",
      "periodo =  202109 \n",
      "Inicio prediccion\n",
      "Fin prediccion\n",
      "1  2  3  4  5  6  7  8  9  10  11  12  13  14  15  16  17  18  19  20  21  22  23  24  25  26  27  28  29  30  \n",
      "periodo =  201901 \n",
      "Inicio prediccion\n",
      "Fin prediccion\n",
      "1  2  3  4  5  6  7  8  9  10  11  12  13  14  15  16  17  18  19  20  21  22  23  24  25  26  27  28  29  30  \n",
      "periodo =  201902 \n",
      "Inicio prediccion\n",
      "Fin prediccion\n",
      "1  2  3  4  5  6  7  8  9  10  11  12  13  14  15  16  17  18  19  20  21  22  23  24  25  26  27  28  29  30  \n",
      "periodo =  201903 \n",
      "Inicio prediccion\n",
      "Fin prediccion\n",
      "1  2  3  4  5  6  7  8  9  10  11  12  13  14  15  16  17  18  19  20  21  22  23  24  25  26  27  28  29  30  \n",
      "periodo =  201904 \n",
      "Inicio prediccion\n",
      "Fin prediccion\n",
      "1  2  3  4  5  6  7  8  9  10  11  12  13  14  15  16  17  18  19  20  21  22  23  24  25  26  27  28  29  30  \n",
      "periodo =  201905 \n",
      "Inicio prediccion\n",
      "Fin prediccion\n",
      "1  2  3  4  5  6  7  8  9  10  11  12  13  14  15  16  17  18  19  20  21  22  23  24  25  26  27  28  29  30  \n",
      "periodo =  201906 \n",
      "Inicio prediccion\n",
      "Fin prediccion\n",
      "1  2  3  4  5  6  7  8  9  10  11  12  13  14  15  16  17  18  19  20  21  22  23  24  25  26  27  28  29  30  \n",
      "periodo =  201907 \n",
      "Inicio prediccion\n",
      "Fin prediccion\n",
      "1  2  3  4  5  6  7  8  9  10  11  12  13  14  15  16  17  18  19  20  21  22  23  24  25  26  27  28  29  30  \n",
      "periodo =  201908 \n",
      "Inicio prediccion\n",
      "Fin prediccion\n",
      "1  2  3  4  5  6  7  8  9  10  11  12  13  14  15  16  17  18  19  20  21  22  23  24  25  26  27  28  29  30  \n",
      "periodo =  201909 \n",
      "Inicio prediccion\n",
      "Fin prediccion\n",
      "1  2  3  4  5  6  7  8  9  10  11  12  13  14  15  16  17  18  19  20  21  22  23  24  25  26  27  28  29  30  \n",
      "periodo =  201910 \n",
      "Inicio prediccion\n",
      "Fin prediccion\n",
      "1  2  3  4  5  6  7  8  9  10  11  12  13  14  15  16  17  18  19  20  21  22  23  24  25  26  27  28  29  30  \n",
      "periodo =  201911 \n",
      "Inicio prediccion\n",
      "Fin prediccion\n",
      "1  2  3  4  5  6  7  8  9  10  11  12  13  14  15  16  17  18  19  20  21  22  23  24  25  26  27  28  29  30  \n",
      "periodo =  201912 \n",
      "Inicio prediccion\n",
      "Fin prediccion\n",
      "1  2  3  4  5  6  7  8  9  10  11  12  13  14  15  16  17  18  19  20  21  22  23  24  25  26  27  28  29  30  \n",
      "periodo =  202001 \n",
      "Inicio prediccion\n",
      "Fin prediccion\n",
      "1  2  3  4  5  6  7  8  9  10  11  12  13  14  15  16  17  18  19  20  21  22  23  24  25  26  27  28  29  30  \n",
      "periodo =  202002 \n",
      "Inicio prediccion\n",
      "Fin prediccion\n",
      "1  2  3  4  5  6  7  8  9  10  11  12  13  14  15  16  17  18  19  20  21  22  23  24  25  26  27  28  29  30  \n"
     ]
    }
   ],
   "source": [
    "# Feature Engineering agregando variables de Random Forest\n",
    "AgregaVarRandomForest()"
   ]
  },
  {
   "cell_type": "code",
   "execution_count": 36,
   "id": "bs2vXYFuiXGu",
   "metadata": {
    "id": "bs2vXYFuiXGu"
   },
   "outputs": [
    {
     "data": {
      "text/html": [
       "658"
      ],
      "text/latex": [
       "658"
      ],
      "text/markdown": [
       "658"
      ],
      "text/plain": [
       "[1] 658"
      ]
     },
     "metadata": {},
     "output_type": "display_data"
    },
    {
     "data": {
      "text/html": [
       "<style>\n",
       ".list-inline {list-style: none; margin:0; padding: 0}\n",
       ".list-inline>li {display: inline-block}\n",
       ".list-inline>li:not(:last-child)::after {content: \"\\00b7\"; padding: 0 .5ex}\n",
       "</style>\n",
       "<ol class=list-inline><li>'numero_de_cliente'</li><li>'foto_mes'</li><li>'internet'</li><li>'cliente_edad'</li><li>'cliente_antiguedad'</li><li>'mrentabilidad'</li><li>'mrentabilidad_annual'</li><li>'mcomisiones'</li><li>'mactivos_margen'</li><li>'mpasivos_margen'</li><li>'cproductos'</li><li>'mcuenta_corriente'</li><li>'mcaja_ahorro'</li><li>'cdescubierto_preacordado'</li><li>'mcuentas_saldo'</li><li>'ctarjeta_visa'</li><li>'ctarjeta_visa_transacciones'</li><li>'mtarjeta_visa_consumo'</li><li>'ctarjeta_master'</li><li>'ctarjeta_master_transacciones'</li><li>'mtarjeta_master_consumo'</li><li>'cprestamos_personales'</li><li>'mprestamos_personales'</li><li>'cpayroll_trx'</li><li>'mpayroll'</li><li>'mttarjeta_visa_debitos_automaticos'</li><li>'ccomisiones_mantenimiento'</li><li>'mcomisiones_mantenimiento'</li><li>'ccomisiones_otras'</li><li>'mtransferencias_recibidas'</li><li>'ccallcenter_transacciones'</li><li>'thomebanking'</li><li>'chomebanking_transacciones'</li><li>'ctrx_quarter'</li><li>'Master_status'</li><li>'Master_mfinanciacion_limite'</li><li>'Master_Fvencimiento'</li><li>'Master_msaldototal'</li><li>'Master_mlimitecompra'</li><li>'Master_fultimo_cierre'</li><li>'Master_fechaalta'</li><li>'Master_mconsumototal'</li><li>'Master_cconsumos'</li><li>'Master_mpagominimo'</li><li>'Visa_status'</li><li>'Visa_mfinanciacion_limite'</li><li>'Visa_Fvencimiento'</li><li>'Visa_msaldototal'</li><li>'Visa_mlimitecompra'</li><li>'Visa_fultimo_cierre'</li><li>'Visa_fechaalta'</li><li>'Visa_mconsumototal'</li><li>'Visa_cconsumos'</li><li>'Visa_mpagominimo'</li><li>'clase_ternaria'</li><li>'kmes'</li><li>'mpayroll_sobre_edad'</li><li>'entrenamiento'</li><li>'rf_001_001'</li><li>'rf_001_018'</li><li>'rf_001_016'</li><li>'rf_001_006'</li><li>'rf_001_004'</li><li>'rf_001_017'</li><li>'rf_001_008'</li><li>'rf_001_007'</li><li>'rf_001_019'</li><li>'rf_001_000'</li><li>'rf_001_002'</li><li>'rf_001_013'</li><li>'rf_001_014'</li><li>'rf_001_003'</li><li>'rf_001_009'</li><li>'rf_001_015'</li><li>'rf_001_010'</li><li>'rf_001_011'</li><li>'rf_001_005'</li><li>'rf_001_012'</li><li>'rf_002_001'</li><li>'rf_002_004'</li><li>'rf_002_014'</li><li>'rf_002_016'</li><li>'rf_002_015'</li><li>'rf_002_013'</li><li>'rf_002_002'</li><li>'rf_002_010'</li><li>'rf_002_007'</li><li>'rf_002_009'</li><li>'rf_002_003'</li><li>'rf_002_017'</li><li>'rf_002_018'</li><li>'rf_002_011'</li><li>'rf_002_019'</li><li>'rf_002_008'</li><li>'rf_002_000'</li><li>'rf_002_006'</li><li>'rf_002_005'</li><li>'rf_002_012'</li><li>'rf_003_004'</li><li>'rf_003_003'</li><li>'rf_003_009'</li><li>'rf_003_015'</li><li>'rf_003_002'</li><li>'rf_003_011'</li><li>'rf_003_008'</li><li>'rf_003_000'</li><li>'rf_003_012'</li><li>'rf_003_014'</li><li>'rf_003_013'</li><li>'rf_003_010'</li><li>'rf_003_016'</li><li>'rf_003_007'</li><li>'rf_003_018'</li><li>'rf_003_005'</li><li>'rf_003_006'</li><li>'rf_003_017'</li><li>'rf_003_019'</li><li>'rf_003_001'</li><li>'rf_004_013'</li><li>'rf_004_010'</li><li>'rf_004_005'</li><li>'rf_004_000'</li><li>'rf_004_006'</li><li>'rf_004_011'</li><li>'rf_004_009'</li><li>'rf_004_004'</li><li>'rf_004_016'</li><li>'rf_004_007'</li><li>'rf_004_001'</li><li>'rf_004_002'</li><li>'rf_004_003'</li><li>'rf_004_014'</li><li>'rf_004_015'</li><li>'rf_004_012'</li><li>'rf_004_017'</li><li>'rf_004_008'</li><li>'rf_004_018'</li><li>'rf_004_019'</li><li>'rf_005_015'</li><li>'rf_005_001'</li><li>'rf_005_009'</li><li>'rf_005_014'</li><li>'rf_005_011'</li><li>'rf_005_008'</li><li>'rf_005_006'</li><li>'rf_005_000'</li><li>'rf_005_013'</li><li>'rf_005_005'</li><li>'rf_005_003'</li><li>'rf_005_002'</li><li>'rf_005_010'</li><li>'rf_005_016'</li><li>'rf_005_007'</li><li>'rf_005_017'</li><li>'rf_005_004'</li><li>'rf_005_018'</li><li>'rf_006_014'</li><li>'rf_006_001'</li><li>'rf_006_008'</li><li>'rf_006_011'</li><li>'rf_006_000'</li><li>'rf_006_015'</li><li>'rf_006_019'</li><li>'rf_006_002'</li><li>'rf_006_007'</li><li>'rf_006_006'</li><li>'rf_006_009'</li><li>'rf_006_013'</li><li>'rf_006_005'</li><li>'rf_006_017'</li><li>'rf_006_003'</li><li>'rf_006_004'</li><li>'rf_006_010'</li><li>'rf_006_012'</li><li>'rf_006_016'</li><li>'rf_006_018'</li><li>'rf_007_014'</li><li>'rf_007_001'</li><li>'rf_007_009'</li><li>'rf_007_008'</li><li>'rf_007_005'</li><li>'rf_007_000'</li><li>'rf_007_019'</li><li>'rf_007_004'</li><li>'rf_007_018'</li><li>'rf_007_007'</li><li>'rf_007_003'</li><li>'rf_007_006'</li><li>'rf_007_012'</li><li>'rf_007_013'</li><li>'rf_007_011'</li><li>'rf_007_010'</li><li>'rf_007_002'</li><li>'rf_007_016'</li><li>'rf_007_015'</li><li>'rf_007_017'</li><li>'rf_008_005'</li><li>'rf_008_004'</li><li>'rf_008_008'</li><li>'rf_008_000'</li><li>⋯</li><li>'rf_021_005'</li><li>'rf_021_019'</li><li>'rf_021_001'</li><li>'rf_021_016'</li><li>'rf_021_012'</li><li>'rf_021_013'</li><li>'rf_021_018'</li><li>'rf_021_008'</li><li>'rf_021_011'</li><li>'rf_021_000'</li><li>'rf_021_007'</li><li>'rf_021_006'</li><li>'rf_021_014'</li><li>'rf_021_017'</li><li>'rf_022_004'</li><li>'rf_022_001'</li><li>'rf_022_003'</li><li>'rf_022_000'</li><li>'rf_022_018'</li><li>'rf_022_015'</li><li>'rf_022_014'</li><li>'rf_022_006'</li><li>'rf_022_013'</li><li>'rf_022_011'</li><li>'rf_022_019'</li><li>'rf_022_005'</li><li>'rf_022_007'</li><li>'rf_022_016'</li><li>'rf_022_009'</li><li>'rf_022_012'</li><li>'rf_022_002'</li><li>'rf_022_010'</li><li>'rf_022_008'</li><li>'rf_022_017'</li><li>'rf_023_017'</li><li>'rf_023_012'</li><li>'rf_023_010'</li><li>'rf_023_015'</li><li>'rf_023_014'</li><li>'rf_023_011'</li><li>'rf_023_007'</li><li>'rf_023_000'</li><li>'rf_023_005'</li><li>'rf_023_006'</li><li>'rf_023_004'</li><li>'rf_023_019'</li><li>'rf_023_013'</li><li>'rf_023_016'</li><li>'rf_023_003'</li><li>'rf_023_008'</li><li>'rf_023_001'</li><li>'rf_023_009'</li><li>'rf_023_018'</li><li>'rf_023_002'</li><li>'rf_024_013'</li><li>'rf_024_002'</li><li>'rf_024_017'</li><li>'rf_024_010'</li><li>'rf_024_006'</li><li>'rf_024_000'</li><li>'rf_024_018'</li><li>'rf_024_005'</li><li>'rf_024_008'</li><li>'rf_024_003'</li><li>'rf_024_014'</li><li>'rf_024_011'</li><li>'rf_024_001'</li><li>'rf_024_004'</li><li>'rf_024_009'</li><li>'rf_024_016'</li><li>'rf_024_012'</li><li>'rf_024_015'</li><li>'rf_025_010'</li><li>'rf_025_011'</li><li>'rf_025_013'</li><li>'rf_025_000'</li><li>'rf_025_008'</li><li>'rf_025_001'</li><li>'rf_025_003'</li><li>'rf_025_002'</li><li>'rf_025_015'</li><li>'rf_025_007'</li><li>'rf_025_005'</li><li>'rf_025_018'</li><li>'rf_025_004'</li><li>'rf_025_016'</li><li>'rf_025_006'</li><li>'rf_025_019'</li><li>'rf_025_009'</li><li>'rf_025_017'</li><li>'rf_025_014'</li><li>'rf_025_012'</li><li>'rf_026_010'</li><li>'rf_026_001'</li><li>'rf_026_018'</li><li>'rf_026_013'</li><li>'rf_026_015'</li><li>'rf_026_007'</li><li>'rf_026_000'</li><li>'rf_026_005'</li><li>'rf_026_016'</li><li>'rf_026_011'</li><li>'rf_026_019'</li><li>'rf_026_008'</li><li>'rf_026_017'</li><li>'rf_026_003'</li><li>'rf_026_006'</li><li>'rf_026_012'</li><li>'rf_026_002'</li><li>'rf_026_009'</li><li>'rf_026_004'</li><li>'rf_026_014'</li><li>'rf_027_015'</li><li>'rf_027_001'</li><li>'rf_027_018'</li><li>'rf_027_004'</li><li>'rf_027_002'</li><li>'rf_027_010'</li><li>'rf_027_000'</li><li>'rf_027_003'</li><li>'rf_027_012'</li><li>'rf_027_005'</li><li>'rf_027_009'</li><li>'rf_027_013'</li><li>'rf_027_019'</li><li>'rf_027_011'</li><li>'rf_027_007'</li><li>'rf_027_017'</li><li>'rf_027_008'</li><li>'rf_028_005'</li><li>'rf_028_001'</li><li>'rf_028_006'</li><li>'rf_028_011'</li><li>'rf_028_014'</li><li>'rf_028_000'</li><li>'rf_028_013'</li><li>'rf_028_017'</li><li>'rf_028_010'</li><li>'rf_028_019'</li><li>'rf_028_018'</li><li>'rf_028_009'</li><li>'rf_028_007'</li><li>'rf_028_008'</li><li>'rf_028_012'</li><li>'rf_028_004'</li><li>'rf_028_002'</li><li>'rf_028_016'</li><li>'rf_028_003'</li><li>'rf_028_015'</li><li>'rf_029_016'</li><li>'rf_029_011'</li><li>'rf_029_019'</li><li>'rf_029_015'</li><li>'rf_029_012'</li><li>'rf_029_002'</li><li>'rf_029_004'</li><li>'rf_029_000'</li><li>'rf_029_017'</li><li>'rf_029_006'</li><li>'rf_029_003'</li><li>'rf_029_001'</li><li>'rf_029_013'</li><li>'rf_029_014'</li><li>'rf_029_007'</li><li>'rf_029_009'</li><li>'rf_029_005'</li><li>'rf_029_010'</li><li>'rf_029_008'</li><li>'rf_029_018'</li><li>'rf_030_012'</li><li>'rf_030_002'</li><li>'rf_030_019'</li><li>'rf_030_005'</li><li>'rf_030_003'</li><li>'rf_030_000'</li><li>'rf_030_013'</li><li>'rf_030_014'</li><li>'rf_030_015'</li><li>'rf_030_010'</li><li>'rf_030_007'</li><li>'rf_030_001'</li><li>'rf_030_018'</li><li>'rf_030_017'</li><li>'rf_030_016'</li><li>'rf_030_008'</li><li>'rf_030_004'</li><li>'rf_030_011'</li><li>'rf_030_006'</li><li>'rf_030_009'</li><li>'rf_009_003'</li><li>'rf_020_005'</li><li>'rf_018_002'</li><li>'rf_005_012'</li><li>'rf_005_019'</li><li>'rf_013_005'</li><li>'rf_024_007'</li><li>'rf_024_019'</li><li>'rf_027_016'</li><li>'rf_027_006'</li><li>'rf_027_014'</li></ol>\n"
      ],
      "text/latex": [
       "\\begin{enumerate*}\n",
       "\\item 'numero\\_de\\_cliente'\n",
       "\\item 'foto\\_mes'\n",
       "\\item 'internet'\n",
       "\\item 'cliente\\_edad'\n",
       "\\item 'cliente\\_antiguedad'\n",
       "\\item 'mrentabilidad'\n",
       "\\item 'mrentabilidad\\_annual'\n",
       "\\item 'mcomisiones'\n",
       "\\item 'mactivos\\_margen'\n",
       "\\item 'mpasivos\\_margen'\n",
       "\\item 'cproductos'\n",
       "\\item 'mcuenta\\_corriente'\n",
       "\\item 'mcaja\\_ahorro'\n",
       "\\item 'cdescubierto\\_preacordado'\n",
       "\\item 'mcuentas\\_saldo'\n",
       "\\item 'ctarjeta\\_visa'\n",
       "\\item 'ctarjeta\\_visa\\_transacciones'\n",
       "\\item 'mtarjeta\\_visa\\_consumo'\n",
       "\\item 'ctarjeta\\_master'\n",
       "\\item 'ctarjeta\\_master\\_transacciones'\n",
       "\\item 'mtarjeta\\_master\\_consumo'\n",
       "\\item 'cprestamos\\_personales'\n",
       "\\item 'mprestamos\\_personales'\n",
       "\\item 'cpayroll\\_trx'\n",
       "\\item 'mpayroll'\n",
       "\\item 'mttarjeta\\_visa\\_debitos\\_automaticos'\n",
       "\\item 'ccomisiones\\_mantenimiento'\n",
       "\\item 'mcomisiones\\_mantenimiento'\n",
       "\\item 'ccomisiones\\_otras'\n",
       "\\item 'mtransferencias\\_recibidas'\n",
       "\\item 'ccallcenter\\_transacciones'\n",
       "\\item 'thomebanking'\n",
       "\\item 'chomebanking\\_transacciones'\n",
       "\\item 'ctrx\\_quarter'\n",
       "\\item 'Master\\_status'\n",
       "\\item 'Master\\_mfinanciacion\\_limite'\n",
       "\\item 'Master\\_Fvencimiento'\n",
       "\\item 'Master\\_msaldototal'\n",
       "\\item 'Master\\_mlimitecompra'\n",
       "\\item 'Master\\_fultimo\\_cierre'\n",
       "\\item 'Master\\_fechaalta'\n",
       "\\item 'Master\\_mconsumototal'\n",
       "\\item 'Master\\_cconsumos'\n",
       "\\item 'Master\\_mpagominimo'\n",
       "\\item 'Visa\\_status'\n",
       "\\item 'Visa\\_mfinanciacion\\_limite'\n",
       "\\item 'Visa\\_Fvencimiento'\n",
       "\\item 'Visa\\_msaldototal'\n",
       "\\item 'Visa\\_mlimitecompra'\n",
       "\\item 'Visa\\_fultimo\\_cierre'\n",
       "\\item 'Visa\\_fechaalta'\n",
       "\\item 'Visa\\_mconsumototal'\n",
       "\\item 'Visa\\_cconsumos'\n",
       "\\item 'Visa\\_mpagominimo'\n",
       "\\item 'clase\\_ternaria'\n",
       "\\item 'kmes'\n",
       "\\item 'mpayroll\\_sobre\\_edad'\n",
       "\\item 'entrenamiento'\n",
       "\\item 'rf\\_001\\_001'\n",
       "\\item 'rf\\_001\\_018'\n",
       "\\item 'rf\\_001\\_016'\n",
       "\\item 'rf\\_001\\_006'\n",
       "\\item 'rf\\_001\\_004'\n",
       "\\item 'rf\\_001\\_017'\n",
       "\\item 'rf\\_001\\_008'\n",
       "\\item 'rf\\_001\\_007'\n",
       "\\item 'rf\\_001\\_019'\n",
       "\\item 'rf\\_001\\_000'\n",
       "\\item 'rf\\_001\\_002'\n",
       "\\item 'rf\\_001\\_013'\n",
       "\\item 'rf\\_001\\_014'\n",
       "\\item 'rf\\_001\\_003'\n",
       "\\item 'rf\\_001\\_009'\n",
       "\\item 'rf\\_001\\_015'\n",
       "\\item 'rf\\_001\\_010'\n",
       "\\item 'rf\\_001\\_011'\n",
       "\\item 'rf\\_001\\_005'\n",
       "\\item 'rf\\_001\\_012'\n",
       "\\item 'rf\\_002\\_001'\n",
       "\\item 'rf\\_002\\_004'\n",
       "\\item 'rf\\_002\\_014'\n",
       "\\item 'rf\\_002\\_016'\n",
       "\\item 'rf\\_002\\_015'\n",
       "\\item 'rf\\_002\\_013'\n",
       "\\item 'rf\\_002\\_002'\n",
       "\\item 'rf\\_002\\_010'\n",
       "\\item 'rf\\_002\\_007'\n",
       "\\item 'rf\\_002\\_009'\n",
       "\\item 'rf\\_002\\_003'\n",
       "\\item 'rf\\_002\\_017'\n",
       "\\item 'rf\\_002\\_018'\n",
       "\\item 'rf\\_002\\_011'\n",
       "\\item 'rf\\_002\\_019'\n",
       "\\item 'rf\\_002\\_008'\n",
       "\\item 'rf\\_002\\_000'\n",
       "\\item 'rf\\_002\\_006'\n",
       "\\item 'rf\\_002\\_005'\n",
       "\\item 'rf\\_002\\_012'\n",
       "\\item 'rf\\_003\\_004'\n",
       "\\item 'rf\\_003\\_003'\n",
       "\\item 'rf\\_003\\_009'\n",
       "\\item 'rf\\_003\\_015'\n",
       "\\item 'rf\\_003\\_002'\n",
       "\\item 'rf\\_003\\_011'\n",
       "\\item 'rf\\_003\\_008'\n",
       "\\item 'rf\\_003\\_000'\n",
       "\\item 'rf\\_003\\_012'\n",
       "\\item 'rf\\_003\\_014'\n",
       "\\item 'rf\\_003\\_013'\n",
       "\\item 'rf\\_003\\_010'\n",
       "\\item 'rf\\_003\\_016'\n",
       "\\item 'rf\\_003\\_007'\n",
       "\\item 'rf\\_003\\_018'\n",
       "\\item 'rf\\_003\\_005'\n",
       "\\item 'rf\\_003\\_006'\n",
       "\\item 'rf\\_003\\_017'\n",
       "\\item 'rf\\_003\\_019'\n",
       "\\item 'rf\\_003\\_001'\n",
       "\\item 'rf\\_004\\_013'\n",
       "\\item 'rf\\_004\\_010'\n",
       "\\item 'rf\\_004\\_005'\n",
       "\\item 'rf\\_004\\_000'\n",
       "\\item 'rf\\_004\\_006'\n",
       "\\item 'rf\\_004\\_011'\n",
       "\\item 'rf\\_004\\_009'\n",
       "\\item 'rf\\_004\\_004'\n",
       "\\item 'rf\\_004\\_016'\n",
       "\\item 'rf\\_004\\_007'\n",
       "\\item 'rf\\_004\\_001'\n",
       "\\item 'rf\\_004\\_002'\n",
       "\\item 'rf\\_004\\_003'\n",
       "\\item 'rf\\_004\\_014'\n",
       "\\item 'rf\\_004\\_015'\n",
       "\\item 'rf\\_004\\_012'\n",
       "\\item 'rf\\_004\\_017'\n",
       "\\item 'rf\\_004\\_008'\n",
       "\\item 'rf\\_004\\_018'\n",
       "\\item 'rf\\_004\\_019'\n",
       "\\item 'rf\\_005\\_015'\n",
       "\\item 'rf\\_005\\_001'\n",
       "\\item 'rf\\_005\\_009'\n",
       "\\item 'rf\\_005\\_014'\n",
       "\\item 'rf\\_005\\_011'\n",
       "\\item 'rf\\_005\\_008'\n",
       "\\item 'rf\\_005\\_006'\n",
       "\\item 'rf\\_005\\_000'\n",
       "\\item 'rf\\_005\\_013'\n",
       "\\item 'rf\\_005\\_005'\n",
       "\\item 'rf\\_005\\_003'\n",
       "\\item 'rf\\_005\\_002'\n",
       "\\item 'rf\\_005\\_010'\n",
       "\\item 'rf\\_005\\_016'\n",
       "\\item 'rf\\_005\\_007'\n",
       "\\item 'rf\\_005\\_017'\n",
       "\\item 'rf\\_005\\_004'\n",
       "\\item 'rf\\_005\\_018'\n",
       "\\item 'rf\\_006\\_014'\n",
       "\\item 'rf\\_006\\_001'\n",
       "\\item 'rf\\_006\\_008'\n",
       "\\item 'rf\\_006\\_011'\n",
       "\\item 'rf\\_006\\_000'\n",
       "\\item 'rf\\_006\\_015'\n",
       "\\item 'rf\\_006\\_019'\n",
       "\\item 'rf\\_006\\_002'\n",
       "\\item 'rf\\_006\\_007'\n",
       "\\item 'rf\\_006\\_006'\n",
       "\\item 'rf\\_006\\_009'\n",
       "\\item 'rf\\_006\\_013'\n",
       "\\item 'rf\\_006\\_005'\n",
       "\\item 'rf\\_006\\_017'\n",
       "\\item 'rf\\_006\\_003'\n",
       "\\item 'rf\\_006\\_004'\n",
       "\\item 'rf\\_006\\_010'\n",
       "\\item 'rf\\_006\\_012'\n",
       "\\item 'rf\\_006\\_016'\n",
       "\\item 'rf\\_006\\_018'\n",
       "\\item 'rf\\_007\\_014'\n",
       "\\item 'rf\\_007\\_001'\n",
       "\\item 'rf\\_007\\_009'\n",
       "\\item 'rf\\_007\\_008'\n",
       "\\item 'rf\\_007\\_005'\n",
       "\\item 'rf\\_007\\_000'\n",
       "\\item 'rf\\_007\\_019'\n",
       "\\item 'rf\\_007\\_004'\n",
       "\\item 'rf\\_007\\_018'\n",
       "\\item 'rf\\_007\\_007'\n",
       "\\item 'rf\\_007\\_003'\n",
       "\\item 'rf\\_007\\_006'\n",
       "\\item 'rf\\_007\\_012'\n",
       "\\item 'rf\\_007\\_013'\n",
       "\\item 'rf\\_007\\_011'\n",
       "\\item 'rf\\_007\\_010'\n",
       "\\item 'rf\\_007\\_002'\n",
       "\\item 'rf\\_007\\_016'\n",
       "\\item 'rf\\_007\\_015'\n",
       "\\item 'rf\\_007\\_017'\n",
       "\\item 'rf\\_008\\_005'\n",
       "\\item 'rf\\_008\\_004'\n",
       "\\item 'rf\\_008\\_008'\n",
       "\\item 'rf\\_008\\_000'\n",
       "\\item ⋯\n",
       "\\item 'rf\\_021\\_005'\n",
       "\\item 'rf\\_021\\_019'\n",
       "\\item 'rf\\_021\\_001'\n",
       "\\item 'rf\\_021\\_016'\n",
       "\\item 'rf\\_021\\_012'\n",
       "\\item 'rf\\_021\\_013'\n",
       "\\item 'rf\\_021\\_018'\n",
       "\\item 'rf\\_021\\_008'\n",
       "\\item 'rf\\_021\\_011'\n",
       "\\item 'rf\\_021\\_000'\n",
       "\\item 'rf\\_021\\_007'\n",
       "\\item 'rf\\_021\\_006'\n",
       "\\item 'rf\\_021\\_014'\n",
       "\\item 'rf\\_021\\_017'\n",
       "\\item 'rf\\_022\\_004'\n",
       "\\item 'rf\\_022\\_001'\n",
       "\\item 'rf\\_022\\_003'\n",
       "\\item 'rf\\_022\\_000'\n",
       "\\item 'rf\\_022\\_018'\n",
       "\\item 'rf\\_022\\_015'\n",
       "\\item 'rf\\_022\\_014'\n",
       "\\item 'rf\\_022\\_006'\n",
       "\\item 'rf\\_022\\_013'\n",
       "\\item 'rf\\_022\\_011'\n",
       "\\item 'rf\\_022\\_019'\n",
       "\\item 'rf\\_022\\_005'\n",
       "\\item 'rf\\_022\\_007'\n",
       "\\item 'rf\\_022\\_016'\n",
       "\\item 'rf\\_022\\_009'\n",
       "\\item 'rf\\_022\\_012'\n",
       "\\item 'rf\\_022\\_002'\n",
       "\\item 'rf\\_022\\_010'\n",
       "\\item 'rf\\_022\\_008'\n",
       "\\item 'rf\\_022\\_017'\n",
       "\\item 'rf\\_023\\_017'\n",
       "\\item 'rf\\_023\\_012'\n",
       "\\item 'rf\\_023\\_010'\n",
       "\\item 'rf\\_023\\_015'\n",
       "\\item 'rf\\_023\\_014'\n",
       "\\item 'rf\\_023\\_011'\n",
       "\\item 'rf\\_023\\_007'\n",
       "\\item 'rf\\_023\\_000'\n",
       "\\item 'rf\\_023\\_005'\n",
       "\\item 'rf\\_023\\_006'\n",
       "\\item 'rf\\_023\\_004'\n",
       "\\item 'rf\\_023\\_019'\n",
       "\\item 'rf\\_023\\_013'\n",
       "\\item 'rf\\_023\\_016'\n",
       "\\item 'rf\\_023\\_003'\n",
       "\\item 'rf\\_023\\_008'\n",
       "\\item 'rf\\_023\\_001'\n",
       "\\item 'rf\\_023\\_009'\n",
       "\\item 'rf\\_023\\_018'\n",
       "\\item 'rf\\_023\\_002'\n",
       "\\item 'rf\\_024\\_013'\n",
       "\\item 'rf\\_024\\_002'\n",
       "\\item 'rf\\_024\\_017'\n",
       "\\item 'rf\\_024\\_010'\n",
       "\\item 'rf\\_024\\_006'\n",
       "\\item 'rf\\_024\\_000'\n",
       "\\item 'rf\\_024\\_018'\n",
       "\\item 'rf\\_024\\_005'\n",
       "\\item 'rf\\_024\\_008'\n",
       "\\item 'rf\\_024\\_003'\n",
       "\\item 'rf\\_024\\_014'\n",
       "\\item 'rf\\_024\\_011'\n",
       "\\item 'rf\\_024\\_001'\n",
       "\\item 'rf\\_024\\_004'\n",
       "\\item 'rf\\_024\\_009'\n",
       "\\item 'rf\\_024\\_016'\n",
       "\\item 'rf\\_024\\_012'\n",
       "\\item 'rf\\_024\\_015'\n",
       "\\item 'rf\\_025\\_010'\n",
       "\\item 'rf\\_025\\_011'\n",
       "\\item 'rf\\_025\\_013'\n",
       "\\item 'rf\\_025\\_000'\n",
       "\\item 'rf\\_025\\_008'\n",
       "\\item 'rf\\_025\\_001'\n",
       "\\item 'rf\\_025\\_003'\n",
       "\\item 'rf\\_025\\_002'\n",
       "\\item 'rf\\_025\\_015'\n",
       "\\item 'rf\\_025\\_007'\n",
       "\\item 'rf\\_025\\_005'\n",
       "\\item 'rf\\_025\\_018'\n",
       "\\item 'rf\\_025\\_004'\n",
       "\\item 'rf\\_025\\_016'\n",
       "\\item 'rf\\_025\\_006'\n",
       "\\item 'rf\\_025\\_019'\n",
       "\\item 'rf\\_025\\_009'\n",
       "\\item 'rf\\_025\\_017'\n",
       "\\item 'rf\\_025\\_014'\n",
       "\\item 'rf\\_025\\_012'\n",
       "\\item 'rf\\_026\\_010'\n",
       "\\item 'rf\\_026\\_001'\n",
       "\\item 'rf\\_026\\_018'\n",
       "\\item 'rf\\_026\\_013'\n",
       "\\item 'rf\\_026\\_015'\n",
       "\\item 'rf\\_026\\_007'\n",
       "\\item 'rf\\_026\\_000'\n",
       "\\item 'rf\\_026\\_005'\n",
       "\\item 'rf\\_026\\_016'\n",
       "\\item 'rf\\_026\\_011'\n",
       "\\item 'rf\\_026\\_019'\n",
       "\\item 'rf\\_026\\_008'\n",
       "\\item 'rf\\_026\\_017'\n",
       "\\item 'rf\\_026\\_003'\n",
       "\\item 'rf\\_026\\_006'\n",
       "\\item 'rf\\_026\\_012'\n",
       "\\item 'rf\\_026\\_002'\n",
       "\\item 'rf\\_026\\_009'\n",
       "\\item 'rf\\_026\\_004'\n",
       "\\item 'rf\\_026\\_014'\n",
       "\\item 'rf\\_027\\_015'\n",
       "\\item 'rf\\_027\\_001'\n",
       "\\item 'rf\\_027\\_018'\n",
       "\\item 'rf\\_027\\_004'\n",
       "\\item 'rf\\_027\\_002'\n",
       "\\item 'rf\\_027\\_010'\n",
       "\\item 'rf\\_027\\_000'\n",
       "\\item 'rf\\_027\\_003'\n",
       "\\item 'rf\\_027\\_012'\n",
       "\\item 'rf\\_027\\_005'\n",
       "\\item 'rf\\_027\\_009'\n",
       "\\item 'rf\\_027\\_013'\n",
       "\\item 'rf\\_027\\_019'\n",
       "\\item 'rf\\_027\\_011'\n",
       "\\item 'rf\\_027\\_007'\n",
       "\\item 'rf\\_027\\_017'\n",
       "\\item 'rf\\_027\\_008'\n",
       "\\item 'rf\\_028\\_005'\n",
       "\\item 'rf\\_028\\_001'\n",
       "\\item 'rf\\_028\\_006'\n",
       "\\item 'rf\\_028\\_011'\n",
       "\\item 'rf\\_028\\_014'\n",
       "\\item 'rf\\_028\\_000'\n",
       "\\item 'rf\\_028\\_013'\n",
       "\\item 'rf\\_028\\_017'\n",
       "\\item 'rf\\_028\\_010'\n",
       "\\item 'rf\\_028\\_019'\n",
       "\\item 'rf\\_028\\_018'\n",
       "\\item 'rf\\_028\\_009'\n",
       "\\item 'rf\\_028\\_007'\n",
       "\\item 'rf\\_028\\_008'\n",
       "\\item 'rf\\_028\\_012'\n",
       "\\item 'rf\\_028\\_004'\n",
       "\\item 'rf\\_028\\_002'\n",
       "\\item 'rf\\_028\\_016'\n",
       "\\item 'rf\\_028\\_003'\n",
       "\\item 'rf\\_028\\_015'\n",
       "\\item 'rf\\_029\\_016'\n",
       "\\item 'rf\\_029\\_011'\n",
       "\\item 'rf\\_029\\_019'\n",
       "\\item 'rf\\_029\\_015'\n",
       "\\item 'rf\\_029\\_012'\n",
       "\\item 'rf\\_029\\_002'\n",
       "\\item 'rf\\_029\\_004'\n",
       "\\item 'rf\\_029\\_000'\n",
       "\\item 'rf\\_029\\_017'\n",
       "\\item 'rf\\_029\\_006'\n",
       "\\item 'rf\\_029\\_003'\n",
       "\\item 'rf\\_029\\_001'\n",
       "\\item 'rf\\_029\\_013'\n",
       "\\item 'rf\\_029\\_014'\n",
       "\\item 'rf\\_029\\_007'\n",
       "\\item 'rf\\_029\\_009'\n",
       "\\item 'rf\\_029\\_005'\n",
       "\\item 'rf\\_029\\_010'\n",
       "\\item 'rf\\_029\\_008'\n",
       "\\item 'rf\\_029\\_018'\n",
       "\\item 'rf\\_030\\_012'\n",
       "\\item 'rf\\_030\\_002'\n",
       "\\item 'rf\\_030\\_019'\n",
       "\\item 'rf\\_030\\_005'\n",
       "\\item 'rf\\_030\\_003'\n",
       "\\item 'rf\\_030\\_000'\n",
       "\\item 'rf\\_030\\_013'\n",
       "\\item 'rf\\_030\\_014'\n",
       "\\item 'rf\\_030\\_015'\n",
       "\\item 'rf\\_030\\_010'\n",
       "\\item 'rf\\_030\\_007'\n",
       "\\item 'rf\\_030\\_001'\n",
       "\\item 'rf\\_030\\_018'\n",
       "\\item 'rf\\_030\\_017'\n",
       "\\item 'rf\\_030\\_016'\n",
       "\\item 'rf\\_030\\_008'\n",
       "\\item 'rf\\_030\\_004'\n",
       "\\item 'rf\\_030\\_011'\n",
       "\\item 'rf\\_030\\_006'\n",
       "\\item 'rf\\_030\\_009'\n",
       "\\item 'rf\\_009\\_003'\n",
       "\\item 'rf\\_020\\_005'\n",
       "\\item 'rf\\_018\\_002'\n",
       "\\item 'rf\\_005\\_012'\n",
       "\\item 'rf\\_005\\_019'\n",
       "\\item 'rf\\_013\\_005'\n",
       "\\item 'rf\\_024\\_007'\n",
       "\\item 'rf\\_024\\_019'\n",
       "\\item 'rf\\_027\\_016'\n",
       "\\item 'rf\\_027\\_006'\n",
       "\\item 'rf\\_027\\_014'\n",
       "\\end{enumerate*}\n"
      ],
      "text/markdown": [
       "1. 'numero_de_cliente'\n",
       "2. 'foto_mes'\n",
       "3. 'internet'\n",
       "4. 'cliente_edad'\n",
       "5. 'cliente_antiguedad'\n",
       "6. 'mrentabilidad'\n",
       "7. 'mrentabilidad_annual'\n",
       "8. 'mcomisiones'\n",
       "9. 'mactivos_margen'\n",
       "10. 'mpasivos_margen'\n",
       "11. 'cproductos'\n",
       "12. 'mcuenta_corriente'\n",
       "13. 'mcaja_ahorro'\n",
       "14. 'cdescubierto_preacordado'\n",
       "15. 'mcuentas_saldo'\n",
       "16. 'ctarjeta_visa'\n",
       "17. 'ctarjeta_visa_transacciones'\n",
       "18. 'mtarjeta_visa_consumo'\n",
       "19. 'ctarjeta_master'\n",
       "20. 'ctarjeta_master_transacciones'\n",
       "21. 'mtarjeta_master_consumo'\n",
       "22. 'cprestamos_personales'\n",
       "23. 'mprestamos_personales'\n",
       "24. 'cpayroll_trx'\n",
       "25. 'mpayroll'\n",
       "26. 'mttarjeta_visa_debitos_automaticos'\n",
       "27. 'ccomisiones_mantenimiento'\n",
       "28. 'mcomisiones_mantenimiento'\n",
       "29. 'ccomisiones_otras'\n",
       "30. 'mtransferencias_recibidas'\n",
       "31. 'ccallcenter_transacciones'\n",
       "32. 'thomebanking'\n",
       "33. 'chomebanking_transacciones'\n",
       "34. 'ctrx_quarter'\n",
       "35. 'Master_status'\n",
       "36. 'Master_mfinanciacion_limite'\n",
       "37. 'Master_Fvencimiento'\n",
       "38. 'Master_msaldototal'\n",
       "39. 'Master_mlimitecompra'\n",
       "40. 'Master_fultimo_cierre'\n",
       "41. 'Master_fechaalta'\n",
       "42. 'Master_mconsumototal'\n",
       "43. 'Master_cconsumos'\n",
       "44. 'Master_mpagominimo'\n",
       "45. 'Visa_status'\n",
       "46. 'Visa_mfinanciacion_limite'\n",
       "47. 'Visa_Fvencimiento'\n",
       "48. 'Visa_msaldototal'\n",
       "49. 'Visa_mlimitecompra'\n",
       "50. 'Visa_fultimo_cierre'\n",
       "51. 'Visa_fechaalta'\n",
       "52. 'Visa_mconsumototal'\n",
       "53. 'Visa_cconsumos'\n",
       "54. 'Visa_mpagominimo'\n",
       "55. 'clase_ternaria'\n",
       "56. 'kmes'\n",
       "57. 'mpayroll_sobre_edad'\n",
       "58. 'entrenamiento'\n",
       "59. 'rf_001_001'\n",
       "60. 'rf_001_018'\n",
       "61. 'rf_001_016'\n",
       "62. 'rf_001_006'\n",
       "63. 'rf_001_004'\n",
       "64. 'rf_001_017'\n",
       "65. 'rf_001_008'\n",
       "66. 'rf_001_007'\n",
       "67. 'rf_001_019'\n",
       "68. 'rf_001_000'\n",
       "69. 'rf_001_002'\n",
       "70. 'rf_001_013'\n",
       "71. 'rf_001_014'\n",
       "72. 'rf_001_003'\n",
       "73. 'rf_001_009'\n",
       "74. 'rf_001_015'\n",
       "75. 'rf_001_010'\n",
       "76. 'rf_001_011'\n",
       "77. 'rf_001_005'\n",
       "78. 'rf_001_012'\n",
       "79. 'rf_002_001'\n",
       "80. 'rf_002_004'\n",
       "81. 'rf_002_014'\n",
       "82. 'rf_002_016'\n",
       "83. 'rf_002_015'\n",
       "84. 'rf_002_013'\n",
       "85. 'rf_002_002'\n",
       "86. 'rf_002_010'\n",
       "87. 'rf_002_007'\n",
       "88. 'rf_002_009'\n",
       "89. 'rf_002_003'\n",
       "90. 'rf_002_017'\n",
       "91. 'rf_002_018'\n",
       "92. 'rf_002_011'\n",
       "93. 'rf_002_019'\n",
       "94. 'rf_002_008'\n",
       "95. 'rf_002_000'\n",
       "96. 'rf_002_006'\n",
       "97. 'rf_002_005'\n",
       "98. 'rf_002_012'\n",
       "99. 'rf_003_004'\n",
       "100. 'rf_003_003'\n",
       "101. 'rf_003_009'\n",
       "102. 'rf_003_015'\n",
       "103. 'rf_003_002'\n",
       "104. 'rf_003_011'\n",
       "105. 'rf_003_008'\n",
       "106. 'rf_003_000'\n",
       "107. 'rf_003_012'\n",
       "108. 'rf_003_014'\n",
       "109. 'rf_003_013'\n",
       "110. 'rf_003_010'\n",
       "111. 'rf_003_016'\n",
       "112. 'rf_003_007'\n",
       "113. 'rf_003_018'\n",
       "114. 'rf_003_005'\n",
       "115. 'rf_003_006'\n",
       "116. 'rf_003_017'\n",
       "117. 'rf_003_019'\n",
       "118. 'rf_003_001'\n",
       "119. 'rf_004_013'\n",
       "120. 'rf_004_010'\n",
       "121. 'rf_004_005'\n",
       "122. 'rf_004_000'\n",
       "123. 'rf_004_006'\n",
       "124. 'rf_004_011'\n",
       "125. 'rf_004_009'\n",
       "126. 'rf_004_004'\n",
       "127. 'rf_004_016'\n",
       "128. 'rf_004_007'\n",
       "129. 'rf_004_001'\n",
       "130. 'rf_004_002'\n",
       "131. 'rf_004_003'\n",
       "132. 'rf_004_014'\n",
       "133. 'rf_004_015'\n",
       "134. 'rf_004_012'\n",
       "135. 'rf_004_017'\n",
       "136. 'rf_004_008'\n",
       "137. 'rf_004_018'\n",
       "138. 'rf_004_019'\n",
       "139. 'rf_005_015'\n",
       "140. 'rf_005_001'\n",
       "141. 'rf_005_009'\n",
       "142. 'rf_005_014'\n",
       "143. 'rf_005_011'\n",
       "144. 'rf_005_008'\n",
       "145. 'rf_005_006'\n",
       "146. 'rf_005_000'\n",
       "147. 'rf_005_013'\n",
       "148. 'rf_005_005'\n",
       "149. 'rf_005_003'\n",
       "150. 'rf_005_002'\n",
       "151. 'rf_005_010'\n",
       "152. 'rf_005_016'\n",
       "153. 'rf_005_007'\n",
       "154. 'rf_005_017'\n",
       "155. 'rf_005_004'\n",
       "156. 'rf_005_018'\n",
       "157. 'rf_006_014'\n",
       "158. 'rf_006_001'\n",
       "159. 'rf_006_008'\n",
       "160. 'rf_006_011'\n",
       "161. 'rf_006_000'\n",
       "162. 'rf_006_015'\n",
       "163. 'rf_006_019'\n",
       "164. 'rf_006_002'\n",
       "165. 'rf_006_007'\n",
       "166. 'rf_006_006'\n",
       "167. 'rf_006_009'\n",
       "168. 'rf_006_013'\n",
       "169. 'rf_006_005'\n",
       "170. 'rf_006_017'\n",
       "171. 'rf_006_003'\n",
       "172. 'rf_006_004'\n",
       "173. 'rf_006_010'\n",
       "174. 'rf_006_012'\n",
       "175. 'rf_006_016'\n",
       "176. 'rf_006_018'\n",
       "177. 'rf_007_014'\n",
       "178. 'rf_007_001'\n",
       "179. 'rf_007_009'\n",
       "180. 'rf_007_008'\n",
       "181. 'rf_007_005'\n",
       "182. 'rf_007_000'\n",
       "183. 'rf_007_019'\n",
       "184. 'rf_007_004'\n",
       "185. 'rf_007_018'\n",
       "186. 'rf_007_007'\n",
       "187. 'rf_007_003'\n",
       "188. 'rf_007_006'\n",
       "189. 'rf_007_012'\n",
       "190. 'rf_007_013'\n",
       "191. 'rf_007_011'\n",
       "192. 'rf_007_010'\n",
       "193. 'rf_007_002'\n",
       "194. 'rf_007_016'\n",
       "195. 'rf_007_015'\n",
       "196. 'rf_007_017'\n",
       "197. 'rf_008_005'\n",
       "198. 'rf_008_004'\n",
       "199. 'rf_008_008'\n",
       "200. 'rf_008_000'\n",
       "201. ⋯\n",
       "202. 'rf_021_005'\n",
       "203. 'rf_021_019'\n",
       "204. 'rf_021_001'\n",
       "205. 'rf_021_016'\n",
       "206. 'rf_021_012'\n",
       "207. 'rf_021_013'\n",
       "208. 'rf_021_018'\n",
       "209. 'rf_021_008'\n",
       "210. 'rf_021_011'\n",
       "211. 'rf_021_000'\n",
       "212. 'rf_021_007'\n",
       "213. 'rf_021_006'\n",
       "214. 'rf_021_014'\n",
       "215. 'rf_021_017'\n",
       "216. 'rf_022_004'\n",
       "217. 'rf_022_001'\n",
       "218. 'rf_022_003'\n",
       "219. 'rf_022_000'\n",
       "220. 'rf_022_018'\n",
       "221. 'rf_022_015'\n",
       "222. 'rf_022_014'\n",
       "223. 'rf_022_006'\n",
       "224. 'rf_022_013'\n",
       "225. 'rf_022_011'\n",
       "226. 'rf_022_019'\n",
       "227. 'rf_022_005'\n",
       "228. 'rf_022_007'\n",
       "229. 'rf_022_016'\n",
       "230. 'rf_022_009'\n",
       "231. 'rf_022_012'\n",
       "232. 'rf_022_002'\n",
       "233. 'rf_022_010'\n",
       "234. 'rf_022_008'\n",
       "235. 'rf_022_017'\n",
       "236. 'rf_023_017'\n",
       "237. 'rf_023_012'\n",
       "238. 'rf_023_010'\n",
       "239. 'rf_023_015'\n",
       "240. 'rf_023_014'\n",
       "241. 'rf_023_011'\n",
       "242. 'rf_023_007'\n",
       "243. 'rf_023_000'\n",
       "244. 'rf_023_005'\n",
       "245. 'rf_023_006'\n",
       "246. 'rf_023_004'\n",
       "247. 'rf_023_019'\n",
       "248. 'rf_023_013'\n",
       "249. 'rf_023_016'\n",
       "250. 'rf_023_003'\n",
       "251. 'rf_023_008'\n",
       "252. 'rf_023_001'\n",
       "253. 'rf_023_009'\n",
       "254. 'rf_023_018'\n",
       "255. 'rf_023_002'\n",
       "256. 'rf_024_013'\n",
       "257. 'rf_024_002'\n",
       "258. 'rf_024_017'\n",
       "259. 'rf_024_010'\n",
       "260. 'rf_024_006'\n",
       "261. 'rf_024_000'\n",
       "262. 'rf_024_018'\n",
       "263. 'rf_024_005'\n",
       "264. 'rf_024_008'\n",
       "265. 'rf_024_003'\n",
       "266. 'rf_024_014'\n",
       "267. 'rf_024_011'\n",
       "268. 'rf_024_001'\n",
       "269. 'rf_024_004'\n",
       "270. 'rf_024_009'\n",
       "271. 'rf_024_016'\n",
       "272. 'rf_024_012'\n",
       "273. 'rf_024_015'\n",
       "274. 'rf_025_010'\n",
       "275. 'rf_025_011'\n",
       "276. 'rf_025_013'\n",
       "277. 'rf_025_000'\n",
       "278. 'rf_025_008'\n",
       "279. 'rf_025_001'\n",
       "280. 'rf_025_003'\n",
       "281. 'rf_025_002'\n",
       "282. 'rf_025_015'\n",
       "283. 'rf_025_007'\n",
       "284. 'rf_025_005'\n",
       "285. 'rf_025_018'\n",
       "286. 'rf_025_004'\n",
       "287. 'rf_025_016'\n",
       "288. 'rf_025_006'\n",
       "289. 'rf_025_019'\n",
       "290. 'rf_025_009'\n",
       "291. 'rf_025_017'\n",
       "292. 'rf_025_014'\n",
       "293. 'rf_025_012'\n",
       "294. 'rf_026_010'\n",
       "295. 'rf_026_001'\n",
       "296. 'rf_026_018'\n",
       "297. 'rf_026_013'\n",
       "298. 'rf_026_015'\n",
       "299. 'rf_026_007'\n",
       "300. 'rf_026_000'\n",
       "301. 'rf_026_005'\n",
       "302. 'rf_026_016'\n",
       "303. 'rf_026_011'\n",
       "304. 'rf_026_019'\n",
       "305. 'rf_026_008'\n",
       "306. 'rf_026_017'\n",
       "307. 'rf_026_003'\n",
       "308. 'rf_026_006'\n",
       "309. 'rf_026_012'\n",
       "310. 'rf_026_002'\n",
       "311. 'rf_026_009'\n",
       "312. 'rf_026_004'\n",
       "313. 'rf_026_014'\n",
       "314. 'rf_027_015'\n",
       "315. 'rf_027_001'\n",
       "316. 'rf_027_018'\n",
       "317. 'rf_027_004'\n",
       "318. 'rf_027_002'\n",
       "319. 'rf_027_010'\n",
       "320. 'rf_027_000'\n",
       "321. 'rf_027_003'\n",
       "322. 'rf_027_012'\n",
       "323. 'rf_027_005'\n",
       "324. 'rf_027_009'\n",
       "325. 'rf_027_013'\n",
       "326. 'rf_027_019'\n",
       "327. 'rf_027_011'\n",
       "328. 'rf_027_007'\n",
       "329. 'rf_027_017'\n",
       "330. 'rf_027_008'\n",
       "331. 'rf_028_005'\n",
       "332. 'rf_028_001'\n",
       "333. 'rf_028_006'\n",
       "334. 'rf_028_011'\n",
       "335. 'rf_028_014'\n",
       "336. 'rf_028_000'\n",
       "337. 'rf_028_013'\n",
       "338. 'rf_028_017'\n",
       "339. 'rf_028_010'\n",
       "340. 'rf_028_019'\n",
       "341. 'rf_028_018'\n",
       "342. 'rf_028_009'\n",
       "343. 'rf_028_007'\n",
       "344. 'rf_028_008'\n",
       "345. 'rf_028_012'\n",
       "346. 'rf_028_004'\n",
       "347. 'rf_028_002'\n",
       "348. 'rf_028_016'\n",
       "349. 'rf_028_003'\n",
       "350. 'rf_028_015'\n",
       "351. 'rf_029_016'\n",
       "352. 'rf_029_011'\n",
       "353. 'rf_029_019'\n",
       "354. 'rf_029_015'\n",
       "355. 'rf_029_012'\n",
       "356. 'rf_029_002'\n",
       "357. 'rf_029_004'\n",
       "358. 'rf_029_000'\n",
       "359. 'rf_029_017'\n",
       "360. 'rf_029_006'\n",
       "361. 'rf_029_003'\n",
       "362. 'rf_029_001'\n",
       "363. 'rf_029_013'\n",
       "364. 'rf_029_014'\n",
       "365. 'rf_029_007'\n",
       "366. 'rf_029_009'\n",
       "367. 'rf_029_005'\n",
       "368. 'rf_029_010'\n",
       "369. 'rf_029_008'\n",
       "370. 'rf_029_018'\n",
       "371. 'rf_030_012'\n",
       "372. 'rf_030_002'\n",
       "373. 'rf_030_019'\n",
       "374. 'rf_030_005'\n",
       "375. 'rf_030_003'\n",
       "376. 'rf_030_000'\n",
       "377. 'rf_030_013'\n",
       "378. 'rf_030_014'\n",
       "379. 'rf_030_015'\n",
       "380. 'rf_030_010'\n",
       "381. 'rf_030_007'\n",
       "382. 'rf_030_001'\n",
       "383. 'rf_030_018'\n",
       "384. 'rf_030_017'\n",
       "385. 'rf_030_016'\n",
       "386. 'rf_030_008'\n",
       "387. 'rf_030_004'\n",
       "388. 'rf_030_011'\n",
       "389. 'rf_030_006'\n",
       "390. 'rf_030_009'\n",
       "391. 'rf_009_003'\n",
       "392. 'rf_020_005'\n",
       "393. 'rf_018_002'\n",
       "394. 'rf_005_012'\n",
       "395. 'rf_005_019'\n",
       "396. 'rf_013_005'\n",
       "397. 'rf_024_007'\n",
       "398. 'rf_024_019'\n",
       "399. 'rf_027_016'\n",
       "400. 'rf_027_006'\n",
       "401. 'rf_027_014'\n",
       "\n",
       "\n"
      ],
      "text/plain": [
       "  [1] \"numero_de_cliente\"                  \"foto_mes\"                          \n",
       "  [3] \"internet\"                           \"cliente_edad\"                      \n",
       "  [5] \"cliente_antiguedad\"                 \"mrentabilidad\"                     \n",
       "  [7] \"mrentabilidad_annual\"               \"mcomisiones\"                       \n",
       "  [9] \"mactivos_margen\"                    \"mpasivos_margen\"                   \n",
       " [11] \"cproductos\"                         \"mcuenta_corriente\"                 \n",
       " [13] \"mcaja_ahorro\"                       \"cdescubierto_preacordado\"          \n",
       " [15] \"mcuentas_saldo\"                     \"ctarjeta_visa\"                     \n",
       " [17] \"ctarjeta_visa_transacciones\"        \"mtarjeta_visa_consumo\"             \n",
       " [19] \"ctarjeta_master\"                    \"ctarjeta_master_transacciones\"     \n",
       " [21] \"mtarjeta_master_consumo\"            \"cprestamos_personales\"             \n",
       " [23] \"mprestamos_personales\"              \"cpayroll_trx\"                      \n",
       " [25] \"mpayroll\"                           \"mttarjeta_visa_debitos_automaticos\"\n",
       " [27] \"ccomisiones_mantenimiento\"          \"mcomisiones_mantenimiento\"         \n",
       " [29] \"ccomisiones_otras\"                  \"mtransferencias_recibidas\"         \n",
       " [31] \"ccallcenter_transacciones\"          \"thomebanking\"                      \n",
       " [33] \"chomebanking_transacciones\"         \"ctrx_quarter\"                      \n",
       " [35] \"Master_status\"                      \"Master_mfinanciacion_limite\"       \n",
       " [37] \"Master_Fvencimiento\"                \"Master_msaldototal\"                \n",
       " [39] \"Master_mlimitecompra\"               \"Master_fultimo_cierre\"             \n",
       " [41] \"Master_fechaalta\"                   \"Master_mconsumototal\"              \n",
       " [43] \"Master_cconsumos\"                   \"Master_mpagominimo\"                \n",
       " [45] \"Visa_status\"                        \"Visa_mfinanciacion_limite\"         \n",
       " [47] \"Visa_Fvencimiento\"                  \"Visa_msaldototal\"                  \n",
       " [49] \"Visa_mlimitecompra\"                 \"Visa_fultimo_cierre\"               \n",
       " [51] \"Visa_fechaalta\"                     \"Visa_mconsumototal\"                \n",
       " [53] \"Visa_cconsumos\"                     \"Visa_mpagominimo\"                  \n",
       " [55] \"clase_ternaria\"                     \"kmes\"                              \n",
       " [57] \"mpayroll_sobre_edad\"                \"entrenamiento\"                     \n",
       " [59] \"rf_001_001\"                         \"rf_001_018\"                        \n",
       " [61] \"rf_001_016\"                         \"rf_001_006\"                        \n",
       " [63] \"rf_001_004\"                         \"rf_001_017\"                        \n",
       " [65] \"rf_001_008\"                         \"rf_001_007\"                        \n",
       " [67] \"rf_001_019\"                         \"rf_001_000\"                        \n",
       " [69] \"rf_001_002\"                         \"rf_001_013\"                        \n",
       " [71] \"rf_001_014\"                         \"rf_001_003\"                        \n",
       " [73] \"rf_001_009\"                         \"rf_001_015\"                        \n",
       " [75] \"rf_001_010\"                         \"rf_001_011\"                        \n",
       " [77] \"rf_001_005\"                         \"rf_001_012\"                        \n",
       " [79] \"rf_002_001\"                         \"rf_002_004\"                        \n",
       " [81] \"rf_002_014\"                         \"rf_002_016\"                        \n",
       " [83] \"rf_002_015\"                         \"rf_002_013\"                        \n",
       " [85] \"rf_002_002\"                         \"rf_002_010\"                        \n",
       " [87] \"rf_002_007\"                         \"rf_002_009\"                        \n",
       " [89] \"rf_002_003\"                         \"rf_002_017\"                        \n",
       " [91] \"rf_002_018\"                         \"rf_002_011\"                        \n",
       " [93] \"rf_002_019\"                         \"rf_002_008\"                        \n",
       " [95] \"rf_002_000\"                         \"rf_002_006\"                        \n",
       " [97] \"rf_002_005\"                         \"rf_002_012\"                        \n",
       " [99] \"rf_003_004\"                         \"rf_003_003\"                        \n",
       "[101] \"rf_003_009\"                         \"rf_003_015\"                        \n",
       "[103] \"rf_003_002\"                         \"rf_003_011\"                        \n",
       "[105] \"rf_003_008\"                         \"rf_003_000\"                        \n",
       "[107] \"rf_003_012\"                         \"rf_003_014\"                        \n",
       "[109] \"rf_003_013\"                         \"rf_003_010\"                        \n",
       "[111] \"rf_003_016\"                         \"rf_003_007\"                        \n",
       "[113] \"rf_003_018\"                         \"rf_003_005\"                        \n",
       "[115] \"rf_003_006\"                         \"rf_003_017\"                        \n",
       "[117] \"rf_003_019\"                         \"rf_003_001\"                        \n",
       "[119] \"rf_004_013\"                         \"rf_004_010\"                        \n",
       "[121] \"rf_004_005\"                         \"rf_004_000\"                        \n",
       "[123] \"rf_004_006\"                         \"rf_004_011\"                        \n",
       "[125] \"rf_004_009\"                         \"rf_004_004\"                        \n",
       "[127] \"rf_004_016\"                         \"rf_004_007\"                        \n",
       "[129] \"rf_004_001\"                         \"rf_004_002\"                        \n",
       "[131] \"rf_004_003\"                         \"rf_004_014\"                        \n",
       "[133] \"rf_004_015\"                         \"rf_004_012\"                        \n",
       "[135] \"rf_004_017\"                         \"rf_004_008\"                        \n",
       "[137] \"rf_004_018\"                         \"rf_004_019\"                        \n",
       "[139] \"rf_005_015\"                         \"rf_005_001\"                        \n",
       "[141] \"rf_005_009\"                         \"rf_005_014\"                        \n",
       "[143] \"rf_005_011\"                         \"rf_005_008\"                        \n",
       "[145] \"rf_005_006\"                         \"rf_005_000\"                        \n",
       "[147] \"rf_005_013\"                         \"rf_005_005\"                        \n",
       "[149] \"rf_005_003\"                         \"rf_005_002\"                        \n",
       "[151] \"rf_005_010\"                         \"rf_005_016\"                        \n",
       "[153] \"rf_005_007\"                         \"rf_005_017\"                        \n",
       "[155] \"rf_005_004\"                         \"rf_005_018\"                        \n",
       "[157] \"rf_006_014\"                         \"rf_006_001\"                        \n",
       "[159] \"rf_006_008\"                         \"rf_006_011\"                        \n",
       "[161] \"rf_006_000\"                         \"rf_006_015\"                        \n",
       "[163] \"rf_006_019\"                         \"rf_006_002\"                        \n",
       "[165] \"rf_006_007\"                         \"rf_006_006\"                        \n",
       "[167] \"rf_006_009\"                         \"rf_006_013\"                        \n",
       "[169] \"rf_006_005\"                         \"rf_006_017\"                        \n",
       "[171] \"rf_006_003\"                         \"rf_006_004\"                        \n",
       "[173] \"rf_006_010\"                         \"rf_006_012\"                        \n",
       "[175] \"rf_006_016\"                         \"rf_006_018\"                        \n",
       "[177] \"rf_007_014\"                         \"rf_007_001\"                        \n",
       "[179] \"rf_007_009\"                         \"rf_007_008\"                        \n",
       "[181] \"rf_007_005\"                         \"rf_007_000\"                        \n",
       "[183] \"rf_007_019\"                         \"rf_007_004\"                        \n",
       "[185] \"rf_007_018\"                         \"rf_007_007\"                        \n",
       "[187] \"rf_007_003\"                         \"rf_007_006\"                        \n",
       "[189] \"rf_007_012\"                         \"rf_007_013\"                        \n",
       "[191] \"rf_007_011\"                         \"rf_007_010\"                        \n",
       "[193] \"rf_007_002\"                         \"rf_007_016\"                        \n",
       "[195] \"rf_007_015\"                         \"rf_007_017\"                        \n",
       "[197] \"rf_008_005\"                         \"rf_008_004\"                        \n",
       "[199] \"rf_008_008\"                         \"rf_008_000\"                        \n",
       "[201] \"rf_008_014\"                         \"rf_008_006\"                        \n",
       "[203] \"rf_008_012\"                         \"rf_008_009\"                        \n",
       "[205] \"rf_008_017\"                         \"rf_008_013\"                        \n",
       "[207] \"rf_008_003\"                         \"rf_008_010\"                        \n",
       "[209] \"rf_008_015\"                         \"rf_008_016\"                        \n",
       "[211] \"rf_008_002\"                         \"rf_008_001\"                        \n",
       "[213] \"rf_008_018\"                         \"rf_008_007\"                        \n",
       "[215] \"rf_008_011\"                         \"rf_008_019\"                        \n",
       "[217] \"rf_009_012\"                         \"rf_009_002\"                        \n",
       "[219] \"rf_009_007\"                         \"rf_009_011\"                        \n",
       "[221] \"rf_009_015\"                         \"rf_009_017\"                        \n",
       "[223] \"rf_009_000\"                         \"rf_009_018\"                        \n",
       "[225] \"rf_009_019\"                         \"rf_009_006\"                        \n",
       "[227] \"rf_009_001\"                         \"rf_009_013\"                        \n",
       "[229] \"rf_009_016\"                         \"rf_009_004\"                        \n",
       "[231] \"rf_009_005\"                         \"rf_009_014\"                        \n",
       "[233] \"rf_009_010\"                         \"rf_009_009\"                        \n",
       "[235] \"rf_009_008\"                         \"rf_010_007\"                        \n",
       "[237] \"rf_010_002\"                         \"rf_010_012\"                        \n",
       "[239] \"rf_010_013\"                         \"rf_010_006\"                        \n",
       "[241] \"rf_010_008\"                         \"rf_010_004\"                        \n",
       "[243] \"rf_010_000\"                         \"rf_010_003\"                        \n",
       "[245] \"rf_010_005\"                         \"rf_010_016\"                        \n",
       "[247] \"rf_010_010\"                         \"rf_010_018\"                        \n",
       "[249] \"rf_010_019\"                         \"rf_010_017\"                        \n",
       "[251] \"rf_010_001\"                         \"rf_010_014\"                        \n",
       "[253] \"rf_010_009\"                         \"rf_010_011\"                        \n",
       "[255] \"rf_010_015\"                         \"rf_011_012\"                        \n",
       "[257] \"rf_011_001\"                         \"rf_011_007\"                        \n",
       "[259] \"rf_011_014\"                         \"rf_011_016\"                        \n",
       "[261] \"rf_011_008\"                         \"rf_011_000\"                        \n",
       "[263] \"rf_011_009\"                         \"rf_011_019\"                        \n",
       "[265] \"rf_011_011\"                         \"rf_011_015\"                        \n",
       "[267] \"rf_011_010\"                         \"rf_011_002\"                        \n",
       "[269] \"rf_011_003\"                         \"rf_011_004\"                        \n",
       "[271] \"rf_011_013\"                         \"rf_011_018\"                        \n",
       "[273] \"rf_011_006\"                         \"rf_011_017\"                        \n",
       "[275] \"rf_011_005\"                         \"rf_012_019\"                        \n",
       "[277] \"rf_012_006\"                         \"rf_012_007\"                        \n",
       "[279] \"rf_012_008\"                         \"rf_012_004\"                        \n",
       "[281] \"rf_012_010\"                         \"rf_012_000\"                        \n",
       "[283] \"rf_012_015\"                         \"rf_012_002\"                        \n",
       "[285] \"rf_012_011\"                         \"rf_012_017\"                        \n",
       "[287] \"rf_012_013\"                         \"rf_012_003\"                        \n",
       "[289] \"rf_012_005\"                         \"rf_012_018\"                        \n",
       "[291] \"rf_012_001\"                         \"rf_012_014\"                        \n",
       "[293] \"rf_012_009\"                         \"rf_012_012\"                        \n",
       "[295] \"rf_012_016\"                         \"rf_013_013\"                        \n",
       "[297] \"rf_013_002\"                         \"rf_013_012\"                        \n",
       "[299] \"rf_013_008\"                         \"rf_013_007\"                        \n",
       "[301] \"rf_013_004\"                         \"rf_013_006\"                        \n",
       "[303] \"rf_013_000\"                         \"rf_013_016\"                        \n",
       "[305] \"rf_013_009\"                         \"rf_013_014\"                        \n",
       "[307] \"rf_013_001\"                         \"rf_013_015\"                        \n",
       "[309] \"rf_013_017\"                         \"rf_013_011\"                        \n",
       "[311] \"rf_013_003\"                         \"rf_013_010\"                        \n",
       "[313] \"rf_013_019\"                         \"rf_013_018\"                        \n",
       "[315] \"rf_014_010\"                         \"rf_014_003\"                        \n",
       "[317] \"rf_014_018\"                         \"rf_014_000\"                        \n",
       "[319] \"rf_014_007\"                         \"rf_014_019\"                        \n",
       "[321] \"rf_014_013\"                         \"rf_014_014\"                        \n",
       "[323] \"rf_014_016\"                         \"rf_014_001\"                        \n",
       "[325] \"rf_014_004\"                         \"rf_014_017\"                        \n",
       "[327] \"rf_014_015\"                         \"rf_014_006\"                        \n",
       "[329] \"rf_014_011\"                         \"rf_014_012\"                        \n",
       "[331] \"rf_014_002\"                         \"rf_014_008\"                        \n",
       "[333] \"rf_014_005\"                         \"rf_014_009\"                        \n",
       "[335] \"rf_015_008\"                         \"rf_015_006\"                        \n",
       "[337] \"rf_015_011\"                         \"rf_015_005\"                        \n",
       "[339] \"rf_015_010\"                         \"rf_015_004\"                        \n",
       "[341] \"rf_015_000\"                         \"rf_015_018\"                        \n",
       "[343] \"rf_015_013\"                         \"rf_015_019\"                        \n",
       "[345] \"rf_015_012\"                         \"rf_015_015\"                        \n",
       "[347] \"rf_015_001\"                         \"rf_015_003\"                        \n",
       "[349] \"rf_015_007\"                         \"rf_015_017\"                        \n",
       "[351] \"rf_015_016\"                         \"rf_015_002\"                        \n",
       "[353] \"rf_015_009\"                         \"rf_015_014\"                        \n",
       "[355] \"rf_016_013\"                         \"rf_016_001\"                        \n",
       "[357] \"rf_016_017\"                         \"rf_016_009\"                        \n",
       "[359] \"rf_016_019\"                         \"rf_016_000\"                        \n",
       "[361] \"rf_016_007\"                         \"rf_016_018\"                        \n",
       "[363] \"rf_016_015\"                         \"rf_016_006\"                        \n",
       "[365] \"rf_016_016\"                         \"rf_016_010\"                        \n",
       "[367] \"rf_016_003\"                         \"rf_016_008\"                        \n",
       "[369] \"rf_016_004\"                         \"rf_016_011\"                        \n",
       "[371] \"rf_016_012\"                         \"rf_016_014\"                        \n",
       "[373] \"rf_016_005\"                         \"rf_016_002\"                        \n",
       "[375] \"rf_017_001\"                         \"rf_017_015\"                        \n",
       "[377] \"rf_017_009\"                         \"rf_017_016\"                        \n",
       "[379] \"rf_017_005\"                         \"rf_017_000\"                        \n",
       "[381] \"rf_017_017\"                         \"rf_017_006\"                        \n",
       "[383] \"rf_017_002\"                         \"rf_017_007\"                        \n",
       "[385] \"rf_017_018\"                         \"rf_017_014\"                        \n",
       "[387] \"rf_017_003\"                         \"rf_017_004\"                        \n",
       "[389] \"rf_017_019\"                         \"rf_017_008\"                        \n",
       "[391] \"rf_017_012\"                         \"rf_017_013\"                        \n",
       "[393] \"rf_017_011\"                         \"rf_017_010\"                        \n",
       "[395] \"rf_018_008\"                         \"rf_018_006\"                        \n",
       "[397] \"rf_018_015\"                         \"rf_018_003\"                        \n",
       "[399] \"rf_018_019\"                         \"rf_018_017\"                        \n",
       "[401] \"rf_018_001\"                         \"rf_018_012\"                        \n",
       "[403] \"rf_018_016\"                         \"rf_018_004\"                        \n",
       "[405] \"rf_018_011\"                         \"rf_018_007\"                        \n",
       "[407] \"rf_018_010\"                         \"rf_018_013\"                        \n",
       "[409] \"rf_018_005\"                         \"rf_018_000\"                        \n",
       "[411] \"rf_018_014\"                         \"rf_018_018\"                        \n",
       "[413] \"rf_018_009\"                         \"rf_019_014\"                        \n",
       "[415] \"rf_019_010\"                         \"rf_019_016\"                        \n",
       "[417] \"rf_019_015\"                         \"rf_019_005\"                        \n",
       "[419] \"rf_019_012\"                         \"rf_019_001\"                        \n",
       "[421] \"rf_019_000\"                         \"rf_019_006\"                        \n",
       "[423] \"rf_019_007\"                         \"rf_019_017\"                        \n",
       "[425] \"rf_019_008\"                         \"rf_019_003\"                        \n",
       "[427] \"rf_019_002\"                         \"rf_019_004\"                        \n",
       "[429] \"rf_019_009\"                         \"rf_019_013\"                        \n",
       "[431] \"rf_019_018\"                         \"rf_019_019\"                        \n",
       "[433] \"rf_019_011\"                         \"rf_020_018\"                        \n",
       "[435] \"rf_020_004\"                         \"rf_020_008\"                        \n",
       "[437] \"rf_020_017\"                         \"rf_020_001\"                        \n",
       "[439] \"rf_020_006\"                         \"rf_020_002\"                        \n",
       "[441] \"rf_020_000\"                         \"rf_020_011\"                        \n",
       "[443] \"rf_020_013\"                         \"rf_020_012\"                        \n",
       "[445] \"rf_020_016\"                         \"rf_020_007\"                        \n",
       "[447] \"rf_020_014\"                         \"rf_020_010\"                        \n",
       "[449] \"rf_020_015\"                         \"rf_020_003\"                        \n",
       "[451] \"rf_020_019\"                         \"rf_020_009\"                        \n",
       "[453] \"rf_021_015\"                         \"rf_021_002\"                        \n",
       "[455] \"rf_021_009\"                         \"rf_021_010\"                        \n",
       "[457] \"rf_021_003\"                         \"rf_021_004\"                        \n",
       "[459] \"rf_021_005\"                         \"rf_021_019\"                        \n",
       "[461] \"rf_021_001\"                         \"rf_021_016\"                        \n",
       "[463] \"rf_021_012\"                         \"rf_021_013\"                        \n",
       "[465] \"rf_021_018\"                         \"rf_021_008\"                        \n",
       "[467] \"rf_021_011\"                         \"rf_021_000\"                        \n",
       "[469] \"rf_021_007\"                         \"rf_021_006\"                        \n",
       "[471] \"rf_021_014\"                         \"rf_021_017\"                        \n",
       "[473] \"rf_022_004\"                         \"rf_022_001\"                        \n",
       "[475] \"rf_022_003\"                         \"rf_022_000\"                        \n",
       "[477] \"rf_022_018\"                         \"rf_022_015\"                        \n",
       "[479] \"rf_022_014\"                         \"rf_022_006\"                        \n",
       "[481] \"rf_022_013\"                         \"rf_022_011\"                        \n",
       "[483] \"rf_022_019\"                         \"rf_022_005\"                        \n",
       "[485] \"rf_022_007\"                         \"rf_022_016\"                        \n",
       "[487] \"rf_022_009\"                         \"rf_022_012\"                        \n",
       "[489] \"rf_022_002\"                         \"rf_022_010\"                        \n",
       "[491] \"rf_022_008\"                         \"rf_022_017\"                        \n",
       "[493] \"rf_023_017\"                         \"rf_023_012\"                        \n",
       "[495] \"rf_023_010\"                         \"rf_023_015\"                        \n",
       "[497] \"rf_023_014\"                         \"rf_023_011\"                        \n",
       "[499] \"rf_023_007\"                         \"rf_023_000\"                        \n",
       "[501] \"rf_023_005\"                         \"rf_023_006\"                        \n",
       "[503] \"rf_023_004\"                         \"rf_023_019\"                        \n",
       "[505] \"rf_023_013\"                         \"rf_023_016\"                        \n",
       "[507] \"rf_023_003\"                         \"rf_023_008\"                        \n",
       "[509] \"rf_023_001\"                         \"rf_023_009\"                        \n",
       "[511] \"rf_023_018\"                         \"rf_023_002\"                        \n",
       "[513] \"rf_024_013\"                         \"rf_024_002\"                        \n",
       "[515] \"rf_024_017\"                         \"rf_024_010\"                        \n",
       "[517] \"rf_024_006\"                         \"rf_024_000\"                        \n",
       "[519] \"rf_024_018\"                         \"rf_024_005\"                        \n",
       "[521] \"rf_024_008\"                         \"rf_024_003\"                        \n",
       "[523] \"rf_024_014\"                         \"rf_024_011\"                        \n",
       "[525] \"rf_024_001\"                         \"rf_024_004\"                        \n",
       "[527] \"rf_024_009\"                         \"rf_024_016\"                        \n",
       "[529] \"rf_024_012\"                         \"rf_024_015\"                        \n",
       "[531] \"rf_025_010\"                         \"rf_025_011\"                        \n",
       "[533] \"rf_025_013\"                         \"rf_025_000\"                        \n",
       "[535] \"rf_025_008\"                         \"rf_025_001\"                        \n",
       "[537] \"rf_025_003\"                         \"rf_025_002\"                        \n",
       "[539] \"rf_025_015\"                         \"rf_025_007\"                        \n",
       "[541] \"rf_025_005\"                         \"rf_025_018\"                        \n",
       "[543] \"rf_025_004\"                         \"rf_025_016\"                        \n",
       "[545] \"rf_025_006\"                         \"rf_025_019\"                        \n",
       "[547] \"rf_025_009\"                         \"rf_025_017\"                        \n",
       "[549] \"rf_025_014\"                         \"rf_025_012\"                        \n",
       "[551] \"rf_026_010\"                         \"rf_026_001\"                        \n",
       "[553] \"rf_026_018\"                         \"rf_026_013\"                        \n",
       "[555] \"rf_026_015\"                         \"rf_026_007\"                        \n",
       "[557] \"rf_026_000\"                         \"rf_026_005\"                        \n",
       "[559] \"rf_026_016\"                         \"rf_026_011\"                        \n",
       "[561] \"rf_026_019\"                         \"rf_026_008\"                        \n",
       "[563] \"rf_026_017\"                         \"rf_026_003\"                        \n",
       "[565] \"rf_026_006\"                         \"rf_026_012\"                        \n",
       "[567] \"rf_026_002\"                         \"rf_026_009\"                        \n",
       "[569] \"rf_026_004\"                         \"rf_026_014\"                        \n",
       "[571] \"rf_027_015\"                         \"rf_027_001\"                        \n",
       "[573] \"rf_027_018\"                         \"rf_027_004\"                        \n",
       "[575] \"rf_027_002\"                         \"rf_027_010\"                        \n",
       "[577] \"rf_027_000\"                         \"rf_027_003\"                        \n",
       "[579] \"rf_027_012\"                         \"rf_027_005\"                        \n",
       "[581] \"rf_027_009\"                         \"rf_027_013\"                        \n",
       "[583] \"rf_027_019\"                         \"rf_027_011\"                        \n",
       "[585] \"rf_027_007\"                         \"rf_027_017\"                        \n",
       "[587] \"rf_027_008\"                         \"rf_028_005\"                        \n",
       "[589] \"rf_028_001\"                         \"rf_028_006\"                        \n",
       "[591] \"rf_028_011\"                         \"rf_028_014\"                        \n",
       "[593] \"rf_028_000\"                         \"rf_028_013\"                        \n",
       "[595] \"rf_028_017\"                         \"rf_028_010\"                        \n",
       "[597] \"rf_028_019\"                         \"rf_028_018\"                        \n",
       "[599] \"rf_028_009\"                         \"rf_028_007\"                        \n",
       "[601] \"rf_028_008\"                         \"rf_028_012\"                        \n",
       "[603] \"rf_028_004\"                         \"rf_028_002\"                        \n",
       "[605] \"rf_028_016\"                         \"rf_028_003\"                        \n",
       "[607] \"rf_028_015\"                         \"rf_029_016\"                        \n",
       "[609] \"rf_029_011\"                         \"rf_029_019\"                        \n",
       "[611] \"rf_029_015\"                         \"rf_029_012\"                        \n",
       "[613] \"rf_029_002\"                         \"rf_029_004\"                        \n",
       "[615] \"rf_029_000\"                         \"rf_029_017\"                        \n",
       "[617] \"rf_029_006\"                         \"rf_029_003\"                        \n",
       "[619] \"rf_029_001\"                         \"rf_029_013\"                        \n",
       "[621] \"rf_029_014\"                         \"rf_029_007\"                        \n",
       "[623] \"rf_029_009\"                         \"rf_029_005\"                        \n",
       "[625] \"rf_029_010\"                         \"rf_029_008\"                        \n",
       "[627] \"rf_029_018\"                         \"rf_030_012\"                        \n",
       "[629] \"rf_030_002\"                         \"rf_030_019\"                        \n",
       "[631] \"rf_030_005\"                         \"rf_030_003\"                        \n",
       "[633] \"rf_030_000\"                         \"rf_030_013\"                        \n",
       "[635] \"rf_030_014\"                         \"rf_030_015\"                        \n",
       "[637] \"rf_030_010\"                         \"rf_030_007\"                        \n",
       "[639] \"rf_030_001\"                         \"rf_030_018\"                        \n",
       "[641] \"rf_030_017\"                         \"rf_030_016\"                        \n",
       "[643] \"rf_030_008\"                         \"rf_030_004\"                        \n",
       "[645] \"rf_030_011\"                         \"rf_030_006\"                        \n",
       "[647] \"rf_030_009\"                         \"rf_009_003\"                        \n",
       "[649] \"rf_020_005\"                         \"rf_018_002\"                        \n",
       "[651] \"rf_005_012\"                         \"rf_005_019\"                        \n",
       "[653] \"rf_013_005\"                         \"rf_024_007\"                        \n",
       "[655] \"rf_024_019\"                         \"rf_027_016\"                        \n",
       "[657] \"rf_027_006\"                         \"rf_027_014\"                        "
      ]
     },
     "metadata": {},
     "output_type": "display_data"
    }
   ],
   "source": [
    "ncol(dataset)\n",
    "colnames(dataset)"
   ]
  },
  {
   "cell_type": "code",
   "execution_count": 37,
   "id": "ljA3h0jOcciP",
   "metadata": {
    "id": "ljA3h0jOcciP"
   },
   "outputs": [],
   "source": [
    "# No se implementa Feature Engineering a partir de Random Forest"
   ]
  },
  {
   "cell_type": "markdown",
   "id": "XaRBjQj8ZRUZ",
   "metadata": {
    "id": "XaRBjQj8ZRUZ"
   },
   "source": [
    "#### 9.3.1.5  FEhist Feature Engineering historico\n",
    "\n",
    "El Fature Engineering Histórico es la etapa que más aporta a la ganancia final, ya que enriquece cada registro del dataset con su historia."
   ]
  },
  {
   "cell_type": "markdown",
   "id": "cfe3b8cf-0707-4512-92e7-c1407bb3f73b",
   "metadata": {
    "id": "cfe3b8cf-0707-4512-92e7-c1407bb3f73b"
   },
   "source": [
    "Para cada campo del dataset original (*)\n",
    "se crean lo siguientes campos de a partir de la historia\n",
    "* lag1  lags de orden 1\n",
    "* delta1  =  valor actual - lag1\n",
    "* lag2  lags de orden 2\n",
    "* delta2  = valor actual - lag2\n",
    "\n",
    "\n",
    "(*) Excepto para los campos  <numero_de_cliente,  foto_mes,  clase_ternaria>"
   ]
  },
  {
   "cell_type": "code",
   "execution_count": null,
   "id": "7850b948-827d-4a2a-b4d3-a5e459b47c11",
   "metadata": {
    "id": "7850b948-827d-4a2a-b4d3-a5e459b47c11"
   },
   "outputs": [],
   "source": [
    "# Feature Engineering Historico\n",
    "\n",
    "# todo es lagueable, menos la primary key y la clase\n",
    "cols_lagueables <- copy( setdiff(\n",
    "    colnames(dataset),\n",
    "    c(\"numero_de_cliente\", \"foto_mes\", \"clase_ternaria\")\n",
    ") )\n",
    "\n",
    "# https://rdrr.io/cran/data.table/man/shift.html\n",
    "\n",
    "# lags de orden 1\n",
    "dataset[,\n",
    "    paste0(cols_lagueables, \"_lag1\") := shift(.SD, 1, NA, \"lag\"),\n",
    "    by = numero_de_cliente,\n",
    "    .SDcols = cols_lagueables\n",
    "]\n",
    "\n",
    "# lags de orden 2\n",
    "dataset[,\n",
    "    paste0(cols_lagueables, \"_lag2\") := shift(.SD, 2, NA, \"lag\"),\n",
    "    by = numero_de_cliente,\n",
    "    .SDcols = cols_lagueables\n",
    "]\n",
    "\n",
    "# agrego los delta lags\n",
    "for (vcol in cols_lagueables)\n",
    "{\n",
    "    dataset[, paste0(vcol, \"_delta1\") := get(vcol) - get(paste0(vcol, \"_lag1\"))]\n",
    "    dataset[, paste0(vcol, \"_delta2\") := get(vcol) - get(paste0(vcol, \"_lag2\"))]\n",
    "}\n"
   ]
  },
  {
   "cell_type": "markdown",
   "id": "cea690d9-ece9-4852-a5e2-f337c31b6721",
   "metadata": {
    "id": "cea690d9-ece9-4852-a5e2-f337c31b6721"
   },
   "source": [
    "Verificacion de los campos recien creados"
   ]
  },
  {
   "cell_type": "code",
   "execution_count": null,
   "id": "f772896b-595a-47d4-8905-c15304ac9452",
   "metadata": {
    "id": "f772896b-595a-47d4-8905-c15304ac9452"
   },
   "outputs": [],
   "source": [
    "ncol(dataset)\n",
    "colnames(dataset)"
   ]
  },
  {
   "cell_type": "markdown",
   "id": "l8mKij0XaDY0",
   "metadata": {
    "id": "l8mKij0XaDY0"
   },
   "source": [
    "#### 9.3.1.6  FEhist Reduccion dimensionalidad con canaritos\n",
    "\n",
    "Esta etapa solo se mostrará a la *modalidad Anlista Sr* por algun canal secreto de forma de no confundir a los *Analista Jr*  nni distraer con detalles operativos a la estratégica *Modalidad Gerencial*"
   ]
  },
  {
   "cell_type": "code",
   "execution_count": null,
   "id": "QrmnPtlBcEgx",
   "metadata": {
    "id": "QrmnPtlBcEgx"
   },
   "outputs": [],
   "source": [
    "# No se implementa la reduccion de la dimensionalidad con canaritos"
   ]
  },
  {
   "cell_type": "markdown",
   "id": "cf91ea5e-3341-4afb-8d05-cc4923d3d1e1",
   "metadata": {
    "id": "cf91ea5e-3341-4afb-8d05-cc4923d3d1e1"
   },
   "source": [
    "### 9.3.2 Modelado"
   ]
  },
  {
   "cell_type": "markdown",
   "id": "526048e4-8cf2-4023-bd2d-a70e4e9ff157",
   "metadata": {
    "id": "526048e4-8cf2-4023-bd2d-a70e4e9ff157"
   },
   "source": [
    "#### 9.3.2.1 Training Strategy"
   ]
  },
  {
   "cell_type": "markdown",
   "id": "f16bc1c1-b3ea-43ca-9d3c-53f8f9ab8ec1",
   "metadata": {
    "id": "f16bc1c1-b3ea-43ca-9d3c-53f8f9ab8ec1"
   },
   "source": [
    "Se hace una estrategia de entrenamiento muy sencilla, tomando todos los meses posibles, SIN eliminar nada x pandemia ni por ningun otro motivo\n",
    "\n",
    "* future = 202109  obviamente completo\n",
    "\n",
    "* final_train =  [ 201901, 202107 ]  SIN undersampling\n",
    "\n",
    "* training\n",
    "   * testing = NO HAY\n",
    "   * validation =  202107   completo, sin undersampling\n",
    "   * training = [ 201901, 202105 ]  donde se consideran el 100% de los CONTINUA"
   ]
  },
  {
   "cell_type": "code",
   "execution_count": null,
   "id": "2c9c0a42-ba58-4264-8566-091a6161716f",
   "metadata": {
    "id": "2c9c0a42-ba58-4264-8566-091a6161716f"
   },
   "outputs": [],
   "source": [
    "PARAM$trainingstrategy$validate <- c(202107)\n",
    "\n",
    "PARAM$trainingstrategy$training <- c(\n",
    "  201901, 201902, 201903, 201904, 201905, 201906,\n",
    "  201907, 201908, 201909, 201910, 201911, 201912,\n",
    "  202001, 202002, 202003, 202004, 202005, 202006,\n",
    "  202007, 202008, 202009, 202010, 202011, 202012,\n",
    "  202101, 202102, 202103, 202104, 202105\n",
    ")\n",
    "\n",
    "\n",
    "PARAM$trainingstrategy$training_pct <- 1.0\n",
    "\n",
    "\n",
    "PARAM$trainingstrategy$positivos <- c( \"BAJA+1\", \"BAJA+2\")"
   ]
  },
  {
   "cell_type": "code",
   "execution_count": null,
   "id": "tv_trHWAj4a8",
   "metadata": {
    "id": "tv_trHWAj4a8"
   },
   "outputs": [],
   "source": [
    "# seteo la clase01   1={BAJA+1, BAJA+2}   0={CONTINUA}\n",
    "dataset[, clase01 := ifelse( clase_ternaria %in% PARAM$trainingstrategy$positivos, 1, 0 )]"
   ]
  },
  {
   "cell_type": "code",
   "execution_count": null,
   "id": "Ud_XDKSIj8f_",
   "metadata": {
    "id": "Ud_XDKSIj8f_"
   },
   "outputs": [],
   "source": [
    "# los campos en los que se entrena\n",
    "campos_buenos <- copy( setdiff(\n",
    "    colnames(dataset), c(\"clase_ternaria\",\"clase01\",\"azar\"))\n",
    ")"
   ]
  },
  {
   "cell_type": "code",
   "execution_count": null,
   "id": "rFKgZZPSj_Pa",
   "metadata": {
    "id": "rFKgZZPSj_Pa"
   },
   "outputs": [],
   "source": [
    "# preparo para que se puede hacer undersampling de los CONTINUA\n",
    "#  solamente por un tema de VELOCIDAD\n",
    "set.seed(PARAM$semilla_primigenia, kind = \"L'Ecuyer-CMRG\")\n",
    "dataset[, azar:=runif(nrow(dataset))]\n",
    "\n",
    "# undersampling de los CONTINUA\n",
    "dataset[, fold_train :=  foto_mes %in%  PARAM$trainingstrategy$training &\n",
    "    (clase_ternaria %in% c(\"BAJA+1\", \"BAJA+2\") |\n",
    "     azar < PARAM$trainingstrategy$training_pct ) ]\n",
    "\n",
    "\n",
    "if( !require(\"lightgbm\")) install.packages(\"lightgbm\")\n",
    "require(\"lightgbm\")\n",
    "\n",
    "dtrain <- lgb.Dataset(\n",
    "  data= data.matrix(dataset[fold_train == TRUE, campos_buenos, with = FALSE]),\n",
    "  label= dataset[fold_train == TRUE, clase01],\n",
    "  free_raw_data= TRUE\n",
    ")"
   ]
  },
  {
   "cell_type": "code",
   "execution_count": null,
   "id": "B3yo98kQkHcP",
   "metadata": {
    "id": "B3yo98kQkHcP"
   },
   "outputs": [],
   "source": [
    "# datos de validation\n",
    "dvalidate <- lgb.Dataset(\n",
    "  data= data.matrix(dataset[foto_mes %in% PARAM$trainingstrategy$validate, campos_buenos, with = FALSE]),\n",
    "  label= dataset[foto_mes %in% PARAM$trainingstrategy$validate, clase01],\n",
    "  free_raw_data= TRUE\n",
    ")\n",
    "\n",
    "nrow(dvalidate)"
   ]
  },
  {
   "cell_type": "markdown",
   "id": "28e8f788-551c-4e50-9029-302ac0834287",
   "metadata": {
    "id": "28e8f788-551c-4e50-9029-302ac0834287"
   },
   "source": [
    "####  9.3.2.2. Hyperparameter Tuning"
   ]
  },
  {
   "cell_type": "markdown",
   "id": "bf5fc836-e222-4aeb-a6a8-157346895ef7",
   "metadata": {
    "id": "bf5fc836-e222-4aeb-a6a8-157346895ef7"
   },
   "source": [
    "* Clase binaria que se optimiza :  positivos = [ BAJA+1, BAJA+2 ]"
   ]
  },
  {
   "cell_type": "markdown",
   "id": "885c03b5-77bc-4510-a930-0d1f14b52ffb",
   "metadata": {
    "id": "885c03b5-77bc-4510-a930-0d1f14b52ffb"
   },
   "source": [
    "* Metrica que se optimiza **AUC** Area Under Curve de la  ROC Curve\n",
    "\n",
    "es muy importante notar que intencionalmente  **NO** se está optimizando la funcion de ganancia del problema"
   ]
  },
  {
   "cell_type": "markdown",
   "id": "b7e6f95c-66ef-4ab9-9ba3-fcc099816704",
   "metadata": {
    "id": "b7e6f95c-66ef-4ab9-9ba3-fcc099816704"
   },
   "source": [
    "* Cantidad de iteraciones inteligentes de la Optimizacion Bayesiana = **10**"
   ]
  },
  {
   "cell_type": "markdown",
   "id": "fe047a87-e2d0-4418-97dd-0a881e66d73a",
   "metadata": {
    "id": "fe047a87-e2d0-4418-97dd-0a881e66d73a"
   },
   "source": [
    "* Parametros no default, fijos de LightGBM que no se optimizan\n",
    "  * max_bin = 31 , Alienigenas Ancestrales contruyeron las pirámides y dejaron a la humanidad en un jeroglifico  *max_bin=31*\n",
    "  * feature_fraction = 0.5  para poner algo que generalmente no falla\n",
    "  * learning_rate = 0.03  para que aprenda lento\n"
   ]
  },
  {
   "cell_type": "markdown",
   "id": "1e7da08e-fe57-4681-beff-11fe963116bd",
   "metadata": {
    "id": "1e7da08e-fe57-4681-beff-11fe963116bd"
   },
   "source": [
    "* Parametros que se optimizan en la Bayesian Optimization\n",
    "  * num_leaves  [8, 256]\n",
    "  * min_data_in_leaf  [8, 8192]"
   ]
  },
  {
   "cell_type": "code",
   "execution_count": null,
   "id": "34V6y4GetKq_",
   "metadata": {
    "id": "34V6y4GetKq_"
   },
   "outputs": [],
   "source": [
    "# paquetes necesarios para la Bayesian Optimization\n",
    "if(!require(\"DiceKriging\")) install.packages(\"DiceKriging\")\n",
    "require(\"DiceKriging\")\n",
    "\n",
    "if(!require(\"mlrMBO\")) install.packages(\"mlrMBO\")\n",
    "require(\"mlrMBO\")"
   ]
  },
  {
   "cell_type": "markdown",
   "id": "UFbDSYtH0TTT",
   "metadata": {
    "id": "UFbDSYtH0TTT"
   },
   "source": [
    "Definición de la Bayesian Optimization\n",
    "<br> Si se desea optimizar un hiperparámetro que esta como fijo, debe QUITARSE de param_fijos y agregarse a PARAM$hipeparametertuning$hs"
   ]
  },
  {
   "cell_type": "code",
   "execution_count": null,
   "id": "5Uag3XGHqrfZ",
   "metadata": {
    "id": "5Uag3XGHqrfZ"
   },
   "outputs": [],
   "source": [
    "library(ParamHelpers)\n",
    "\n",
    "# un Analista Jr  debe poder animarse a hacer 100 iteraciones\n",
    "PARAM$hipeparametertuning$num_interations <- 100\n",
    "\n",
    "# parametros fijos del LightGBM\n",
    "PARAM$lgbm$param_fijos <- list(\n",
    "  objective = \"binary\",\n",
    "  metric = \"auc\",\n",
    "  first_metric_only = TRUE,\n",
    "  boost_from_average = TRUE,\n",
    "  feature_pre_filter = FALSE,\n",
    "  verbosity = -100,\n",
    "  force_row_wise = TRUE, # para evitar warning\n",
    "  seed = PARAM$semilla_primigenia,\n",
    "  max_bin = 31,\n",
    "  num_iterations = 9999,  # valor grande, lo limita early_stopping_rounds\n",
    "  early_stopping_rounds = 400\n",
    ")\n",
    "\n",
    "PARAM$hipeparametertuning$hs <- makeParamSet(\n",
    "  makeDiscreteParam(\"boosting\", values = c(\"gbdt\",\"goss\")),\n",
    "  makeIntegerParam(\"num_leaves\", lower = 16L, upper = 512L),\n",
    "  makeIntegerParam(\"min_data_in_leaf\", lower = 20L, upper = 5000L),\n",
    "  makeNumericParam(\"feature_fraction\", lower = 0.6, upper = 1.0),\n",
    "  makeNumericParam(\"bagging_fraction\", lower = 0.6, upper = 1.0,\n",
    "                   requires = quote(boosting != \"goss\")),\n",
    "  makeIntegerParam(\"bagging_freq\", lower = 1L, upper = 7L,\n",
    "                   requires = quote(boosting != \"goss\")),\n",
    "  makeNumericParam(\"learning_rate\", lower = -3, upper = log10(0.2),\n",
    "                   trafo = function(x) 10^x),\n",
    "  makeNumericParam(\"lambda_l1\", lower = -1, upper = 10),\n",
    "  makeNumericParam(\"lambda_l2\", lower = 1, upper = 1000)\n",
    ")\n"
   ]
  },
  {
   "cell_type": "markdown",
   "id": "FEa1UuuAz4yj",
   "metadata": {
    "id": "FEa1UuuAz4yj"
   },
   "source": [
    "Función \"señora caja negra\"  que es llamada para verificar la realidad por la Bayesian Optimization"
   ]
  },
  {
   "cell_type": "code",
   "execution_count": null,
   "id": "2c10f535-8d90-47d1-ac3d-9b4c24ec21d2",
   "metadata": {
    "id": "2c10f535-8d90-47d1-ac3d-9b4c24ec21d2"
   },
   "outputs": [],
   "source": [
    "# En  x llegan los parmaetros de la bayesiana\n",
    "#  devuelve la AUC en validate del modelo entrenado\n",
    "#  en el parametro x llegan los hiperparámetros que se estan optimizando\n",
    "\n",
    "EstimarGanancia_AUC_lightgbm <- function(x) {\n",
    "\n",
    "  # x pisa (o agrega) a param_fijos\n",
    "  param_completo <- modifyList(PARAM$lgbm$param_fijos, x)\n",
    "\n",
    "  # entreno LightGBM\n",
    "  modelo_train <- lgb.train(\n",
    "    data= dtrain,\n",
    "    valids= list(valid = dvalidate),\n",
    "    eval= \"auc\",\n",
    "    param= param_completo,\n",
    "    verbose= -100\n",
    "  )\n",
    "\n",
    "  # recupero la AUC en validation\n",
    "  AUC <- modelo_train$record_evals$valid$auc$eval[[modelo_train$best_iter]]\n",
    "\n",
    "  # esta es la forma de devolver un parametro extra\n",
    "  attr(AUC, \"extras\") <- list(\"num_iterations\"= modelo_train$best_iter)\n",
    "\n",
    "  # hago espacio en la memoria\n",
    "  rm(modelo_train)\n",
    "  gc(full= TRUE, verbose= FALSE)\n",
    "\n",
    "  message(format(Sys.time(), \"%a %b %d %X %Y\"), \" AUC \", AUC)\n",
    "\n",
    "  return(AUC)\n",
    "}"
   ]
  },
  {
   "cell_type": "markdown",
   "id": "267a35d4-adaf-4271-a875-3864111333b7",
   "metadata": {
    "id": "267a35d4-adaf-4271-a875-3864111333b7"
   },
   "source": [
    "seteo de la Bayesian Optimization (complejo)\n",
    "<br> copiado y pegado de la documentación de la librería"
   ]
  },
  {
   "cell_type": "code",
   "execution_count": null,
   "id": "43c2a92d-1041-46b8-bff2-47297f209ed2",
   "metadata": {
    "id": "43c2a92d-1041-46b8-bff2-47297f209ed2"
   },
   "outputs": [],
   "source": [
    "configureMlr(show.learner.output = FALSE)\n",
    "\n",
    "# configuro la busqueda bayesiana,  los hiperparametros que se van a optimizar\n",
    "# por favor, no desesperarse por lo complejo\n",
    "obj.fun <- makeSingleObjectiveFunction(\n",
    "    fn= EstimarGanancia_AUC_lightgbm, # la funcion que voy a maximizar\n",
    "    minimize= FALSE, # estoy Maximizando AUC\n",
    "    noisy= FALSE,\n",
    "    par.set= PARAM$hipeparametertuning$hs,\n",
    "    has.simple.signature= FALSE # paso los parametros en una lista\n",
    ")\n",
    "\n",
    "# cada 600 segundos guardo el resultado intermedio\n",
    "ctrl <- makeMBOControl(\n",
    "    save.on.disk.at.time= 600,\n",
    "    save.file.path= \"HT.RDATA\"\n",
    ")\n",
    "\n",
    "# indico la cantidad de iteraciones que va a tener la Bayesian Optimization\n",
    "ctrl <- setMBOControlTermination(\n",
    "    ctrl,\n",
    "    iters= PARAM$hipeparametertuning$num_interations  # cantidad de iteraciones inteligentes\n",
    ")\n",
    "\n",
    "# defino el método estandar para la creacion de los puntos iniciales\n",
    "#   los \"No Inteligentes\"\n",
    "ctrl <- setMBOControlInfill(ctrl, crit = makeMBOInfillCritEI())\n",
    "\n",
    "# mas configuraciones\n",
    "surr.km <- makeLearner(\n",
    "    \"regr.km\",\n",
    "    predict.type= \"se\",\n",
    "    covtype= \"matern3_2\",\n",
    "    control= list(trace = TRUE)\n",
    ")"
   ]
  },
  {
   "cell_type": "markdown",
   "id": "6c1e5645-d26f-4923-a53f-f30471a4c4e8",
   "metadata": {
    "id": "6c1e5645-d26f-4923-a53f-f30471a4c4e8"
   },
   "source": [
    "Corrida de la Bayesian Optimization,  aqui se hace el trabajo pesado\n",
    "<br> por favor no se asuste con los warnings que pudieran aparecer\n",
    "\n",
    "Si corrío a medias y llegó a las iteraciones inteligentes, en el archivo binario HT.RDATA quedó lo ya procesado y es utilizado para retomar la corrida desde lo último que llegó a grabar."
   ]
  },
  {
   "cell_type": "code",
   "execution_count": null,
   "id": "1f8cab3f-c7e2-4802-bfd1-5ad509922a4e",
   "metadata": {
    "id": "1f8cab3f-c7e2-4802-bfd1-5ad509922a4e",
    "scrolled": true
   },
   "outputs": [],
   "source": [
    "notificar(\"🚀 Comienza entrenamiento LGBM\")\n",
    "\n",
    "# inicio la optimizacion bayesiana\n",
    "\n",
    "if (!file.exists(\"HT.RDATA\")) {\n",
    "  bayesiana_salida <- mbo(obj.fun, learner= surr.km, control= ctrl)\n",
    "} else {\n",
    "  bayesiana_salida <- mboContinue(\"HT.RDATA\") # retomo en caso que ya exista\n",
    "}\n",
    "notificar(\"✅ Termina entrenamiento LGBM\")\n"
   ]
  },
  {
   "cell_type": "markdown",
   "id": "36307612-964f-4df3-907a-1bc3c095f178",
   "metadata": {
    "id": "36307612-964f-4df3-907a-1bc3c095f178"
   },
   "source": [
    "la bayesian optimization ha corrido, extraigo los mejores hiperparametros"
   ]
  },
  {
   "cell_type": "code",
   "execution_count": null,
   "id": "8c061a2a-3341-4006-a154-c95bb6cfd407",
   "metadata": {
    "id": "8c061a2a-3341-4006-a154-c95bb6cfd407"
   },
   "outputs": [],
   "source": [
    "# almaceno los resultados de la Bayesian Optimization\n",
    "# y capturo los mejores hiperparametros encontrados\n",
    "\n",
    "tb_bayesiana <- as.data.table(bayesiana_salida$opt.path)\n",
    "\n",
    "# ordeno en forma descendente por AUC = y\n",
    "setorder(tb_bayesiana, -y, -num_iterations)\n",
    "\n",
    "# grabo para eventualmente poder utilizarlos en OTRA corrida\n",
    "fwrite( tb_bayesiana,\n",
    "  file=\"BO_log.txt\",\n",
    "  sep=\"\\t\"\n",
    ")\n",
    "\n",
    "# los mejores hiperparámetros son los que quedaron en el registro 1 de la tabla\n",
    "PARAM$out$lgbm$mejores_hiperparametros <- tb_bayesiana[\n",
    "  1, # el primero es el de mejor AUC\n",
    "  list(num_leaves, min_data_in_leaf, num_iterations)\n",
    "]\n",
    "\n",
    "print(PARAM$out$lgbm$mejores_hiperparametros)"
   ]
  },
  {
   "cell_type": "markdown",
   "id": "ddb554cb-1d96-4f6b-ae1c-c9a076f8dbdc",
   "metadata": {
    "id": "ddb554cb-1d96-4f6b-ae1c-c9a076f8dbdc"
   },
   "source": [
    "### 9.3.3 Produccion"
   ]
  },
  {
   "cell_type": "markdown",
   "id": "c39492c3-756f-47a5-8747-93ade8275306",
   "metadata": {
    "id": "c39492c3-756f-47a5-8747-93ade8275306"
   },
   "source": [
    "#### Final Training\n",
    "Construyo el modelo final, que es uno solo, no hace ningun tipo de particion < training, validation, testing>]"
   ]
  },
  {
   "cell_type": "markdown",
   "id": "xhKi_G_sYQqq",
   "metadata": {
    "id": "xhKi_G_sYQqq"
   },
   "source": [
    "##### Final Training Dataset\n",
    "\n",
    "Aqui esta la gran decision de en qué meses hago el Final Training\n",
    "<br> debo utilizar los mejores hiperparámetros que encontré en la optimización bayesiana"
   ]
  },
  {
   "cell_type": "code",
   "execution_count": null,
   "id": "qyHfS_X0zd7o",
   "metadata": {
    "id": "qyHfS_X0zd7o"
   },
   "outputs": [],
   "source": [
    "PARAM$trainingstrategy$final_train <- c(\n",
    "  201901, 201902, 201903, 201904, 201905, 201906,\n",
    "  201907, 201908, 201909, 201910, 201911, 201912,\n",
    "  202001, 202002, 202003, 202004, 202005, 202006,\n",
    "  202007, 202008, 202009, 202010, 202011, 202012,\n",
    "  202101, 202102, 202103, 202104, 202105, 202106,\n",
    "  202107\n",
    ")\n",
    "\n",
    "\n",
    "dataset[, fold_final_train := foto_mes %in% PARAM$trainingstrategy$final_train ]\n",
    "\n",
    "# creo el dfinal_train en formato  LightGBM\n",
    "dfinal_train <- lgb.Dataset(\n",
    "  data= data.matrix(dataset[fold_final_train == TRUE, campos_buenos, with= FALSE]),\n",
    "  label= dataset[fold_final_train == TRUE, clase01],\n",
    "  free_raw_data= TRUE\n",
    ")\n",
    "\n",
    "nrow( dfinal_train) # verifico el tamaño"
   ]
  },
  {
   "cell_type": "markdown",
   "id": "HATRyklxYUpT",
   "metadata": {
    "id": "HATRyklxYUpT"
   },
   "source": [
    "##### Final Training Hyperparameters"
   ]
  },
  {
   "cell_type": "code",
   "execution_count": null,
   "id": "d6b9f33c-e0a0-4ea6-8169-4a6180cc5d01",
   "metadata": {
    "id": "d6b9f33c-e0a0-4ea6-8169-4a6180cc5d01"
   },
   "outputs": [],
   "source": [
    "# uno los parametros fijos y los mejores encontrados de los variables\n",
    "fijos <- copy(PARAM$lgbm$param_fijos)\n",
    "\n",
    "# quito lo que optimice en la Bayesian Optimization\n",
    "fijos$num_iterations <- NULL\n",
    "fijos$early_stopping_rounds <- NULL\n",
    "\n",
    "# agrego a los hiperparametros fijos los que encontre con la Bayesian Optimization\n",
    "param_final <- c(fijos, PARAM$out$lgbm$mejores_hiperparametros)"
   ]
  },
  {
   "cell_type": "markdown",
   "id": "05d3494f-0401-4f3e-9b69-f488a737879d",
   "metadata": {
    "id": "05d3494f-0401-4f3e-9b69-f488a737879d"
   },
   "source": [
    "##### Training\n",
    "Genero el modelo final, siempre sobre TODOS los datos de  final_train, sin hacer ningun tipo de undersampling de la clase mayoritaria"
   ]
  },
  {
   "cell_type": "code",
   "execution_count": null,
   "id": "fa239848-1c28-4ee5-984a-073903b4b279",
   "metadata": {
    "id": "fa239848-1c28-4ee5-984a-073903b4b279"
   },
   "outputs": [],
   "source": [
    "final_model <- lgb.train(\n",
    "  data= dfinal_train,\n",
    "  param= param_final,\n",
    "  verbose= -100\n",
    ")"
   ]
  },
  {
   "cell_type": "code",
   "execution_count": null,
   "id": "RC1ju-5MZN5s",
   "metadata": {
    "id": "RC1ju-5MZN5s"
   },
   "outputs": [],
   "source": [
    "# grabo a disco el modelo en un formato para seres humanos ... ponele ...\n",
    "\n",
    "lgb.save(final_model, \"modelo.txt\")"
   ]
  },
  {
   "cell_type": "code",
   "execution_count": null,
   "id": "VEpv4RYOZHTU",
   "metadata": {
    "id": "VEpv4RYOZHTU"
   },
   "outputs": [],
   "source": [
    "# ahora imprimo la importancia de variables\n",
    "\n",
    "tb_importancia <- as.data.table(lgb.importance(final_model))\n",
    "archivo_importancia <- \"impo.txt\"\n",
    "\n",
    "fwrite( tb_importancia,\n",
    "  file= archivo_importancia,\n",
    "  sep= \"\\t\"\n",
    ")"
   ]
  },
  {
   "cell_type": "code",
   "execution_count": null,
   "id": "6a764164-349d-4d07-9c81-dc4b8073c648",
   "metadata": {},
   "outputs": [],
   "source": [
    "print(tb_importancia)"
   ]
  },
  {
   "cell_type": "markdown",
   "id": "7ea225b3-ce02-42e2-8330-b10ed250d172",
   "metadata": {
    "id": "7ea225b3-ce02-42e2-8330-b10ed250d172"
   },
   "source": [
    "#### Scoring"
   ]
  },
  {
   "cell_type": "markdown",
   "id": "164981bb-f4c1-4228-8bc9-32e58a383c05",
   "metadata": {
    "id": "164981bb-f4c1-4228-8bc9-32e58a383c05"
   },
   "source": [
    "Aplico el modelo final a los datos del futuro"
   ]
  },
  {
   "cell_type": "code",
   "execution_count": null,
   "id": "eJ7RbT271v-R",
   "metadata": {
    "id": "eJ7RbT271v-R"
   },
   "outputs": [],
   "source": [
    "PARAM$trainingstrategy$future <- c(202109)\n",
    "\n",
    "dfuture <- dataset[ foto_mes %in% PARAM$trainingstrategy$future ]"
   ]
  },
  {
   "cell_type": "code",
   "execution_count": null,
   "id": "88ca61c8-fa24-4ce5-8be1-323aca018e8f",
   "metadata": {
    "id": "88ca61c8-fa24-4ce5-8be1-323aca018e8f"
   },
   "outputs": [],
   "source": [
    "# aplico final_model   a dfuture\n",
    "\n",
    "prediccion <- predict(\n",
    "  final_model,\n",
    "  data.matrix(dfuture[, campos_buenos, with= FALSE])\n",
    ")"
   ]
  },
  {
   "cell_type": "markdown",
   "id": "79u0ZvjJZblE",
   "metadata": {
    "id": "79u0ZvjJZblE"
   },
   "source": [
    "##### Tabla Prediccion"
   ]
  },
  {
   "cell_type": "code",
   "execution_count": null,
   "id": "TB6aerGDZeTo",
   "metadata": {
    "id": "TB6aerGDZeTo"
   },
   "outputs": [],
   "source": [
    "tb_prediccion <- dfuture[, list(numero_de_cliente)]\n",
    "tb_prediccion[, prob := prediccion]\n",
    "\n",
    "# grabo las probabilidad del modelo\n",
    "#  me va a ser util para hacer Ensembles de modelos\n",
    "fwrite(tb_prediccion,\n",
    "  file= \"prediccion.txt\",\n",
    "  sep= \"\\t\"\n",
    ")"
   ]
  },
  {
   "cell_type": "markdown",
   "id": "8412d838-5bd5-454e-b3a9-5eaa18d80a50",
   "metadata": {
    "id": "8412d838-5bd5-454e-b3a9-5eaa18d80a50"
   },
   "source": [
    "#### Kaggle Competition Submit"
   ]
  },
  {
   "cell_type": "markdown",
   "id": "55970cb6-856a-46e3-a893-7f36b8352b8e",
   "metadata": {
    "id": "55970cb6-856a-46e3-a893-7f36b8352b8e"
   },
   "source": [
    "Genero las salidas y hago los submits a Kaggle"
   ]
  },
  {
   "cell_type": "code",
   "execution_count": null,
   "id": "C94tK-xid6p2",
   "metadata": {
    "id": "C94tK-xid6p2"
   },
   "outputs": [],
   "source": [
    "# grabo los parametros\n",
    "if( !require(\"yaml\")) install.packages(\"yaml\")\n",
    "require(\"yaml\")\n",
    "\n",
    "write_yaml( PARAM, file=\"PARAM.yml\")"
   ]
  },
  {
   "cell_type": "code",
   "execution_count": null,
   "id": "1b615a62-20cc-4e95-9af2-6b6db38d5efb",
   "metadata": {
    "id": "1b615a62-20cc-4e95-9af2-6b6db38d5efb"
   },
   "outputs": [],
   "source": [
    "format(Sys.time(), \"%a %b %d %X %Y\")"
   ]
  },
  {
   "cell_type": "code",
   "execution_count": null,
   "id": "3ad90c3e-7380-4916-9ec3-6dc9355f2201",
   "metadata": {},
   "outputs": [],
   "source": [
    "PARAM$FT$semillerio <- 20  # cantidad de semillas"
   ]
  },
  {
   "cell_type": "code",
   "execution_count": null,
   "id": "b34d75de-cb42-4e40-ba21-81d0e76f688a",
   "metadata": {},
   "outputs": [],
   "source": [
    "if(!require(\"primes\")) install.packages(\"primes\")\n",
    "require(\"primes\")\n"
   ]
  },
  {
   "cell_type": "code",
   "execution_count": null,
   "id": "31c728cf-d659-40e9-83a6-0dc4d82a6361",
   "metadata": {},
   "outputs": [],
   "source": [
    "primos <- generate_primes(min = 100000, max = 1000000)\n",
    "set.seed(PARAM$semilla_primigenia, kind = \"L'Ecuyer-CMRG\")\n",
    "# me quedo con PARAM$semillerio  primos al azar\n",
    "PARAM$FT$semillas <- sample(primos)[seq(PARAM$FT$semillerio)]\n",
    "\n",
    "cat( PARAM$FT$semillas)"
   ]
  },
  {
   "cell_type": "code",
   "execution_count": null,
   "id": "e79f6a32-d6b8-4eab-9655-f7686c7fb06f",
   "metadata": {
    "id": "fa239848-1c28-4ee5-984a-073903b4b279"
   },
   "outputs": [],
   "source": [
    "dir.create(\"modelos\", showWarnings =FALSE)\n",
    "\n",
    "primero <- TRUE\n",
    "for( sem in PARAM$FT$semillas)\n",
    "{\n",
    "  nombre_arch <- paste0( \"./modelos/modelo_\", sem, \".txt\")\n",
    "  if( !file.exists(nombre_arch) )\n",
    "  {\n",
    "    param_final$seed <- sem\n",
    "\n",
    "    set.seed(sem, kind = \"L'Ecuyer-CMRG\")\n",
    "    final_model <- lgb.train(\n",
    "      data= dfinal_train,\n",
    "      param= param_final,\n",
    "      verbose= -100\n",
    "    )\n",
    "\n",
    "    lgb.save(final_model, nombre_arch) # grabo el modelo\"\n",
    "\n",
    "    # grabo la primer importancia de variables\n",
    "    #  Natalia : da lo mismo cual se guarda\n",
    "    if( primero)\n",
    "    {\n",
    "      primero <- FALSE\n",
    "      tb_importancia <- as.data.table(lgb.importance(final_model))\n",
    "      archivo_importancia <- \"impo.txt\"\n",
    "\n",
    "      fwrite( tb_importancia,\n",
    "        file= archivo_importancia,\n",
    "        sep= \"\\t\"\n",
    "      )\n",
    "    }\n",
    " }\n",
    "}"
   ]
  },
  {
   "cell_type": "markdown",
   "id": "bfd6ecc7-387b-4971-8c62-704d14a1d08f",
   "metadata": {
    "id": "7ea225b3-ce02-42e2-8330-b10ed250d172"
   },
   "source": [
    "#### Scoring"
   ]
  },
  {
   "cell_type": "code",
   "execution_count": null,
   "id": "45636851-8825-464e-b36f-5f1f52e31b4d",
   "metadata": {
    "id": "eJ7RbT271v-R"
   },
   "outputs": [],
   "source": [
    "PARAM$trainingstrategy$future <- c(202109)\n",
    "\n",
    "dfuture <- dataset[ foto_mes %in% PARAM$trainingstrategy$future ]"
   ]
  },
  {
   "cell_type": "code",
   "execution_count": null,
   "id": "d1ed9baf-29ac-44c8-a500-55e00b35134b",
   "metadata": {
    "id": "88ca61c8-fa24-4ce5-8be1-323aca018e8f"
   },
   "outputs": [],
   "source": [
    "# aplico final_model   a dfuture\n",
    "\n",
    "tb_prediccion <- dfuture[, list(numero_de_cliente)]\n",
    "tb_prediccion[, prob := 0]\n",
    "\n",
    "datos_matrix <- data.matrix(dfuture[, campos_buenos, with= FALSE])\n",
    "\n",
    "\n",
    "for( isem in seq(length(PARAM$FT$semillas)) )\n",
    "{\n",
    "   sem <- PARAM$FT$semillas[ isem ]\n",
    "   nombre_arch <- paste0( \"./modelos/modelo_\", sem, \".txt\")\n",
    "   final_model <- lgb.load(nombre_arch)\n",
    "\n",
    "   prediccion <- predict(\n",
    "     final_model,\n",
    "     datos_matrix\n",
    "  )\n",
    "\n",
    "  tb_prediccion[, paste0(\"prob_\", isem) := prediccion]\n",
    "  tb_prediccion[, prob := prob + prediccion]\n",
    "\n",
    "  rm(final_model)\n",
    "  rm(prediccion)\n",
    "  gc(full = TRUE, verbose=FALSE)\n",
    "}\n",
    "\n",
    "rm( datos_matrix)\n",
    "gc(full = TRUE, verbose=FALSE)\n",
    "\n",
    "tb_prediccion[, prob := prob /length(PARAM$FT$semillas) ]"
   ]
  },
  {
   "cell_type": "code",
   "execution_count": null,
   "id": "067e5440-f264-473e-b25e-2aa014275f49",
   "metadata": {},
   "outputs": [],
   "source": [
    "# veo que hay en tb_prediccion\n",
    "tb_prediccion"
   ]
  },
  {
   "cell_type": "code",
   "execution_count": null,
   "id": "7c015bb8-3aa9-410b-aa75-50d36571d9ca",
   "metadata": {},
   "outputs": [],
   "source": [
    "# grabo las probabilidad del modelo\n",
    "#  me va a ser util para hacer Ensembles de modelos\n",
    "fwrite(tb_prediccion,\n",
    "  file= \"prediccion.txt\",\n",
    "  sep= \"\\t\"\n",
    ")"
   ]
  },
  {
   "cell_type": "code",
   "execution_count": null,
   "id": "e5fa2439-b0e9-49e0-a861-71d7315d6e1c",
   "metadata": {
    "id": "e5fa2439-b0e9-49e0-a861-71d7315d6e1c"
   },
   "outputs": [],
   "source": [
    "# genero archivos con los  \"envios\" mejores\n",
    "# suba TODOS los archivos a Kaggle\n",
    "\n",
    "PARAM$kaggle$competencia <- \"data-mining-analista-jr-2025-a\"\n",
    "PARAM$kaggle$cortes <- seq(1800, 2400, by = 100)\n",
    "\n",
    "# ordeno por probabilidad descendente\n",
    "setorder(tb_prediccion, -prob)\n",
    "\n",
    "dir.create(\"kaggle\")\n",
    "\n",
    "for (envios in PARAM$kaggle$cortes) {\n",
    "\n",
    "  tb_prediccion[, Predicted := 0L] # seteo inicial a 0\n",
    "  tb_prediccion[1:envios, Predicted := 1L] # marclo los primeros\n",
    "\n",
    "  archivo_kaggle <- paste0(\"./kaggle/KA\", PARAM$experimento, \"_\", envios, \".csv\")\n",
    "\n",
    "  # grabo el archivo\n",
    "  fwrite(tb_prediccion[, list(numero_de_cliente, Predicted)],\n",
    "    file= archivo_kaggle,\n",
    "    sep= \",\"\n",
    "  )\n",
    "\n",
    "  # subida a Kaggle, armo la linea de comando\n",
    "  comando <- \"kaggle competitions submit\"\n",
    "  competencia <- paste(\"-c\", PARAM$kaggle$competencia)\n",
    "  arch <- paste( \"-f\", archivo_kaggle)\n",
    "\n",
    "  mensaje <- paste0(\"-m 'envios=\", envios,\n",
    "  \"  semilla=\", PARAM$semilla_primigenia,\n",
    "    \"'\" )\n",
    "\n",
    "  linea <- paste( comando, competencia, arch, mensaje)\n",
    "\n",
    "  salida <- system(linea, intern=TRUE) # el submit a Kaggle\n",
    "  cat(salida, \"\\n\")\n",
    "}"
   ]
  },
  {
   "cell_type": "code",
   "execution_count": null,
   "id": "f9aba420-1387-4500-92ed-7996c164a629",
   "metadata": {},
   "outputs": [],
   "source": []
  },
  {
   "cell_type": "code",
   "execution_count": null,
   "id": "c24e97a8-2dc0-4475-938d-6231edd62cb6",
   "metadata": {},
   "outputs": [],
   "source": []
  },
  {
   "cell_type": "code",
   "execution_count": null,
   "id": "a2420812-3b23-44a0-b016-832af2cea724",
   "metadata": {},
   "outputs": [],
   "source": []
  },
  {
   "cell_type": "code",
   "execution_count": null,
   "id": "93374fd6-6ece-442c-a5b9-6dedf0b82944",
   "metadata": {},
   "outputs": [],
   "source": []
  },
  {
   "cell_type": "code",
   "execution_count": null,
   "id": "de93e025-cedb-42e5-bf0d-230eb1440206",
   "metadata": {},
   "outputs": [],
   "source": []
  },
  {
   "cell_type": "code",
   "execution_count": null,
   "id": "4c18c708-b6ca-4689-b492-7303ddd95a79",
   "metadata": {},
   "outputs": [],
   "source": []
  },
  {
   "cell_type": "code",
   "execution_count": null,
   "id": "0e9bd667-cead-4a80-b516-5a333b921c2f",
   "metadata": {},
   "outputs": [],
   "source": []
  },
  {
   "cell_type": "code",
   "execution_count": null,
   "id": "e7375f07-1b55-4573-afcc-a68bba6d6f52",
   "metadata": {},
   "outputs": [],
   "source": []
  },
  {
   "cell_type": "code",
   "execution_count": null,
   "id": "2b0fa238-9909-4f69-9f6e-f0c8ce2ae41d",
   "metadata": {},
   "outputs": [],
   "source": []
  },
  {
   "cell_type": "code",
   "execution_count": null,
   "id": "145ab3f5-0ba3-4be8-8155-0de706b17962",
   "metadata": {},
   "outputs": [],
   "source": []
  },
  {
   "cell_type": "code",
   "execution_count": null,
   "id": "2ba593bb-b93c-4b82-b67f-8c9bfd4ead52",
   "metadata": {},
   "outputs": [],
   "source": []
  },
  {
   "cell_type": "code",
   "execution_count": null,
   "id": "9f504f3d-f629-46ff-8963-eeeb2e6a531e",
   "metadata": {},
   "outputs": [],
   "source": []
  },
  {
   "cell_type": "code",
   "execution_count": null,
   "id": "99c05ccd-2178-4bb0-9348-f42651d03a12",
   "metadata": {},
   "outputs": [],
   "source": []
  },
  {
   "cell_type": "code",
   "execution_count": null,
   "id": "2b0d0f1a-d169-4402-8134-c969a8dd4222",
   "metadata": {},
   "outputs": [],
   "source": []
  },
  {
   "cell_type": "code",
   "execution_count": null,
   "id": "3a3beada-d7d5-4eaf-aa11-b407e5c54767",
   "metadata": {},
   "outputs": [],
   "source": []
  },
  {
   "cell_type": "code",
   "execution_count": null,
   "id": "32279903-9baf-4dca-90db-92a1f6c5c700",
   "metadata": {},
   "outputs": [],
   "source": []
  },
  {
   "cell_type": "code",
   "execution_count": null,
   "id": "aaae6ecf-5769-4b7c-9d49-1c3087f11378",
   "metadata": {},
   "outputs": [],
   "source": []
  },
  {
   "cell_type": "code",
   "execution_count": null,
   "id": "1ab5c044-4720-4292-aade-a1cc0aa6ff81",
   "metadata": {},
   "outputs": [],
   "source": []
  },
  {
   "cell_type": "code",
   "execution_count": null,
   "id": "e4f061b9-35f3-4a99-940f-d54684de8677",
   "metadata": {},
   "outputs": [],
   "source": []
  },
  {
   "cell_type": "code",
   "execution_count": null,
   "id": "58dc02df-57c3-49f2-8952-ac5853a5ed2e",
   "metadata": {},
   "outputs": [],
   "source": []
  },
  {
   "cell_type": "code",
   "execution_count": null,
   "id": "9198c57e-1d63-42f2-836a-4a352e9670fe",
   "metadata": {},
   "outputs": [],
   "source": []
  },
  {
   "cell_type": "code",
   "execution_count": null,
   "id": "b6c6e80b-86b5-4cba-bf0c-69d885e97f33",
   "metadata": {},
   "outputs": [],
   "source": []
  }
 ],
 "metadata": {
  "colab": {
   "provenance": []
  },
  "kernelspec": {
   "display_name": "R",
   "language": "R",
   "name": "ir"
  },
  "language_info": {
   "codemirror_mode": "r",
   "file_extension": ".r",
   "mimetype": "text/x-r-source",
   "name": "R",
   "pygments_lexer": "r",
   "version": "4.4.3"
  }
 },
 "nbformat": 4,
 "nbformat_minor": 5
}
